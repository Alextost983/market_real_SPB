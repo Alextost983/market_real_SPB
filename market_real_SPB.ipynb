{
 "cells": [
  {
   "cell_type": "code",
   "execution_count": 1,
   "metadata": {},
   "outputs": [],
   "source": [
    "import pandas as pd # Импортируем пандас преобразовав в сокращенный вид\n",
    "import numpy as np # Импорт таблиц для различных математических выражений и матриц\n",
    "import math\n",
    "import matplotlib.pyplot as plt\n",
    "import matplotlib as mpl\n",
    "data = pd.read_csv('/datasets/real_estate_data.csv', sep='\\t') #Прочитаем датасет указав разделитель для данных датасета"
   ]
  },
  {
   "cell_type": "code",
   "execution_count": 2,
   "metadata": {},
   "outputs": [
    {
     "name": "stdout",
     "output_type": "stream",
     "text": [
      "   total_images  last_price  total_area first_day_exposition  rooms  \\\n",
      "0            20  13000000.0       108.0  2019-03-07T00:00:00      3   \n",
      "1             7   3350000.0        40.4  2018-12-04T00:00:00      1   \n",
      "2            10   5196000.0        56.0  2015-08-20T00:00:00      2   \n",
      "3             0  64900000.0       159.0  2015-07-24T00:00:00      3   \n",
      "4             2  10000000.0       100.0  2018-06-19T00:00:00      2   \n",
      "\n",
      "   ceiling_height  floors_total  living_area  floor is_apartment  ...  \\\n",
      "0            2.70          16.0         51.0      8          NaN  ...   \n",
      "1             NaN          11.0         18.6      1          NaN  ...   \n",
      "2             NaN           5.0         34.3      4          NaN  ...   \n",
      "3             NaN          14.0          NaN      9          NaN  ...   \n",
      "4            3.03          14.0         32.0     13          NaN  ...   \n",
      "\n",
      "   kitchen_area  balcony    locality_name  airports_nearest  \\\n",
      "0          25.0      NaN  Санкт-Петербург           18863.0   \n",
      "1          11.0      2.0   посёлок Шушары           12817.0   \n",
      "2           8.3      0.0  Санкт-Петербург           21741.0   \n",
      "3           NaN      0.0  Санкт-Петербург           28098.0   \n",
      "4          41.0      NaN  Санкт-Петербург           31856.0   \n",
      "\n",
      "  cityCenters_nearest  parks_around3000  parks_nearest  ponds_around3000  \\\n",
      "0             16028.0               1.0          482.0               2.0   \n",
      "1             18603.0               0.0            NaN               0.0   \n",
      "2             13933.0               1.0           90.0               2.0   \n",
      "3              6800.0               2.0           84.0               3.0   \n",
      "4              8098.0               2.0          112.0               1.0   \n",
      "\n",
      "   ponds_nearest  days_exposition  \n",
      "0          755.0              NaN  \n",
      "1            NaN             81.0  \n",
      "2          574.0            558.0  \n",
      "3          234.0            424.0  \n",
      "4           48.0            121.0  \n",
      "\n",
      "[5 rows x 22 columns]\n"
     ]
    }
   ],
   "source": [
    "print(data.head()) # Получим общую информацию о датасете сократив до 5ти строк"
   ]
  },
  {
   "cell_type": "code",
   "execution_count": 3,
   "metadata": {},
   "outputs": [
    {
     "data": {
      "text/html": [
       "<div>\n",
       "<style scoped>\n",
       "    .dataframe tbody tr th:only-of-type {\n",
       "        vertical-align: middle;\n",
       "    }\n",
       "\n",
       "    .dataframe tbody tr th {\n",
       "        vertical-align: top;\n",
       "    }\n",
       "\n",
       "    .dataframe thead th {\n",
       "        text-align: right;\n",
       "    }\n",
       "</style>\n",
       "<table border=\"1\" class=\"dataframe\">\n",
       "  <thead>\n",
       "    <tr style=\"text-align: right;\">\n",
       "      <th></th>\n",
       "      <th>total_images</th>\n",
       "      <th>last_price</th>\n",
       "      <th>total_area</th>\n",
       "      <th>first_day_exposition</th>\n",
       "      <th>rooms</th>\n",
       "      <th>ceiling_height</th>\n",
       "      <th>floors_total</th>\n",
       "      <th>living_area</th>\n",
       "      <th>floor</th>\n",
       "      <th>is_apartment</th>\n",
       "      <th>...</th>\n",
       "      <th>kitchen_area</th>\n",
       "      <th>balcony</th>\n",
       "      <th>locality_name</th>\n",
       "      <th>airports_nearest</th>\n",
       "      <th>cityCenters_nearest</th>\n",
       "      <th>parks_around3000</th>\n",
       "      <th>parks_nearest</th>\n",
       "      <th>ponds_around3000</th>\n",
       "      <th>ponds_nearest</th>\n",
       "      <th>days_exposition</th>\n",
       "    </tr>\n",
       "  </thead>\n",
       "  <tbody>\n",
       "    <tr>\n",
       "      <th>0</th>\n",
       "      <td>20</td>\n",
       "      <td>13000000.0</td>\n",
       "      <td>108.00</td>\n",
       "      <td>2019-03-07T00:00:00</td>\n",
       "      <td>3</td>\n",
       "      <td>2.70</td>\n",
       "      <td>16.0</td>\n",
       "      <td>51.0</td>\n",
       "      <td>8</td>\n",
       "      <td>NaN</td>\n",
       "      <td>...</td>\n",
       "      <td>25.00</td>\n",
       "      <td>NaN</td>\n",
       "      <td>Санкт-Петербург</td>\n",
       "      <td>18863.0</td>\n",
       "      <td>16028.0</td>\n",
       "      <td>1.0</td>\n",
       "      <td>482.0</td>\n",
       "      <td>2.0</td>\n",
       "      <td>755.0</td>\n",
       "      <td>NaN</td>\n",
       "    </tr>\n",
       "    <tr>\n",
       "      <th>1</th>\n",
       "      <td>7</td>\n",
       "      <td>3350000.0</td>\n",
       "      <td>40.40</td>\n",
       "      <td>2018-12-04T00:00:00</td>\n",
       "      <td>1</td>\n",
       "      <td>NaN</td>\n",
       "      <td>11.0</td>\n",
       "      <td>18.6</td>\n",
       "      <td>1</td>\n",
       "      <td>NaN</td>\n",
       "      <td>...</td>\n",
       "      <td>11.00</td>\n",
       "      <td>2.0</td>\n",
       "      <td>посёлок Шушары</td>\n",
       "      <td>12817.0</td>\n",
       "      <td>18603.0</td>\n",
       "      <td>0.0</td>\n",
       "      <td>NaN</td>\n",
       "      <td>0.0</td>\n",
       "      <td>NaN</td>\n",
       "      <td>81.0</td>\n",
       "    </tr>\n",
       "    <tr>\n",
       "      <th>2</th>\n",
       "      <td>10</td>\n",
       "      <td>5196000.0</td>\n",
       "      <td>56.00</td>\n",
       "      <td>2015-08-20T00:00:00</td>\n",
       "      <td>2</td>\n",
       "      <td>NaN</td>\n",
       "      <td>5.0</td>\n",
       "      <td>34.3</td>\n",
       "      <td>4</td>\n",
       "      <td>NaN</td>\n",
       "      <td>...</td>\n",
       "      <td>8.30</td>\n",
       "      <td>0.0</td>\n",
       "      <td>Санкт-Петербург</td>\n",
       "      <td>21741.0</td>\n",
       "      <td>13933.0</td>\n",
       "      <td>1.0</td>\n",
       "      <td>90.0</td>\n",
       "      <td>2.0</td>\n",
       "      <td>574.0</td>\n",
       "      <td>558.0</td>\n",
       "    </tr>\n",
       "    <tr>\n",
       "      <th>3</th>\n",
       "      <td>0</td>\n",
       "      <td>64900000.0</td>\n",
       "      <td>159.00</td>\n",
       "      <td>2015-07-24T00:00:00</td>\n",
       "      <td>3</td>\n",
       "      <td>NaN</td>\n",
       "      <td>14.0</td>\n",
       "      <td>NaN</td>\n",
       "      <td>9</td>\n",
       "      <td>NaN</td>\n",
       "      <td>...</td>\n",
       "      <td>NaN</td>\n",
       "      <td>0.0</td>\n",
       "      <td>Санкт-Петербург</td>\n",
       "      <td>28098.0</td>\n",
       "      <td>6800.0</td>\n",
       "      <td>2.0</td>\n",
       "      <td>84.0</td>\n",
       "      <td>3.0</td>\n",
       "      <td>234.0</td>\n",
       "      <td>424.0</td>\n",
       "    </tr>\n",
       "    <tr>\n",
       "      <th>4</th>\n",
       "      <td>2</td>\n",
       "      <td>10000000.0</td>\n",
       "      <td>100.00</td>\n",
       "      <td>2018-06-19T00:00:00</td>\n",
       "      <td>2</td>\n",
       "      <td>3.03</td>\n",
       "      <td>14.0</td>\n",
       "      <td>32.0</td>\n",
       "      <td>13</td>\n",
       "      <td>NaN</td>\n",
       "      <td>...</td>\n",
       "      <td>41.00</td>\n",
       "      <td>NaN</td>\n",
       "      <td>Санкт-Петербург</td>\n",
       "      <td>31856.0</td>\n",
       "      <td>8098.0</td>\n",
       "      <td>2.0</td>\n",
       "      <td>112.0</td>\n",
       "      <td>1.0</td>\n",
       "      <td>48.0</td>\n",
       "      <td>121.0</td>\n",
       "    </tr>\n",
       "    <tr>\n",
       "      <th>...</th>\n",
       "      <td>...</td>\n",
       "      <td>...</td>\n",
       "      <td>...</td>\n",
       "      <td>...</td>\n",
       "      <td>...</td>\n",
       "      <td>...</td>\n",
       "      <td>...</td>\n",
       "      <td>...</td>\n",
       "      <td>...</td>\n",
       "      <td>...</td>\n",
       "      <td>...</td>\n",
       "      <td>...</td>\n",
       "      <td>...</td>\n",
       "      <td>...</td>\n",
       "      <td>...</td>\n",
       "      <td>...</td>\n",
       "      <td>...</td>\n",
       "      <td>...</td>\n",
       "      <td>...</td>\n",
       "      <td>...</td>\n",
       "      <td>...</td>\n",
       "    </tr>\n",
       "    <tr>\n",
       "      <th>23694</th>\n",
       "      <td>9</td>\n",
       "      <td>9700000.0</td>\n",
       "      <td>133.81</td>\n",
       "      <td>2017-03-21T00:00:00</td>\n",
       "      <td>3</td>\n",
       "      <td>3.70</td>\n",
       "      <td>5.0</td>\n",
       "      <td>73.3</td>\n",
       "      <td>3</td>\n",
       "      <td>NaN</td>\n",
       "      <td>...</td>\n",
       "      <td>13.83</td>\n",
       "      <td>NaN</td>\n",
       "      <td>Санкт-Петербург</td>\n",
       "      <td>24665.0</td>\n",
       "      <td>4232.0</td>\n",
       "      <td>1.0</td>\n",
       "      <td>796.0</td>\n",
       "      <td>3.0</td>\n",
       "      <td>381.0</td>\n",
       "      <td>NaN</td>\n",
       "    </tr>\n",
       "    <tr>\n",
       "      <th>23695</th>\n",
       "      <td>14</td>\n",
       "      <td>3100000.0</td>\n",
       "      <td>59.00</td>\n",
       "      <td>2018-01-15T00:00:00</td>\n",
       "      <td>3</td>\n",
       "      <td>NaN</td>\n",
       "      <td>5.0</td>\n",
       "      <td>38.0</td>\n",
       "      <td>4</td>\n",
       "      <td>NaN</td>\n",
       "      <td>...</td>\n",
       "      <td>8.50</td>\n",
       "      <td>NaN</td>\n",
       "      <td>Тосно</td>\n",
       "      <td>NaN</td>\n",
       "      <td>NaN</td>\n",
       "      <td>NaN</td>\n",
       "      <td>NaN</td>\n",
       "      <td>NaN</td>\n",
       "      <td>NaN</td>\n",
       "      <td>45.0</td>\n",
       "    </tr>\n",
       "    <tr>\n",
       "      <th>23696</th>\n",
       "      <td>18</td>\n",
       "      <td>2500000.0</td>\n",
       "      <td>56.70</td>\n",
       "      <td>2018-02-11T00:00:00</td>\n",
       "      <td>2</td>\n",
       "      <td>NaN</td>\n",
       "      <td>3.0</td>\n",
       "      <td>29.7</td>\n",
       "      <td>1</td>\n",
       "      <td>NaN</td>\n",
       "      <td>...</td>\n",
       "      <td>NaN</td>\n",
       "      <td>NaN</td>\n",
       "      <td>село Рождествено</td>\n",
       "      <td>NaN</td>\n",
       "      <td>NaN</td>\n",
       "      <td>NaN</td>\n",
       "      <td>NaN</td>\n",
       "      <td>NaN</td>\n",
       "      <td>NaN</td>\n",
       "      <td>NaN</td>\n",
       "    </tr>\n",
       "    <tr>\n",
       "      <th>23697</th>\n",
       "      <td>13</td>\n",
       "      <td>11475000.0</td>\n",
       "      <td>76.75</td>\n",
       "      <td>2017-03-28T00:00:00</td>\n",
       "      <td>2</td>\n",
       "      <td>3.00</td>\n",
       "      <td>17.0</td>\n",
       "      <td>NaN</td>\n",
       "      <td>12</td>\n",
       "      <td>NaN</td>\n",
       "      <td>...</td>\n",
       "      <td>23.30</td>\n",
       "      <td>2.0</td>\n",
       "      <td>Санкт-Петербург</td>\n",
       "      <td>39140.0</td>\n",
       "      <td>10364.0</td>\n",
       "      <td>2.0</td>\n",
       "      <td>173.0</td>\n",
       "      <td>3.0</td>\n",
       "      <td>196.0</td>\n",
       "      <td>602.0</td>\n",
       "    </tr>\n",
       "    <tr>\n",
       "      <th>23698</th>\n",
       "      <td>4</td>\n",
       "      <td>1350000.0</td>\n",
       "      <td>32.30</td>\n",
       "      <td>2017-07-21T00:00:00</td>\n",
       "      <td>1</td>\n",
       "      <td>2.50</td>\n",
       "      <td>5.0</td>\n",
       "      <td>12.3</td>\n",
       "      <td>1</td>\n",
       "      <td>NaN</td>\n",
       "      <td>...</td>\n",
       "      <td>9.00</td>\n",
       "      <td>NaN</td>\n",
       "      <td>поселок Новый Учхоз</td>\n",
       "      <td>NaN</td>\n",
       "      <td>NaN</td>\n",
       "      <td>NaN</td>\n",
       "      <td>NaN</td>\n",
       "      <td>NaN</td>\n",
       "      <td>NaN</td>\n",
       "      <td>NaN</td>\n",
       "    </tr>\n",
       "  </tbody>\n",
       "</table>\n",
       "<p>23699 rows × 22 columns</p>\n",
       "</div>"
      ],
      "text/plain": [
       "       total_images  last_price  total_area first_day_exposition  rooms  \\\n",
       "0                20  13000000.0      108.00  2019-03-07T00:00:00      3   \n",
       "1                 7   3350000.0       40.40  2018-12-04T00:00:00      1   \n",
       "2                10   5196000.0       56.00  2015-08-20T00:00:00      2   \n",
       "3                 0  64900000.0      159.00  2015-07-24T00:00:00      3   \n",
       "4                 2  10000000.0      100.00  2018-06-19T00:00:00      2   \n",
       "...             ...         ...         ...                  ...    ...   \n",
       "23694             9   9700000.0      133.81  2017-03-21T00:00:00      3   \n",
       "23695            14   3100000.0       59.00  2018-01-15T00:00:00      3   \n",
       "23696            18   2500000.0       56.70  2018-02-11T00:00:00      2   \n",
       "23697            13  11475000.0       76.75  2017-03-28T00:00:00      2   \n",
       "23698             4   1350000.0       32.30  2017-07-21T00:00:00      1   \n",
       "\n",
       "       ceiling_height  floors_total  living_area  floor is_apartment  ...  \\\n",
       "0                2.70          16.0         51.0      8          NaN  ...   \n",
       "1                 NaN          11.0         18.6      1          NaN  ...   \n",
       "2                 NaN           5.0         34.3      4          NaN  ...   \n",
       "3                 NaN          14.0          NaN      9          NaN  ...   \n",
       "4                3.03          14.0         32.0     13          NaN  ...   \n",
       "...               ...           ...          ...    ...          ...  ...   \n",
       "23694            3.70           5.0         73.3      3          NaN  ...   \n",
       "23695             NaN           5.0         38.0      4          NaN  ...   \n",
       "23696             NaN           3.0         29.7      1          NaN  ...   \n",
       "23697            3.00          17.0          NaN     12          NaN  ...   \n",
       "23698            2.50           5.0         12.3      1          NaN  ...   \n",
       "\n",
       "       kitchen_area  balcony        locality_name  airports_nearest  \\\n",
       "0             25.00      NaN      Санкт-Петербург           18863.0   \n",
       "1             11.00      2.0       посёлок Шушары           12817.0   \n",
       "2              8.30      0.0      Санкт-Петербург           21741.0   \n",
       "3               NaN      0.0      Санкт-Петербург           28098.0   \n",
       "4             41.00      NaN      Санкт-Петербург           31856.0   \n",
       "...             ...      ...                  ...               ...   \n",
       "23694         13.83      NaN      Санкт-Петербург           24665.0   \n",
       "23695          8.50      NaN                Тосно               NaN   \n",
       "23696           NaN      NaN     село Рождествено               NaN   \n",
       "23697         23.30      2.0      Санкт-Петербург           39140.0   \n",
       "23698          9.00      NaN  поселок Новый Учхоз               NaN   \n",
       "\n",
       "      cityCenters_nearest  parks_around3000  parks_nearest  ponds_around3000  \\\n",
       "0                 16028.0               1.0          482.0               2.0   \n",
       "1                 18603.0               0.0            NaN               0.0   \n",
       "2                 13933.0               1.0           90.0               2.0   \n",
       "3                  6800.0               2.0           84.0               3.0   \n",
       "4                  8098.0               2.0          112.0               1.0   \n",
       "...                   ...               ...            ...               ...   \n",
       "23694              4232.0               1.0          796.0               3.0   \n",
       "23695                 NaN               NaN            NaN               NaN   \n",
       "23696                 NaN               NaN            NaN               NaN   \n",
       "23697             10364.0               2.0          173.0               3.0   \n",
       "23698                 NaN               NaN            NaN               NaN   \n",
       "\n",
       "       ponds_nearest  days_exposition  \n",
       "0              755.0              NaN  \n",
       "1                NaN             81.0  \n",
       "2              574.0            558.0  \n",
       "3              234.0            424.0  \n",
       "4               48.0            121.0  \n",
       "...              ...              ...  \n",
       "23694          381.0              NaN  \n",
       "23695            NaN             45.0  \n",
       "23696            NaN              NaN  \n",
       "23697          196.0            602.0  \n",
       "23698            NaN              NaN  \n",
       "\n",
       "[23699 rows x 22 columns]"
      ]
     },
     "metadata": {},
     "output_type": "display_data"
    },
    {
     "data": {
      "image/png": "[encoded data removed]",
      "text/plain": [
       "<Figure size 1080x1440 with 20 Axes>"
      ]
     },
     "metadata": {
      "needs_background": "light"
     },
     "output_type": "display_data"
    }
   ],
   "source": [
    "data.hist(figsize=(15, 20)) #Вызовем гистаграму по заданным габаритам\n",
    "display(data)                 #Распечатаем результат"
   ]
  },
  {
   "attachments": {},
   "cell_type": "markdown",
   "metadata": {},
   "source": [
    "<div class=\"alert alert-info\">\n",
    "<b>1.В процессе проверки были обнаружены различные виды проблем в данных. Они связаны с пропусками и некорректными заначениями.\n",
    " </b>\n",
    "    \n",
    "<b>2.Пропуски были в категориальных и количественных даннх.</b>\n",
    "    \n",
    "<b>3.Встречались значения, к примеру высота потолков, которые объективно не соответствовали реальности и скорее всего были вызваны особенностями ввода со стороны пользователя.</b>\n",
    "</div>"
   ]
  },
  {
   "attachments": {},
   "cell_type": "markdown",
   "metadata": {},
   "source": [
    "<h2>Шаг 2 Предобработка данных</h2>"
   ]
  },
  {
   "attachments": {},
   "cell_type": "markdown",
   "metadata": {},
   "source": [
    "<h3>1.Найдeм и изучим пропущенные значения в столбцах:</h3>\n"
   ]
  },
  {
   "cell_type": "code",
   "execution_count": 4,
   "metadata": {},
   "outputs": [
    {
     "data": {
      "text/plain": [
       "total_images                0\n",
       "last_price                  0\n",
       "total_area                  0\n",
       "first_day_exposition        0\n",
       "rooms                       0\n",
       "ceiling_height           9195\n",
       "floors_total               86\n",
       "living_area              1903\n",
       "floor                       0\n",
       "is_apartment            20924\n",
       "studio                      0\n",
       "open_plan                   0\n",
       "kitchen_area             2278\n",
       "balcony                 11519\n",
       "locality_name              49\n",
       "airports_nearest         5542\n",
       "cityCenters_nearest      5519\n",
       "parks_around3000         5518\n",
       "parks_nearest           15620\n",
       "ponds_around3000         5518\n",
       "ponds_nearest           14589\n",
       "days_exposition          3181\n",
       "dtype: int64"
      ]
     },
     "execution_count": 4,
     "metadata": {},
     "output_type": "execute_result"
    }
   ],
   "source": [
    "data.isnull().sum()#Определим, в каких столбцах есть пропуски.\n"
   ]
  },
  {
   "cell_type": "code",
   "execution_count": 5,
   "metadata": {},
   "outputs": [
    {
     "name": "stdout",
     "output_type": "stream",
     "text": [
      "<class 'pandas.core.frame.DataFrame'>\n",
      "RangeIndex: 23699 entries, 0 to 23698\n",
      "Data columns (total 22 columns):\n",
      " #   Column                Non-Null Count  Dtype  \n",
      "---  ------                --------------  -----  \n",
      " 0   total_images          23699 non-null  int64  \n",
      " 1   last_price            23699 non-null  float64\n",
      " 2   total_area            23699 non-null  float64\n",
      " 3   first_day_exposition  23699 non-null  object \n",
      " 4   rooms                 23699 non-null  int64  \n",
      " 5   ceiling_height        14504 non-null  float64\n",
      " 6   floors_total          23613 non-null  float64\n",
      " 7   living_area           21796 non-null  float64\n",
      " 8   floor                 23699 non-null  int64  \n",
      " 9   is_apartment          2775 non-null   object \n",
      " 10  studio                23699 non-null  bool   \n",
      " 11  open_plan             23699 non-null  bool   \n",
      " 12  kitchen_area          21421 non-null  float64\n",
      " 13  balcony               12180 non-null  float64\n",
      " 14  locality_name         23650 non-null  object \n",
      " 15  airports_nearest      18157 non-null  float64\n",
      " 16  cityCenters_nearest   18180 non-null  float64\n",
      " 17  parks_around3000      18181 non-null  float64\n",
      " 18  parks_nearest         8079 non-null   float64\n",
      " 19  ponds_around3000      18181 non-null  float64\n",
      " 20  ponds_nearest         9110 non-null   float64\n",
      " 21  days_exposition       20518 non-null  float64\n",
      "dtypes: bool(2), float64(14), int64(3), object(3)\n",
      "memory usage: 3.7+ MB\n"
     ]
    }
   ],
   "source": [
    "data.info()"
   ]
  },
  {
   "cell_type": "code",
   "execution_count": 6,
   "metadata": {},
   "outputs": [],
   "source": [
    "data['balcony'] = data['balcony'].fillna(0).astype('Int64')\n",
    "data['locality_name'] = data['locality_name'].fillna('ГородХ').astype('object')\n",
    "data_cel = data['ceiling_height'].median()\n",
    "data['ceiling_height'] = data['ceiling_height'].fillna(data_cel).astype('Float64') #замена медианным значением"
   ]
  },
  {
   "attachments": {},
   "cell_type": "markdown",
   "metadata": {},
   "source": [
    "<h6>Причины, которые могли привести к пропускам в данных:</h6> \n",
    "\n",
    "1.Относительно расстояний до ближайших объектов, причин может быть несколько:а) непонимание расстояния, б) отсутствие объекта данной категории, в)банальный пропуск по причине низкой важности со стороны заполняемого.\n",
    "    \n",
    "2.Площади и высоты объектов вызывают вопросы о истенности данных в целом\n",
    "\n",
    "3.Балконы и аппортаменты скорее всего не актуальны, иначе были бы указанны,т.к. это весомый фактор в жилом помещении\n",
    "\n",
    "Пропущенные значения столбцов Аппортаменты, Балконы, Число парков, Число водоемов были заменены на ноль, так как столбцы имеют булев тип данных и скорее всего отсутствуют или их значимость(как в случае с водоемом и лесом) тяжело соотнести с их функцией."
   ]
  },
  {
   "attachments": {},
   "cell_type": "markdown",
   "metadata": {},
   "source": [
    "<h3>Рассмотрите типы данных в каждом столбце:</h3>\n"
   ]
  },
  {
   "cell_type": "code",
   "execution_count": 7,
   "metadata": {},
   "outputs": [
    {
     "name": "stdout",
     "output_type": "stream",
     "text": [
      "<class 'pandas.core.frame.DataFrame'>\n",
      "RangeIndex: 23699 entries, 0 to 23698\n",
      "Data columns (total 22 columns):\n",
      " #   Column                Non-Null Count  Dtype  \n",
      "---  ------                --------------  -----  \n",
      " 0   total_images          23699 non-null  int64  \n",
      " 1   last_price            23699 non-null  float64\n",
      " 2   total_area            23699 non-null  float64\n",
      " 3   first_day_exposition  23699 non-null  object \n",
      " 4   rooms                 23699 non-null  int64  \n",
      " 5   ceiling_height        23699 non-null  Float64\n",
      " 6   floors_total          23613 non-null  float64\n",
      " 7   living_area           21796 non-null  float64\n",
      " 8   floor                 23699 non-null  int64  \n",
      " 9   is_apartment          2775 non-null   object \n",
      " 10  studio                23699 non-null  bool   \n",
      " 11  open_plan             23699 non-null  bool   \n",
      " 12  kitchen_area          21421 non-null  float64\n",
      " 13  balcony               23699 non-null  Int64  \n",
      " 14  locality_name         23699 non-null  object \n",
      " 15  airports_nearest      18157 non-null  float64\n",
      " 16  cityCenters_nearest   18180 non-null  float64\n",
      " 17  parks_around3000      18181 non-null  float64\n",
      " 18  parks_nearest         8079 non-null   float64\n",
      " 19  ponds_around3000      18181 non-null  float64\n",
      " 20  ponds_nearest         9110 non-null   float64\n",
      " 21  days_exposition       20518 non-null  float64\n",
      "dtypes: Float64(1), Int64(1), bool(2), float64(12), int64(3), object(3)\n",
      "memory usage: 3.7+ MB\n"
     ]
    }
   ],
   "source": [
    "\n",
    "data.info()#Найдите столбцы, в которых нужно изменить тип данных.\n"
   ]
  },
  {
   "attachments": {},
   "cell_type": "markdown",
   "metadata": {},
   "source": [
    "<h6>Почему нужно изменить тип данных:</h6>      \n",
    "1.Тип данных следует менять для того, чтобы перевести данные из строчного типа в формат в котором созможно проведение математических операций."
   ]
  },
  {
   "attachments": {},
   "cell_type": "markdown",
   "metadata": {},
   "source": [
    "<h3>Изучите уникальные значения в столбце с названиями и устраните неявные дубликаты.</h3>"
   ]
  },
  {
   "cell_type": "code",
   "execution_count": 8,
   "metadata": {},
   "outputs": [
    {
     "data": {
      "text/plain": [
       "array(['Санкт-Петербург', 'п. Шушары', 'г.п Янино-1', 'п. Парголово',\n",
       "       'п. Мурино', 'Ломоносов', 'Сертолово', 'Петергоф', 'Пушкин',\n",
       "       'д. Кудрово', 'Коммунар', 'Колпино', 'п.г.т. Красный Бор',\n",
       "       'Гатчина', 'д. Фёдоровское', 'Выборг', 'Кронштадт', 'Кировск',\n",
       "       'д. Новое Девяткино', 'п. Металлострой', 'п.г.т Лебяжье',\n",
       "       'п.г.т Сиверский', 'п. Молодцово', 'п.г.т. Кузьмоловский',\n",
       "       'с.т Новая Ропша', 'Павловск', 'д. Пикколово', 'Всеволожск',\n",
       "       'Волхов', 'Кингисепп', 'Приозерск', 'Сестрорецк', 'д. Куттузи',\n",
       "       'п. Аннино', 'п.г.т. Ефимовский', 'п. Плодовое', 'д. Заклинье',\n",
       "       'п. Торковичи', 'п. Первомайское', 'Красное Село', 'п. Понтонный',\n",
       "       'Сясьстрой', 'д. Старая', 'д. Лесколово', 'п. Новый Свет',\n",
       "       'Сланцы', 'с. Путилово', 'Ивангород', 'Мурино', 'Шлиссельбург',\n",
       "       'Никольское', 'Зеленогорск', 'Сосновый Бор', 'д. Оржицы',\n",
       "       'д. Кальтино', 'Кудрово', 'п. Романовка', 'п. Бугры',\n",
       "       'п.г.т. Рощино', 'Кириши', 'Луга', 'Волосово', 'Отрадное',\n",
       "       'с. Павлово', 'п. Оредеж', 'с. Копорье', 'п.г.т Красный Бор',\n",
       "       'п. Молодёжное', 'Тихвин', 'п. Победа', 'д. Нурма',\n",
       "       'п.г.т. Синявино', 'Тосно', 'п.г.т Кузьмоловский', 'п. Стрельна',\n",
       "       'Бокситогорск', 'п. Александровская', 'д. Лопухинка', 'Пикалёво',\n",
       "       'п. Терволово', 'п.г.т. Советский', 'Подпорожье', 'п. Петровское',\n",
       "       'п.г.т Токсово', 'п. Сельцо', 'п.г.т Вырица', 'д. Кипень',\n",
       "       'д. Келози', 'д. Вартемяги', 'п. Тельмана', 'п. Севастьяново',\n",
       "       'г.п Большая Ижора', 'ГородХ', 'г.п Павлово', 'д. Агалатово',\n",
       "       'п. Новогорелово', 'г.п Лесогорский', 'д. Лаголово',\n",
       "       'п. Цвелодубово', 'п.г.т. Рахья', 'п.г.т. Вырица', 'д. Белогорка',\n",
       "       'п. Заводской', 'г.п Новоселье', 'д. Большие Колпаны',\n",
       "       'д. Горбунки', 'д. Батово', 'д. Заневка', 'д. Иссад', 'Приморск',\n",
       "       'г.п Фёдоровское', 'д. Мистолово', 'Новая Ладога', 'п. Зимитицы',\n",
       "       'п. Барышево', 'д. Разметелево', 'п.г.т. имени Свердлова',\n",
       "       'д. Пеники', 'п. Рябово', 'д. Пудомяги', 'п. станции Корнево',\n",
       "       'д. Низино', 'д. Бегуницы', 'п. Поляны', 'г.п Мга',\n",
       "       'п. Елизаветино', 'п.г.т Кузнечное', 'д. Колтуши',\n",
       "       'п. Запорожское', 'п.г.т Рощино', 'д. Гостилицы',\n",
       "       'д. Малое Карлино', 'п. Мичуринское', 'п.г.т имени Морозова',\n",
       "       'п. Песочный', 'п. Сосново', 'д. Аро', 'п. Ильичёво',\n",
       "       'п.г.т Тайцы', 'д. Малое Верево', 'д. Извара', 'п. станции Вещево',\n",
       "       'с. Паша', 'д. Калитино', 'п.г.т Ульяновка', 'д. Чудской Бор',\n",
       "       'п.г.т. Дубровка', 'д. Мины', 'п. Войсковицы',\n",
       "       'п.г.т имени Свердлова', 'д. Коркино', 'п. Ропша',\n",
       "       'п.г.т. Приладожский', 'п. Щеглово', 'п. Гаврилово',\n",
       "       'Лодейное Поле', 'д. Рабитицы', 'п.г.т. Никольский',\n",
       "       'д. Кузьмолово', 'д. Малые Колпаны', 'п. Петро-Славянка',\n",
       "       'г.п Назия', 'п. Репино', 'п. Углово', 'п. Старая Малукса',\n",
       "       'с.т Рахья', 'д. Меньково', 'д. Старые Бегуницы', 'п. Сапёрный',\n",
       "       'п. Семрино', 'п. Глажево', 'п. Кобринское', 'д. Гарболово',\n",
       "       'д. Юкки', 'п. станции Приветнинское', 'д. Мануйлово', 'д. Пчева',\n",
       "       'п. Цвылёво', 'п. Мельниково', 'п. Пудость', 'п. Усть-Луга',\n",
       "       'Светогорск', 'Любань', 'п. Селезнёво', 'п.г.т. Рябово',\n",
       "       'Каменногорск', 'д. Кривко', 'п. Глебычево', 'д. Парицы',\n",
       "       'п. Жилп.', 'п.г.т Мга', 'п. Войскорово', 'с. Никольское',\n",
       "       'п. Стеклянный', 'п.г.т Важины', 'п. Мыза-Ивановка',\n",
       "       'с. Русско-Высоцкое', 'п.г.т. Лебяжье', 'п.г.т. Форносово',\n",
       "       'с. Старая Ладога', 'п. Житково', 'г.п Виллози', 'д. Лампово',\n",
       "       'д. Шпаньково', 'д. Лаврики', 'п. Сумино', 'п. Возрождение',\n",
       "       'д. Старосиверская', 'п. Кикерино', 'д. Старое Хинколово',\n",
       "       'п. Пригородный', 'п. Торфяное', 'г.п Будогощь', 'п. Суходолье',\n",
       "       'п. Красная Долина', 'д. Хапо-Ое', 'п.г.т. Дружная Горка',\n",
       "       'п. Лисий Нос', 'д. Яльгелево', 'с. Рождествено', 'д. Старополье',\n",
       "       'п. Левашово', 'д. Сяськелево', 'д. Камышовка',\n",
       "       'c.н.т. Лесная Поляна', 'д. Хязельки', 'п. Жилгородок',\n",
       "       'п.г.т Павлово', 'д. Ялгино', 'п. Новый Учхоз', 'г.п Рощино',\n",
       "       'п. Гончарово', 'п. Почап', 'п. Сапёрное',\n",
       "       'п. Платформа 69-й километр', 'п. Каложицы', 'д. Фалилеево',\n",
       "       'д. Пельгора', 'п.г.т. Лесогорский', 'д. Торошковичи',\n",
       "       'п. Белоостров', 'п. Алексеевка', 'п. Серебрянский', 'п. Лукаши',\n",
       "       'д. Щеглово', 'д. Тарасово', 'п. Кингисеппский',\n",
       "       'п. при железнодорожной станции Вещево', 'п. Ушаки', 'д. Котлы',\n",
       "       'д. Сижно', 'д. Торосово', 'п. Форт Красная Горка',\n",
       "       'п.г.т. Токсово', 'д. Новолисино', 'п. станции Громово',\n",
       "       'д. Глинка', 'п.г.т. Назия', 'д. Старая Пустошь', 'п. Коммунары',\n",
       "       'п. Починок', 'п.г.т Вознесенье', 'д. Разбегаево', 'п.г.т Рябово',\n",
       "       'п. Гладкое', 'п. при железнодорожной станции Приветнинское',\n",
       "       'п. Тёсово-4', 'д. Бор', 'п. Коробицыно', 'д. Большая Вруда',\n",
       "       'д. Курковицы', 'г.п Советский', 'п. Кобралово', 'д. Суоранда',\n",
       "       'п.г.т. Кондратьево', 'коттеджный п. Счастье', 'п. Любань',\n",
       "       'д. Реброво', 'д. Зимитицы', 'д. Тойворово', 'п. Семиозерье',\n",
       "       'п. Лесное', 'п. Совхозный', 'п. Ленинское', 'п. Суйда',\n",
       "       'п.г.т Форносово', 'д. Нижние Осельки', 'п. станции Свирь',\n",
       "       'п. Перово', 'Высоцк', 'п. Гарболово', 'с. Шум', 'п. Котельский',\n",
       "       'п. станции Лужайка', 'д. Большая Пустомержа', 'п. Красносельское',\n",
       "       'д. Вахнова Кара', 'д. Пижма', 'коттеджный п. Кивеннапа Север',\n",
       "       'п. Ромашки', 'д. Каськово', 'д. Куровицы', 'п. Плоское',\n",
       "       'п.г.т. Большая Ижора', 'п. Кирпичное', 'д. Ям-Тесово',\n",
       "       'д. Раздолье', 'д. Терпилицы', 'п. Шугозеро', 'д. Ваганово',\n",
       "       'п. Пушное', 'с.т Садко', 'п. Усть-Ижора', 'д. Выскатка',\n",
       "       'г.п Свирьстрой', 'п. Громово', 'д. Кисельня', 'д. Трубников Бор',\n",
       "       'п. Калитино', 'п. Высокоключевой', 'с.т Приладожский',\n",
       "       'п. Пансионат Зелёный Бор', 'д. Ненимяки', 'д. Снегирёвка',\n",
       "       'д. Рапполово', 'д. Пустынка', 'п. Рабитицы', 'д. Большой Сабск',\n",
       "       'д. Русско', 'д. Лупполово', 'д. Большое Рейзино',\n",
       "       'д. Малая Романовка', 'п. Дружноселье', 'п. Пчевжа',\n",
       "       'п. Володарское', 'д. Нижняя', 'коттеджный п. Лесное',\n",
       "       'д. Тихковицы', 'д. Борисова Грива', 'п. Дзержинского'],\n",
       "      dtype=object)"
      ]
     },
     "metadata": {},
     "output_type": "display_data"
    }
   ],
   "source": [
    "# Функция для замены  значений\n",
    "def replace_word(string,old_word,new_word):\n",
    "    # создаем условие\n",
    "    if type(string)==str:\n",
    "        if old_word in string:\n",
    "            string = string.replace(old_word, new_word)\n",
    "    return string\n",
    "data['locality_name'] = data['locality_name'].apply(replace_word, args=(\"поселок городского типа\", \"п.г.т.\"))\n",
    "data['locality_name'] = data['locality_name'].apply(replace_word, args=('село', 'с.'))\n",
    "data['locality_name'] = data['locality_name'].apply(replace_word, args=('деревня', 'д.'))\n",
    "data['locality_name'] = data['locality_name'].apply(replace_word, args=('посёлок', 'п.'))\n",
    "data['locality_name'] = data['locality_name'].apply(replace_word, args=('городское поселение', 'г.п'))\n",
    "data['locality_name'] = data['locality_name'].apply(replace_word, args=('садоводческое некоммерческое товарищество', 'c.н.т.'))\n",
    "data['locality_name'] = data['locality_name'].apply(replace_word, args=('городской поселок', 'г.п'))\n",
    "data['locality_name'] = data['locality_name'].apply(replace_word, args=('пос.к', 'п.'))\n",
    "data['locality_name'] = data['locality_name'].apply(replace_word, args=('п. городского типа', 'п.г.т'))\n",
    "data['locality_name'] = data['locality_name'].apply(replace_word, args=('городской п.', 'г.п'))\n",
    "data['locality_name'] = data['locality_name'].apply(replace_word, args=('пос. при железнодорожной станции', 'п.при ж.д.ст.'))\n",
    "data['locality_name'] = data['locality_name'].apply(replace_word, args=('садовое товарищество', 'с.т'))\n",
    "\n",
    "display(data['locality_name'].unique())\n"
   ]
  },
  {
   "attachments": {},
   "cell_type": "markdown",
   "metadata": {},
   "source": [
    "<h3>Найдем и устраните редкие и выбивающиеся значения.</h3>"
   ]
  },
  {
   "cell_type": "code",
   "execution_count": 9,
   "metadata": {},
   "outputs": [],
   "source": [
    "data = data.query(\"ceiling_height<=7\") #Если природа аномалии понятна и данные действительно искажены, то восстановите корректное значение."
   ]
  },
  {
   "cell_type": "code",
   "execution_count": 10,
   "metadata": {},
   "outputs": [
    {
     "data": {
      "text/plain": [
       "<FloatingArray>\n",
       "[ 2.7, 2.65, 3.03,  2.5, 2.67, 2.56, 3.05, 2.75,  2.6,  2.9,\n",
       " ...\n",
       " 3.69,  6.0, 2.89, 3.58,  5.8, 2.49,  4.9, 3.48,  1.0, 3.59]\n",
       "Length: 170, dtype: Float64"
      ]
     },
     "execution_count": 10,
     "metadata": {},
     "output_type": "execute_result"
    }
   ],
   "source": [
    "data['ceiling_height'].unique()"
   ]
  },
  {
   "attachments": {},
   "cell_type": "markdown",
   "metadata": {},
   "source": [
    "Было замечено, что основной проблемой в названиях в названиях было не использование аббревиатуры для обозначения типов населенных пунктов. Это затрудняло поиск и выявление неявных дублей.                       "
   ]
  },
  {
   "cell_type": "code",
   "execution_count": 11,
   "metadata": {},
   "outputs": [
    {
     "data": {
      "text/plain": [
       "array([108.  ,  40.4 ,  56.  , ...,  66.86, 133.81,  76.75])"
      ]
     },
     "execution_count": 11,
     "metadata": {},
     "output_type": "execute_result"
    }
   ],
   "source": [
    "data = data.query(\"total_area<=200\")\n",
    "data['total_area'].unique()   #Площадь     #Если природа аномалии понятна и данные действительно искажены, то восстановите корректное значение."
   ]
  },
  {
   "cell_type": "code",
   "execution_count": 12,
   "metadata": {},
   "outputs": [
    {
     "data": {
      "text/plain": [
       "array([ 3350000.,  5196000., 10000000., ...,  2414306.,  3063600.,\n",
       "        6151120.])"
      ]
     },
     "execution_count": 12,
     "metadata": {},
     "output_type": "execute_result"
    }
   ],
   "source": [
    " data = data.query(\"last_price<=10000000\")\n",
    "data['last_price'].unique()              #Стоимость     #Если природа аномалии понятна и данные действительно искажены, то восстановите корректное значение."
   ]
  },
  {
   "cell_type": "code",
   "execution_count": 13,
   "metadata": {},
   "outputs": [
    {
     "data": {
      "text/plain": [
       "array([1, 2, 3, 4, 5])"
      ]
     },
     "execution_count": 13,
     "metadata": {},
     "output_type": "execute_result"
    }
   ],
   "source": [
    "   data = data.query(\"0<rooms<=5\")\n",
    "data['rooms'].unique()            #Количество комнат    #Если природа аномалии понятна и данные действительно искажены, то восстановите корректное значение."
   ]
  },
  {
   "attachments": {},
   "cell_type": "markdown",
   "metadata": {},
   "source": [
    "\n",
    "\n",
    "\n",
    "\n",
    "\n",
    "\n",
    "<h2>Шаг 3. Добавим в таблицу новые столбцы со следующими параметрами:</h2>"
   ]
  },
  {
   "cell_type": "code",
   "execution_count": 14,
   "metadata": {},
   "outputs": [],
   "source": [
    " data['price_for_square_meter'] = data['last_price'] / data['total_area']    #цена одного квадратного метра;"
   ]
  },
  {
   "cell_type": "code",
   "execution_count": 15,
   "metadata": {},
   "outputs": [],
   "source": [
    "#переведем столбец с датой в формат даты без времени, т.к. время не указано\n",
    "data['first_day_exposition'] = pd.to_datetime(data['first_day_exposition'], format = '%Y-%m-%d')"
   ]
  },
  {
   "cell_type": "code",
   "execution_count": 16,
   "metadata": {},
   "outputs": [],
   "source": [
    " data['weekly_exposition'] = data['first_day_exposition'].dt.weekday        #день недели публикации объявления (0 — понедельник, 1 — вторник и так далее);"
   ]
  },
  {
   "cell_type": "code",
   "execution_count": 17,
   "metadata": {},
   "outputs": [],
   "source": [
    " data['month_exposition'] = data['first_day_exposition'].dt.month            #месяц публикации объявления;"
   ]
  },
  {
   "cell_type": "code",
   "execution_count": 18,
   "metadata": {},
   "outputs": [],
   "source": [
    "data['year_exposition'] = data['first_day_exposition'].dt.year              #год публикации объявления;"
   ]
  },
  {
   "cell_type": "code",
   "execution_count": 19,
   "metadata": {},
   "outputs": [],
   "source": [
    "   def floor_category(row):\n",
    "    floors_total = row['floors_total']\n",
    "    floor = row['floor']\n",
    "    if floor == 1:\n",
    "        return 'первый'\n",
    "    elif floor == floors_total:\n",
    "        return 'последний'\n",
    "    elif 1 < floor < floors_total:\n",
    "        return 'другой'                                                         #тип этажа квартиры \n",
    "                                                                                #(значения — «первый», «последний», «другой»);"
   ]
  },
  {
   "cell_type": "code",
   "execution_count": 20,
   "metadata": {},
   "outputs": [],
   "source": [
    "data['floor_category'] = data.apply(floor_category, axis = 1)#Разделение этажей квартир на категории соответственно функции"
   ]
  },
  {
   "cell_type": "code",
   "execution_count": 21,
   "metadata": {},
   "outputs": [
    {
     "name": "stdout",
     "output_type": "stream",
     "text": [
      "1        первый\n",
      "2        другой\n",
      "4        другой\n",
      "5        другой\n",
      "6        другой\n",
      "          ...  \n",
      "23693    другой\n",
      "23694    другой\n",
      "23695    другой\n",
      "23696    первый\n",
      "23698    первый\n",
      "Name: floor_category_first, Length: 20746, dtype: object\n"
     ]
    }
   ],
   "source": [
    "data['floor_category_first']=data.apply(floor_category, axis = 1)\n",
    "print(data['floor_category_first'])"
   ]
  },
  {
   "cell_type": "code",
   "execution_count": 22,
   "metadata": {},
   "outputs": [],
   "source": [
    "data['cityCenters_nearest']=data['cityCenters_nearest']/1000 #расстояние до центра города в километрах (переведите из м в км и округлите до целых значений)."
   ]
  },
  {
   "cell_type": "code",
   "execution_count": 23,
   "metadata": {},
   "outputs": [
    {
     "name": "stdout",
     "output_type": "stream",
     "text": [
      "1        18.603\n",
      "2        13.933\n",
      "4         8.098\n",
      "5           NaN\n",
      "6        19.143\n",
      "          ...  \n",
      "23693    34.104\n",
      "23694     4.232\n",
      "23695       NaN\n",
      "23696       NaN\n",
      "23698       NaN\n",
      "Name: cityCenters_nearest, Length: 20746, dtype: float64\n"
     ]
    }
   ],
   "source": [
    "\n",
    "\n",
    "\n",
    "print(data['cityCenters_nearest'])  "
   ]
  },
  {
   "cell_type": "code",
   "execution_count": 24,
   "metadata": {},
   "outputs": [],
   "source": [
    "data['airports_nearest']=data['airports_nearest']/1000  #Переведем метры в километры до аэропорта"
   ]
  },
  {
   "attachments": {},
   "cell_type": "markdown",
   "metadata": {},
   "source": [
    "<h2>Шаг 4. Проведем исследовательский анализ данных:</h2>"
   ]
  },
  {
   "attachments": {},
   "cell_type": "markdown",
   "metadata": {},
   "source": [
    "<h3>Изучим следующие параметры объектов:</h3>"
   ]
  },
  {
   "cell_type": "code",
   "execution_count": 25,
   "metadata": {},
   "outputs": [
    {
     "data": {
      "text/plain": [
       "count    20746.000000\n",
       "mean        52.302755\n",
       "std         17.619282\n",
       "min         12.000000\n",
       "25%         39.000000\n",
       "50%         48.500000\n",
       "75%         62.100000\n",
       "max        190.000000\n",
       "Name: total_area, dtype: float64"
      ]
     },
     "execution_count": 25,
     "metadata": {},
     "output_type": "execute_result"
    },
    {
     "data": {
      "image/png": "[encoded data removed]",
      "text/plain": [
       "<Figure size 432x144 with 1 Axes>"
      ]
     },
     "metadata": {
      "needs_background": "light"
     },
     "output_type": "display_data"
    }
   ],
   "source": [
    "\n",
    "data.plot(y = 'total_area', kind = 'hist', bins = 100, grid=True, figsize = (6,2), range = (0,300))\n",
    "data['total_area'].describe()                                                                          #общая площадь;"
   ]
  },
  {
   "attachments": {},
   "cell_type": "markdown",
   "metadata": {},
   "source": [
    "\n",
    "<h6>Наиболее распространена жилая площадь от 30 до 50 кв.м. Выбросов не наблюдается, поэтому можно параметр считать достоверным</h6>"
   ]
  },
  {
   "cell_type": "code",
   "execution_count": 26,
   "metadata": {},
   "outputs": [
    {
     "data": {
      "text/plain": [
       "count    19131.000000\n",
       "mean        29.967288\n",
       "std         12.739356\n",
       "min          2.000000\n",
       "25%         18.000000\n",
       "50%         29.000000\n",
       "75%         38.800000\n",
       "max        112.000000\n",
       "Name: living_area, dtype: float64"
      ]
     },
     "execution_count": 26,
     "metadata": {},
     "output_type": "execute_result"
    },
    {
     "data": {
      "image/png": "[encoded data removed]",
      "text/plain": [
       "<Figure size 432x144 with 1 Axes>"
      ]
     },
     "metadata": {
      "needs_background": "light"
     },
     "output_type": "display_data"
    }
   ],
   "source": [
    " data.plot(y = 'living_area', kind = 'hist', bins = 90, range = (10,100), grid=True, figsize = (6,2))\n",
    "data['living_area'].describe()                                                                          #жилая площадь;"
   ]
  },
  {
   "attachments": {},
   "cell_type": "markdown",
   "metadata": {},
   "source": [
    "<h6>между пиками в 17 и 30 кв.м наблюлается спад популярности. Параметр требует дополнительного изучения</h6>"
   ]
  },
  {
   "cell_type": "code",
   "execution_count": 27,
   "metadata": {},
   "outputs": [
    {
     "data": {
      "text/plain": [
       "count    18929.000000\n",
       "mean         9.446762\n",
       "std          3.644223\n",
       "min          1.300000\n",
       "25%          7.000000\n",
       "50%          9.000000\n",
       "75%         11.000000\n",
       "max         64.000000\n",
       "Name: kitchen_area, dtype: float64"
      ]
     },
     "execution_count": 27,
     "metadata": {},
     "output_type": "execute_result"
    },
    {
     "data": {
      "image/png": "[encoded data removed]",
      "text/plain": [
       "<Figure size 432x144 with 1 Axes>"
      ]
     },
     "metadata": {
      "needs_background": "light"
     },
     "output_type": "display_data"
    }
   ],
   "source": [
    "data.plot(y = 'kitchen_area', kind = 'hist', bins = 50, range = (1,50), grid=True, figsize = (6,2))\n",
    "data['kitchen_area'].describe()                                                                            #площадь кухни;"
   ]
  },
  {
   "attachments": {},
   "cell_type": "markdown",
   "metadata": {},
   "source": [
    "<h6>наиболее распространенный размер  кухонь от 5 до 10 кв.м </h6>"
   ]
  },
  {
   "cell_type": "code",
   "execution_count": 28,
   "metadata": {},
   "outputs": [
    {
     "name": "stdout",
     "output_type": "stream",
     "text": [
      "1         3.350\n",
      "2         5.196\n",
      "4        10.000\n",
      "5         2.890\n",
      "6         3.700\n",
      "          ...  \n",
      "23693     4.600\n",
      "23694     9.700\n",
      "23695     3.100\n",
      "23696     2.500\n",
      "23698     1.350\n",
      "Name: last_price, Length: 20746, dtype: float64\n"
     ]
    }
   ],
   "source": [
    "data['last_price'] = data['last_price']/1000000\n",
    "    \n",
    "print(data['last_price'])"
   ]
  },
  {
   "cell_type": "code",
   "execution_count": 29,
   "metadata": {},
   "outputs": [
    {
     "data": {
      "text/plain": [
       "count    20746.000000\n",
       "mean         4.663730\n",
       "std          1.965025\n",
       "min          0.012190\n",
       "25%          3.300000\n",
       "50%          4.350000\n",
       "75%          5.800000\n",
       "max         10.000000\n",
       "Name: last_price, dtype: float64"
      ]
     },
     "execution_count": 29,
     "metadata": {},
     "output_type": "execute_result"
    },
    {
     "data": {
      "image/png": "[encoded data removed]",
      "text/plain": [
       "<Figure size 432x144 with 1 Axes>"
      ]
     },
     "metadata": {
      "needs_background": "light"
     },
     "output_type": "display_data"
    }
   ],
   "source": [
    "data.plot(y = 'last_price', kind = 'hist', bins = 100, grid=True, range = (0,10), figsize = (6,2))\n",
    "data['last_price'].describe()                                                                              #цена объекта;"
   ]
  },
  {
   "attachments": {},
   "cell_type": "markdown",
   "metadata": {},
   "source": [
    "<h6>4млн.р это цена, на которую тебя может сориенировать житель северной столицы, если спросить о стоимости жилья в этих местах.</h6>"
   ]
  },
  {
   "cell_type": "code",
   "execution_count": 30,
   "metadata": {},
   "outputs": [
    {
     "data": {
      "text/plain": [
       "count    20746.000000\n",
       "mean         1.916225\n",
       "std          0.875097\n",
       "min          1.000000\n",
       "25%          1.000000\n",
       "50%          2.000000\n",
       "75%          3.000000\n",
       "max          5.000000\n",
       "Name: rooms, dtype: float64"
      ]
     },
     "execution_count": 30,
     "metadata": {},
     "output_type": "execute_result"
    },
    {
     "data": {
      "image/png": "[encoded data removed]",
      "text/plain": [
       "<Figure size 432x144 with 1 Axes>"
      ]
     },
     "metadata": {
      "needs_background": "light"
     },
     "output_type": "display_data"
    }
   ],
   "source": [
    "   data\n",
    "data.plot(y = 'rooms', kind = 'hist', bins = 8, range = (0,9), grid=True, figsize = (6,2))\n",
    "data['rooms'].describe()                                                                                 #количество комнат;"
   ]
  },
  {
   "attachments": {},
   "cell_type": "markdown",
   "metadata": {},
   "source": [
    "<h6>Наиболее популярным форматом жилья остаются однушки. Их среднюю стоимость можно попробовать скоррелировать на предыдущий параметр</h6>"
   ]
  },
  {
   "cell_type": "code",
   "execution_count": 31,
   "metadata": {},
   "outputs": [
    {
     "data": {
      "text/plain": [
       "count    20746.000000\n",
       "mean         2.666692\n",
       "std          0.175525\n",
       "min          1.000000\n",
       "25%          2.600000\n",
       "50%          2.650000\n",
       "75%          2.650000\n",
       "max          5.300000\n",
       "Name: ceiling_height, dtype: float64"
      ]
     },
     "execution_count": 31,
     "metadata": {},
     "output_type": "execute_result"
    },
    {
     "data": {
      "image/png": "[encoded data removed]",
      "text/plain": [
       "<Figure size 432x144 with 1 Axes>"
      ]
     },
     "metadata": {
      "needs_background": "light"
     },
     "output_type": "display_data"
    }
   ],
   "source": [
    " data.plot(y = 'ceiling_height', kind = 'hist', bins = 5, range = (1,5), grid=True, figsize = (6,2))\n",
    "data['ceiling_height'].describe()                                                                       #высота потолков;"
   ]
  },
  {
   "attachments": {},
   "cell_type": "markdown",
   "metadata": {},
   "source": [
    "<h6>Что что, а в потолках все просто и понятно. Похоже на четкий стандарт при строительстве\n",
    "\n",
    "</h6>"
   ]
  },
  {
   "cell_type": "code",
   "execution_count": 32,
   "metadata": {},
   "outputs": [
    {
     "data": {
      "text/plain": [
       "count    20746.000000\n",
       "mean         5.841560\n",
       "std          4.877967\n",
       "min          1.000000\n",
       "25%          2.000000\n",
       "50%          4.000000\n",
       "75%          8.000000\n",
       "max         33.000000\n",
       "Name: floor, dtype: float64"
      ]
     },
     "execution_count": 32,
     "metadata": {},
     "output_type": "execute_result"
    },
    {
     "data": {
      "image/png": "[encoded data removed]",
      "text/plain": [
       "<Figure size 432x144 with 1 Axes>"
      ]
     },
     "metadata": {
      "needs_background": "light"
     },
     "output_type": "display_data"
    }
   ],
   "source": [
    " data.plot(y = 'floor', kind = 'hist', bins = 30, range = (0,30), grid=True, figsize = (6,2))\n",
    "data['floor'].describe()                                                                               #этаж квартиры;"
   ]
  },
  {
   "attachments": {},
   "cell_type": "markdown",
   "metadata": {},
   "source": [
    "<h6>Вполне плавный, без сюрпризов, график. Стоит проверить несколько гипотиз: 1.Есть ли корреляция между соответствующей этажностью наиболее распространенных строений в местности. 2.Являются ли объективным предположение о том, что спрос на жилье возрастает с увеличением этажа.</h6>"
   ]
  },
  {
   "cell_type": "code",
   "execution_count": 33,
   "metadata": {},
   "outputs": [
    {
     "name": "stdout",
     "output_type": "stream",
     "text": [
      "AxesSubplot(0.125,0.125;0.775x0.755)\n"
     ]
    },
    {
     "data": {
      "image/png": "[encoded data removed]",
      "text/plain": [
       "<Figure size 432x144 with 1 Axes>"
      ]
     },
     "metadata": {
      "needs_background": "light"
     },
     "output_type": "display_data"
    }
   ],
   "source": [
    "print(data['floor_category'].hist(range = (0,3),bins=3,figsize = (6,2)))\n",
    "                                          #тип этажа квартиры («первый», «последний», «другой»);"
   ]
  },
  {
   "cell_type": "code",
   "execution_count": 34,
   "metadata": {},
   "outputs": [
    {
     "data": {
      "text/plain": [
       "count    20678.000000\n",
       "mean        10.674823\n",
       "std          6.590700\n",
       "min          1.000000\n",
       "25%          5.000000\n",
       "50%          9.000000\n",
       "75%         16.000000\n",
       "max         60.000000\n",
       "Name: floors_total, dtype: float64"
      ]
     },
     "execution_count": 34,
     "metadata": {},
     "output_type": "execute_result"
    },
    {
     "data": {
      "image/png": "[encoded data removed]",
      "text/plain": [
       "<Figure size 432x144 with 1 Axes>"
      ]
     },
     "metadata": {
      "needs_background": "light"
     },
     "output_type": "display_data"
    }
   ],
   "source": [
    "  data.plot(y = 'floors_total', kind = 'hist', bins = 20, range = (0,30), grid=True, figsize = (6,2))\n",
    "data['floors_total'].describe()                        #общее количество этажей в доме;"
   ]
  },
  {
   "attachments": {},
   "cell_type": "markdown",
   "metadata": {},
   "source": [
    "<h6>Хрущевки и девятиэтажки это святое</h6>"
   ]
  },
  {
   "cell_type": "code",
   "execution_count": 35,
   "metadata": {},
   "outputs": [
    {
     "data": {
      "text/plain": [
       "count    15358.000000\n",
       "mean        15.225062\n",
       "std          8.565514\n",
       "min          0.208000\n",
       "25%         10.852000\n",
       "50%         13.797000\n",
       "75%         16.813750\n",
       "max         65.968000\n",
       "Name: cityCenters_nearest, dtype: float64"
      ]
     },
     "execution_count": 35,
     "metadata": {},
     "output_type": "execute_result"
    },
    {
     "data": {
      "image/png": "[encoded data removed]",
      "text/plain": [
       "<Figure size 432x144 with 1 Axes>"
      ]
     },
     "metadata": {
      "needs_background": "light"
     },
     "output_type": "display_data"
    }
   ],
   "source": [
    "data.plot(y = 'cityCenters_nearest', kind = 'hist', bins = 25, range = (0,50), grid=True, figsize = (6,2))\n",
    "data['cityCenters_nearest'].describe()                                          #расстояние до центра города в метрах;"
   ]
  },
  {
   "attachments": {},
   "cell_type": "markdown",
   "metadata": {},
   "source": [
    "<h6>Можно предположить, что наибольшее количество квартир в диапазоне от 10 до 20 км. Неисключено, что это связано со строительством новостроек и как следствие увеличение количества квартир в высотках. Исторический центр по традиции не затронут</h6>"
   ]
  },
  {
   "cell_type": "code",
   "execution_count": 36,
   "metadata": {},
   "outputs": [
    {
     "data": {
      "text/plain": [
       "count    15346.000000\n",
       "mean        29.022011\n",
       "std         13.073397\n",
       "min          0.000000\n",
       "25%         18.023000\n",
       "50%         27.223000\n",
       "75%         37.894000\n",
       "max         84.869000\n",
       "Name: airports_nearest, dtype: float64"
      ]
     },
     "execution_count": 36,
     "metadata": {},
     "output_type": "execute_result"
    },
    {
     "data": {
      "image/png": "[encoded data removed]",
      "text/plain": [
       "<Figure size 432x144 with 1 Axes>"
      ]
     },
     "metadata": {
      "needs_background": "light"
     },
     "output_type": "display_data"
    }
   ],
   "source": [
    "data.plot(y = 'airports_nearest', kind = 'hist', bins = 50, range = (0,70), grid=True, figsize = (6,2))\n",
    "data['airports_nearest'].describe()                        #расстояние до ближайшего аэропорта;"
   ]
  },
  {
   "attachments": {},
   "cell_type": "markdown",
   "metadata": {},
   "source": [
    "<h6>Густо населенный район начинается в радуиусе 10 км от аэропорта, и стоит предположить, что это район новостроек города.Дальше население уменьшается. После 55 км данные возможно рассмотреть как статистическую погрешность.</h6>"
   ]
  },
  {
   "cell_type": "code",
   "execution_count": 37,
   "metadata": {},
   "outputs": [
    {
     "data": {
      "text/plain": [
       "count    6314.000000\n",
       "mean        0.486648\n",
       "std         0.322854\n",
       "min         0.001000\n",
       "25%         0.290000\n",
       "50%         0.456000\n",
       "75%         0.612000\n",
       "max         3.190000\n",
       "Name: parks_nearest, dtype: float64"
      ]
     },
     "execution_count": 37,
     "metadata": {},
     "output_type": "execute_result"
    },
    {
     "data": {
      "image/png": "[encoded data removed]",
      "text/plain": [
       "<Figure size 432x144 with 1 Axes>"
      ]
     },
     "metadata": {
      "needs_background": "light"
     },
     "output_type": "display_data"
    }
   ],
   "source": [
    "data['parks_nearest']=data['parks_nearest']/1000 \n",
    "data.plot(y = 'parks_nearest', kind = 'hist', bins = 25, range = (0,5), grid=True, figsize = (6,2))\n",
    "data['parks_nearest'].describe()                      #расстояние до ближайшего парка;"
   ]
  },
  {
   "attachments": {},
   "cell_type": "markdown",
   "metadata": {},
   "source": [
    "<h6>Парк дальше чем 3-4 км выпадает из области интересов</h6>"
   ]
  },
  {
   "cell_type": "code",
   "execution_count": 38,
   "metadata": {},
   "outputs": [
    {
     "data": {
      "text/plain": [
       "count    20746.000000\n",
       "mean         2.576207\n",
       "std          1.796250\n",
       "min          0.000000\n",
       "25%          1.000000\n",
       "50%          3.000000\n",
       "75%          4.000000\n",
       "max          6.000000\n",
       "Name: weekly_exposition, dtype: float64"
      ]
     },
     "execution_count": 38,
     "metadata": {},
     "output_type": "execute_result"
    },
    {
     "data": {
      "image/png": "[encoded data removed]",
      "text/plain": [
       "<Figure size 432x144 with 1 Axes>"
      ]
     },
     "metadata": {
      "needs_background": "light"
     },
     "output_type": "display_data"
    }
   ],
   "source": [
    "data.plot(y = 'weekly_exposition', kind = 'hist', bins = 25, range = (1,7), grid=True, figsize = (6,2))\n",
    "data['weekly_exposition'].describe() "
   ]
  },
  {
   "attachments": {},
   "cell_type": "markdown",
   "metadata": {},
   "source": [
    "<h6>Ближе к выходным активность падает</h6>"
   ]
  },
  {
   "cell_type": "code",
   "execution_count": 39,
   "metadata": {},
   "outputs": [
    {
     "data": {
      "text/plain": [
       "count    20746.000000\n",
       "mean         6.389906\n",
       "std          3.489260\n",
       "min          1.000000\n",
       "25%          3.000000\n",
       "50%          6.000000\n",
       "75%         10.000000\n",
       "max         12.000000\n",
       "Name: month_exposition, dtype: float64"
      ]
     },
     "execution_count": 39,
     "metadata": {},
     "output_type": "execute_result"
    },
    {
     "data": {
      "image/png": "[encoded data removed]",
      "text/plain": [
       "<Figure size 432x144 with 1 Axes>"
      ]
     },
     "metadata": {
      "needs_background": "light"
     },
     "output_type": "display_data"
    }
   ],
   "source": [
    " data.plot(y = 'month_exposition', kind = 'hist', bins = 25, range = (1,12), grid=True, figsize = (6,2))\n",
    "data['month_exposition'].describe()                          #день и месяц публикации объявления."
   ]
  },
  {
   "attachments": {},
   "cell_type": "markdown",
   "metadata": {},
   "source": [
    "<h6>Солнце и оливье забирают фокус внимания на себя</h6>"
   ]
  },
  {
   "cell_type": "code",
   "execution_count": 40,
   "metadata": {},
   "outputs": [
    {
     "data": {
      "text/plain": [
       "count    20746.000000\n",
       "mean      2017.386484\n",
       "std          1.019245\n",
       "min       2014.000000\n",
       "25%       2017.000000\n",
       "50%       2017.000000\n",
       "75%       2018.000000\n",
       "max       2019.000000\n",
       "Name: year_exposition, dtype: float64"
      ]
     },
     "execution_count": 40,
     "metadata": {},
     "output_type": "execute_result"
    },
    {
     "data": {
      "image/png": "[encoded data removed]",
      "text/plain": [
       "<Figure size 864x144 with 1 Axes>"
      ]
     },
     "metadata": {
      "needs_background": "light"
     },
     "output_type": "display_data"
    }
   ],
   "source": [
    "data.plot(y = 'year_exposition', kind = 'hist', bins = 20, range = (2013,2020), grid=True, figsize = (12,2))\n",
    "data['year_exposition'].describe()"
   ]
  },
  {
   "attachments": {},
   "cell_type": "markdown",
   "metadata": {},
   "source": [
    "<h6>Наибольших значений цена достигала в 2017-18 годах.</h6>"
   ]
  },
  {
   "attachments": {},
   "cell_type": "markdown",
   "metadata": {},
   "source": [
    "<h3>Изучим, как быстро продавались квартиры (столбец days_exposition). Этот параметр показывает, сколько дней было размещено каждое объявление.</h3>\n"
   ]
  },
  {
   "cell_type": "code",
   "execution_count": 41,
   "metadata": {},
   "outputs": [
    {
     "data": {
      "text/plain": [
       "count    18266.000000\n",
       "mean       171.463156\n",
       "std        208.636448\n",
       "min          1.000000\n",
       "25%         44.000000\n",
       "50%         91.000000\n",
       "75%        218.000000\n",
       "max       1580.000000\n",
       "Name: days_exposition, dtype: float64"
      ]
     },
     "execution_count": 41,
     "metadata": {},
     "output_type": "execute_result"
    },
    {
     "data": {
      "image/png": "[encoded data removed]",
      "text/plain": [
       "<Figure size 864x144 with 1 Axes>"
      ]
     },
     "metadata": {
      "needs_background": "light"
     },
     "output_type": "display_data"
    }
   ],
   "source": [
    "data.plot(y = 'days_exposition', kind = 'hist', bins = 200, range = (1,1000), grid=True, figsize = (12,2))\n",
    "data['days_exposition'].describe()                                                                #Постройте гистограмму."
   ]
  },
  {
   "cell_type": "code",
   "execution_count": 42,
   "metadata": {},
   "outputs": [
    {
     "name": "stdout",
     "output_type": "stream",
     "text": [
      "91.0\n"
     ]
    }
   ],
   "source": [
    " print(data['days_exposition'].median())                                                        #Посчитайте среднее и медиану."
   ]
  },
  {
   "attachments": {},
   "cell_type": "markdown",
   "metadata": {},
   "source": [
    "<h6>   Выяснили,что cредняя проодажа занимает примерно 2.5 месяца со дня экспозиции. </h6>\n",
    "    \n",
    "<h6>    Наиболее быстрыми можно назвать продажи, которые выпадают из среднерыночной  стоимости в меньшую сторону, а так же имеют хорошее состояние.</h6>\n",
    "    \n",
    "<h6>    В основном, продажа растягивается по времени от необоснованно завышеной стоимости объекта продавцом.</h6>"
   ]
  },
  {
   "attachments": {},
   "cell_type": "markdown",
   "metadata": {},
   "source": [
    "<h3>Какие факторы больше всего влияют на общую (полную) стоимость объекта?</h3>"
   ]
  },
  {
   "attachments": {},
   "cell_type": "markdown",
   "metadata": {},
   "source": [
    "Изучим, зависит ли цена от:"
   ]
  },
  {
   "cell_type": "code",
   "execution_count": 43,
   "metadata": {
    "scrolled": true
   },
   "outputs": [
    {
     "data": {
      "text/plain": [
       "0.6574570301385555"
      ]
     },
     "execution_count": 43,
     "metadata": {},
     "output_type": "execute_result"
    },
    {
     "data": {
      "image/png": "[encoded data removed]",
      "text/plain": [
       "<Figure size 576x144 with 1 Axes>"
      ]
     },
     "metadata": {
      "needs_background": "light"
     },
     "output_type": "display_data"
    }
   ],
   "source": [
    "pivot_table_total_area = data.pivot_table(index = 'total_area', values = 'last_price', aggfunc = ['count', 'median'])\n",
    "#Создаем сводную таблицу\n",
    "pivot_table_total_area.plot(y = 'median', style = 'o',figsize = (8,2))\n",
    "#Зададим параметры графику\n",
    "data['total_area'].corr(data['last_price']) \n",
    "#Выявляем степень коррелляции                                                                                    #общей площади;"
   ]
  },
  {
   "attachments": {},
   "cell_type": "markdown",
   "metadata": {},
   "source": [
    "<h6>Увеличение площади напрямую, на коэффициет 0.65 влияет на цену. Есть незначительные отклонения, которые трубуют дополнительного изучения</h6>"
   ]
  },
  {
   "cell_type": "code",
   "execution_count": 44,
   "metadata": {},
   "outputs": [
    {
     "data": {
      "text/plain": [
       "-0.22734821613147382"
      ]
     },
     "execution_count": 44,
     "metadata": {},
     "output_type": "execute_result"
    },
    {
     "data": {
      "image/png": "[encoded data removed]",
      "text/plain": [
       "<Figure size 576x144 with 1 Axes>"
      ]
     },
     "metadata": {
      "needs_background": "light"
     },
     "output_type": "display_data"
    }
   ],
   "source": [
    "pivot_table_living_area = data.pivot_table(index = 'living_area', values = 'price_for_square_meter', aggfunc = ['count', 'median'])\n",
    "#Создаем сводную таблицу и сохраним ее в переменную\n",
    "pivot_table_living_area.plot(y = 'median', style = 'o',figsize = (8,2))\n",
    "#Проявим график для таблицы и Зададим ему параметры \n",
    "data['living_area'].corr(data['price_for_square_meter']) \n",
    "#Выявляем степень коррелляции                                                                                  #жилой площади;"
   ]
  },
  {
   "attachments": {},
   "cell_type": "markdown",
   "metadata": {},
   "source": [
    "<h6>Можно сказать что корреляции нет, а меняется только концентрация</h6>"
   ]
  },
  {
   "cell_type": "code",
   "execution_count": 45,
   "metadata": {},
   "outputs": [
    {
     "data": {
      "text/plain": [
       "0.442974970660545"
      ]
     },
     "execution_count": 45,
     "metadata": {},
     "output_type": "execute_result"
    },
    {
     "data": {
      "image/png": "[encoded data removed]",
      "text/plain": [
       "<Figure size 576x144 with 1 Axes>"
      ]
     },
     "metadata": {
      "needs_background": "light"
     },
     "output_type": "display_data"
    }
   ],
   "source": [
    "pivot_table_kitchen_area = data.pivot_table(index = 'kitchen_area', values = 'last_price', aggfunc = ['count', 'median'])\n",
    "#Создаем сводную таблицу и сохраним ее в переменную\n",
    "pivot_table_kitchen_area.plot(y = 'median', style = 'o',figsize = (8,2))\n",
    "#Проявим график для таблицы и Зададим ему параметры \n",
    "data['kitchen_area'].corr(data['last_price']) \n",
    "#Выявляем степень коррелляции                                                                                  #площади кухни;"
   ]
  },
  {
   "attachments": {},
   "cell_type": "markdown",
   "metadata": {},
   "source": [
    "<h6>Незначитеьные отклонения</h6>"
   ]
  },
  {
   "cell_type": "code",
   "execution_count": 46,
   "metadata": {},
   "outputs": [
    {
     "data": {
      "text/plain": [
       "0.42326219923947567"
      ]
     },
     "execution_count": 46,
     "metadata": {},
     "output_type": "execute_result"
    },
    {
     "data": {
      "image/png": "[encoded data removed]",
      "text/plain": [
       "<Figure size 576x144 with 1 Axes>"
      ]
     },
     "metadata": {
      "needs_background": "light"
     },
     "output_type": "display_data"
    }
   ],
   "source": [
    "pivot_table_last_price = data.pivot_table(index = 'last_price', values = 'rooms', aggfunc = ['count', 'median'])\n",
    "#Создаем сводную таблицу и сохраним ее в переменную\n",
    "pivot_table_last_price.plot(y = 'median', style = 'o',figsize = (8,2))\n",
    "#Проявим график для таблицы и Зададим ему параметры \n",
    "data['last_price'].corr(data['rooms']) \n",
    "#Выявляем степень коррелляции                                                                               #количества комнат;"
   ]
  },
  {
   "attachments": {},
   "cell_type": "markdown",
   "metadata": {},
   "source": [
    "<h6>Слабое влияние</h6>"
   ]
  },
  {
   "cell_type": "code",
   "execution_count": 47,
   "metadata": {},
   "outputs": [
    {
     "data": {
      "text/html": [
       "<div>\n",
       "<style scoped>\n",
       "    .dataframe tbody tr th:only-of-type {\n",
       "        vertical-align: middle;\n",
       "    }\n",
       "\n",
       "    .dataframe tbody tr th {\n",
       "        vertical-align: top;\n",
       "    }\n",
       "\n",
       "    .dataframe thead th {\n",
       "        text-align: right;\n",
       "    }\n",
       "</style>\n",
       "<table border=\"1\" class=\"dataframe\">\n",
       "  <thead>\n",
       "    <tr style=\"text-align: right;\">\n",
       "      <th></th>\n",
       "      <th>mean</th>\n",
       "      <th>count</th>\n",
       "      <th>median</th>\n",
       "    </tr>\n",
       "    <tr>\n",
       "      <th>year_exposition</th>\n",
       "      <th></th>\n",
       "      <th></th>\n",
       "      <th></th>\n",
       "    </tr>\n",
       "  </thead>\n",
       "  <tbody>\n",
       "    <tr>\n",
       "      <th>2014</th>\n",
       "      <td>5.334046</td>\n",
       "      <td>82</td>\n",
       "      <td>5.335</td>\n",
       "    </tr>\n",
       "    <tr>\n",
       "      <th>2015</th>\n",
       "      <td>4.959690</td>\n",
       "      <td>958</td>\n",
       "      <td>4.750</td>\n",
       "    </tr>\n",
       "    <tr>\n",
       "      <th>2016</th>\n",
       "      <td>4.618892</td>\n",
       "      <td>2440</td>\n",
       "      <td>4.250</td>\n",
       "    </tr>\n",
       "    <tr>\n",
       "      <th>2017</th>\n",
       "      <td>4.598771</td>\n",
       "      <td>7156</td>\n",
       "      <td>4.250</td>\n",
       "    </tr>\n",
       "    <tr>\n",
       "      <th>2018</th>\n",
       "      <td>4.604740</td>\n",
       "      <td>7600</td>\n",
       "      <td>4.300</td>\n",
       "    </tr>\n",
       "    <tr>\n",
       "      <th>2019</th>\n",
       "      <td>4.936267</td>\n",
       "      <td>2510</td>\n",
       "      <td>4.750</td>\n",
       "    </tr>\n",
       "  </tbody>\n",
       "</table>\n",
       "</div>"
      ],
      "text/plain": [
       "                     mean  count  median\n",
       "year_exposition                         \n",
       "2014             5.334046     82   5.335\n",
       "2015             4.959690    958   4.750\n",
       "2016             4.618892   2440   4.250\n",
       "2017             4.598771   7156   4.250\n",
       "2018             4.604740   7600   4.300\n",
       "2019             4.936267   2510   4.750"
      ]
     },
     "execution_count": 47,
     "metadata": {},
     "output_type": "execute_result"
    },
    {
     "data": {
      "image/png": "[encoded data removed]",
      "text/plain": [
       "<Figure size 432x288 with 1 Axes>"
      ]
     },
     "metadata": {
      "needs_background": "light"
     },
     "output_type": "display_data"
    }
   ],
   "source": [
    "center_spb_floor_category = data.pivot_table(index = 'year_exposition', values = 'last_price', aggfunc = ['mean', 'count', 'median'])\n",
    "center_spb_floor_category.columns = ['mean', 'count', 'median']\n",
    "center_spb_floor_category.plot(y = 'median')\n",
    "center_spb_floor_category"
   ]
  },
  {
   "attachments": {},
   "cell_type": "markdown",
   "metadata": {},
   "source": [
    "<h6>17-18 наблюдался всплеск</h6>"
   ]
  },
  {
   "cell_type": "code",
   "execution_count": 48,
   "metadata": {},
   "outputs": [
    {
     "data": {
      "text/html": [
       "<div>\n",
       "<style scoped>\n",
       "    .dataframe tbody tr th:only-of-type {\n",
       "        vertical-align: middle;\n",
       "    }\n",
       "\n",
       "    .dataframe tbody tr th {\n",
       "        vertical-align: top;\n",
       "    }\n",
       "\n",
       "    .dataframe thead th {\n",
       "        text-align: right;\n",
       "    }\n",
       "</style>\n",
       "<table border=\"1\" class=\"dataframe\">\n",
       "  <thead>\n",
       "    <tr style=\"text-align: right;\">\n",
       "      <th></th>\n",
       "      <th>mean</th>\n",
       "      <th>count</th>\n",
       "      <th>median</th>\n",
       "    </tr>\n",
       "    <tr>\n",
       "      <th>month_exposition</th>\n",
       "      <th></th>\n",
       "      <th></th>\n",
       "      <th></th>\n",
       "    </tr>\n",
       "  </thead>\n",
       "  <tbody>\n",
       "    <tr>\n",
       "      <th>1</th>\n",
       "      <td>4.640265</td>\n",
       "      <td>1305</td>\n",
       "      <td>4.35</td>\n",
       "    </tr>\n",
       "    <tr>\n",
       "      <th>2</th>\n",
       "      <td>4.650238</td>\n",
       "      <td>2315</td>\n",
       "      <td>4.33</td>\n",
       "    </tr>\n",
       "    <tr>\n",
       "      <th>3</th>\n",
       "      <td>4.647015</td>\n",
       "      <td>2277</td>\n",
       "      <td>4.39</td>\n",
       "    </tr>\n",
       "    <tr>\n",
       "      <th>4</th>\n",
       "      <td>4.770347</td>\n",
       "      <td>2099</td>\n",
       "      <td>4.50</td>\n",
       "    </tr>\n",
       "    <tr>\n",
       "      <th>5</th>\n",
       "      <td>4.651356</td>\n",
       "      <td>1119</td>\n",
       "      <td>4.30</td>\n",
       "    </tr>\n",
       "    <tr>\n",
       "      <th>6</th>\n",
       "      <td>4.512320</td>\n",
       "      <td>1569</td>\n",
       "      <td>4.15</td>\n",
       "    </tr>\n",
       "    <tr>\n",
       "      <th>7</th>\n",
       "      <td>4.674384</td>\n",
       "      <td>1478</td>\n",
       "      <td>4.30</td>\n",
       "    </tr>\n",
       "    <tr>\n",
       "      <th>8</th>\n",
       "      <td>4.645243</td>\n",
       "      <td>1517</td>\n",
       "      <td>4.30</td>\n",
       "    </tr>\n",
       "    <tr>\n",
       "      <th>9</th>\n",
       "      <td>4.670204</td>\n",
       "      <td>1690</td>\n",
       "      <td>4.30</td>\n",
       "    </tr>\n",
       "    <tr>\n",
       "      <th>10</th>\n",
       "      <td>4.649970</td>\n",
       "      <td>1882</td>\n",
       "      <td>4.30</td>\n",
       "    </tr>\n",
       "    <tr>\n",
       "      <th>11</th>\n",
       "      <td>4.710516</td>\n",
       "      <td>2058</td>\n",
       "      <td>4.40</td>\n",
       "    </tr>\n",
       "    <tr>\n",
       "      <th>12</th>\n",
       "      <td>4.704434</td>\n",
       "      <td>1437</td>\n",
       "      <td>4.40</td>\n",
       "    </tr>\n",
       "  </tbody>\n",
       "</table>\n",
       "</div>"
      ],
      "text/plain": [
       "                      mean  count  median\n",
       "month_exposition                         \n",
       "1                 4.640265   1305    4.35\n",
       "2                 4.650238   2315    4.33\n",
       "3                 4.647015   2277    4.39\n",
       "4                 4.770347   2099    4.50\n",
       "5                 4.651356   1119    4.30\n",
       "6                 4.512320   1569    4.15\n",
       "7                 4.674384   1478    4.30\n",
       "8                 4.645243   1517    4.30\n",
       "9                 4.670204   1690    4.30\n",
       "10                4.649970   1882    4.30\n",
       "11                4.710516   2058    4.40\n",
       "12                4.704434   1437    4.40"
      ]
     },
     "execution_count": 48,
     "metadata": {},
     "output_type": "execute_result"
    },
    {
     "data": {
      "image/png": "[encoded data removed]",
      "text/plain": [
       "<Figure size 432x288 with 1 Axes>"
      ]
     },
     "metadata": {
      "needs_background": "light"
     },
     "output_type": "display_data"
    }
   ],
   "source": [
    "center_spb_floor_category = data.pivot_table(index = 'month_exposition', values = 'last_price', aggfunc = ['mean', 'count', 'median'])\n",
    "center_spb_floor_category.columns = ['mean', 'count', 'median']\n",
    "center_spb_floor_category.plot(y = 'median')\n",
    "center_spb_floor_category"
   ]
  },
  {
   "attachments": {},
   "cell_type": "markdown",
   "metadata": {},
   "source": [
    "<h6>Цена выше в межсезонье в отличие от зимы и лета</h6>"
   ]
  },
  {
   "cell_type": "code",
   "execution_count": 49,
   "metadata": {},
   "outputs": [
    {
     "data": {
      "text/html": [
       "<div>\n",
       "<style scoped>\n",
       "    .dataframe tbody tr th:only-of-type {\n",
       "        vertical-align: middle;\n",
       "    }\n",
       "\n",
       "    .dataframe tbody tr th {\n",
       "        vertical-align: top;\n",
       "    }\n",
       "\n",
       "    .dataframe thead th {\n",
       "        text-align: right;\n",
       "    }\n",
       "</style>\n",
       "<table border=\"1\" class=\"dataframe\">\n",
       "  <thead>\n",
       "    <tr style=\"text-align: right;\">\n",
       "      <th></th>\n",
       "      <th>mean</th>\n",
       "      <th>count</th>\n",
       "      <th>median</th>\n",
       "    </tr>\n",
       "    <tr>\n",
       "      <th>weekly_exposition</th>\n",
       "      <th></th>\n",
       "      <th></th>\n",
       "      <th></th>\n",
       "    </tr>\n",
       "  </thead>\n",
       "  <tbody>\n",
       "    <tr>\n",
       "      <th>0</th>\n",
       "      <td>4.677485</td>\n",
       "      <td>3178</td>\n",
       "      <td>4.350</td>\n",
       "    </tr>\n",
       "    <tr>\n",
       "      <th>1</th>\n",
       "      <td>4.680185</td>\n",
       "      <td>3645</td>\n",
       "      <td>4.399</td>\n",
       "    </tr>\n",
       "    <tr>\n",
       "      <th>2</th>\n",
       "      <td>4.704306</td>\n",
       "      <td>3471</td>\n",
       "      <td>4.400</td>\n",
       "    </tr>\n",
       "    <tr>\n",
       "      <th>3</th>\n",
       "      <td>4.637460</td>\n",
       "      <td>3692</td>\n",
       "      <td>4.300</td>\n",
       "    </tr>\n",
       "    <tr>\n",
       "      <th>4</th>\n",
       "      <td>4.687018</td>\n",
       "      <td>3526</td>\n",
       "      <td>4.350</td>\n",
       "    </tr>\n",
       "    <tr>\n",
       "      <th>5</th>\n",
       "      <td>4.586738</td>\n",
       "      <td>1725</td>\n",
       "      <td>4.300</td>\n",
       "    </tr>\n",
       "    <tr>\n",
       "      <th>6</th>\n",
       "      <td>4.599548</td>\n",
       "      <td>1509</td>\n",
       "      <td>4.342</td>\n",
       "    </tr>\n",
       "  </tbody>\n",
       "</table>\n",
       "</div>"
      ],
      "text/plain": [
       "                       mean  count  median\n",
       "weekly_exposition                         \n",
       "0                  4.677485   3178   4.350\n",
       "1                  4.680185   3645   4.399\n",
       "2                  4.704306   3471   4.400\n",
       "3                  4.637460   3692   4.300\n",
       "4                  4.687018   3526   4.350\n",
       "5                  4.586738   1725   4.300\n",
       "6                  4.599548   1509   4.342"
      ]
     },
     "execution_count": 49,
     "metadata": {},
     "output_type": "execute_result"
    },
    {
     "data": {
      "image/png": "[encoded data removed]",
      "text/plain": [
       "<Figure size 432x288 with 1 Axes>"
      ]
     },
     "metadata": {
      "needs_background": "light"
     },
     "output_type": "display_data"
    }
   ],
   "source": [
    "center_spb_floor_category = data.pivot_table(index = 'weekly_exposition', values = 'last_price', aggfunc = ['mean', 'count', 'median'])\n",
    "center_spb_floor_category.columns = ['mean', 'count', 'median']\n",
    "center_spb_floor_category.plot(y = 'median')\n",
    "center_spb_floor_category"
   ]
  },
  {
   "attachments": {},
   "cell_type": "markdown",
   "metadata": {},
   "source": [
    "<h6>Есть кореляция, однако она не представляет ценности для квартирных циклов, которые в среднем имеют 2,5 месяца жизни. Максимальный всплеск в начале недели, с дальнейшим затуханием к выходным.</h6>"
   ]
  },
  {
   "cell_type": "code",
   "execution_count": 50,
   "metadata": {},
   "outputs": [
    {
     "data": {
      "text/html": [
       "<div>\n",
       "<style scoped>\n",
       "    .dataframe tbody tr th:only-of-type {\n",
       "        vertical-align: middle;\n",
       "    }\n",
       "\n",
       "    .dataframe tbody tr th {\n",
       "        vertical-align: top;\n",
       "    }\n",
       "\n",
       "    .dataframe thead th {\n",
       "        text-align: right;\n",
       "    }\n",
       "</style>\n",
       "<table border=\"1\" class=\"dataframe\">\n",
       "  <thead>\n",
       "    <tr style=\"text-align: right;\">\n",
       "      <th></th>\n",
       "      <th>mean</th>\n",
       "      <th>count</th>\n",
       "      <th>median</th>\n",
       "    </tr>\n",
       "    <tr>\n",
       "      <th>floor_category</th>\n",
       "      <th></th>\n",
       "      <th></th>\n",
       "      <th></th>\n",
       "    </tr>\n",
       "  </thead>\n",
       "  <tbody>\n",
       "    <tr>\n",
       "      <th>другой</th>\n",
       "      <td>4.849055</td>\n",
       "      <td>15050</td>\n",
       "      <td>4.50</td>\n",
       "    </tr>\n",
       "    <tr>\n",
       "      <th>первый</th>\n",
       "      <td>4.048779</td>\n",
       "      <td>2750</td>\n",
       "      <td>3.80</td>\n",
       "    </tr>\n",
       "    <tr>\n",
       "      <th>последний</th>\n",
       "      <td>4.274469</td>\n",
       "      <td>2881</td>\n",
       "      <td>3.99</td>\n",
       "    </tr>\n",
       "  </tbody>\n",
       "</table>\n",
       "</div>"
      ],
      "text/plain": [
       "                    mean  count  median\n",
       "floor_category                         \n",
       "другой          4.849055  15050    4.50\n",
       "первый          4.048779   2750    3.80\n",
       "последний       4.274469   2881    3.99"
      ]
     },
     "execution_count": 50,
     "metadata": {},
     "output_type": "execute_result"
    },
    {
     "data": {
      "image/png": "[encoded data removed]",
      "text/plain": [
       "<Figure size 432x288 with 1 Axes>"
      ]
     },
     "metadata": {
      "needs_background": "light"
     },
     "output_type": "display_data"
    }
   ],
   "source": [
    "center_spb_floor_category = data.pivot_table(index = 'floor_category', values = 'last_price', aggfunc = ['mean', 'count', 'median'])\n",
    "center_spb_floor_category.columns = ['mean', 'count', 'median']\n",
    "center_spb_floor_category.plot(y = 'median')\n",
    "center_spb_floor_category\n",
    "\n"
   ]
  },
  {
   "attachments": {},
   "cell_type": "markdown",
   "metadata": {},
   "source": [
    "<h6>Менее популярные первые этажи, чуть более популярны последние и средина в топе</h6>"
   ]
  },
  {
   "attachments": {},
   "cell_type": "markdown",
   "metadata": {},
   "source": [
    "<h3>Посчитаем среднюю цену одного квадратного метра в 10 населённых пунктах</h3> с наибольшим числом объявлений. \n",
    "Выделим населённые пункты с самой высокой и низкой стоимостью квадратного метра. \n",
    "Эти данные можно найти по имени в столбце locality_name."
   ]
  },
  {
   "cell_type": "code",
   "execution_count": 51,
   "metadata": {},
   "outputs": [
    {
     "data": {
      "text/html": [
       "<div>\n",
       "<style scoped>\n",
       "    .dataframe tbody tr th:only-of-type {\n",
       "        vertical-align: middle;\n",
       "    }\n",
       "\n",
       "    .dataframe tbody tr th {\n",
       "        vertical-align: top;\n",
       "    }\n",
       "\n",
       "    .dataframe thead th {\n",
       "        text-align: right;\n",
       "    }\n",
       "</style>\n",
       "<table border=\"1\" class=\"dataframe\">\n",
       "  <thead>\n",
       "    <tr style=\"text-align: right;\">\n",
       "      <th></th>\n",
       "      <th>price_for_square_meter</th>\n",
       "    </tr>\n",
       "    <tr>\n",
       "      <th>locality_name</th>\n",
       "      <th></th>\n",
       "    </tr>\n",
       "  </thead>\n",
       "  <tbody>\n",
       "    <tr>\n",
       "      <th>Санкт-Петербург</th>\n",
       "      <td>104211</td>\n",
       "    </tr>\n",
       "    <tr>\n",
       "      <th>Пушкин</th>\n",
       "      <td>100061</td>\n",
       "    </tr>\n",
       "    <tr>\n",
       "      <th>д. Кудрово</th>\n",
       "      <td>92210</td>\n",
       "    </tr>\n",
       "    <tr>\n",
       "      <th>п. Парголово</th>\n",
       "      <td>90448</td>\n",
       "    </tr>\n",
       "    <tr>\n",
       "      <th>п. Мурино</th>\n",
       "      <td>85040</td>\n",
       "    </tr>\n",
       "    <tr>\n",
       "      <th>п. Шушары</th>\n",
       "      <td>78335</td>\n",
       "    </tr>\n",
       "    <tr>\n",
       "      <th>Колпино</th>\n",
       "      <td>75185</td>\n",
       "    </tr>\n",
       "    <tr>\n",
       "      <th>Гатчина</th>\n",
       "      <td>68432</td>\n",
       "    </tr>\n",
       "    <tr>\n",
       "      <th>Всеволожск</th>\n",
       "      <td>66754</td>\n",
       "    </tr>\n",
       "    <tr>\n",
       "      <th>Выборг</th>\n",
       "      <td>57932</td>\n",
       "    </tr>\n",
       "  </tbody>\n",
       "</table>\n",
       "</div>"
      ],
      "text/plain": [
       "                 price_for_square_meter\n",
       "locality_name                          \n",
       "Санкт-Петербург                  104211\n",
       "Пушкин                           100061\n",
       "д. Кудрово                        92210\n",
       "п. Парголово                      90448\n",
       "п. Мурино                         85040\n",
       "п. Шушары                         78335\n",
       "Колпино                           75185\n",
       "Гатчина                           68432\n",
       "Всеволожск                        66754\n",
       "Выборг                            57932"
      ]
     },
     "execution_count": 51,
     "metadata": {},
     "output_type": "execute_result"
    }
   ],
   "source": [
    "top_10 = data['locality_name'].value_counts().head(10) #посчитаем количество о-й по регионам и выведем топ 10\n",
    "top_price_for_square_meter = data.query('locality_name in (@top_10.index)').pivot_table(values='price_for_square_meter', index='locality_name')\n",
    "top_price_for_square_meter = top_price_for_square_meter.astype(int) #преобразуем до целого\n",
    "top_price_for_square_meter.sort_values('price_for_square_meter', ascending=False) #оставим список по убыванию"
   ]
  },
  {
   "attachments": {},
   "cell_type": "markdown",
   "metadata": {},
   "source": [
    "<h6>Дальше от центра, ниже цена. Утверждение подтверждается плавностью уменьшения цены.</h6>"
   ]
  },
  {
   "attachments": {},
   "cell_type": "markdown",
   "metadata": {},
   "source": [
    "<h6>Санкт-Петербург самый дорогой город по стоимость за квадратный метр жилья</h6>"
   ]
  },
  {
   "attachments": {},
   "cell_type": "markdown",
   "metadata": {},
   "source": [
    "Ранее вы посчитали расстояние до центра в километрах. \n",
    "<h3>Теперь выделим квартиры в Санкт-Петербурге с помощью столбца locality_name и вычислите среднюю цену каждого километра.</h3> \n",
    "Опишем, как стоимость объектов зависит от расстояния до центра города."
   ]
  },
  {
   "cell_type": "code",
   "execution_count": 52,
   "metadata": {},
   "outputs": [],
   "source": [
    "#извлечем из списка квартиры в центре\n",
    "center_spb_data = data.query('locality_name == \"Санкт-Петербург\"')"
   ]
  },
  {
   "cell_type": "code",
   "execution_count": 53,
   "metadata": {},
   "outputs": [
    {
     "data": {
      "text/plain": [
       "-0.2683636635598859"
      ]
     },
     "execution_count": 53,
     "metadata": {},
     "output_type": "execute_result"
    },
    {
     "data": {
      "image/png": "[encoded data removed]",
      "text/plain": [
       "<Figure size 432x288 with 1 Axes>"
      ]
     },
     "metadata": {
      "needs_background": "light"
     },
     "output_type": "display_data"
    }
   ],
   "source": [
    "center_spb_data.plot(kind = 'scatter', y = 'price_for_square_meter', x = 'cityCenters_nearest', alpha = 0.3)\n",
    "center_spb_data['cityCenters_nearest'].corr(center_spb_data['price_for_square_meter'])\n"
   ]
  },
  {
   "cell_type": "code",
   "execution_count": 54,
   "metadata": {},
   "outputs": [],
   "source": [
    "data['cityCenters_nearest'] = np.floor(pd.to_numeric(data['cityCenters_nearest'], errors='coerce')).astype('Int64')"
   ]
  },
  {
   "cell_type": "code",
   "execution_count": 55,
   "metadata": {},
   "outputs": [],
   "source": [
    "piter_region_price = (data.query('locality_name==\"Санкт-Петербург\"').pivot_table(index='cityCenters_nearest',values='price_for_square_meter').astype('int64'))"
   ]
  },
  {
   "cell_type": "code",
   "execution_count": 56,
   "metadata": {},
   "outputs": [
    {
     "data": {
      "text/html": [
       "<div>\n",
       "<style scoped>\n",
       "    .dataframe tbody tr th:only-of-type {\n",
       "        vertical-align: middle;\n",
       "    }\n",
       "\n",
       "    .dataframe tbody tr th {\n",
       "        vertical-align: top;\n",
       "    }\n",
       "\n",
       "    .dataframe thead th {\n",
       "        text-align: right;\n",
       "    }\n",
       "</style>\n",
       "<table border=\"1\" class=\"dataframe\">\n",
       "  <thead>\n",
       "    <tr style=\"text-align: right;\">\n",
       "      <th></th>\n",
       "      <th>price_for_square_meter</th>\n",
       "    </tr>\n",
       "    <tr>\n",
       "      <th>cityCenters_nearest</th>\n",
       "      <th></th>\n",
       "    </tr>\n",
       "  </thead>\n",
       "  <tbody>\n",
       "    <tr>\n",
       "      <th>0</th>\n",
       "      <td>116258</td>\n",
       "    </tr>\n",
       "    <tr>\n",
       "      <th>1</th>\n",
       "      <td>113429</td>\n",
       "    </tr>\n",
       "    <tr>\n",
       "      <th>2</th>\n",
       "      <td>110631</td>\n",
       "    </tr>\n",
       "    <tr>\n",
       "      <th>3</th>\n",
       "      <td>107685</td>\n",
       "    </tr>\n",
       "    <tr>\n",
       "      <th>4</th>\n",
       "      <td>116686</td>\n",
       "    </tr>\n",
       "    <tr>\n",
       "      <th>5</th>\n",
       "      <td>120057</td>\n",
       "    </tr>\n",
       "    <tr>\n",
       "      <th>6</th>\n",
       "      <td>116589</td>\n",
       "    </tr>\n",
       "    <tr>\n",
       "      <th>7</th>\n",
       "      <td>116119</td>\n",
       "    </tr>\n",
       "    <tr>\n",
       "      <th>8</th>\n",
       "      <td>109574</td>\n",
       "    </tr>\n",
       "    <tr>\n",
       "      <th>9</th>\n",
       "      <td>104911</td>\n",
       "    </tr>\n",
       "  </tbody>\n",
       "</table>\n",
       "</div>"
      ],
      "text/plain": [
       "                     price_for_square_meter\n",
       "cityCenters_nearest                        \n",
       "0                                    116258\n",
       "1                                    113429\n",
       "2                                    110631\n",
       "3                                    107685\n",
       "4                                    116686\n",
       "5                                    120057\n",
       "6                                    116589\n",
       "7                                    116119\n",
       "8                                    109574\n",
       "9                                    104911"
      ]
     },
     "metadata": {},
     "output_type": "display_data"
    }
   ],
   "source": [
    "display(piter_region_price.head(10))"
   ]
  },
  {
   "attachments": {},
   "cell_type": "markdown",
   "metadata": {},
   "source": [
    "<h6>Наибольшая цена недвижимости наблюдается в радуиусе 5 км от центра.</h6>"
   ]
  },
  {
   "attachments": {},
   "cell_type": "markdown",
   "metadata": {},
   "source": [
    "<h2>Шаг 5. Общий вывод</h2>"
   ]
  },
  {
   "attachments": {},
   "cell_type": "markdown",
   "metadata": {},
   "source": [
    "   1.Можно сказать, что наиболее распространены одн-двух комнатные квартиры средней площадью 50 м.кв. на удалении от центра 15 км.\n",
    "   \n",
    "     2.Особо пользуются спросом этажи от 3 до 6. \n",
    "   \n",
    "   3.Наиболее интенсивный период размещения это вся неделя кроме выходных. \n",
    "   \n",
    "   4. В течении года активность проявляется в межсезонье.\n",
    "   \n",
    "   5. Наибольшее влияние на цену оказывает удаленность от центра.\n",
    "   \n",
    "   6.Подажа в среднем происходит в течении 2х месяцев.\n",
    "   Врезультате проведенной работы, были выявленны несколько несоответствий типов данных по столбцам. \n",
    "   \n",
    "   Были предприняты методы корректировки, которые были наиболее оптимальны и не ограничивали работу кода. \n",
    "   \n",
    "   Наряду с подстройкой данных, выявлялись и устранялись аномальные значения, которые в своей основе имеют различную природу. \n",
    "   \n",
    "   Наиболее распространенная и ярковыраженная прблема в цыфрах, которые относятся к высоте потолков.\n",
    "   \n",
    "   В наименовании населенных пунктов, было выявленно ряд скрытых дупликатов, которые в сочетании с длинными названиями \n",
    "   \n",
    "   населенных пунктов, усложняли поиск и устранение. Было принято решение сократить названия до аббревиатур, что позволило до \n",
    "   \n",
    "   50% сократить список уникальных фраз. \n",
    "   \n",
    "   Были проведены ряд изменений форматов чисел для удобства восприятия и расчетов. Добавили новые столбцы, которые участвовали в \n",
    "   \n",
    "   построении гистограмм. Очень помог столбец средней цены за квадратный метр. Он позволил определить изменение средней цены в \n",
    "   \n",
    "   зависимости от расстояния, а так же провести сравнительный анализ и вявить другие закономерности на основе этих данных.\n",
    "   "
   ]
  }
 ],
 "metadata": {
  "ExecuteTimeLog": [
   {
    "duration": 58,
    "start_time": "2022-11-18T06:58:55.117Z"
   },
   {
    "duration": 462,
    "start_time": "2022-11-18T06:59:04.496Z"
   },
   {
    "duration": 175,
    "start_time": "2022-11-18T06:59:16.432Z"
   },
   {
    "duration": 98,
    "start_time": "2022-11-18T06:59:49.056Z"
   },
   {
    "duration": 348,
    "start_time": "2022-11-18T07:00:10.828Z"
   },
   {
    "duration": 74,
    "start_time": "2022-11-18T07:07:12.799Z"
   },
   {
    "duration": 74,
    "start_time": "2022-11-18T07:07:15.931Z"
   },
   {
    "duration": 12,
    "start_time": "2022-11-18T07:07:20.140Z"
   },
   {
    "duration": 10,
    "start_time": "2022-11-18T07:08:06.421Z"
   },
   {
    "duration": 7,
    "start_time": "2022-11-18T07:09:38.740Z"
   },
   {
    "duration": 95,
    "start_time": "2022-11-18T07:10:33.346Z"
   },
   {
    "duration": 94,
    "start_time": "2022-11-18T07:11:00.474Z"
   },
   {
    "duration": 5,
    "start_time": "2022-11-18T07:11:04.386Z"
   },
   {
    "duration": 12,
    "start_time": "2022-11-18T07:11:05.381Z"
   },
   {
    "duration": 80,
    "start_time": "2022-11-18T07:13:19.473Z"
   },
   {
    "duration": 36,
    "start_time": "2022-11-18T07:13:20.100Z"
   },
   {
    "duration": 14,
    "start_time": "2022-11-18T07:13:45.767Z"
   },
   {
    "duration": 2044,
    "start_time": "2022-11-18T07:13:59.929Z"
   },
   {
    "duration": 131,
    "start_time": "2022-11-18T07:23:11.987Z"
   },
   {
    "duration": 47,
    "start_time": "2022-11-18T07:43:37.541Z"
   },
   {
    "duration": 12,
    "start_time": "2022-11-18T07:50:49.885Z"
   },
   {
    "duration": 27,
    "start_time": "2022-11-18T07:50:58.239Z"
   },
   {
    "duration": 38,
    "start_time": "2022-11-18T07:53:09.799Z"
   },
   {
    "duration": 37,
    "start_time": "2022-11-18T07:53:19.869Z"
   },
   {
    "duration": 10,
    "start_time": "2022-11-18T07:54:35.605Z"
   },
   {
    "duration": 45,
    "start_time": "2022-11-18T09:44:28.843Z"
   },
   {
    "duration": 25,
    "start_time": "2022-11-18T09:44:33.520Z"
   },
   {
    "duration": 19,
    "start_time": "2022-11-18T09:44:44.710Z"
   },
   {
    "duration": 105,
    "start_time": "2022-11-18T10:32:21.121Z"
   },
   {
    "duration": 75,
    "start_time": "2022-11-18T10:32:24.722Z"
   },
   {
    "duration": 2,
    "start_time": "2022-11-18T10:32:58.034Z"
   },
   {
    "duration": 27,
    "start_time": "2022-11-18T10:34:31.536Z"
   },
   {
    "duration": 11,
    "start_time": "2022-11-18T11:07:15.454Z"
   },
   {
    "duration": 10,
    "start_time": "2022-11-18T11:07:53.010Z"
   },
   {
    "duration": 10,
    "start_time": "2022-11-18T11:08:01.846Z"
   },
   {
    "duration": 68,
    "start_time": "2022-11-18T11:09:06.662Z"
   },
   {
    "duration": 13,
    "start_time": "2022-11-18T11:09:14.619Z"
   },
   {
    "duration": 8,
    "start_time": "2022-11-18T11:14:08.762Z"
   },
   {
    "duration": 9,
    "start_time": "2022-11-18T11:14:45.637Z"
   },
   {
    "duration": 16,
    "start_time": "2022-11-18T11:15:04.843Z"
   },
   {
    "duration": 47,
    "start_time": "2022-11-19T07:29:05.368Z"
   },
   {
    "duration": 6,
    "start_time": "2022-11-19T07:29:21.924Z"
   },
   {
    "duration": 68,
    "start_time": "2022-11-19T07:29:36.845Z"
   },
   {
    "duration": 3,
    "start_time": "2022-11-19T07:51:45.406Z"
   },
   {
    "duration": 3,
    "start_time": "2022-11-19T07:52:17.070Z"
   },
   {
    "duration": 6,
    "start_time": "2022-11-19T07:52:22.174Z"
   },
   {
    "duration": 535,
    "start_time": "2022-11-19T07:52:39.102Z"
   },
   {
    "duration": 17,
    "start_time": "2022-11-19T07:52:39.639Z"
   },
   {
    "duration": 2220,
    "start_time": "2022-11-19T07:52:40.029Z"
   },
   {
    "duration": 10,
    "start_time": "2022-11-19T07:52:42.251Z"
   },
   {
    "duration": 49,
    "start_time": "2022-11-19T07:52:42.262Z"
   },
   {
    "duration": 21,
    "start_time": "2022-11-19T07:52:42.405Z"
   },
   {
    "duration": 27,
    "start_time": "2022-11-19T07:52:44.047Z"
   },
   {
    "duration": 3,
    "start_time": "2022-11-19T07:52:44.587Z"
   },
   {
    "duration": 24,
    "start_time": "2022-11-19T07:52:45.289Z"
   },
   {
    "duration": 4,
    "start_time": "2022-11-19T07:53:09.017Z"
   },
   {
    "duration": 25,
    "start_time": "2022-11-19T07:53:10.330Z"
   },
   {
    "duration": 39,
    "start_time": "2022-11-19T07:54:13.567Z"
   },
   {
    "duration": 9,
    "start_time": "2022-11-19T07:54:50.827Z"
   },
   {
    "duration": 8,
    "start_time": "2022-11-19T07:55:35.444Z"
   },
   {
    "duration": 9,
    "start_time": "2022-11-19T07:55:45.195Z"
   },
   {
    "duration": 3,
    "start_time": "2022-11-19T07:55:54.827Z"
   },
   {
    "duration": 24,
    "start_time": "2022-11-19T07:55:58.350Z"
   },
   {
    "duration": 9,
    "start_time": "2022-11-19T07:56:19.159Z"
   },
   {
    "duration": 3,
    "start_time": "2022-11-19T08:02:10.368Z"
   },
   {
    "duration": 23,
    "start_time": "2022-11-19T08:02:18.446Z"
   },
   {
    "duration": 3,
    "start_time": "2022-11-19T08:02:25.240Z"
   },
   {
    "duration": 31,
    "start_time": "2022-11-19T08:02:26.086Z"
   },
   {
    "duration": 104,
    "start_time": "2022-11-19T08:02:33.155Z"
   },
   {
    "duration": 20,
    "start_time": "2022-11-19T08:02:33.723Z"
   },
   {
    "duration": 2085,
    "start_time": "2022-11-19T08:02:34.287Z"
   },
   {
    "duration": 11,
    "start_time": "2022-11-19T08:02:36.374Z"
   },
   {
    "duration": 46,
    "start_time": "2022-11-19T08:02:36.420Z"
   },
   {
    "duration": 22,
    "start_time": "2022-11-19T08:02:37.060Z"
   },
   {
    "duration": 25,
    "start_time": "2022-11-19T08:02:38.902Z"
   },
   {
    "duration": 3,
    "start_time": "2022-11-19T08:02:43.337Z"
   },
   {
    "duration": 24,
    "start_time": "2022-11-19T08:02:45.050Z"
   },
   {
    "duration": 9,
    "start_time": "2022-11-19T08:03:15.878Z"
   },
   {
    "duration": 26,
    "start_time": "2022-11-19T08:03:16.744Z"
   },
   {
    "duration": 4,
    "start_time": "2022-11-19T08:05:21.008Z"
   },
   {
    "duration": 25,
    "start_time": "2022-11-19T08:05:26.580Z"
   },
   {
    "duration": 4,
    "start_time": "2022-11-19T08:05:37.357Z"
   },
   {
    "duration": 26,
    "start_time": "2022-11-19T08:05:38.430Z"
   },
   {
    "duration": 8,
    "start_time": "2022-11-19T08:05:51.550Z"
   },
   {
    "duration": 9,
    "start_time": "2022-11-19T08:06:03.941Z"
   },
   {
    "duration": 3,
    "start_time": "2022-11-19T08:06:15.038Z"
   },
   {
    "duration": 9,
    "start_time": "2022-11-19T08:08:35.850Z"
   },
   {
    "duration": 9,
    "start_time": "2022-11-19T08:10:43.009Z"
   },
   {
    "duration": 8,
    "start_time": "2022-11-19T08:11:47.174Z"
   },
   {
    "duration": 10,
    "start_time": "2022-11-19T08:11:57.346Z"
   },
   {
    "duration": 9,
    "start_time": "2022-11-19T08:12:10.166Z"
   },
   {
    "duration": 9,
    "start_time": "2022-11-19T08:12:29.353Z"
   },
   {
    "duration": 8,
    "start_time": "2022-11-19T08:15:39.590Z"
   },
   {
    "duration": 7,
    "start_time": "2022-11-19T08:17:04.114Z"
   },
   {
    "duration": 9,
    "start_time": "2022-11-19T08:17:44.426Z"
   },
   {
    "duration": 8,
    "start_time": "2022-11-19T08:17:51.526Z"
   },
   {
    "duration": 8,
    "start_time": "2022-11-19T08:19:17.165Z"
   },
   {
    "duration": 8,
    "start_time": "2022-11-19T08:20:56.325Z"
   },
   {
    "duration": 4,
    "start_time": "2022-11-19T08:37:03.357Z"
   },
   {
    "duration": 25,
    "start_time": "2022-11-19T08:37:09.961Z"
   },
   {
    "duration": 8,
    "start_time": "2022-11-19T08:37:42.430Z"
   },
   {
    "duration": 24,
    "start_time": "2022-11-19T08:37:43.248Z"
   },
   {
    "duration": 4,
    "start_time": "2022-11-19T08:38:23.771Z"
   },
   {
    "duration": 26,
    "start_time": "2022-11-19T08:38:29.372Z"
   },
   {
    "duration": 320,
    "start_time": "2022-11-19T08:39:51.861Z"
   },
   {
    "duration": 1233,
    "start_time": "2022-11-19T08:41:16.338Z"
   },
   {
    "duration": 13,
    "start_time": "2022-11-19T08:41:46.361Z"
   },
   {
    "duration": 14,
    "start_time": "2022-11-19T08:44:04.600Z"
   },
   {
    "duration": 11,
    "start_time": "2022-11-19T08:47:26.573Z"
   },
   {
    "duration": 10,
    "start_time": "2022-11-19T08:47:34.574Z"
   },
   {
    "duration": 14,
    "start_time": "2022-11-19T08:48:20.212Z"
   },
   {
    "duration": 73,
    "start_time": "2022-11-19T08:49:06.536Z"
   },
   {
    "duration": 10,
    "start_time": "2022-11-19T08:49:18.443Z"
   },
   {
    "duration": 10,
    "start_time": "2022-11-19T08:50:23.897Z"
   },
   {
    "duration": 11,
    "start_time": "2022-11-19T08:50:36.058Z"
   },
   {
    "duration": 26,
    "start_time": "2022-11-19T08:54:10.783Z"
   },
   {
    "duration": 18,
    "start_time": "2022-11-19T08:54:12.412Z"
   },
   {
    "duration": 26,
    "start_time": "2022-11-19T08:54:15.163Z"
   },
   {
    "duration": 12,
    "start_time": "2022-11-19T08:54:16.259Z"
   },
   {
    "duration": 14,
    "start_time": "2022-11-19T08:54:28.972Z"
   },
   {
    "duration": 289,
    "start_time": "2022-11-19T08:54:58.908Z"
   },
   {
    "duration": 12,
    "start_time": "2022-11-19T08:55:19.804Z"
   },
   {
    "duration": 30,
    "start_time": "2022-11-19T08:56:47.198Z"
   },
   {
    "duration": 19,
    "start_time": "2022-11-19T08:56:47.823Z"
   },
   {
    "duration": 25,
    "start_time": "2022-11-19T08:56:49.953Z"
   },
   {
    "duration": 13,
    "start_time": "2022-11-19T08:56:51.218Z"
   },
   {
    "duration": 4,
    "start_time": "2022-11-19T08:57:06.979Z"
   },
   {
    "duration": 26,
    "start_time": "2022-11-19T08:57:08.924Z"
   },
   {
    "duration": 13,
    "start_time": "2022-11-19T08:57:15.712Z"
   },
   {
    "duration": 86,
    "start_time": "2022-11-19T08:58:32.808Z"
   },
   {
    "duration": 16,
    "start_time": "2022-11-19T08:58:33.407Z"
   },
   {
    "duration": 1864,
    "start_time": "2022-11-19T08:58:33.972Z"
   },
   {
    "duration": 9,
    "start_time": "2022-11-19T08:58:35.837Z"
   },
   {
    "duration": 42,
    "start_time": "2022-11-19T08:58:36.266Z"
   },
   {
    "duration": 21,
    "start_time": "2022-11-19T08:58:36.871Z"
   },
   {
    "duration": 25,
    "start_time": "2022-11-19T08:58:39.174Z"
   },
   {
    "duration": 9,
    "start_time": "2022-11-19T08:58:40.070Z"
   },
   {
    "duration": 24,
    "start_time": "2022-11-19T08:58:41.059Z"
   },
   {
    "duration": 2,
    "start_time": "2022-11-19T08:58:41.871Z"
   },
   {
    "duration": 393,
    "start_time": "2022-11-19T09:00:45.741Z"
   },
   {
    "duration": 17,
    "start_time": "2022-11-19T09:31:55.134Z"
   },
   {
    "duration": 28,
    "start_time": "2022-11-19T09:32:10.196Z"
   },
   {
    "duration": 29,
    "start_time": "2022-11-19T09:49:47.949Z"
   },
   {
    "duration": 20,
    "start_time": "2022-11-19T09:49:48.793Z"
   },
   {
    "duration": 22,
    "start_time": "2022-11-19T09:49:51.161Z"
   },
   {
    "duration": 37,
    "start_time": "2022-11-19T09:50:57.699Z"
   },
   {
    "duration": 31,
    "start_time": "2022-11-19T09:50:58.405Z"
   },
   {
    "duration": 22,
    "start_time": "2022-11-19T09:51:00.274Z"
   },
   {
    "duration": 20,
    "start_time": "2022-11-19T09:55:03.484Z"
   },
   {
    "duration": 21,
    "start_time": "2022-11-19T09:55:07.811Z"
   },
   {
    "duration": 26,
    "start_time": "2022-11-19T10:19:25.930Z"
   },
   {
    "duration": 5,
    "start_time": "2022-11-19T10:20:06.412Z"
   },
   {
    "duration": 7,
    "start_time": "2022-11-19T10:20:30.073Z"
   },
   {
    "duration": 23,
    "start_time": "2022-11-19T10:21:32.212Z"
   },
   {
    "duration": 34,
    "start_time": "2022-11-19T10:21:47.293Z"
   },
   {
    "duration": 25,
    "start_time": "2022-11-19T10:21:48.096Z"
   },
   {
    "duration": 25,
    "start_time": "2022-11-19T10:21:54.126Z"
   },
   {
    "duration": 16,
    "start_time": "2022-11-19T10:21:55.472Z"
   },
   {
    "duration": 93,
    "start_time": "2022-11-19T10:22:16.784Z"
   },
   {
    "duration": 19,
    "start_time": "2022-11-19T10:22:17.356Z"
   },
   {
    "duration": 1914,
    "start_time": "2022-11-19T10:22:17.939Z"
   },
   {
    "duration": 11,
    "start_time": "2022-11-19T10:22:19.855Z"
   },
   {
    "duration": 182,
    "start_time": "2022-11-19T10:22:22.505Z"
   },
   {
    "duration": 4,
    "start_time": "2022-11-19T10:22:23.321Z"
   },
   {
    "duration": 43,
    "start_time": "2022-11-20T06:51:43.030Z"
   },
   {
    "duration": 6,
    "start_time": "2022-11-20T06:51:58.206Z"
   },
   {
    "duration": 528,
    "start_time": "2022-11-20T06:52:05.856Z"
   },
   {
    "duration": 15,
    "start_time": "2022-11-20T06:52:06.386Z"
   },
   {
    "duration": 2172,
    "start_time": "2022-11-20T06:52:06.555Z"
   },
   {
    "duration": 11,
    "start_time": "2022-11-20T06:52:08.730Z"
   },
   {
    "duration": 59,
    "start_time": "2022-11-20T06:52:08.742Z"
   },
   {
    "duration": 4,
    "start_time": "2022-11-20T06:52:08.803Z"
   },
   {
    "duration": 22,
    "start_time": "2022-11-20T06:52:15.071Z"
   },
   {
    "duration": 57,
    "start_time": "2022-11-20T07:08:46.978Z"
   },
   {
    "duration": 20,
    "start_time": "2022-11-20T07:11:03.895Z"
   },
   {
    "duration": 30,
    "start_time": "2022-11-20T07:11:04.851Z"
   },
   {
    "duration": 87,
    "start_time": "2022-11-20T07:11:16.034Z"
   },
   {
    "duration": 15,
    "start_time": "2022-11-20T07:11:16.481Z"
   },
   {
    "duration": 1862,
    "start_time": "2022-11-20T07:11:17.045Z"
   },
   {
    "duration": 8,
    "start_time": "2022-11-20T07:11:18.909Z"
   },
   {
    "duration": 51,
    "start_time": "2022-11-20T07:11:23.070Z"
   },
   {
    "duration": 34,
    "start_time": "2022-11-20T07:11:23.389Z"
   },
   {
    "duration": 3,
    "start_time": "2022-11-20T07:11:24.527Z"
   },
   {
    "duration": 82,
    "start_time": "2022-11-20T07:12:05.197Z"
   },
   {
    "duration": 13,
    "start_time": "2022-11-20T07:12:05.575Z"
   },
   {
    "duration": 1858,
    "start_time": "2022-11-20T07:12:06.058Z"
   },
   {
    "duration": 9,
    "start_time": "2022-11-20T07:12:07.918Z"
   },
   {
    "duration": 63,
    "start_time": "2022-11-20T07:12:07.928Z"
   },
   {
    "duration": 29,
    "start_time": "2022-11-20T07:12:08.592Z"
   },
   {
    "duration": 4,
    "start_time": "2022-11-20T07:12:09.410Z"
   },
   {
    "duration": 20,
    "start_time": "2022-11-20T07:13:34.842Z"
   },
   {
    "duration": 32,
    "start_time": "2022-11-20T07:13:35.511Z"
   },
   {
    "duration": 28,
    "start_time": "2022-11-20T07:16:44.402Z"
   },
   {
    "duration": 80,
    "start_time": "2022-11-20T07:17:18.758Z"
   },
   {
    "duration": 14,
    "start_time": "2022-11-20T07:17:19.254Z"
   },
   {
    "duration": 1799,
    "start_time": "2022-11-20T07:17:19.746Z"
   },
   {
    "duration": 9,
    "start_time": "2022-11-20T07:17:21.552Z"
   },
   {
    "duration": 177,
    "start_time": "2022-11-20T07:17:21.833Z"
   },
   {
    "duration": 36,
    "start_time": "2022-11-20T07:17:22.714Z"
   },
   {
    "duration": 4,
    "start_time": "2022-11-20T07:18:04.739Z"
   },
   {
    "duration": 21,
    "start_time": "2022-11-20T07:18:05.464Z"
   },
   {
    "duration": 74,
    "start_time": "2022-11-20T07:21:22.198Z"
   },
   {
    "duration": 20,
    "start_time": "2022-11-20T07:21:23.172Z"
   },
   {
    "duration": 74,
    "start_time": "2022-11-20T07:22:12.053Z"
   },
   {
    "duration": 90,
    "start_time": "2022-11-20T07:22:58.084Z"
   },
   {
    "duration": 75,
    "start_time": "2022-11-20T07:23:19.897Z"
   },
   {
    "duration": 74,
    "start_time": "2022-11-20T07:23:47.043Z"
   },
   {
    "duration": 76,
    "start_time": "2022-11-20T07:24:14.231Z"
   },
   {
    "duration": 73,
    "start_time": "2022-11-20T07:24:42.453Z"
   },
   {
    "duration": 65,
    "start_time": "2022-11-20T07:25:13.786Z"
   },
   {
    "duration": 70,
    "start_time": "2022-11-20T07:25:25.131Z"
   },
   {
    "duration": 8,
    "start_time": "2022-11-20T07:25:53.589Z"
   },
   {
    "duration": 298,
    "start_time": "2022-11-20T07:26:25.756Z"
   },
   {
    "duration": 288,
    "start_time": "2022-11-20T07:27:01.404Z"
   },
   {
    "duration": 290,
    "start_time": "2022-11-20T07:27:10.642Z"
   },
   {
    "duration": 80,
    "start_time": "2022-11-20T07:27:45.652Z"
   },
   {
    "duration": 13,
    "start_time": "2022-11-20T07:27:46.160Z"
   },
   {
    "duration": 1771,
    "start_time": "2022-11-20T07:27:46.678Z"
   },
   {
    "duration": 9,
    "start_time": "2022-11-20T07:27:48.467Z"
   },
   {
    "duration": 24,
    "start_time": "2022-11-20T07:27:49.323Z"
   },
   {
    "duration": 15,
    "start_time": "2022-11-20T07:27:55.163Z"
   },
   {
    "duration": 81,
    "start_time": "2022-11-20T07:28:21.941Z"
   },
   {
    "duration": 17,
    "start_time": "2022-11-20T07:28:22.458Z"
   },
   {
    "duration": 1862,
    "start_time": "2022-11-20T07:28:23.014Z"
   },
   {
    "duration": 9,
    "start_time": "2022-11-20T07:28:24.877Z"
   },
   {
    "duration": 23,
    "start_time": "2022-11-20T07:28:26.865Z"
   },
   {
    "duration": 82,
    "start_time": "2022-11-20T07:29:07.472Z"
   },
   {
    "duration": 16,
    "start_time": "2022-11-20T07:29:07.908Z"
   },
   {
    "duration": 1784,
    "start_time": "2022-11-20T07:29:08.329Z"
   },
   {
    "duration": 9,
    "start_time": "2022-11-20T07:29:10.116Z"
   },
   {
    "duration": 44,
    "start_time": "2022-11-20T07:29:10.127Z"
   },
   {
    "duration": 15,
    "start_time": "2022-11-20T07:29:10.424Z"
   },
   {
    "duration": 9,
    "start_time": "2022-11-20T07:29:18.901Z"
   },
   {
    "duration": 27,
    "start_time": "2022-11-20T07:29:57.708Z"
   },
   {
    "duration": 12,
    "start_time": "2022-11-20T07:30:14.037Z"
   },
   {
    "duration": 15,
    "start_time": "2022-11-20T07:30:33.145Z"
   },
   {
    "duration": 22,
    "start_time": "2022-11-20T07:31:02.996Z"
   },
   {
    "duration": 15,
    "start_time": "2022-11-20T07:31:04.481Z"
   },
   {
    "duration": 25,
    "start_time": "2022-11-20T07:31:14.526Z"
   },
   {
    "duration": 17,
    "start_time": "2022-11-20T07:31:15.570Z"
   },
   {
    "duration": 16,
    "start_time": "2022-11-20T07:32:21.248Z"
   },
   {
    "duration": 11,
    "start_time": "2022-11-20T07:32:47.030Z"
   },
   {
    "duration": 69,
    "start_time": "2022-11-20T07:49:41.333Z"
   },
   {
    "duration": 113,
    "start_time": "2022-11-20T07:50:57.708Z"
   },
   {
    "duration": 19,
    "start_time": "2022-11-20T07:59:51.402Z"
   },
   {
    "duration": 17,
    "start_time": "2022-11-20T08:00:02.378Z"
   },
   {
    "duration": 297,
    "start_time": "2022-11-20T08:02:00.095Z"
   },
   {
    "duration": 81,
    "start_time": "2022-11-20T08:02:09.173Z"
   },
   {
    "duration": 14,
    "start_time": "2022-11-20T08:02:09.447Z"
   },
   {
    "duration": 1803,
    "start_time": "2022-11-20T08:02:09.838Z"
   },
   {
    "duration": 9,
    "start_time": "2022-11-20T08:02:11.651Z"
   },
   {
    "duration": 292,
    "start_time": "2022-11-20T08:02:11.662Z"
   },
   {
    "duration": 13,
    "start_time": "2022-11-20T08:02:14.778Z"
   },
   {
    "duration": 82,
    "start_time": "2022-11-20T08:02:35.987Z"
   },
   {
    "duration": 15,
    "start_time": "2022-11-20T08:02:37.070Z"
   },
   {
    "duration": 2058,
    "start_time": "2022-11-20T08:02:37.586Z"
   },
   {
    "duration": 14,
    "start_time": "2022-11-20T08:02:39.646Z"
   },
   {
    "duration": 57,
    "start_time": "2022-11-20T08:02:39.696Z"
   },
   {
    "duration": 18,
    "start_time": "2022-11-20T08:02:42.493Z"
   },
   {
    "duration": 6,
    "start_time": "2022-11-20T08:03:26.437Z"
   },
   {
    "duration": 5,
    "start_time": "2022-11-20T08:05:39.696Z"
   },
   {
    "duration": 5,
    "start_time": "2022-11-20T08:15:37.205Z"
   },
   {
    "duration": 4,
    "start_time": "2022-11-20T08:15:44.658Z"
   },
   {
    "duration": 6,
    "start_time": "2022-11-20T08:17:00.345Z"
   },
   {
    "duration": 6,
    "start_time": "2022-11-20T08:17:20.977Z"
   },
   {
    "duration": 4,
    "start_time": "2022-11-20T08:17:32.897Z"
   },
   {
    "duration": 5,
    "start_time": "2022-11-20T08:17:34.642Z"
   },
   {
    "duration": 81,
    "start_time": "2022-11-20T08:17:56.227Z"
   },
   {
    "duration": 16,
    "start_time": "2022-11-20T08:17:56.643Z"
   },
   {
    "duration": 1714,
    "start_time": "2022-11-20T08:17:57.053Z"
   },
   {
    "duration": 8,
    "start_time": "2022-11-20T08:17:58.769Z"
   },
   {
    "duration": 52,
    "start_time": "2022-11-20T08:17:58.779Z"
   },
   {
    "duration": 15,
    "start_time": "2022-11-20T08:18:00.149Z"
   },
   {
    "duration": 7,
    "start_time": "2022-11-20T08:18:02.436Z"
   },
   {
    "duration": 5,
    "start_time": "2022-11-20T08:18:03.500Z"
   },
   {
    "duration": 5,
    "start_time": "2022-11-20T08:18:05.166Z"
   },
   {
    "duration": 75,
    "start_time": "2022-11-20T08:19:40.584Z"
   },
   {
    "duration": 7,
    "start_time": "2022-11-20T08:19:50.209Z"
   },
   {
    "duration": 6,
    "start_time": "2022-11-20T08:19:52.042Z"
   },
   {
    "duration": 3,
    "start_time": "2022-11-20T08:24:23.612Z"
   },
   {
    "duration": 7,
    "start_time": "2022-11-20T08:27:04.415Z"
   },
   {
    "duration": 9,
    "start_time": "2022-11-20T08:30:34.530Z"
   },
   {
    "duration": 6,
    "start_time": "2022-11-20T08:30:45.264Z"
   },
   {
    "duration": 848,
    "start_time": "2022-11-20T17:46:51.190Z"
   },
   {
    "duration": 21,
    "start_time": "2022-11-20T17:46:52.041Z"
   },
   {
    "duration": 2449,
    "start_time": "2022-11-20T17:46:52.190Z"
   },
   {
    "duration": 11,
    "start_time": "2022-11-20T17:46:54.641Z"
   },
   {
    "duration": 80,
    "start_time": "2022-11-20T17:46:54.654Z"
   },
   {
    "duration": 25,
    "start_time": "2022-11-20T17:46:55.658Z"
   },
   {
    "duration": 7,
    "start_time": "2022-11-20T17:46:57.145Z"
   },
   {
    "duration": 7,
    "start_time": "2022-11-20T17:46:58.207Z"
   },
   {
    "duration": 6,
    "start_time": "2022-11-20T18:55:22.933Z"
   },
   {
    "duration": 76,
    "start_time": "2022-11-20T18:58:08.407Z"
   },
   {
    "duration": 18,
    "start_time": "2022-11-20T19:00:47.915Z"
   },
   {
    "duration": 16,
    "start_time": "2022-11-20T19:01:04.087Z"
   },
   {
    "duration": 27,
    "start_time": "2022-11-20T19:01:53.075Z"
   },
   {
    "duration": 50,
    "start_time": "2022-11-20T19:02:43.740Z"
   },
   {
    "duration": 14,
    "start_time": "2022-11-20T19:09:52.538Z"
   },
   {
    "duration": 9,
    "start_time": "2022-11-20T19:33:04.067Z"
   },
   {
    "duration": 148,
    "start_time": "2022-11-20T19:33:37.632Z"
   },
   {
    "duration": 5,
    "start_time": "2022-11-20T19:34:35.006Z"
   },
   {
    "duration": 5,
    "start_time": "2022-11-20T19:34:37.210Z"
   },
   {
    "duration": 48,
    "start_time": "2022-11-20T19:45:04.107Z"
   },
   {
    "duration": 4,
    "start_time": "2022-11-20T19:45:09.591Z"
   },
   {
    "duration": 44,
    "start_time": "2022-11-20T19:45:41.323Z"
   },
   {
    "duration": 3,
    "start_time": "2022-11-20T19:45:50.985Z"
   },
   {
    "duration": 3,
    "start_time": "2022-11-20T19:46:15.360Z"
   },
   {
    "duration": 4,
    "start_time": "2022-11-20T19:48:12.882Z"
   },
   {
    "duration": 3,
    "start_time": "2022-11-20T19:48:42.442Z"
   },
   {
    "duration": 24,
    "start_time": "2022-11-20T20:26:17.476Z"
   },
   {
    "duration": 7,
    "start_time": "2022-11-20T20:26:19.289Z"
   },
   {
    "duration": 91,
    "start_time": "2022-11-20T20:27:11.068Z"
   },
   {
    "duration": 13,
    "start_time": "2022-11-20T20:27:11.539Z"
   },
   {
    "duration": 1703,
    "start_time": "2022-11-20T20:27:11.990Z"
   },
   {
    "duration": 9,
    "start_time": "2022-11-20T20:27:13.696Z"
   },
   {
    "duration": 51,
    "start_time": "2022-11-20T20:27:13.818Z"
   },
   {
    "duration": 14,
    "start_time": "2022-11-20T20:27:15.230Z"
   },
   {
    "duration": 5,
    "start_time": "2022-11-20T20:27:16.724Z"
   },
   {
    "duration": 24,
    "start_time": "2022-11-20T20:27:17.273Z"
   },
   {
    "duration": 5,
    "start_time": "2022-11-20T20:27:17.828Z"
   },
   {
    "duration": 17,
    "start_time": "2022-11-20T20:28:05.736Z"
   },
   {
    "duration": 15,
    "start_time": "2022-11-20T20:29:01.451Z"
   },
   {
    "duration": 5,
    "start_time": "2022-11-20T20:29:15.578Z"
   },
   {
    "duration": 58,
    "start_time": "2022-11-20T20:31:57.047Z"
   },
   {
    "duration": 55,
    "start_time": "2022-11-20T20:32:12.892Z"
   },
   {
    "duration": 85,
    "start_time": "2022-11-20T20:40:17.503Z"
   },
   {
    "duration": 57,
    "start_time": "2022-11-20T20:40:27.791Z"
   },
   {
    "duration": 54,
    "start_time": "2022-11-20T20:40:36.250Z"
   },
   {
    "duration": 87,
    "start_time": "2022-11-20T20:40:49.245Z"
   },
   {
    "duration": 12,
    "start_time": "2022-11-20T20:40:49.718Z"
   },
   {
    "duration": 1752,
    "start_time": "2022-11-20T20:40:50.224Z"
   },
   {
    "duration": 9,
    "start_time": "2022-11-20T20:40:51.978Z"
   },
   {
    "duration": 55,
    "start_time": "2022-11-20T20:40:52.117Z"
   },
   {
    "duration": 13,
    "start_time": "2022-11-20T20:40:53.619Z"
   },
   {
    "duration": 6,
    "start_time": "2022-11-20T20:40:55.070Z"
   },
   {
    "duration": 60,
    "start_time": "2022-11-20T20:40:55.573Z"
   },
   {
    "duration": 5,
    "start_time": "2022-11-20T20:40:56.093Z"
   },
   {
    "duration": 59,
    "start_time": "2022-11-20T20:47:38.825Z"
   },
   {
    "duration": 48,
    "start_time": "2022-11-20T20:52:36.166Z"
   },
   {
    "duration": 52,
    "start_time": "2022-11-20T20:52:48.400Z"
   },
   {
    "duration": 51,
    "start_time": "2022-11-20T20:52:58.229Z"
   },
   {
    "duration": 50,
    "start_time": "2022-11-20T20:53:36.493Z"
   },
   {
    "duration": 6,
    "start_time": "2022-11-20T20:55:37.083Z"
   },
   {
    "duration": 11,
    "start_time": "2022-11-20T20:56:38.914Z"
   },
   {
    "duration": 12,
    "start_time": "2022-11-20T20:56:50.532Z"
   },
   {
    "duration": 12,
    "start_time": "2022-11-20T20:57:49.001Z"
   },
   {
    "duration": 59,
    "start_time": "2022-11-20T21:39:22.865Z"
   },
   {
    "duration": 14,
    "start_time": "2022-11-20T21:39:30.343Z"
   },
   {
    "duration": 11,
    "start_time": "2022-11-20T21:41:10.563Z"
   },
   {
    "duration": 11,
    "start_time": "2022-11-20T21:41:13.717Z"
   },
   {
    "duration": 7,
    "start_time": "2022-11-20T21:41:52.292Z"
   },
   {
    "duration": 10,
    "start_time": "2022-11-20T21:44:23.885Z"
   },
   {
    "duration": 11,
    "start_time": "2022-11-20T21:52:37.663Z"
   },
   {
    "duration": 7,
    "start_time": "2022-11-20T21:52:38.566Z"
   },
   {
    "duration": 13,
    "start_time": "2022-11-20T22:04:40.170Z"
   },
   {
    "duration": 8,
    "start_time": "2022-11-20T22:04:49.483Z"
   },
   {
    "duration": 13,
    "start_time": "2022-11-20T22:11:18.656Z"
   },
   {
    "duration": 4,
    "start_time": "2022-11-20T22:26:38.986Z"
   },
   {
    "duration": 4,
    "start_time": "2022-11-20T22:51:28.725Z"
   },
   {
    "duration": 10,
    "start_time": "2022-11-20T22:55:47.376Z"
   },
   {
    "duration": 6,
    "start_time": "2022-11-20T22:55:52.518Z"
   },
   {
    "duration": 49,
    "start_time": "2022-11-21T19:37:55.894Z"
   },
   {
    "duration": 124,
    "start_time": "2022-11-21T19:38:05.405Z"
   },
   {
    "duration": 95,
    "start_time": "2022-11-21T19:38:06.891Z"
   },
   {
    "duration": 16,
    "start_time": "2022-11-21T19:38:07.620Z"
   },
   {
    "duration": 2474,
    "start_time": "2022-11-21T19:38:07.976Z"
   },
   {
    "duration": 11,
    "start_time": "2022-11-21T19:38:10.453Z"
   },
   {
    "duration": 63,
    "start_time": "2022-11-21T19:38:10.465Z"
   },
   {
    "duration": 35,
    "start_time": "2022-11-21T19:38:10.530Z"
   },
   {
    "duration": 6,
    "start_time": "2022-11-21T19:38:11.722Z"
   },
   {
    "duration": 14,
    "start_time": "2022-11-21T19:38:12.096Z"
   },
   {
    "duration": 5,
    "start_time": "2022-11-21T19:38:13.034Z"
   },
   {
    "duration": 13,
    "start_time": "2022-11-21T19:38:13.445Z"
   },
   {
    "duration": 5,
    "start_time": "2022-11-21T19:38:13.784Z"
   },
   {
    "duration": 3,
    "start_time": "2022-11-21T19:38:14.180Z"
   },
   {
    "duration": 3,
    "start_time": "2022-11-21T19:38:14.578Z"
   },
   {
    "duration": 5,
    "start_time": "2022-11-21T19:38:15.454Z"
   },
   {
    "duration": 60,
    "start_time": "2022-11-21T19:39:06.815Z"
   },
   {
    "duration": 4,
    "start_time": "2022-11-21T19:39:37.103Z"
   },
   {
    "duration": 23,
    "start_time": "2022-11-21T19:39:37.532Z"
   },
   {
    "duration": 10,
    "start_time": "2022-11-21T19:49:31.999Z"
   },
   {
    "duration": 58,
    "start_time": "2022-11-21T19:49:40.018Z"
   },
   {
    "duration": 5,
    "start_time": "2022-11-21T19:49:47.996Z"
   },
   {
    "duration": 5,
    "start_time": "2022-11-21T19:50:05.342Z"
   },
   {
    "duration": 10,
    "start_time": "2022-11-21T19:59:34.536Z"
   },
   {
    "duration": 8,
    "start_time": "2022-11-21T20:00:32.659Z"
   },
   {
    "duration": 10,
    "start_time": "2022-11-21T20:02:33.341Z"
   },
   {
    "duration": 7,
    "start_time": "2022-11-21T20:02:50.118Z"
   },
   {
    "duration": 10,
    "start_time": "2022-11-21T20:04:38.658Z"
   },
   {
    "duration": 4,
    "start_time": "2022-11-21T20:04:45.925Z"
   },
   {
    "duration": 8,
    "start_time": "2022-11-21T20:04:47.994Z"
   },
   {
    "duration": 4,
    "start_time": "2022-11-21T20:05:05.259Z"
   },
   {
    "duration": 4,
    "start_time": "2022-11-21T20:05:23.229Z"
   },
   {
    "duration": 6,
    "start_time": "2022-11-21T20:05:24.718Z"
   },
   {
    "duration": 4,
    "start_time": "2022-11-21T20:05:27.716Z"
   },
   {
    "duration": 5,
    "start_time": "2022-11-21T20:05:28.204Z"
   },
   {
    "duration": 4,
    "start_time": "2022-11-21T20:05:57.724Z"
   },
   {
    "duration": 4,
    "start_time": "2022-11-21T20:05:58.199Z"
   },
   {
    "duration": 7,
    "start_time": "2022-11-21T20:05:58.693Z"
   },
   {
    "duration": 99,
    "start_time": "2022-11-21T20:06:05.018Z"
   },
   {
    "duration": 14,
    "start_time": "2022-11-21T20:06:05.381Z"
   },
   {
    "duration": 2098,
    "start_time": "2022-11-21T20:06:05.753Z"
   },
   {
    "duration": 9,
    "start_time": "2022-11-21T20:06:07.854Z"
   },
   {
    "duration": 76,
    "start_time": "2022-11-21T20:06:07.865Z"
   },
   {
    "duration": 17,
    "start_time": "2022-11-21T20:06:08.234Z"
   },
   {
    "duration": 5,
    "start_time": "2022-11-21T20:06:09.235Z"
   },
   {
    "duration": 15,
    "start_time": "2022-11-21T20:06:09.550Z"
   },
   {
    "duration": 5,
    "start_time": "2022-11-21T20:06:11.114Z"
   },
   {
    "duration": 11,
    "start_time": "2022-11-21T20:06:11.436Z"
   },
   {
    "duration": 5,
    "start_time": "2022-11-21T20:06:11.737Z"
   },
   {
    "duration": 2,
    "start_time": "2022-11-21T20:06:12.159Z"
   },
   {
    "duration": 3,
    "start_time": "2022-11-21T20:06:12.517Z"
   },
   {
    "duration": 4,
    "start_time": "2022-11-21T20:06:13.241Z"
   },
   {
    "duration": 16,
    "start_time": "2022-11-21T20:06:13.624Z"
   },
   {
    "duration": 10,
    "start_time": "2022-11-21T20:06:13.967Z"
   },
   {
    "duration": 11,
    "start_time": "2022-11-21T20:06:14.347Z"
   },
   {
    "duration": 5,
    "start_time": "2022-11-21T20:06:14.768Z"
   },
   {
    "duration": 5,
    "start_time": "2022-11-21T20:06:15.180Z"
   },
   {
    "duration": 5,
    "start_time": "2022-11-21T20:06:15.681Z"
   },
   {
    "duration": 5,
    "start_time": "2022-11-21T20:09:30.819Z"
   },
   {
    "duration": 14,
    "start_time": "2022-11-21T20:09:54.977Z"
   },
   {
    "duration": 6,
    "start_time": "2022-11-21T20:10:04.465Z"
   },
   {
    "duration": 6,
    "start_time": "2022-11-21T20:10:24.658Z"
   },
   {
    "duration": 5,
    "start_time": "2022-11-21T20:10:26.287Z"
   },
   {
    "duration": 5,
    "start_time": "2022-11-21T20:10:48.008Z"
   },
   {
    "duration": 4,
    "start_time": "2022-11-21T20:10:59.708Z"
   },
   {
    "duration": 5,
    "start_time": "2022-11-21T20:11:00.845Z"
   },
   {
    "duration": 4,
    "start_time": "2022-11-21T20:11:11.673Z"
   },
   {
    "duration": 5,
    "start_time": "2022-11-21T20:11:12.142Z"
   },
   {
    "duration": 4,
    "start_time": "2022-11-21T20:11:20.092Z"
   },
   {
    "duration": 6,
    "start_time": "2022-11-21T20:11:20.355Z"
   },
   {
    "duration": 4,
    "start_time": "2022-11-21T20:11:29.531Z"
   },
   {
    "duration": 7,
    "start_time": "2022-11-21T20:11:30.527Z"
   },
   {
    "duration": 6,
    "start_time": "2022-11-21T20:11:33.486Z"
   },
   {
    "duration": 4,
    "start_time": "2022-11-21T20:11:38.071Z"
   },
   {
    "duration": 4,
    "start_time": "2022-11-21T20:11:38.368Z"
   },
   {
    "duration": 5,
    "start_time": "2022-11-21T20:11:38.712Z"
   },
   {
    "duration": 101,
    "start_time": "2022-11-21T20:11:59.461Z"
   },
   {
    "duration": 15,
    "start_time": "2022-11-21T20:11:59.743Z"
   },
   {
    "duration": 2069,
    "start_time": "2022-11-21T20:12:00.274Z"
   },
   {
    "duration": 17,
    "start_time": "2022-11-21T20:12:02.345Z"
   },
   {
    "duration": 61,
    "start_time": "2022-11-21T20:12:02.364Z"
   },
   {
    "duration": 17,
    "start_time": "2022-11-21T20:12:02.908Z"
   },
   {
    "duration": 6,
    "start_time": "2022-11-21T20:12:04.113Z"
   },
   {
    "duration": 19,
    "start_time": "2022-11-21T20:12:04.507Z"
   },
   {
    "duration": 5,
    "start_time": "2022-11-21T20:12:05.409Z"
   },
   {
    "duration": 9,
    "start_time": "2022-11-21T20:12:05.788Z"
   },
   {
    "duration": 5,
    "start_time": "2022-11-21T20:12:06.164Z"
   },
   {
    "duration": 3,
    "start_time": "2022-11-21T20:12:06.579Z"
   },
   {
    "duration": 2,
    "start_time": "2022-11-21T20:12:06.973Z"
   },
   {
    "duration": 5,
    "start_time": "2022-11-21T20:12:07.793Z"
   },
   {
    "duration": 11,
    "start_time": "2022-11-21T20:12:08.147Z"
   },
   {
    "duration": 15,
    "start_time": "2022-11-21T20:12:08.600Z"
   },
   {
    "duration": 11,
    "start_time": "2022-11-21T20:12:09.204Z"
   },
   {
    "duration": 4,
    "start_time": "2022-11-21T20:12:09.664Z"
   },
   {
    "duration": 5,
    "start_time": "2022-11-21T20:12:10.160Z"
   },
   {
    "duration": 6,
    "start_time": "2022-11-21T20:12:13.242Z"
   },
   {
    "duration": 10,
    "start_time": "2022-11-21T20:12:32.163Z"
   },
   {
    "duration": 5,
    "start_time": "2022-11-21T20:12:41.266Z"
   },
   {
    "duration": 5,
    "start_time": "2022-11-21T20:12:42.228Z"
   },
   {
    "duration": 5,
    "start_time": "2022-11-21T20:14:27.050Z"
   },
   {
    "duration": 5,
    "start_time": "2022-11-21T20:14:34.697Z"
   },
   {
    "duration": 5,
    "start_time": "2022-11-21T20:14:42.769Z"
   },
   {
    "duration": 6,
    "start_time": "2022-11-21T20:14:56.748Z"
   },
   {
    "duration": 6,
    "start_time": "2022-11-21T20:15:53.476Z"
   },
   {
    "duration": 4,
    "start_time": "2022-11-21T20:15:56.303Z"
   },
   {
    "duration": 6,
    "start_time": "2022-11-21T20:15:56.583Z"
   },
   {
    "duration": 106,
    "start_time": "2022-11-21T20:16:02.760Z"
   },
   {
    "duration": 15,
    "start_time": "2022-11-21T20:16:03.042Z"
   },
   {
    "duration": 2343,
    "start_time": "2022-11-21T20:16:03.354Z"
   },
   {
    "duration": 12,
    "start_time": "2022-11-21T20:16:05.699Z"
   },
   {
    "duration": 90,
    "start_time": "2022-11-21T20:16:05.714Z"
   },
   {
    "duration": 17,
    "start_time": "2022-11-21T20:16:05.806Z"
   },
   {
    "duration": 6,
    "start_time": "2022-11-21T20:16:06.634Z"
   },
   {
    "duration": 16,
    "start_time": "2022-11-21T20:16:06.961Z"
   },
   {
    "duration": 5,
    "start_time": "2022-11-21T20:16:07.621Z"
   },
   {
    "duration": 12,
    "start_time": "2022-11-21T20:16:07.971Z"
   },
   {
    "duration": 6,
    "start_time": "2022-11-21T20:16:08.265Z"
   },
   {
    "duration": 3,
    "start_time": "2022-11-21T20:16:08.787Z"
   },
   {
    "duration": 3,
    "start_time": "2022-11-21T20:16:09.151Z"
   },
   {
    "duration": 5,
    "start_time": "2022-11-21T20:16:09.884Z"
   },
   {
    "duration": 12,
    "start_time": "2022-11-21T20:16:10.229Z"
   },
   {
    "duration": 11,
    "start_time": "2022-11-21T20:16:10.548Z"
   },
   {
    "duration": 12,
    "start_time": "2022-11-21T20:16:10.979Z"
   },
   {
    "duration": 4,
    "start_time": "2022-11-21T20:16:11.305Z"
   },
   {
    "duration": 5,
    "start_time": "2022-11-21T20:16:11.669Z"
   },
   {
    "duration": 5,
    "start_time": "2022-11-21T20:16:12.092Z"
   },
   {
    "duration": 6,
    "start_time": "2022-11-21T20:16:20.033Z"
   },
   {
    "duration": 7,
    "start_time": "2022-11-21T20:16:24.801Z"
   },
   {
    "duration": 5,
    "start_time": "2022-11-21T20:16:34.923Z"
   },
   {
    "duration": 11,
    "start_time": "2022-11-21T20:18:09.160Z"
   },
   {
    "duration": 13,
    "start_time": "2022-11-21T20:22:41.786Z"
   },
   {
    "duration": 4,
    "start_time": "2022-11-21T20:23:15.401Z"
   },
   {
    "duration": 3,
    "start_time": "2022-11-21T20:25:22.791Z"
   },
   {
    "duration": 4,
    "start_time": "2022-11-21T20:26:34.851Z"
   },
   {
    "duration": 218,
    "start_time": "2022-11-21T20:26:35.207Z"
   },
   {
    "duration": 4,
    "start_time": "2022-11-21T20:26:38.727Z"
   },
   {
    "duration": 6,
    "start_time": "2022-11-21T20:26:39.557Z"
   },
   {
    "duration": 3,
    "start_time": "2022-11-21T20:35:42.924Z"
   },
   {
    "duration": 2,
    "start_time": "2022-11-21T20:37:51.254Z"
   },
   {
    "duration": 4,
    "start_time": "2022-11-21T20:37:55.043Z"
   },
   {
    "duration": 44,
    "start_time": "2022-11-21T20:39:10.418Z"
   },
   {
    "duration": 3,
    "start_time": "2022-11-21T20:42:03.345Z"
   },
   {
    "duration": 4,
    "start_time": "2022-11-21T20:53:31.342Z"
   },
   {
    "duration": 7,
    "start_time": "2022-11-21T20:53:45.674Z"
   },
   {
    "duration": 4,
    "start_time": "2022-11-21T20:53:48.976Z"
   },
   {
    "duration": 6,
    "start_time": "2022-11-21T20:53:49.399Z"
   },
   {
    "duration": 225,
    "start_time": "2022-11-21T20:53:51.839Z"
   },
   {
    "duration": 4,
    "start_time": "2022-11-21T20:53:52.100Z"
   },
   {
    "duration": 6,
    "start_time": "2022-11-21T20:53:52.422Z"
   },
   {
    "duration": 112,
    "start_time": "2022-11-21T20:54:01.311Z"
   },
   {
    "duration": 15,
    "start_time": "2022-11-21T20:54:01.662Z"
   },
   {
    "duration": 2289,
    "start_time": "2022-11-21T20:54:02.035Z"
   },
   {
    "duration": 11,
    "start_time": "2022-11-21T20:54:04.326Z"
   },
   {
    "duration": 77,
    "start_time": "2022-11-21T20:54:04.339Z"
   },
   {
    "duration": 37,
    "start_time": "2022-11-21T20:54:04.418Z"
   },
   {
    "duration": 6,
    "start_time": "2022-11-21T20:54:05.375Z"
   },
   {
    "duration": 16,
    "start_time": "2022-11-21T20:54:05.689Z"
   },
   {
    "duration": 4,
    "start_time": "2022-11-21T20:54:06.342Z"
   },
   {
    "duration": 10,
    "start_time": "2022-11-21T20:54:06.658Z"
   },
   {
    "duration": 7,
    "start_time": "2022-11-21T20:54:06.971Z"
   },
   {
    "duration": 2,
    "start_time": "2022-11-21T20:54:07.310Z"
   },
   {
    "duration": 2,
    "start_time": "2022-11-21T20:54:07.642Z"
   },
   {
    "duration": 4,
    "start_time": "2022-11-21T20:54:08.320Z"
   },
   {
    "duration": 12,
    "start_time": "2022-11-21T20:54:09.766Z"
   },
   {
    "duration": 11,
    "start_time": "2022-11-21T20:54:10.315Z"
   },
   {
    "duration": 11,
    "start_time": "2022-11-21T20:54:10.703Z"
   },
   {
    "duration": 4,
    "start_time": "2022-11-21T20:54:11.074Z"
   },
   {
    "duration": 219,
    "start_time": "2022-11-21T20:54:11.400Z"
   },
   {
    "duration": 5,
    "start_time": "2022-11-21T20:54:11.788Z"
   },
   {
    "duration": 6,
    "start_time": "2022-11-21T20:54:12.248Z"
   },
   {
    "duration": 52,
    "start_time": "2022-11-21T20:54:55.683Z"
   },
   {
    "duration": 13,
    "start_time": "2022-11-21T20:55:13.971Z"
   },
   {
    "duration": 21,
    "start_time": "2022-11-21T20:55:24.406Z"
   },
   {
    "duration": 10,
    "start_time": "2022-11-21T20:55:33.687Z"
   },
   {
    "duration": 3,
    "start_time": "2022-11-21T20:55:45.666Z"
   },
   {
    "duration": 5,
    "start_time": "2022-11-21T20:55:56.711Z"
   },
   {
    "duration": 5,
    "start_time": "2022-11-21T20:56:22.059Z"
   },
   {
    "duration": 5,
    "start_time": "2022-11-21T20:56:44.232Z"
   },
   {
    "duration": 3,
    "start_time": "2022-11-21T20:56:48.021Z"
   },
   {
    "duration": 4,
    "start_time": "2022-11-21T20:56:48.380Z"
   },
   {
    "duration": 6,
    "start_time": "2022-11-21T20:58:39.931Z"
   },
   {
    "duration": 5,
    "start_time": "2022-11-21T20:59:09.078Z"
   },
   {
    "duration": 5,
    "start_time": "2022-11-21T21:00:10.819Z"
   },
   {
    "duration": 5,
    "start_time": "2022-11-21T21:00:31.307Z"
   },
   {
    "duration": 6,
    "start_time": "2022-11-21T21:00:48.665Z"
   },
   {
    "duration": 6,
    "start_time": "2022-11-21T21:01:00.710Z"
   },
   {
    "duration": 6,
    "start_time": "2022-11-21T21:01:24.143Z"
   },
   {
    "duration": 4,
    "start_time": "2022-11-21T21:12:21.469Z"
   },
   {
    "duration": 47,
    "start_time": "2022-11-21T21:12:51.826Z"
   },
   {
    "duration": 54,
    "start_time": "2022-11-21T21:13:11.110Z"
   },
   {
    "duration": 46,
    "start_time": "2022-11-21T21:14:06.967Z"
   },
   {
    "duration": 55,
    "start_time": "2022-11-21T21:14:27.932Z"
   },
   {
    "duration": 39,
    "start_time": "2022-11-21T21:14:36.287Z"
   },
   {
    "duration": 19,
    "start_time": "2022-11-21T21:15:38.564Z"
   },
   {
    "duration": 6,
    "start_time": "2022-11-21T21:15:42.004Z"
   },
   {
    "duration": 17,
    "start_time": "2022-11-21T21:16:36.568Z"
   },
   {
    "duration": 6,
    "start_time": "2022-11-21T21:16:37.226Z"
   },
   {
    "duration": 13,
    "start_time": "2022-11-21T21:16:52.993Z"
   },
   {
    "duration": 5,
    "start_time": "2022-11-21T21:16:54.204Z"
   },
   {
    "duration": 55,
    "start_time": "2022-11-21T21:23:33.209Z"
   },
   {
    "duration": 10,
    "start_time": "2022-11-21T21:26:49.324Z"
   },
   {
    "duration": 12,
    "start_time": "2022-11-21T21:27:08.974Z"
   },
   {
    "duration": 4,
    "start_time": "2022-11-21T21:27:10.788Z"
   },
   {
    "duration": 24,
    "start_time": "2022-11-21T21:28:50.736Z"
   },
   {
    "duration": 17,
    "start_time": "2022-11-21T21:29:09.649Z"
   },
   {
    "duration": 12,
    "start_time": "2022-11-21T21:29:50.211Z"
   },
   {
    "duration": 5,
    "start_time": "2022-11-21T21:29:52.104Z"
   },
   {
    "duration": 5,
    "start_time": "2022-11-21T21:39:41.715Z"
   },
   {
    "duration": 27,
    "start_time": "2022-11-21T21:42:46.357Z"
   },
   {
    "duration": 43,
    "start_time": "2022-11-21T21:48:01.040Z"
   },
   {
    "duration": 22,
    "start_time": "2022-11-21T21:48:10.311Z"
   },
   {
    "duration": 30,
    "start_time": "2022-11-21T21:49:23.968Z"
   },
   {
    "duration": 64,
    "start_time": "2022-11-21T21:49:41.612Z"
   },
   {
    "duration": 8,
    "start_time": "2022-11-21T21:50:15.433Z"
   },
   {
    "duration": 9,
    "start_time": "2022-11-21T21:51:03.047Z"
   },
   {
    "duration": 10,
    "start_time": "2022-11-21T21:51:09.989Z"
   },
   {
    "duration": 46,
    "start_time": "2022-11-23T07:39:03.404Z"
   },
   {
    "duration": 723,
    "start_time": "2022-11-23T07:39:15.321Z"
   },
   {
    "duration": 16,
    "start_time": "2022-11-23T07:39:16.046Z"
   },
   {
    "duration": 2427,
    "start_time": "2022-11-23T07:39:16.100Z"
   },
   {
    "duration": 10,
    "start_time": "2022-11-23T07:39:18.529Z"
   },
   {
    "duration": 58,
    "start_time": "2022-11-23T07:39:18.541Z"
   },
   {
    "duration": 14,
    "start_time": "2022-11-23T07:39:18.784Z"
   },
   {
    "duration": 6,
    "start_time": "2022-11-23T07:39:19.996Z"
   },
   {
    "duration": 14,
    "start_time": "2022-11-23T07:39:20.387Z"
   },
   {
    "duration": 4,
    "start_time": "2022-11-23T07:39:21.127Z"
   },
   {
    "duration": 11,
    "start_time": "2022-11-23T07:39:21.481Z"
   },
   {
    "duration": 5,
    "start_time": "2022-11-23T07:39:21.883Z"
   },
   {
    "duration": 3,
    "start_time": "2022-11-23T07:39:22.248Z"
   },
   {
    "duration": 2,
    "start_time": "2022-11-23T07:39:22.624Z"
   },
   {
    "duration": 5,
    "start_time": "2022-11-23T07:39:23.467Z"
   },
   {
    "duration": 37,
    "start_time": "2022-11-23T07:39:23.820Z"
   },
   {
    "duration": 9,
    "start_time": "2022-11-23T07:39:24.195Z"
   },
   {
    "duration": 10,
    "start_time": "2022-11-23T07:39:24.632Z"
   },
   {
    "duration": 3,
    "start_time": "2022-11-23T07:39:24.993Z"
   },
   {
    "duration": 214,
    "start_time": "2022-11-23T07:39:25.346Z"
   },
   {
    "duration": 5,
    "start_time": "2022-11-23T07:39:25.862Z"
   },
   {
    "duration": 4,
    "start_time": "2022-11-23T07:39:26.314Z"
   },
   {
    "duration": 5,
    "start_time": "2022-11-23T07:45:02.858Z"
   },
   {
    "duration": 15,
    "start_time": "2022-11-23T07:45:07.331Z"
   },
   {
    "duration": 9,
    "start_time": "2022-11-23T07:45:09.592Z"
   },
   {
    "duration": 6,
    "start_time": "2022-11-23T07:45:18.091Z"
   },
   {
    "duration": 6,
    "start_time": "2022-11-23T07:45:18.949Z"
   },
   {
    "duration": 5,
    "start_time": "2022-11-23T07:45:55.801Z"
   },
   {
    "duration": 348,
    "start_time": "2022-11-23T07:45:56.453Z"
   },
   {
    "duration": 6,
    "start_time": "2022-11-23T07:45:57.040Z"
   },
   {
    "duration": 4,
    "start_time": "2022-11-23T07:45:57.696Z"
   },
   {
    "duration": 100,
    "start_time": "2022-11-23T07:46:08.562Z"
   },
   {
    "duration": 16,
    "start_time": "2022-11-23T07:46:09.028Z"
   },
   {
    "duration": 2159,
    "start_time": "2022-11-23T07:46:09.472Z"
   },
   {
    "duration": 11,
    "start_time": "2022-11-23T07:46:11.633Z"
   },
   {
    "duration": 85,
    "start_time": "2022-11-23T07:46:11.646Z"
   },
   {
    "duration": 18,
    "start_time": "2022-11-23T07:46:12.639Z"
   },
   {
    "duration": 7,
    "start_time": "2022-11-23T07:46:13.910Z"
   },
   {
    "duration": 16,
    "start_time": "2022-11-23T07:46:14.325Z"
   },
   {
    "duration": 6,
    "start_time": "2022-11-23T07:46:15.148Z"
   },
   {
    "duration": 10,
    "start_time": "2022-11-23T07:46:15.598Z"
   },
   {
    "duration": 5,
    "start_time": "2022-11-23T07:46:16.032Z"
   },
   {
    "duration": 2,
    "start_time": "2022-11-23T07:46:16.455Z"
   },
   {
    "duration": 3,
    "start_time": "2022-11-23T07:46:16.915Z"
   },
   {
    "duration": 5,
    "start_time": "2022-11-23T07:46:17.766Z"
   },
   {
    "duration": 9,
    "start_time": "2022-11-23T07:46:18.192Z"
   },
   {
    "duration": 21,
    "start_time": "2022-11-23T07:46:18.611Z"
   },
   {
    "duration": 8,
    "start_time": "2022-11-23T07:46:18.984Z"
   },
   {
    "duration": 6,
    "start_time": "2022-11-23T07:46:19.492Z"
   },
   {
    "duration": 5,
    "start_time": "2022-11-23T07:46:19.889Z"
   },
   {
    "duration": 439,
    "start_time": "2022-11-23T07:46:20.371Z"
   },
   {
    "duration": 13,
    "start_time": "2022-11-23T07:46:20.816Z"
   },
   {
    "duration": 5,
    "start_time": "2022-11-23T07:46:21.343Z"
   },
   {
    "duration": 14,
    "start_time": "2022-11-23T07:46:27.142Z"
   },
   {
    "duration": 6,
    "start_time": "2022-11-23T07:46:44.652Z"
   },
   {
    "duration": 5,
    "start_time": "2022-11-23T08:01:35.426Z"
   },
   {
    "duration": 5,
    "start_time": "2022-11-23T08:01:35.892Z"
   },
   {
    "duration": 7,
    "start_time": "2022-11-23T08:01:36.410Z"
   },
   {
    "duration": 5,
    "start_time": "2022-11-23T08:01:39.472Z"
   },
   {
    "duration": 5,
    "start_time": "2022-11-23T08:01:39.960Z"
   },
   {
    "duration": 326,
    "start_time": "2022-11-23T08:11:04.729Z"
   },
   {
    "duration": 194,
    "start_time": "2022-11-23T08:12:21.853Z"
   },
   {
    "duration": 176,
    "start_time": "2022-11-23T08:17:03.169Z"
   },
   {
    "duration": 178,
    "start_time": "2022-11-23T08:17:22.872Z"
   },
   {
    "duration": 174,
    "start_time": "2022-11-23T08:17:32.943Z"
   },
   {
    "duration": 282,
    "start_time": "2022-11-23T08:18:01.408Z"
   },
   {
    "duration": 364,
    "start_time": "2022-11-23T08:18:14.992Z"
   },
   {
    "duration": 190,
    "start_time": "2022-11-23T08:20:36.942Z"
   },
   {
    "duration": 212,
    "start_time": "2022-11-23T08:20:47.961Z"
   },
   {
    "duration": 193,
    "start_time": "2022-11-23T08:20:54.592Z"
   },
   {
    "duration": 180,
    "start_time": "2022-11-23T08:21:05.778Z"
   },
   {
    "duration": 173,
    "start_time": "2022-11-23T08:21:22.123Z"
   },
   {
    "duration": 181,
    "start_time": "2022-11-23T08:21:33.929Z"
   },
   {
    "duration": 317,
    "start_time": "2022-11-23T08:21:47.427Z"
   },
   {
    "duration": 172,
    "start_time": "2022-11-23T08:22:00.719Z"
   },
   {
    "duration": 395,
    "start_time": "2022-11-23T08:22:12.041Z"
   },
   {
    "duration": 154,
    "start_time": "2022-11-23T08:24:07.621Z"
   },
   {
    "duration": 214,
    "start_time": "2022-11-23T08:24:21.099Z"
   },
   {
    "duration": 227,
    "start_time": "2022-11-23T08:24:43.914Z"
   },
   {
    "duration": 213,
    "start_time": "2022-11-23T08:24:52.404Z"
   },
   {
    "duration": 201,
    "start_time": "2022-11-23T08:25:09.788Z"
   },
   {
    "duration": 256,
    "start_time": "2022-11-23T08:25:14.694Z"
   },
   {
    "duration": 281,
    "start_time": "2022-11-23T08:25:28.270Z"
   },
   {
    "duration": 345,
    "start_time": "2022-11-23T08:25:41.924Z"
   },
   {
    "duration": 414,
    "start_time": "2022-11-23T08:25:49.505Z"
   },
   {
    "duration": 260,
    "start_time": "2022-11-23T08:26:04.025Z"
   },
   {
    "duration": 166,
    "start_time": "2022-11-23T08:27:21.700Z"
   },
   {
    "duration": 245,
    "start_time": "2022-11-23T08:27:38.038Z"
   },
   {
    "duration": 141,
    "start_time": "2022-11-23T08:27:46.859Z"
   },
   {
    "duration": 159,
    "start_time": "2022-11-23T08:27:53.129Z"
   },
   {
    "duration": 209,
    "start_time": "2022-11-23T08:27:58.392Z"
   },
   {
    "duration": 151,
    "start_time": "2022-11-23T08:28:05.499Z"
   },
   {
    "duration": 137,
    "start_time": "2022-11-23T08:28:09.404Z"
   },
   {
    "duration": 144,
    "start_time": "2022-11-23T08:28:18.853Z"
   },
   {
    "duration": 146,
    "start_time": "2022-11-23T08:28:34.065Z"
   },
   {
    "duration": 203,
    "start_time": "2022-11-23T08:30:00.786Z"
   },
   {
    "duration": 222,
    "start_time": "2022-11-23T08:30:11.487Z"
   },
   {
    "duration": 191,
    "start_time": "2022-11-23T08:30:19.810Z"
   },
   {
    "duration": 228,
    "start_time": "2022-11-23T08:30:24.371Z"
   },
   {
    "duration": 197,
    "start_time": "2022-11-23T08:30:29.123Z"
   },
   {
    "duration": 217,
    "start_time": "2022-11-23T08:30:34.158Z"
   },
   {
    "duration": 267,
    "start_time": "2022-11-23T08:30:45.809Z"
   },
   {
    "duration": 230,
    "start_time": "2022-11-23T08:31:45.888Z"
   },
   {
    "duration": 179,
    "start_time": "2022-11-23T08:31:55.685Z"
   },
   {
    "duration": 177,
    "start_time": "2022-11-23T08:32:18.951Z"
   },
   {
    "duration": 165,
    "start_time": "2022-11-23T08:32:40.979Z"
   },
   {
    "duration": 153,
    "start_time": "2022-11-23T08:33:05.104Z"
   },
   {
    "duration": 750,
    "start_time": "2022-11-23T08:33:47.207Z"
   },
   {
    "duration": 187,
    "start_time": "2022-11-23T08:34:33.477Z"
   },
   {
    "duration": 198,
    "start_time": "2022-11-23T08:34:50.544Z"
   },
   {
    "duration": 155,
    "start_time": "2022-11-23T08:34:58.015Z"
   },
   {
    "duration": 177,
    "start_time": "2022-11-23T08:35:10.251Z"
   },
   {
    "duration": 203,
    "start_time": "2022-11-23T08:35:25.252Z"
   },
   {
    "duration": 288,
    "start_time": "2022-11-23T08:37:03.423Z"
   },
   {
    "duration": 274,
    "start_time": "2022-11-23T08:37:15.684Z"
   },
   {
    "duration": 236,
    "start_time": "2022-11-23T08:37:34.363Z"
   },
   {
    "duration": 255,
    "start_time": "2022-11-23T08:37:56.482Z"
   },
   {
    "duration": 10,
    "start_time": "2022-11-23T08:38:16.429Z"
   },
   {
    "duration": 87,
    "start_time": "2022-11-23T08:40:51.441Z"
   },
   {
    "duration": 15,
    "start_time": "2022-11-23T08:40:51.921Z"
   },
   {
    "duration": 2014,
    "start_time": "2022-11-23T08:40:52.369Z"
   },
   {
    "duration": 10,
    "start_time": "2022-11-23T08:40:54.385Z"
   },
   {
    "duration": 67,
    "start_time": "2022-11-23T08:40:54.396Z"
   },
   {
    "duration": 19,
    "start_time": "2022-11-23T08:40:55.428Z"
   },
   {
    "duration": 7,
    "start_time": "2022-11-23T08:40:56.660Z"
   },
   {
    "duration": 15,
    "start_time": "2022-11-23T08:40:57.063Z"
   },
   {
    "duration": 4,
    "start_time": "2022-11-23T08:40:57.847Z"
   },
   {
    "duration": 10,
    "start_time": "2022-11-23T08:40:58.262Z"
   },
   {
    "duration": 5,
    "start_time": "2022-11-23T08:40:58.646Z"
   },
   {
    "duration": 2,
    "start_time": "2022-11-23T08:40:59.042Z"
   },
   {
    "duration": 5,
    "start_time": "2022-11-23T08:41:00.222Z"
   },
   {
    "duration": 8,
    "start_time": "2022-11-23T08:41:00.634Z"
   },
   {
    "duration": 7,
    "start_time": "2022-11-23T08:41:01.013Z"
   },
   {
    "duration": 14,
    "start_time": "2022-11-23T08:41:01.416Z"
   },
   {
    "duration": 6,
    "start_time": "2022-11-23T08:41:01.806Z"
   },
   {
    "duration": 4,
    "start_time": "2022-11-23T08:41:02.214Z"
   },
   {
    "duration": 5,
    "start_time": "2022-11-23T08:41:06.572Z"
   },
   {
    "duration": 5,
    "start_time": "2022-11-23T08:41:07.035Z"
   },
   {
    "duration": 335,
    "start_time": "2022-11-23T08:41:09.105Z"
   },
   {
    "duration": 268,
    "start_time": "2022-11-23T08:41:09.608Z"
   },
   {
    "duration": 224,
    "start_time": "2022-11-23T08:41:10.321Z"
   },
   {
    "duration": 303,
    "start_time": "2022-11-23T08:41:10.833Z"
   },
   {
    "duration": 258,
    "start_time": "2022-11-23T08:41:11.138Z"
   },
   {
    "duration": 147,
    "start_time": "2022-11-23T08:41:11.479Z"
   },
   {
    "duration": 169,
    "start_time": "2022-11-23T08:41:11.919Z"
   },
   {
    "duration": 2,
    "start_time": "2022-11-23T08:41:12.360Z"
   },
   {
    "duration": 160,
    "start_time": "2022-11-23T08:41:12.809Z"
   },
   {
    "duration": 202,
    "start_time": "2022-11-23T08:41:13.243Z"
   },
   {
    "duration": 5,
    "start_time": "2022-11-23T08:41:13.688Z"
   },
   {
    "duration": 3,
    "start_time": "2022-11-23T08:41:14.116Z"
   },
   {
    "duration": 147,
    "start_time": "2022-11-23T08:44:42.581Z"
   },
   {
    "duration": 129,
    "start_time": "2022-11-23T08:45:05.073Z"
   },
   {
    "duration": 142,
    "start_time": "2022-11-23T08:45:14.349Z"
   },
   {
    "duration": 153,
    "start_time": "2022-11-23T08:45:22.768Z"
   },
   {
    "duration": 158,
    "start_time": "2022-11-23T08:45:28.524Z"
   },
   {
    "duration": 174,
    "start_time": "2022-11-23T08:47:48.800Z"
   },
   {
    "duration": 54,
    "start_time": "2022-11-23T08:48:51.802Z"
   },
   {
    "duration": 66,
    "start_time": "2022-11-23T08:49:09.371Z"
   },
   {
    "duration": 265,
    "start_time": "2022-11-23T08:49:16.437Z"
   },
   {
    "duration": 218,
    "start_time": "2022-11-23T08:49:26.435Z"
   },
   {
    "duration": 386,
    "start_time": "2022-11-23T08:49:36.260Z"
   },
   {
    "duration": 329,
    "start_time": "2022-11-23T08:49:43.219Z"
   },
   {
    "duration": 214,
    "start_time": "2022-11-23T08:50:02.923Z"
   },
   {
    "duration": 90,
    "start_time": "2022-11-23T08:50:12.690Z"
   },
   {
    "duration": 15,
    "start_time": "2022-11-23T08:50:13.077Z"
   },
   {
    "duration": 2080,
    "start_time": "2022-11-23T08:50:13.436Z"
   },
   {
    "duration": 10,
    "start_time": "2022-11-23T08:50:15.518Z"
   },
   {
    "duration": 61,
    "start_time": "2022-11-23T08:50:15.530Z"
   },
   {
    "duration": 16,
    "start_time": "2022-11-23T08:50:15.651Z"
   },
   {
    "duration": 6,
    "start_time": "2022-11-23T08:50:16.699Z"
   },
   {
    "duration": 17,
    "start_time": "2022-11-23T08:50:17.013Z"
   },
   {
    "duration": 5,
    "start_time": "2022-11-23T08:50:17.881Z"
   },
   {
    "duration": 11,
    "start_time": "2022-11-23T08:50:18.238Z"
   },
   {
    "duration": 6,
    "start_time": "2022-11-23T08:50:18.591Z"
   },
   {
    "duration": 3,
    "start_time": "2022-11-23T08:50:18.926Z"
   },
   {
    "duration": 4,
    "start_time": "2022-11-23T08:50:20.031Z"
   },
   {
    "duration": 8,
    "start_time": "2022-11-23T08:50:20.404Z"
   },
   {
    "duration": 7,
    "start_time": "2022-11-23T08:50:20.773Z"
   },
   {
    "duration": 6,
    "start_time": "2022-11-23T08:50:21.117Z"
   },
   {
    "duration": 7,
    "start_time": "2022-11-23T08:50:21.448Z"
   },
   {
    "duration": 3,
    "start_time": "2022-11-23T08:50:21.779Z"
   },
   {
    "duration": 5,
    "start_time": "2022-11-23T08:50:22.100Z"
   },
   {
    "duration": 5,
    "start_time": "2022-11-23T08:50:22.567Z"
   },
   {
    "duration": 299,
    "start_time": "2022-11-23T08:50:23.720Z"
   },
   {
    "duration": 284,
    "start_time": "2022-11-23T08:50:24.128Z"
   },
   {
    "duration": 204,
    "start_time": "2022-11-23T08:50:24.502Z"
   },
   {
    "duration": 421,
    "start_time": "2022-11-23T08:50:24.880Z"
   },
   {
    "duration": 154,
    "start_time": "2022-11-23T08:50:25.303Z"
   },
   {
    "duration": 152,
    "start_time": "2022-11-23T08:50:25.656Z"
   },
   {
    "duration": 185,
    "start_time": "2022-11-23T08:50:26.067Z"
   },
   {
    "duration": 3,
    "start_time": "2022-11-23T08:50:26.467Z"
   },
   {
    "duration": 165,
    "start_time": "2022-11-23T08:50:27.595Z"
   },
   {
    "duration": 179,
    "start_time": "2022-11-23T08:50:28.121Z"
   },
   {
    "duration": 222,
    "start_time": "2022-11-23T08:50:28.609Z"
   },
   {
    "duration": 181,
    "start_time": "2022-11-23T08:50:29.256Z"
   },
   {
    "duration": 209,
    "start_time": "2022-11-23T08:51:12.716Z"
   },
   {
    "duration": 214,
    "start_time": "2022-11-23T08:51:30.376Z"
   },
   {
    "duration": 216,
    "start_time": "2022-11-23T08:51:37.252Z"
   },
   {
    "duration": 260,
    "start_time": "2022-11-23T08:51:44.071Z"
   },
   {
    "duration": 216,
    "start_time": "2022-11-23T08:51:45.052Z"
   },
   {
    "duration": 174,
    "start_time": "2022-11-23T08:52:35.796Z"
   },
   {
    "duration": 174,
    "start_time": "2022-11-23T08:53:30.653Z"
   },
   {
    "duration": 178,
    "start_time": "2022-11-23T08:53:42.270Z"
   },
   {
    "duration": 226,
    "start_time": "2022-11-23T08:53:56.332Z"
   },
   {
    "duration": 202,
    "start_time": "2022-11-23T08:53:59.213Z"
   },
   {
    "duration": 167,
    "start_time": "2022-11-23T08:54:02.236Z"
   },
   {
    "duration": 98,
    "start_time": "2022-11-23T08:54:14.861Z"
   },
   {
    "duration": 16,
    "start_time": "2022-11-23T08:54:15.310Z"
   },
   {
    "duration": 2124,
    "start_time": "2022-11-23T08:54:15.867Z"
   },
   {
    "duration": 18,
    "start_time": "2022-11-23T08:54:17.994Z"
   },
   {
    "duration": 59,
    "start_time": "2022-11-23T08:54:18.014Z"
   },
   {
    "duration": 18,
    "start_time": "2022-11-23T08:54:18.950Z"
   },
   {
    "duration": 6,
    "start_time": "2022-11-23T08:54:20.240Z"
   },
   {
    "duration": 16,
    "start_time": "2022-11-23T08:54:20.652Z"
   },
   {
    "duration": 5,
    "start_time": "2022-11-23T08:54:21.505Z"
   },
   {
    "duration": 9,
    "start_time": "2022-11-23T08:54:21.892Z"
   },
   {
    "duration": 5,
    "start_time": "2022-11-23T08:54:22.308Z"
   },
   {
    "duration": 2,
    "start_time": "2022-11-23T08:54:22.693Z"
   },
   {
    "duration": 4,
    "start_time": "2022-11-23T08:54:23.848Z"
   },
   {
    "duration": 7,
    "start_time": "2022-11-23T08:54:24.200Z"
   },
   {
    "duration": 7,
    "start_time": "2022-11-23T08:54:24.574Z"
   },
   {
    "duration": 7,
    "start_time": "2022-11-23T08:54:24.935Z"
   },
   {
    "duration": 6,
    "start_time": "2022-11-23T08:54:25.241Z"
   },
   {
    "duration": 4,
    "start_time": "2022-11-23T08:54:25.547Z"
   },
   {
    "duration": 4,
    "start_time": "2022-11-23T08:54:25.929Z"
   },
   {
    "duration": 5,
    "start_time": "2022-11-23T08:54:26.297Z"
   },
   {
    "duration": 286,
    "start_time": "2022-11-23T08:54:27.416Z"
   },
   {
    "duration": 252,
    "start_time": "2022-11-23T08:54:27.809Z"
   },
   {
    "duration": 190,
    "start_time": "2022-11-23T08:54:28.181Z"
   },
   {
    "duration": 366,
    "start_time": "2022-11-23T08:54:28.548Z"
   },
   {
    "duration": 143,
    "start_time": "2022-11-23T08:54:28.916Z"
   },
   {
    "duration": 164,
    "start_time": "2022-11-23T08:54:29.266Z"
   },
   {
    "duration": 177,
    "start_time": "2022-11-23T08:54:29.608Z"
   },
   {
    "duration": 2,
    "start_time": "2022-11-23T08:54:29.962Z"
   },
   {
    "duration": 163,
    "start_time": "2022-11-23T08:54:30.339Z"
   },
   {
    "duration": 165,
    "start_time": "2022-11-23T08:54:31.823Z"
   },
   {
    "duration": 223,
    "start_time": "2022-11-23T08:54:32.325Z"
   },
   {
    "duration": 170,
    "start_time": "2022-11-23T08:54:32.747Z"
   },
   {
    "duration": 3,
    "start_time": "2022-11-23T08:54:33.214Z"
   },
   {
    "duration": 265,
    "start_time": "2022-11-23T08:54:55.740Z"
   },
   {
    "duration": 6,
    "start_time": "2022-11-23T08:55:29.737Z"
   },
   {
    "duration": 4,
    "start_time": "2022-11-23T08:56:07.906Z"
   },
   {
    "duration": 375,
    "start_time": "2022-11-23T08:56:09.467Z"
   },
   {
    "duration": 260,
    "start_time": "2022-11-23T08:56:09.876Z"
   },
   {
    "duration": 207,
    "start_time": "2022-11-23T08:56:10.265Z"
   },
   {
    "duration": 301,
    "start_time": "2022-11-23T08:56:10.696Z"
   },
   {
    "duration": 142,
    "start_time": "2022-11-23T08:56:11.101Z"
   },
   {
    "duration": 155,
    "start_time": "2022-11-23T08:56:11.569Z"
   },
   {
    "duration": 174,
    "start_time": "2022-11-23T08:56:11.970Z"
   },
   {
    "duration": 2,
    "start_time": "2022-11-23T08:56:12.413Z"
   },
   {
    "duration": 155,
    "start_time": "2022-11-23T08:56:12.853Z"
   },
   {
    "duration": 168,
    "start_time": "2022-11-23T08:56:13.335Z"
   },
   {
    "duration": 319,
    "start_time": "2022-11-23T08:56:13.828Z"
   },
   {
    "duration": 185,
    "start_time": "2022-11-23T08:56:14.313Z"
   },
   {
    "duration": 211,
    "start_time": "2022-11-23T08:56:23.671Z"
   },
   {
    "duration": 230,
    "start_time": "2022-11-23T08:56:27.065Z"
   },
   {
    "duration": 196,
    "start_time": "2022-11-23T08:56:38.090Z"
   },
   {
    "duration": 178,
    "start_time": "2022-11-23T08:56:41.877Z"
   },
   {
    "duration": 90,
    "start_time": "2022-11-23T08:56:49.884Z"
   },
   {
    "duration": 15,
    "start_time": "2022-11-23T08:56:50.301Z"
   },
   {
    "duration": 2064,
    "start_time": "2022-11-23T08:56:50.655Z"
   },
   {
    "duration": 10,
    "start_time": "2022-11-23T08:56:52.721Z"
   },
   {
    "duration": 79,
    "start_time": "2022-11-23T08:56:52.733Z"
   },
   {
    "duration": 16,
    "start_time": "2022-11-23T08:56:53.577Z"
   },
   {
    "duration": 7,
    "start_time": "2022-11-23T08:56:54.890Z"
   },
   {
    "duration": 16,
    "start_time": "2022-11-23T08:56:55.265Z"
   },
   {
    "duration": 5,
    "start_time": "2022-11-23T08:56:56.081Z"
   },
   {
    "duration": 12,
    "start_time": "2022-11-23T08:56:56.474Z"
   },
   {
    "duration": 6,
    "start_time": "2022-11-23T08:56:56.864Z"
   },
   {
    "duration": 2,
    "start_time": "2022-11-23T08:56:57.214Z"
   },
   {
    "duration": 4,
    "start_time": "2022-11-23T08:56:58.408Z"
   },
   {
    "duration": 9,
    "start_time": "2022-11-23T08:56:58.816Z"
   },
   {
    "duration": 7,
    "start_time": "2022-11-23T08:56:59.181Z"
   },
   {
    "duration": 6,
    "start_time": "2022-11-23T08:56:59.592Z"
   },
   {
    "duration": 7,
    "start_time": "2022-11-23T08:56:59.988Z"
   },
   {
    "duration": 4,
    "start_time": "2022-11-23T08:57:00.348Z"
   },
   {
    "duration": 5,
    "start_time": "2022-11-23T08:57:00.770Z"
   },
   {
    "duration": 5,
    "start_time": "2022-11-23T08:57:01.134Z"
   },
   {
    "duration": 5,
    "start_time": "2022-11-23T08:57:01.541Z"
   },
   {
    "duration": 290,
    "start_time": "2022-11-23T08:57:02.729Z"
   },
   {
    "duration": 262,
    "start_time": "2022-11-23T08:57:03.124Z"
   },
   {
    "duration": 202,
    "start_time": "2022-11-23T08:57:03.526Z"
   },
   {
    "duration": 301,
    "start_time": "2022-11-23T08:57:03.938Z"
   },
   {
    "duration": 238,
    "start_time": "2022-11-23T08:57:04.371Z"
   },
   {
    "duration": 169,
    "start_time": "2022-11-23T08:57:04.805Z"
   },
   {
    "duration": 180,
    "start_time": "2022-11-23T08:57:05.225Z"
   },
   {
    "duration": 3,
    "start_time": "2022-11-23T08:57:05.620Z"
   },
   {
    "duration": 175,
    "start_time": "2022-11-23T08:57:06.084Z"
   },
   {
    "duration": 194,
    "start_time": "2022-11-23T08:57:06.801Z"
   },
   {
    "duration": 215,
    "start_time": "2022-11-23T08:57:07.299Z"
   },
   {
    "duration": 193,
    "start_time": "2022-11-23T08:57:07.769Z"
   },
   {
    "duration": 2,
    "start_time": "2022-11-23T08:57:08.402Z"
   },
   {
    "duration": 158,
    "start_time": "2022-11-23T08:59:08.956Z"
   },
   {
    "duration": 165,
    "start_time": "2022-11-23T08:59:22.864Z"
   },
   {
    "duration": 168,
    "start_time": "2022-11-23T08:59:32.230Z"
   },
   {
    "duration": 187,
    "start_time": "2022-11-23T08:59:43.045Z"
   },
   {
    "duration": 262,
    "start_time": "2022-11-23T08:59:49.820Z"
   },
   {
    "duration": 190,
    "start_time": "2022-11-23T09:00:12.272Z"
   },
   {
    "duration": 174,
    "start_time": "2022-11-23T09:01:01.902Z"
   },
   {
    "duration": 170,
    "start_time": "2022-11-23T09:01:16.183Z"
   },
   {
    "duration": 170,
    "start_time": "2022-11-23T09:01:25.615Z"
   },
   {
    "duration": 178,
    "start_time": "2022-11-23T09:01:31.946Z"
   },
   {
    "duration": 290,
    "start_time": "2022-11-23T09:02:21.816Z"
   },
   {
    "duration": 262,
    "start_time": "2022-11-23T09:04:30.152Z"
   },
   {
    "duration": 348,
    "start_time": "2022-11-23T09:04:34.419Z"
   },
   {
    "duration": 209,
    "start_time": "2022-11-23T09:08:51.032Z"
   },
   {
    "duration": 304,
    "start_time": "2022-11-23T09:11:15.640Z"
   },
   {
    "duration": 134,
    "start_time": "2022-11-23T09:14:35.974Z"
   },
   {
    "duration": 151,
    "start_time": "2022-11-23T09:17:54.897Z"
   },
   {
    "duration": 184,
    "start_time": "2022-11-23T09:19:15.647Z"
   },
   {
    "duration": 4,
    "start_time": "2022-11-23T09:28:45.580Z"
   },
   {
    "duration": 4,
    "start_time": "2022-11-23T09:29:06.210Z"
   },
   {
    "duration": 3,
    "start_time": "2022-11-23T09:31:38.720Z"
   },
   {
    "duration": 317,
    "start_time": "2022-11-23T09:33:10.043Z"
   },
   {
    "duration": 4,
    "start_time": "2022-11-23T09:33:10.691Z"
   },
   {
    "duration": 5,
    "start_time": "2022-11-23T09:33:11.232Z"
   },
   {
    "duration": 4,
    "start_time": "2022-11-23T09:33:11.860Z"
   },
   {
    "duration": 383,
    "start_time": "2022-11-23T09:33:13.034Z"
   },
   {
    "duration": 262,
    "start_time": "2022-11-23T09:33:13.630Z"
   },
   {
    "duration": 218,
    "start_time": "2022-11-23T09:33:14.215Z"
   },
   {
    "duration": 325,
    "start_time": "2022-11-23T09:33:14.748Z"
   },
   {
    "duration": 141,
    "start_time": "2022-11-23T09:33:15.228Z"
   },
   {
    "duration": 152,
    "start_time": "2022-11-23T09:33:15.682Z"
   },
   {
    "duration": 171,
    "start_time": "2022-11-23T09:33:21.049Z"
   },
   {
    "duration": 17,
    "start_time": "2022-11-23T09:33:48.825Z"
   },
   {
    "duration": 90,
    "start_time": "2022-11-23T09:34:11.382Z"
   },
   {
    "duration": 16,
    "start_time": "2022-11-23T09:34:11.846Z"
   },
   {
    "duration": 2025,
    "start_time": "2022-11-23T09:34:12.253Z"
   },
   {
    "duration": 10,
    "start_time": "2022-11-23T09:34:14.280Z"
   },
   {
    "duration": 74,
    "start_time": "2022-11-23T09:34:14.292Z"
   },
   {
    "duration": 15,
    "start_time": "2022-11-23T09:34:15.145Z"
   },
   {
    "duration": 6,
    "start_time": "2022-11-23T09:34:16.346Z"
   },
   {
    "duration": 18,
    "start_time": "2022-11-23T09:34:16.770Z"
   },
   {
    "duration": 4,
    "start_time": "2022-11-23T09:34:17.581Z"
   },
   {
    "duration": 8,
    "start_time": "2022-11-23T09:34:17.972Z"
   },
   {
    "duration": 5,
    "start_time": "2022-11-23T09:34:18.369Z"
   },
   {
    "duration": 3,
    "start_time": "2022-11-23T09:34:18.729Z"
   },
   {
    "duration": 4,
    "start_time": "2022-11-23T09:34:19.869Z"
   },
   {
    "duration": 9,
    "start_time": "2022-11-23T09:34:20.235Z"
   },
   {
    "duration": 6,
    "start_time": "2022-11-23T09:34:20.571Z"
   },
   {
    "duration": 6,
    "start_time": "2022-11-23T09:34:20.973Z"
   },
   {
    "duration": 6,
    "start_time": "2022-11-23T09:34:21.343Z"
   },
   {
    "duration": 4,
    "start_time": "2022-11-23T09:34:21.691Z"
   },
   {
    "duration": 274,
    "start_time": "2022-11-23T09:34:22.096Z"
   },
   {
    "duration": 4,
    "start_time": "2022-11-23T09:34:22.470Z"
   },
   {
    "duration": 5,
    "start_time": "2022-11-23T09:34:22.869Z"
   },
   {
    "duration": 5,
    "start_time": "2022-11-23T09:34:23.298Z"
   },
   {
    "duration": 385,
    "start_time": "2022-11-23T09:34:24.474Z"
   },
   {
    "duration": 260,
    "start_time": "2022-11-23T09:34:25.272Z"
   },
   {
    "duration": 216,
    "start_time": "2022-11-23T09:34:26.070Z"
   },
   {
    "duration": 286,
    "start_time": "2022-11-23T09:34:26.858Z"
   },
   {
    "duration": 142,
    "start_time": "2022-11-23T09:34:27.651Z"
   },
   {
    "duration": 158,
    "start_time": "2022-11-23T09:34:28.541Z"
   },
   {
    "duration": 191,
    "start_time": "2022-11-23T09:34:29.300Z"
   },
   {
    "duration": 18,
    "start_time": "2022-11-23T09:34:30.172Z"
   },
   {
    "duration": 153,
    "start_time": "2022-11-23T09:34:31.121Z"
   },
   {
    "duration": 383,
    "start_time": "2022-11-23T09:35:01.923Z"
   },
   {
    "duration": 5,
    "start_time": "2022-11-23T09:35:15.291Z"
   },
   {
    "duration": 9,
    "start_time": "2022-11-23T09:39:23.232Z"
   },
   {
    "duration": 75,
    "start_time": "2022-11-23T09:43:51.344Z"
   },
   {
    "duration": 83,
    "start_time": "2022-11-23T09:45:02.222Z"
   },
   {
    "duration": 144,
    "start_time": "2022-11-23T09:45:16.733Z"
   },
   {
    "duration": 137,
    "start_time": "2022-11-23T09:45:32.227Z"
   },
   {
    "duration": 62,
    "start_time": "2022-11-23T09:47:00.433Z"
   },
   {
    "duration": 3,
    "start_time": "2022-11-23T09:47:16.664Z"
   },
   {
    "duration": 5,
    "start_time": "2022-11-23T09:48:06.164Z"
   },
   {
    "duration": 170,
    "start_time": "2022-11-23T09:53:31.492Z"
   },
   {
    "duration": 184,
    "start_time": "2022-11-23T09:53:48.231Z"
   },
   {
    "duration": 323,
    "start_time": "2022-11-23T09:54:03.883Z"
   },
   {
    "duration": 421,
    "start_time": "2022-11-23T09:54:21.867Z"
   },
   {
    "duration": 520,
    "start_time": "2022-11-23T09:54:30.594Z"
   },
   {
    "duration": 4,
    "start_time": "2022-11-23T09:56:03.220Z"
   },
   {
    "duration": 5,
    "start_time": "2022-11-23T09:56:12.865Z"
   },
   {
    "duration": 13,
    "start_time": "2022-11-23T10:09:22.985Z"
   },
   {
    "duration": 11,
    "start_time": "2022-11-23T10:14:42.086Z"
   },
   {
    "duration": 1015,
    "start_time": "2022-11-23T10:20:16.581Z"
   },
   {
    "duration": 149,
    "start_time": "2022-11-23T10:20:32.728Z"
   },
   {
    "duration": 172,
    "start_time": "2022-11-23T10:22:58.416Z"
   },
   {
    "duration": 163,
    "start_time": "2022-11-23T10:24:46.518Z"
   },
   {
    "duration": 1007,
    "start_time": "2022-11-23T10:25:05.773Z"
   },
   {
    "duration": 5,
    "start_time": "2022-11-23T10:25:12.255Z"
   },
   {
    "duration": 4,
    "start_time": "2022-11-23T10:26:17.985Z"
   },
   {
    "duration": 152,
    "start_time": "2022-11-23T10:31:31.235Z"
   },
   {
    "duration": 161,
    "start_time": "2022-11-23T10:32:51.612Z"
   },
   {
    "duration": 159,
    "start_time": "2022-11-23T10:33:04.532Z"
   },
   {
    "duration": 280,
    "start_time": "2022-11-23T10:43:02.561Z"
   },
   {
    "duration": 150,
    "start_time": "2022-11-23T10:43:24.978Z"
   },
   {
    "duration": 365,
    "start_time": "2022-11-23T10:44:19.981Z"
   },
   {
    "duration": 910,
    "start_time": "2022-11-23T10:44:30.631Z"
   },
   {
    "duration": 228,
    "start_time": "2022-11-23T10:44:48.323Z"
   },
   {
    "duration": 222,
    "start_time": "2022-11-23T10:44:53.859Z"
   },
   {
    "duration": 155,
    "start_time": "2022-11-23T10:45:29.096Z"
   },
   {
    "duration": 146,
    "start_time": "2022-11-23T10:45:34.021Z"
   },
   {
    "duration": 144,
    "start_time": "2022-11-23T10:52:11.303Z"
   },
   {
    "duration": 147,
    "start_time": "2022-11-23T10:52:27.590Z"
   },
   {
    "duration": 161,
    "start_time": "2022-11-23T10:52:48.953Z"
   },
   {
    "duration": 167,
    "start_time": "2022-11-23T10:52:57.456Z"
   },
   {
    "duration": 144,
    "start_time": "2022-11-23T10:53:08.483Z"
   },
   {
    "duration": 149,
    "start_time": "2022-11-23T10:53:38.070Z"
   },
   {
    "duration": 147,
    "start_time": "2022-11-23T10:53:52.317Z"
   },
   {
    "duration": 144,
    "start_time": "2022-11-23T10:54:03.616Z"
   },
   {
    "duration": 222,
    "start_time": "2022-11-23T10:54:14.816Z"
   },
   {
    "duration": 147,
    "start_time": "2022-11-23T10:55:30.955Z"
   },
   {
    "duration": 100,
    "start_time": "2022-11-23T10:55:44.624Z"
   },
   {
    "duration": 17,
    "start_time": "2022-11-23T10:55:45.082Z"
   },
   {
    "duration": 2179,
    "start_time": "2022-11-23T10:55:45.556Z"
   },
   {
    "duration": 10,
    "start_time": "2022-11-23T10:55:47.736Z"
   },
   {
    "duration": 197,
    "start_time": "2022-11-23T10:55:47.748Z"
   },
   {
    "duration": 16,
    "start_time": "2022-11-23T10:55:48.462Z"
   },
   {
    "duration": 7,
    "start_time": "2022-11-23T10:55:49.694Z"
   },
   {
    "duration": 16,
    "start_time": "2022-11-23T10:55:50.100Z"
   },
   {
    "duration": 5,
    "start_time": "2022-11-23T10:55:50.927Z"
   },
   {
    "duration": 10,
    "start_time": "2022-11-23T10:55:51.316Z"
   },
   {
    "duration": 5,
    "start_time": "2022-11-23T10:55:51.727Z"
   },
   {
    "duration": 3,
    "start_time": "2022-11-23T10:55:52.120Z"
   },
   {
    "duration": 4,
    "start_time": "2022-11-23T10:55:53.325Z"
   },
   {
    "duration": 9,
    "start_time": "2022-11-23T10:55:53.693Z"
   },
   {
    "duration": 7,
    "start_time": "2022-11-23T10:55:54.100Z"
   },
   {
    "duration": 6,
    "start_time": "2022-11-23T10:55:54.447Z"
   },
   {
    "duration": 7,
    "start_time": "2022-11-23T10:55:54.839Z"
   },
   {
    "duration": 4,
    "start_time": "2022-11-23T10:55:55.255Z"
   },
   {
    "duration": 289,
    "start_time": "2022-11-23T10:55:55.629Z"
   },
   {
    "duration": 5,
    "start_time": "2022-11-23T10:55:55.998Z"
   },
   {
    "duration": 5,
    "start_time": "2022-11-23T10:55:56.368Z"
   },
   {
    "duration": 5,
    "start_time": "2022-11-23T10:55:56.726Z"
   },
   {
    "duration": 307,
    "start_time": "2022-11-23T10:55:57.890Z"
   },
   {
    "duration": 270,
    "start_time": "2022-11-23T10:55:58.647Z"
   },
   {
    "duration": 205,
    "start_time": "2022-11-23T10:55:59.389Z"
   },
   {
    "duration": 313,
    "start_time": "2022-11-23T10:56:00.174Z"
   },
   {
    "duration": 142,
    "start_time": "2022-11-23T10:56:00.964Z"
   },
   {
    "duration": 241,
    "start_time": "2022-11-23T10:56:01.779Z"
   },
   {
    "duration": 180,
    "start_time": "2022-11-23T10:56:02.582Z"
   },
   {
    "duration": 5,
    "start_time": "2022-11-23T10:56:03.433Z"
   },
   {
    "duration": 183,
    "start_time": "2022-11-23T10:56:03.873Z"
   },
   {
    "duration": 173,
    "start_time": "2022-11-23T10:56:04.267Z"
   },
   {
    "duration": 231,
    "start_time": "2022-11-23T10:56:04.694Z"
   },
   {
    "duration": 170,
    "start_time": "2022-11-23T10:56:05.081Z"
   },
   {
    "duration": 186,
    "start_time": "2022-11-23T10:56:05.529Z"
   },
   {
    "duration": 175,
    "start_time": "2022-11-23T10:56:05.928Z"
   },
   {
    "duration": 2,
    "start_time": "2022-11-23T10:56:06.380Z"
   },
   {
    "duration": 431,
    "start_time": "2022-11-23T10:56:07.275Z"
   },
   {
    "duration": 4,
    "start_time": "2022-11-23T10:56:07.759Z"
   },
   {
    "duration": 237,
    "start_time": "2022-11-23T10:56:09.660Z"
   },
   {
    "duration": 2,
    "start_time": "2022-11-23T10:56:10.332Z"
   },
   {
    "duration": 157,
    "start_time": "2022-11-23T10:58:17.791Z"
   },
   {
    "duration": 145,
    "start_time": "2022-11-23T11:03:07.401Z"
   },
   {
    "duration": 148,
    "start_time": "2022-11-23T11:04:19.926Z"
   },
   {
    "duration": 156,
    "start_time": "2022-11-23T11:08:35.790Z"
   },
   {
    "duration": 161,
    "start_time": "2022-11-23T11:09:13.482Z"
   },
   {
    "duration": 162,
    "start_time": "2022-11-23T11:09:42.523Z"
   },
   {
    "duration": 169,
    "start_time": "2022-11-23T11:11:06.020Z"
   },
   {
    "duration": 134,
    "start_time": "2022-11-23T11:12:09.823Z"
   },
   {
    "duration": 141,
    "start_time": "2022-11-23T11:17:34.582Z"
   },
   {
    "duration": 139,
    "start_time": "2022-11-23T11:18:13.649Z"
   },
   {
    "duration": 207,
    "start_time": "2022-11-23T11:18:45.606Z"
   },
   {
    "duration": 133,
    "start_time": "2022-11-23T11:19:46.331Z"
   },
   {
    "duration": 121,
    "start_time": "2022-11-23T11:20:37.288Z"
   },
   {
    "duration": 65,
    "start_time": "2022-11-23T11:29:01.501Z"
   },
   {
    "duration": 42,
    "start_time": "2022-11-23T11:29:07.375Z"
   },
   {
    "duration": 22,
    "start_time": "2022-11-23T11:31:53.403Z"
   },
   {
    "duration": 96,
    "start_time": "2022-11-23T11:35:24.039Z"
   },
   {
    "duration": 15,
    "start_time": "2022-11-23T11:35:24.496Z"
   },
   {
    "duration": 2173,
    "start_time": "2022-11-23T11:35:24.905Z"
   },
   {
    "duration": 10,
    "start_time": "2022-11-23T11:35:27.080Z"
   },
   {
    "duration": 77,
    "start_time": "2022-11-23T11:35:27.091Z"
   },
   {
    "duration": 19,
    "start_time": "2022-11-23T11:35:27.415Z"
   },
   {
    "duration": 7,
    "start_time": "2022-11-23T11:35:28.406Z"
   },
   {
    "duration": 24,
    "start_time": "2022-11-23T11:35:28.752Z"
   },
   {
    "duration": 4,
    "start_time": "2022-11-23T11:35:29.454Z"
   },
   {
    "duration": 10,
    "start_time": "2022-11-23T11:35:29.788Z"
   },
   {
    "duration": 7,
    "start_time": "2022-11-23T11:35:30.119Z"
   },
   {
    "duration": 3,
    "start_time": "2022-11-23T11:35:30.471Z"
   },
   {
    "duration": 4,
    "start_time": "2022-11-23T11:35:31.450Z"
   },
   {
    "duration": 8,
    "start_time": "2022-11-23T11:35:31.771Z"
   },
   {
    "duration": 7,
    "start_time": "2022-11-23T11:35:32.139Z"
   },
   {
    "duration": 6,
    "start_time": "2022-11-23T11:35:32.472Z"
   },
   {
    "duration": 6,
    "start_time": "2022-11-23T11:35:32.804Z"
   },
   {
    "duration": 4,
    "start_time": "2022-11-23T11:35:33.169Z"
   },
   {
    "duration": 308,
    "start_time": "2022-11-23T11:35:33.503Z"
   },
   {
    "duration": 5,
    "start_time": "2022-11-23T11:35:33.848Z"
   },
   {
    "duration": 5,
    "start_time": "2022-11-23T11:35:34.177Z"
   },
   {
    "duration": 5,
    "start_time": "2022-11-23T11:35:34.503Z"
   },
   {
    "duration": 291,
    "start_time": "2022-11-23T11:35:35.565Z"
   },
   {
    "duration": 295,
    "start_time": "2022-11-23T11:35:36.250Z"
   },
   {
    "duration": 204,
    "start_time": "2022-11-23T11:35:36.956Z"
   },
   {
    "duration": 302,
    "start_time": "2022-11-23T11:35:37.595Z"
   },
   {
    "duration": 264,
    "start_time": "2022-11-23T11:35:38.268Z"
   },
   {
    "duration": 150,
    "start_time": "2022-11-23T11:35:38.967Z"
   },
   {
    "duration": 178,
    "start_time": "2022-11-23T11:35:39.648Z"
   },
   {
    "duration": 5,
    "start_time": "2022-11-23T11:35:40.371Z"
   },
   {
    "duration": 171,
    "start_time": "2022-11-23T11:35:40.712Z"
   },
   {
    "duration": 179,
    "start_time": "2022-11-23T11:35:41.085Z"
   },
   {
    "duration": 216,
    "start_time": "2022-11-23T11:35:41.415Z"
   },
   {
    "duration": 170,
    "start_time": "2022-11-23T11:35:41.736Z"
   },
   {
    "duration": 179,
    "start_time": "2022-11-23T11:35:42.032Z"
   },
   {
    "duration": 178,
    "start_time": "2022-11-23T11:35:42.402Z"
   },
   {
    "duration": 3,
    "start_time": "2022-11-23T11:35:42.805Z"
   },
   {
    "duration": 514,
    "start_time": "2022-11-23T11:35:43.560Z"
   },
   {
    "duration": 4,
    "start_time": "2022-11-23T11:35:44.076Z"
   },
   {
    "duration": 139,
    "start_time": "2022-11-23T11:35:45.352Z"
   },
   {
    "duration": 150,
    "start_time": "2022-11-23T11:35:45.713Z"
   },
   {
    "duration": 141,
    "start_time": "2022-11-23T11:35:46.062Z"
   },
   {
    "duration": 203,
    "start_time": "2022-11-23T11:35:46.455Z"
   },
   {
    "duration": 143,
    "start_time": "2022-11-23T11:35:46.810Z"
   },
   {
    "duration": 131,
    "start_time": "2022-11-23T11:35:47.159Z"
   },
   {
    "duration": 136,
    "start_time": "2022-11-23T11:35:47.540Z"
   },
   {
    "duration": 16,
    "start_time": "2022-11-23T11:35:47.931Z"
   },
   {
    "duration": 24,
    "start_time": "2022-11-23T11:35:48.628Z"
   },
   {
    "duration": 19,
    "start_time": "2022-11-23T11:35:49.414Z"
   },
   {
    "duration": 148,
    "start_time": "2022-11-23T11:36:02.496Z"
   },
   {
    "duration": 152,
    "start_time": "2022-11-23T11:39:03.701Z"
   },
   {
    "duration": 156,
    "start_time": "2022-11-23T11:40:10.198Z"
   },
   {
    "duration": 16,
    "start_time": "2022-11-23T11:42:17.055Z"
   },
   {
    "duration": 222,
    "start_time": "2022-11-23T11:42:26.076Z"
   },
   {
    "duration": 84,
    "start_time": "2022-11-23T20:50:19.946Z"
   },
   {
    "duration": 15,
    "start_time": "2022-11-23T20:50:20.718Z"
   },
   {
    "duration": 1838,
    "start_time": "2022-11-23T20:50:21.216Z"
   },
   {
    "duration": 9,
    "start_time": "2022-11-23T20:50:23.409Z"
   },
   {
    "duration": 57,
    "start_time": "2022-11-23T20:50:23.970Z"
   },
   {
    "duration": 15,
    "start_time": "2022-11-23T20:50:25.413Z"
   },
   {
    "duration": 6,
    "start_time": "2022-11-23T20:50:26.809Z"
   },
   {
    "duration": 15,
    "start_time": "2022-11-23T20:50:27.237Z"
   },
   {
    "duration": 5,
    "start_time": "2022-11-23T20:50:28.183Z"
   },
   {
    "duration": 9,
    "start_time": "2022-11-23T20:50:28.696Z"
   },
   {
    "duration": 5,
    "start_time": "2022-11-23T20:50:29.121Z"
   },
   {
    "duration": 2,
    "start_time": "2022-11-23T20:50:29.619Z"
   },
   {
    "duration": 5,
    "start_time": "2022-11-23T20:50:30.919Z"
   },
   {
    "duration": 8,
    "start_time": "2022-11-23T20:50:31.309Z"
   },
   {
    "duration": 7,
    "start_time": "2022-11-23T20:50:31.700Z"
   },
   {
    "duration": 7,
    "start_time": "2022-11-23T20:50:32.165Z"
   },
   {
    "duration": 6,
    "start_time": "2022-11-23T20:50:32.591Z"
   },
   {
    "duration": 4,
    "start_time": "2022-11-23T20:50:33.049Z"
   },
   {
    "duration": 349,
    "start_time": "2022-11-23T20:50:33.493Z"
   },
   {
    "duration": 5,
    "start_time": "2022-11-23T20:50:33.986Z"
   },
   {
    "duration": 4,
    "start_time": "2022-11-23T20:50:34.485Z"
   },
   {
    "duration": 7,
    "start_time": "2022-11-23T20:50:34.924Z"
   },
   {
    "duration": 318,
    "start_time": "2022-11-23T20:50:36.384Z"
   },
   {
    "duration": 266,
    "start_time": "2022-11-23T20:50:37.410Z"
   },
   {
    "duration": 189,
    "start_time": "2022-11-23T20:50:38.289Z"
   },
   {
    "duration": 287,
    "start_time": "2022-11-23T20:50:39.295Z"
   },
   {
    "duration": 131,
    "start_time": "2022-11-23T20:50:40.239Z"
   },
   {
    "duration": 140,
    "start_time": "2022-11-23T20:50:41.259Z"
   },
   {
    "duration": 242,
    "start_time": "2022-11-23T20:50:47.280Z"
   },
   {
    "duration": 4,
    "start_time": "2022-11-23T20:50:48.482Z"
   },
   {
    "duration": 150,
    "start_time": "2022-11-23T20:50:49.539Z"
   },
   {
    "duration": 164,
    "start_time": "2022-11-23T20:50:50.159Z"
   },
   {
    "duration": 191,
    "start_time": "2022-11-23T20:50:50.731Z"
   },
   {
    "duration": 164,
    "start_time": "2022-11-23T20:50:51.387Z"
   },
   {
    "duration": 173,
    "start_time": "2022-11-23T20:50:52.002Z"
   },
   {
    "duration": 162,
    "start_time": "2022-11-23T20:50:52.618Z"
   },
   {
    "duration": 3,
    "start_time": "2022-11-23T20:50:53.251Z"
   },
   {
    "duration": 443,
    "start_time": "2022-11-23T20:50:54.444Z"
   },
   {
    "duration": 6,
    "start_time": "2022-11-23T20:50:55.687Z"
   },
   {
    "duration": 140,
    "start_time": "2022-11-23T20:51:00.345Z"
   },
   {
    "duration": 243,
    "start_time": "2022-11-23T20:51:00.955Z"
   },
   {
    "duration": 136,
    "start_time": "2022-11-23T20:51:01.500Z"
   },
   {
    "duration": 161,
    "start_time": "2022-11-23T20:51:02.041Z"
   },
   {
    "duration": 132,
    "start_time": "2022-11-23T20:51:02.547Z"
   },
   {
    "duration": 134,
    "start_time": "2022-11-23T20:51:03.081Z"
   },
   {
    "duration": 150,
    "start_time": "2022-11-23T20:51:03.703Z"
   },
   {
    "duration": 129,
    "start_time": "2022-11-23T20:51:04.248Z"
   },
   {
    "duration": 24,
    "start_time": "2022-11-23T20:51:05.344Z"
   },
   {
    "duration": 180,
    "start_time": "2022-11-23T20:51:06.393Z"
   },
   {
    "duration": 149,
    "start_time": "2022-11-23T20:57:54.705Z"
   },
   {
    "duration": 36,
    "start_time": "2022-11-23T20:57:59.929Z"
   },
   {
    "duration": 168,
    "start_time": "2022-11-23T20:58:04.800Z"
   },
   {
    "duration": 19,
    "start_time": "2022-11-23T20:59:35.772Z"
   },
   {
    "duration": 20,
    "start_time": "2022-11-23T20:59:38.217Z"
   },
   {
    "duration": 27,
    "start_time": "2022-11-23T20:59:59.527Z"
   },
   {
    "duration": 21,
    "start_time": "2022-11-23T21:00:17.212Z"
   },
   {
    "duration": 151,
    "start_time": "2022-11-23T21:04:09.963Z"
   },
   {
    "duration": 23,
    "start_time": "2022-11-23T21:12:16.742Z"
   },
   {
    "duration": 217,
    "start_time": "2022-11-23T21:12:31.760Z"
   },
   {
    "duration": 4,
    "start_time": "2022-11-23T21:13:28.472Z"
   },
   {
    "duration": 4,
    "start_time": "2022-11-23T21:13:36.299Z"
   },
   {
    "duration": 43,
    "start_time": "2022-11-23T21:14:29.587Z"
   },
   {
    "duration": 24,
    "start_time": "2022-11-23T21:14:48.721Z"
   },
   {
    "duration": 23,
    "start_time": "2022-11-23T21:15:02.632Z"
   },
   {
    "duration": 23,
    "start_time": "2022-11-23T21:15:37.678Z"
   },
   {
    "duration": 22,
    "start_time": "2022-11-23T21:16:55.135Z"
   },
   {
    "duration": 22,
    "start_time": "2022-11-23T21:17:03.443Z"
   },
   {
    "duration": 26,
    "start_time": "2022-11-23T21:17:14.910Z"
   },
   {
    "duration": 24,
    "start_time": "2022-11-23T21:17:30.260Z"
   },
   {
    "duration": 21,
    "start_time": "2022-11-23T21:23:51.500Z"
   },
   {
    "duration": 152,
    "start_time": "2022-11-23T21:24:02.912Z"
   },
   {
    "duration": 811,
    "start_time": "2022-11-23T21:25:56.955Z"
   },
   {
    "duration": 150,
    "start_time": "2022-11-23T21:25:59.389Z"
   },
   {
    "duration": 891,
    "start_time": "2022-11-23T21:26:12.476Z"
   },
   {
    "duration": 196,
    "start_time": "2022-11-23T21:26:21.583Z"
   },
   {
    "duration": 137,
    "start_time": "2022-11-23T21:26:24.362Z"
   },
   {
    "duration": 173,
    "start_time": "2022-11-23T21:26:35.835Z"
   },
   {
    "duration": 182,
    "start_time": "2022-11-23T21:26:42.832Z"
   },
   {
    "duration": 23,
    "start_time": "2022-11-23T21:27:44.750Z"
   },
   {
    "duration": 18,
    "start_time": "2022-11-23T21:41:44.009Z"
   },
   {
    "duration": 162,
    "start_time": "2022-11-23T21:42:00.703Z"
   },
   {
    "duration": 22,
    "start_time": "2022-11-23T21:44:46.186Z"
   },
   {
    "duration": 22,
    "start_time": "2022-11-23T21:49:11.256Z"
   },
   {
    "duration": 22,
    "start_time": "2022-11-23T21:49:14.253Z"
   },
   {
    "duration": 153,
    "start_time": "2022-11-23T21:49:23.422Z"
   },
   {
    "duration": 208,
    "start_time": "2022-11-23T21:49:58.797Z"
   },
   {
    "duration": 140,
    "start_time": "2022-11-23T21:50:20.631Z"
   },
   {
    "duration": 143,
    "start_time": "2022-11-23T21:50:33.206Z"
   },
   {
    "duration": 11,
    "start_time": "2022-11-24T21:40:41.586Z"
   },
   {
    "duration": 4,
    "start_time": "2022-11-24T21:40:42.280Z"
   },
   {
    "duration": 728,
    "start_time": "2022-11-25T06:18:06.315Z"
   },
   {
    "duration": 17,
    "start_time": "2022-11-25T06:18:07.046Z"
   },
   {
    "duration": 2376,
    "start_time": "2022-11-25T06:18:07.065Z"
   },
   {
    "duration": 10,
    "start_time": "2022-11-25T06:18:09.444Z"
   },
   {
    "duration": 60,
    "start_time": "2022-11-25T06:18:09.457Z"
   },
   {
    "duration": 17,
    "start_time": "2022-11-25T06:18:09.665Z"
   },
   {
    "duration": 7,
    "start_time": "2022-11-25T06:18:10.987Z"
   },
   {
    "duration": 13,
    "start_time": "2022-11-25T06:18:11.530Z"
   },
   {
    "duration": 15,
    "start_time": "2022-11-25T06:18:18.554Z"
   },
   {
    "duration": 88,
    "start_time": "2022-11-25T06:19:26.868Z"
   },
   {
    "duration": 23,
    "start_time": "2022-11-25T06:22:18.731Z"
   },
   {
    "duration": 21,
    "start_time": "2022-11-25T06:22:22.195Z"
   },
   {
    "duration": 70,
    "start_time": "2022-11-25T06:23:01.076Z"
   },
   {
    "duration": 70,
    "start_time": "2022-11-25T06:23:11.352Z"
   },
   {
    "duration": 52,
    "start_time": "2022-11-25T06:23:16.412Z"
   },
   {
    "duration": 53,
    "start_time": "2022-11-25T06:27:53.086Z"
   },
   {
    "duration": 64,
    "start_time": "2022-11-25T06:27:56.254Z"
   },
   {
    "duration": 410,
    "start_time": "2022-11-25T08:21:36.275Z"
   },
   {
    "duration": 15,
    "start_time": "2022-11-25T08:21:36.687Z"
   },
   {
    "duration": 2067,
    "start_time": "2022-11-25T08:21:36.704Z"
   },
   {
    "duration": 8,
    "start_time": "2022-11-25T08:21:38.773Z"
   },
   {
    "duration": 66,
    "start_time": "2022-11-25T08:21:38.782Z"
   },
   {
    "duration": 13,
    "start_time": "2022-11-25T08:21:38.850Z"
   },
   {
    "duration": 5,
    "start_time": "2022-11-25T08:21:38.865Z"
   },
   {
    "duration": 8,
    "start_time": "2022-11-25T08:21:38.871Z"
   },
   {
    "duration": 21,
    "start_time": "2022-11-25T08:21:38.880Z"
   },
   {
    "duration": 13,
    "start_time": "2022-11-25T08:21:38.903Z"
   },
   {
    "duration": 10,
    "start_time": "2022-11-25T08:21:38.918Z"
   },
   {
    "duration": 10,
    "start_time": "2022-11-25T08:21:38.929Z"
   },
   {
    "duration": 9,
    "start_time": "2022-11-25T08:21:38.941Z"
   },
   {
    "duration": 5,
    "start_time": "2022-11-25T08:21:38.951Z"
   },
   {
    "duration": 6,
    "start_time": "2022-11-25T08:21:38.957Z"
   },
   {
    "duration": 4,
    "start_time": "2022-11-25T08:21:38.964Z"
   },
   {
    "duration": 272,
    "start_time": "2022-11-25T08:21:38.969Z"
   },
   {
    "duration": 5,
    "start_time": "2022-11-25T08:21:39.242Z"
   },
   {
    "duration": 5,
    "start_time": "2022-11-25T08:21:39.249Z"
   },
   {
    "duration": 6,
    "start_time": "2022-11-25T08:21:39.256Z"
   },
   {
    "duration": 276,
    "start_time": "2022-11-25T08:21:39.263Z"
   },
   {
    "duration": 316,
    "start_time": "2022-11-25T08:21:39.540Z"
   },
   {
    "duration": 196,
    "start_time": "2022-11-25T08:21:39.857Z"
   },
   {
    "duration": 334,
    "start_time": "2022-11-25T08:21:40.054Z"
   },
   {
    "duration": 143,
    "start_time": "2022-11-25T08:21:40.390Z"
   },
   {
    "duration": 182,
    "start_time": "2022-11-25T08:21:40.535Z"
   },
   {
    "duration": 172,
    "start_time": "2022-11-25T08:21:40.719Z"
   },
   {
    "duration": 156,
    "start_time": "2022-11-25T08:21:40.894Z"
   },
   {
    "duration": 158,
    "start_time": "2022-11-25T08:21:41.051Z"
   },
   {
    "duration": 154,
    "start_time": "2022-11-25T08:21:41.214Z"
   },
   {
    "duration": 217,
    "start_time": "2022-11-25T08:21:41.369Z"
   },
   {
    "duration": 227,
    "start_time": "2022-11-25T08:21:41.587Z"
   },
   {
    "duration": 169,
    "start_time": "2022-11-25T08:21:41.816Z"
   },
   {
    "duration": 161,
    "start_time": "2022-11-25T08:21:41.987Z"
   },
   {
    "duration": 430,
    "start_time": "2022-11-25T08:21:42.150Z"
   },
   {
    "duration": 5,
    "start_time": "2022-11-25T08:21:42.581Z"
   },
   {
    "duration": 161,
    "start_time": "2022-11-25T08:21:42.588Z"
   },
   {
    "duration": 152,
    "start_time": "2022-11-25T08:21:42.751Z"
   },
   {
    "duration": 145,
    "start_time": "2022-11-25T08:21:42.912Z"
   },
   {
    "duration": 149,
    "start_time": "2022-11-25T08:21:43.059Z"
   },
   {
    "duration": 136,
    "start_time": "2022-11-25T08:21:43.213Z"
   },
   {
    "duration": 222,
    "start_time": "2022-11-25T08:21:43.350Z"
   },
   {
    "duration": 144,
    "start_time": "2022-11-25T08:21:43.574Z"
   },
   {
    "duration": 138,
    "start_time": "2022-11-25T08:21:43.720Z"
   },
   {
    "duration": 22,
    "start_time": "2022-11-25T08:21:43.859Z"
   },
   {
    "duration": 207,
    "start_time": "2022-11-25T08:21:43.883Z"
   },
   {
    "duration": 27,
    "start_time": "2022-11-25T08:21:44.092Z"
   },
   {
    "duration": 469,
    "start_time": "2022-11-25T09:26:47.626Z"
   },
   {
    "duration": 16,
    "start_time": "2022-11-25T09:26:48.097Z"
   },
   {
    "duration": 2101,
    "start_time": "2022-11-25T09:26:48.115Z"
   },
   {
    "duration": 11,
    "start_time": "2022-11-25T09:26:50.218Z"
   },
   {
    "duration": 87,
    "start_time": "2022-11-25T09:26:50.230Z"
   },
   {
    "duration": 18,
    "start_time": "2022-11-25T09:26:50.319Z"
   },
   {
    "duration": 9,
    "start_time": "2022-11-25T09:26:50.339Z"
   },
   {
    "duration": 8,
    "start_time": "2022-11-25T09:26:50.350Z"
   },
   {
    "duration": 17,
    "start_time": "2022-11-25T09:26:50.360Z"
   },
   {
    "duration": 5,
    "start_time": "2022-11-25T09:26:50.381Z"
   },
   {
    "duration": 12,
    "start_time": "2022-11-25T09:26:50.413Z"
   },
   {
    "duration": 23,
    "start_time": "2022-11-25T09:26:50.427Z"
   },
   {
    "duration": 14,
    "start_time": "2022-11-25T09:26:50.451Z"
   },
   {
    "duration": 12,
    "start_time": "2022-11-25T09:26:50.466Z"
   },
   {
    "duration": 5,
    "start_time": "2022-11-25T09:26:50.479Z"
   },
   {
    "duration": 3,
    "start_time": "2022-11-25T09:26:50.486Z"
   },
   {
    "duration": 257,
    "start_time": "2022-11-25T09:26:50.490Z"
   },
   {
    "duration": 4,
    "start_time": "2022-11-25T09:26:50.748Z"
   },
   {
    "duration": 9,
    "start_time": "2022-11-25T09:26:50.754Z"
   },
   {
    "duration": 10,
    "start_time": "2022-11-25T09:26:50.764Z"
   },
   {
    "duration": 270,
    "start_time": "2022-11-25T09:26:50.776Z"
   },
   {
    "duration": 312,
    "start_time": "2022-11-25T09:26:51.048Z"
   },
   {
    "duration": 197,
    "start_time": "2022-11-25T09:26:51.362Z"
   },
   {
    "duration": 265,
    "start_time": "2022-11-25T09:26:51.561Z"
   },
   {
    "duration": 129,
    "start_time": "2022-11-25T09:26:51.828Z"
   },
   {
    "duration": 141,
    "start_time": "2022-11-25T09:26:51.959Z"
   },
   {
    "duration": 168,
    "start_time": "2022-11-25T09:26:52.102Z"
   },
   {
    "duration": 148,
    "start_time": "2022-11-25T09:26:52.275Z"
   },
   {
    "duration": 157,
    "start_time": "2022-11-25T09:26:52.425Z"
   },
   {
    "duration": 154,
    "start_time": "2022-11-25T09:26:52.584Z"
   },
   {
    "duration": 186,
    "start_time": "2022-11-25T09:26:52.740Z"
   },
   {
    "duration": 234,
    "start_time": "2022-11-25T09:26:52.928Z"
   },
   {
    "duration": 161,
    "start_time": "2022-11-25T09:26:53.163Z"
   },
   {
    "duration": 156,
    "start_time": "2022-11-25T09:26:53.326Z"
   },
   {
    "duration": 388,
    "start_time": "2022-11-25T09:26:53.484Z"
   },
   {
    "duration": 5,
    "start_time": "2022-11-25T09:26:53.873Z"
   },
   {
    "duration": 146,
    "start_time": "2022-11-25T09:26:53.879Z"
   },
   {
    "duration": 136,
    "start_time": "2022-11-25T09:26:54.026Z"
   },
   {
    "duration": 133,
    "start_time": "2022-11-25T09:26:54.164Z"
   },
   {
    "duration": 150,
    "start_time": "2022-11-25T09:26:54.298Z"
   },
   {
    "duration": 137,
    "start_time": "2022-11-25T09:26:54.450Z"
   },
   {
    "duration": 211,
    "start_time": "2022-11-25T09:26:54.589Z"
   },
   {
    "duration": 136,
    "start_time": "2022-11-25T09:26:54.802Z"
   },
   {
    "duration": 135,
    "start_time": "2022-11-25T09:26:54.940Z"
   },
   {
    "duration": 20,
    "start_time": "2022-11-25T09:26:55.077Z"
   },
   {
    "duration": 192,
    "start_time": "2022-11-25T09:26:55.098Z"
   },
   {
    "duration": 29,
    "start_time": "2022-11-25T09:26:55.292Z"
   },
   {
    "duration": 13,
    "start_time": "2022-11-25T09:34:17.477Z"
   },
   {
    "duration": 72,
    "start_time": "2022-11-25T09:34:20.975Z"
   },
   {
    "duration": 7,
    "start_time": "2022-11-25T09:34:45.170Z"
   },
   {
    "duration": 46,
    "start_time": "2022-11-25T13:17:48.262Z"
   },
   {
    "duration": 569,
    "start_time": "2022-11-25T13:18:01.120Z"
   },
   {
    "duration": 16,
    "start_time": "2022-11-25T13:18:02.279Z"
   },
   {
    "duration": 2332,
    "start_time": "2022-11-25T13:18:09.826Z"
   },
   {
    "duration": 88,
    "start_time": "2022-11-25T13:34:21.364Z"
   },
   {
    "duration": 351,
    "start_time": "2022-11-25T14:30:17.694Z"
   },
   {
    "duration": 352,
    "start_time": "2022-11-25T14:30:35.012Z"
   },
   {
    "duration": 20,
    "start_time": "2022-11-25T14:30:52.979Z"
   },
   {
    "duration": 17,
    "start_time": "2022-11-25T14:31:03.068Z"
   },
   {
    "duration": 14,
    "start_time": "2022-11-25T14:31:09.970Z"
   },
   {
    "duration": 18,
    "start_time": "2022-11-25T14:31:21.874Z"
   },
   {
    "duration": 96,
    "start_time": "2022-11-25T14:31:52.395Z"
   },
   {
    "duration": 14,
    "start_time": "2022-11-25T14:31:53.399Z"
   },
   {
    "duration": 2048,
    "start_time": "2022-11-25T14:31:54.444Z"
   },
   {
    "duration": 9,
    "start_time": "2022-11-25T14:31:59.417Z"
   },
   {
    "duration": 16,
    "start_time": "2022-11-25T14:31:59.935Z"
   },
   {
    "duration": 56,
    "start_time": "2022-11-25T14:33:27.126Z"
   },
   {
    "duration": 276,
    "start_time": "2022-11-25T14:37:01.043Z"
   },
   {
    "duration": 8,
    "start_time": "2022-11-25T15:02:31.749Z"
   },
   {
    "duration": 11,
    "start_time": "2022-11-25T15:03:59.976Z"
   },
   {
    "duration": 5,
    "start_time": "2022-11-25T15:04:00.595Z"
   },
   {
    "duration": 1825,
    "start_time": "2022-11-25T15:23:10.753Z"
   },
   {
    "duration": 108,
    "start_time": "2022-11-25T15:24:09.810Z"
   },
   {
    "duration": 14,
    "start_time": "2022-11-25T15:24:10.733Z"
   },
   {
    "duration": 1882,
    "start_time": "2022-11-25T15:24:11.659Z"
   },
   {
    "duration": 10,
    "start_time": "2022-11-25T15:24:14.732Z"
   },
   {
    "duration": 45,
    "start_time": "2022-11-25T15:24:15.177Z"
   },
   {
    "duration": 15,
    "start_time": "2022-11-25T15:24:17.767Z"
   },
   {
    "duration": 4,
    "start_time": "2022-11-25T15:24:19.552Z"
   },
   {
    "duration": 4,
    "start_time": "2022-11-25T15:24:22.889Z"
   },
   {
    "duration": 11,
    "start_time": "2022-11-25T15:24:23.396Z"
   },
   {
    "duration": 7,
    "start_time": "2022-11-25T15:24:23.827Z"
   },
   {
    "duration": 5,
    "start_time": "2022-11-25T15:24:26.106Z"
   },
   {
    "duration": 7,
    "start_time": "2022-11-25T15:24:26.635Z"
   },
   {
    "duration": 7,
    "start_time": "2022-11-25T15:24:27.272Z"
   },
   {
    "duration": 7,
    "start_time": "2022-11-25T15:24:27.780Z"
   },
   {
    "duration": 6,
    "start_time": "2022-11-25T15:24:28.270Z"
   },
   {
    "duration": 4,
    "start_time": "2022-11-25T15:24:28.870Z"
   },
   {
    "duration": 380,
    "start_time": "2022-11-25T15:24:29.438Z"
   },
   {
    "duration": 4,
    "start_time": "2022-11-25T15:24:29.929Z"
   },
   {
    "duration": 13,
    "start_time": "2022-11-25T15:24:30.458Z"
   },
   {
    "duration": 5,
    "start_time": "2022-11-25T15:24:31.093Z"
   },
   {
    "duration": 5,
    "start_time": "2022-11-25T15:28:29.186Z"
   },
   {
    "duration": 4,
    "start_time": "2022-11-25T15:28:52.348Z"
   },
   {
    "duration": 5,
    "start_time": "2022-11-25T15:28:52.865Z"
   },
   {
    "duration": 5,
    "start_time": "2022-11-25T15:28:56.577Z"
   },
   {
    "duration": 6,
    "start_time": "2022-11-25T15:28:57.020Z"
   },
   {
    "duration": 4,
    "start_time": "2022-11-25T15:29:02.295Z"
   },
   {
    "duration": 274,
    "start_time": "2022-11-25T15:29:06.145Z"
   },
   {
    "duration": 271,
    "start_time": "2022-11-25T15:29:07.774Z"
   },
   {
    "duration": 345,
    "start_time": "2022-11-25T15:29:08.981Z"
   },
   {
    "duration": 257,
    "start_time": "2022-11-25T15:29:10.449Z"
   },
   {
    "duration": 125,
    "start_time": "2022-11-25T15:29:14.494Z"
   },
   {
    "duration": 158,
    "start_time": "2022-11-25T15:29:15.806Z"
   },
   {
    "duration": 165,
    "start_time": "2022-11-25T15:29:17.044Z"
   },
   {
    "duration": 1257,
    "start_time": "2022-11-25T15:29:18.396Z"
   },
   {
    "duration": 94,
    "start_time": "2022-11-25T15:30:47.894Z"
   },
   {
    "duration": 18,
    "start_time": "2022-11-25T15:30:48.893Z"
   },
   {
    "duration": 1858,
    "start_time": "2022-11-25T15:30:50.238Z"
   },
   {
    "duration": 12,
    "start_time": "2022-11-25T15:30:53.233Z"
   },
   {
    "duration": 51,
    "start_time": "2022-11-25T15:30:53.672Z"
   },
   {
    "duration": 12,
    "start_time": "2022-11-25T15:30:56.354Z"
   },
   {
    "duration": 3,
    "start_time": "2022-11-25T15:30:58.122Z"
   },
   {
    "duration": 4,
    "start_time": "2022-11-25T15:30:59.553Z"
   },
   {
    "duration": 10,
    "start_time": "2022-11-25T15:31:00.036Z"
   },
   {
    "duration": 5,
    "start_time": "2022-11-25T15:31:00.501Z"
   },
   {
    "duration": 4,
    "start_time": "2022-11-25T15:31:02.435Z"
   },
   {
    "duration": 8,
    "start_time": "2022-11-25T15:31:02.870Z"
   },
   {
    "duration": 6,
    "start_time": "2022-11-25T15:31:03.305Z"
   },
   {
    "duration": 6,
    "start_time": "2022-11-25T15:31:03.757Z"
   },
   {
    "duration": 6,
    "start_time": "2022-11-25T15:31:04.200Z"
   },
   {
    "duration": 3,
    "start_time": "2022-11-25T15:31:04.699Z"
   },
   {
    "duration": 389,
    "start_time": "2022-11-25T15:31:05.193Z"
   },
   {
    "duration": 4,
    "start_time": "2022-11-25T15:31:05.694Z"
   },
   {
    "duration": 5,
    "start_time": "2022-11-25T15:31:06.249Z"
   },
   {
    "duration": 5,
    "start_time": "2022-11-25T15:31:06.746Z"
   },
   {
    "duration": 308,
    "start_time": "2022-11-25T15:31:08.854Z"
   },
   {
    "duration": 261,
    "start_time": "2022-11-25T15:31:09.813Z"
   },
   {
    "duration": 307,
    "start_time": "2022-11-25T15:31:10.802Z"
   },
   {
    "duration": 268,
    "start_time": "2022-11-25T15:31:11.832Z"
   },
   {
    "duration": 132,
    "start_time": "2022-11-25T15:31:15.159Z"
   },
   {
    "duration": 145,
    "start_time": "2022-11-25T15:31:16.194Z"
   },
   {
    "duration": 168,
    "start_time": "2022-11-25T15:31:17.241Z"
   },
   {
    "duration": 1174,
    "start_time": "2022-11-25T15:31:18.809Z"
   },
   {
    "duration": 176,
    "start_time": "2022-11-25T15:32:51.177Z"
   },
   {
    "duration": 1087,
    "start_time": "2022-11-25T15:33:05.947Z"
   },
   {
    "duration": 29,
    "start_time": "2022-11-25T15:45:42.022Z"
   },
   {
    "duration": 412,
    "start_time": "2022-11-25T16:02:08.295Z"
   },
   {
    "duration": 4,
    "start_time": "2022-11-25T16:03:46.467Z"
   },
   {
    "duration": 4,
    "start_time": "2022-11-25T16:04:16.734Z"
   },
   {
    "duration": 11,
    "start_time": "2022-11-25T16:22:11.188Z"
   },
   {
    "duration": 25,
    "start_time": "2022-11-25T16:22:45.544Z"
   },
   {
    "duration": 101,
    "start_time": "2022-11-25T16:22:50.829Z"
   },
   {
    "duration": 14,
    "start_time": "2022-11-25T16:22:51.572Z"
   },
   {
    "duration": 1942,
    "start_time": "2022-11-25T16:22:52.312Z"
   },
   {
    "duration": 9,
    "start_time": "2022-11-25T16:22:55.019Z"
   },
   {
    "duration": 52,
    "start_time": "2022-11-25T16:22:55.404Z"
   },
   {
    "duration": 18,
    "start_time": "2022-11-25T16:22:57.737Z"
   },
   {
    "duration": 4,
    "start_time": "2022-11-25T16:22:59.198Z"
   },
   {
    "duration": 5,
    "start_time": "2022-11-25T16:23:00.272Z"
   },
   {
    "duration": 8,
    "start_time": "2022-11-25T16:23:00.594Z"
   },
   {
    "duration": 5,
    "start_time": "2022-11-25T16:23:00.917Z"
   },
   {
    "duration": 5,
    "start_time": "2022-11-25T16:23:02.491Z"
   },
   {
    "duration": 7,
    "start_time": "2022-11-25T16:23:02.909Z"
   },
   {
    "duration": 6,
    "start_time": "2022-11-25T16:23:03.302Z"
   },
   {
    "duration": 7,
    "start_time": "2022-11-25T16:23:03.669Z"
   },
   {
    "duration": 6,
    "start_time": "2022-11-25T16:23:04.037Z"
   },
   {
    "duration": 3,
    "start_time": "2022-11-25T16:23:04.392Z"
   },
   {
    "duration": 376,
    "start_time": "2022-11-25T16:23:04.803Z"
   },
   {
    "duration": 0,
    "start_time": "2022-11-25T16:23:05.181Z"
   },
   {
    "duration": 13,
    "start_time": "2022-11-25T16:23:05.642Z"
   },
   {
    "duration": 4,
    "start_time": "2022-11-25T16:23:06.026Z"
   },
   {
    "duration": 12,
    "start_time": "2022-11-25T16:23:26.539Z"
   },
   {
    "duration": 112,
    "start_time": "2022-11-25T16:23:42.736Z"
   },
   {
    "duration": 24,
    "start_time": "2022-11-25T16:24:10.182Z"
   },
   {
    "duration": 14,
    "start_time": "2022-11-25T16:24:20.823Z"
   },
   {
    "duration": 3,
    "start_time": "2022-11-25T16:24:21.965Z"
   },
   {
    "duration": 5,
    "start_time": "2022-11-25T16:24:22.745Z"
   },
   {
    "duration": 12,
    "start_time": "2022-11-25T16:24:22.969Z"
   },
   {
    "duration": 5,
    "start_time": "2022-11-25T16:24:23.226Z"
   },
   {
    "duration": 3,
    "start_time": "2022-11-25T16:24:24.302Z"
   },
   {
    "duration": 11,
    "start_time": "2022-11-25T16:24:24.578Z"
   },
   {
    "duration": 5,
    "start_time": "2022-11-25T16:24:24.889Z"
   },
   {
    "duration": 5,
    "start_time": "2022-11-25T16:24:25.180Z"
   },
   {
    "duration": 6,
    "start_time": "2022-11-25T16:24:25.451Z"
   },
   {
    "duration": 3,
    "start_time": "2022-11-25T16:24:25.725Z"
   },
   {
    "duration": 371,
    "start_time": "2022-11-25T16:24:25.981Z"
   },
   {
    "duration": 0,
    "start_time": "2022-11-25T16:24:26.354Z"
   },
   {
    "duration": 13,
    "start_time": "2022-11-25T16:24:26.531Z"
   },
   {
    "duration": 4,
    "start_time": "2022-11-25T16:24:26.817Z"
   },
   {
    "duration": 13,
    "start_time": "2022-11-25T16:25:35.793Z"
   },
   {
    "duration": 5,
    "start_time": "2022-11-25T16:25:42.567Z"
   },
   {
    "duration": 3,
    "start_time": "2022-11-25T16:26:43.641Z"
   },
   {
    "duration": 28,
    "start_time": "2022-11-25T16:29:53.269Z"
   },
   {
    "duration": 15,
    "start_time": "2022-11-25T16:29:56.515Z"
   },
   {
    "duration": 6,
    "start_time": "2022-11-25T16:29:58.772Z"
   },
   {
    "duration": 5,
    "start_time": "2022-11-25T16:30:11.683Z"
   },
   {
    "duration": 25,
    "start_time": "2022-11-25T16:31:40.070Z"
   },
   {
    "duration": 20,
    "start_time": "2022-11-25T16:31:42.965Z"
   },
   {
    "duration": 6,
    "start_time": "2022-11-25T16:31:45.574Z"
   },
   {
    "duration": 6,
    "start_time": "2022-11-25T16:32:14.651Z"
   },
   {
    "duration": 7,
    "start_time": "2022-11-25T16:32:29.545Z"
   },
   {
    "duration": 89,
    "start_time": "2022-11-25T16:33:02.994Z"
   },
   {
    "duration": 14,
    "start_time": "2022-11-25T16:33:03.739Z"
   },
   {
    "duration": 1990,
    "start_time": "2022-11-25T16:33:04.496Z"
   },
   {
    "duration": 9,
    "start_time": "2022-11-25T16:33:07.112Z"
   },
   {
    "duration": 30,
    "start_time": "2022-11-25T16:33:07.507Z"
   },
   {
    "duration": 15,
    "start_time": "2022-11-25T16:33:09.806Z"
   },
   {
    "duration": 7,
    "start_time": "2022-11-25T16:33:11.405Z"
   },
   {
    "duration": 24,
    "start_time": "2022-11-25T16:51:46.082Z"
   },
   {
    "duration": 16,
    "start_time": "2022-11-25T16:51:49.572Z"
   },
   {
    "duration": 7,
    "start_time": "2022-11-25T16:51:51.139Z"
   },
   {
    "duration": 4,
    "start_time": "2022-11-25T16:51:52.392Z"
   },
   {
    "duration": 10,
    "start_time": "2022-11-25T16:51:52.777Z"
   },
   {
    "duration": 5,
    "start_time": "2022-11-25T16:51:53.158Z"
   },
   {
    "duration": 5,
    "start_time": "2022-11-25T16:51:56.541Z"
   },
   {
    "duration": 8,
    "start_time": "2022-11-25T16:51:56.916Z"
   },
   {
    "duration": 6,
    "start_time": "2022-11-25T16:51:57.335Z"
   },
   {
    "duration": 7,
    "start_time": "2022-11-25T16:51:57.770Z"
   },
   {
    "duration": 5,
    "start_time": "2022-11-25T16:51:58.193Z"
   },
   {
    "duration": 3,
    "start_time": "2022-11-25T16:51:58.606Z"
   },
   {
    "duration": 270,
    "start_time": "2022-11-25T16:51:59.047Z"
   },
   {
    "duration": 4,
    "start_time": "2022-11-25T16:51:59.808Z"
   },
   {
    "duration": 6,
    "start_time": "2022-11-25T16:52:01.005Z"
   },
   {
    "duration": 4,
    "start_time": "2022-11-25T16:52:02.481Z"
   },
   {
    "duration": 298,
    "start_time": "2022-11-25T16:52:19.832Z"
   },
   {
    "duration": 271,
    "start_time": "2022-11-25T16:52:20.642Z"
   },
   {
    "duration": 208,
    "start_time": "2022-11-25T16:52:21.480Z"
   },
   {
    "duration": 406,
    "start_time": "2022-11-25T16:52:22.345Z"
   },
   {
    "duration": 155,
    "start_time": "2022-11-25T16:52:23.635Z"
   },
   {
    "duration": 147,
    "start_time": "2022-11-25T16:52:24.560Z"
   },
   {
    "duration": 176,
    "start_time": "2022-11-25T16:52:25.509Z"
   },
   {
    "duration": 158,
    "start_time": "2022-11-25T16:52:27.545Z"
   },
   {
    "duration": 16,
    "start_time": "2022-11-25T16:53:14.736Z"
   },
   {
    "duration": 161,
    "start_time": "2022-11-25T17:00:16.427Z"
   },
   {
    "duration": 146,
    "start_time": "2022-11-25T17:01:00.370Z"
   },
   {
    "duration": 1178,
    "start_time": "2022-11-25T17:24:13.827Z"
   },
   {
    "duration": 78,
    "start_time": "2022-11-25T17:24:39.353Z"
   },
   {
    "duration": 17,
    "start_time": "2022-11-25T17:24:57.277Z"
   },
   {
    "duration": 26,
    "start_time": "2022-11-25T18:26:57.544Z"
   },
   {
    "duration": 26,
    "start_time": "2022-11-25T18:27:02.048Z"
   },
   {
    "duration": 35,
    "start_time": "2022-11-25T18:27:21.575Z"
   },
   {
    "duration": 39,
    "start_time": "2022-11-25T18:34:46.201Z"
   },
   {
    "duration": 3,
    "start_time": "2022-11-25T19:19:16.325Z"
   },
   {
    "duration": 4,
    "start_time": "2022-11-25T19:19:41.867Z"
   },
   {
    "duration": 41,
    "start_time": "2022-11-25T19:22:03.523Z"
   },
   {
    "duration": 36,
    "start_time": "2022-11-25T19:58:18.262Z"
   },
   {
    "duration": 67,
    "start_time": "2022-11-25T19:59:56.809Z"
   },
   {
    "duration": 72,
    "start_time": "2022-11-25T20:00:05.817Z"
   },
   {
    "duration": 31,
    "start_time": "2022-11-25T20:00:13.272Z"
   },
   {
    "duration": 37,
    "start_time": "2022-11-25T20:01:21.166Z"
   },
   {
    "duration": 1230,
    "start_time": "2022-11-25T20:02:11.206Z"
   },
   {
    "duration": 1200,
    "start_time": "2022-11-25T20:04:45.845Z"
   },
   {
    "duration": 125,
    "start_time": "2022-11-25T20:05:50.745Z"
   },
   {
    "duration": 144,
    "start_time": "2022-11-25T20:06:02.317Z"
   },
   {
    "duration": 159,
    "start_time": "2022-11-25T20:06:19.272Z"
   },
   {
    "duration": 201,
    "start_time": "2022-11-25T20:07:33.164Z"
   },
   {
    "duration": 125,
    "start_time": "2022-11-25T20:19:01.181Z"
   },
   {
    "duration": 141,
    "start_time": "2022-11-25T20:19:15.538Z"
   },
   {
    "duration": 21,
    "start_time": "2022-11-25T20:40:58.340Z"
   },
   {
    "duration": 463,
    "start_time": "2022-11-25T20:45:24.995Z"
   },
   {
    "duration": 393,
    "start_time": "2022-11-25T20:45:42.988Z"
   },
   {
    "duration": 10,
    "start_time": "2022-11-25T20:46:11.267Z"
   },
   {
    "duration": 22,
    "start_time": "2022-11-25T20:46:13.442Z"
   },
   {
    "duration": 14,
    "start_time": "2022-11-25T20:46:17.291Z"
   },
   {
    "duration": 7,
    "start_time": "2022-11-25T20:46:19.887Z"
   },
   {
    "duration": 4,
    "start_time": "2022-11-25T20:46:23.317Z"
   },
   {
    "duration": 10,
    "start_time": "2022-11-25T20:46:24.059Z"
   },
   {
    "duration": 5,
    "start_time": "2022-11-25T20:46:24.704Z"
   },
   {
    "duration": 4,
    "start_time": "2022-11-25T20:46:27.657Z"
   },
   {
    "duration": 11,
    "start_time": "2022-11-25T20:46:28.479Z"
   },
   {
    "duration": 6,
    "start_time": "2022-11-25T20:46:29.280Z"
   },
   {
    "duration": 6,
    "start_time": "2022-11-25T20:46:29.939Z"
   },
   {
    "duration": 6,
    "start_time": "2022-11-25T20:46:31.097Z"
   },
   {
    "duration": 3,
    "start_time": "2022-11-25T20:46:31.910Z"
   },
   {
    "duration": 259,
    "start_time": "2022-11-25T20:46:32.684Z"
   },
   {
    "duration": 5,
    "start_time": "2022-11-25T20:46:33.544Z"
   },
   {
    "duration": 5,
    "start_time": "2022-11-25T20:46:34.262Z"
   },
   {
    "duration": 4,
    "start_time": "2022-11-25T20:46:35.395Z"
   },
   {
    "duration": 261,
    "start_time": "2022-11-25T20:46:40.142Z"
   },
   {
    "duration": 321,
    "start_time": "2022-11-25T20:46:41.298Z"
   },
   {
    "duration": 204,
    "start_time": "2022-11-25T20:46:42.710Z"
   },
   {
    "duration": 301,
    "start_time": "2022-11-25T20:46:44.238Z"
   },
   {
    "duration": 130,
    "start_time": "2022-11-25T20:46:46.233Z"
   },
   {
    "duration": 146,
    "start_time": "2022-11-25T20:46:47.603Z"
   },
   {
    "duration": 189,
    "start_time": "2022-11-25T20:46:48.985Z"
   },
   {
    "duration": 5,
    "start_time": "2022-11-25T20:46:50.621Z"
   },
   {
    "duration": 142,
    "start_time": "2022-11-25T20:46:51.183Z"
   },
   {
    "duration": 156,
    "start_time": "2022-11-25T20:46:52.707Z"
   },
   {
    "duration": 393,
    "start_time": "2022-11-25T20:53:01.089Z"
   },
   {
    "duration": 77,
    "start_time": "2022-11-25T20:53:11.191Z"
   },
   {
    "duration": 408,
    "start_time": "2022-11-25T20:53:22.001Z"
   },
   {
    "duration": 496,
    "start_time": "2022-11-25T20:57:43.297Z"
   },
   {
    "duration": 26,
    "start_time": "2022-11-25T20:57:44.208Z"
   },
   {
    "duration": 402,
    "start_time": "2022-11-25T21:00:24.941Z"
   },
   {
    "duration": 6,
    "start_time": "2022-11-25T21:04:31.870Z"
   },
   {
    "duration": 417,
    "start_time": "2022-11-25T21:04:32.375Z"
   },
   {
    "duration": 421,
    "start_time": "2022-11-25T21:05:27.184Z"
   },
   {
    "duration": 434,
    "start_time": "2022-11-25T21:17:30.890Z"
   },
   {
    "duration": 25,
    "start_time": "2022-11-25T21:18:03.039Z"
   },
   {
    "duration": 428,
    "start_time": "2022-11-25T21:18:05.347Z"
   },
   {
    "duration": 1238,
    "start_time": "2022-11-25T21:19:20.889Z"
   },
   {
    "duration": 436,
    "start_time": "2022-11-25T21:19:50.083Z"
   },
   {
    "duration": 414,
    "start_time": "2022-11-25T21:28:11.151Z"
   },
   {
    "duration": 134,
    "start_time": "2022-11-25T21:35:04.524Z"
   },
   {
    "duration": 95,
    "start_time": "2022-11-25T21:35:39.380Z"
   },
   {
    "duration": 424,
    "start_time": "2022-11-25T21:36:00.075Z"
   },
   {
    "duration": 409,
    "start_time": "2022-11-25T21:36:38.164Z"
   },
   {
    "duration": 112,
    "start_time": "2022-11-25T21:38:21.133Z"
   },
   {
    "duration": 157,
    "start_time": "2022-11-25T21:38:52.180Z"
   },
   {
    "duration": 436,
    "start_time": "2022-11-25T21:39:33.372Z"
   },
   {
    "duration": 10,
    "start_time": "2022-11-25T21:46:23.967Z"
   },
   {
    "duration": 408,
    "start_time": "2022-11-25T21:47:06.420Z"
   },
   {
    "duration": 149,
    "start_time": "2022-11-25T21:47:28.380Z"
   },
   {
    "duration": 393,
    "start_time": "2022-11-25T21:49:02.555Z"
   },
   {
    "duration": 141,
    "start_time": "2022-11-25T21:49:19.951Z"
   },
   {
    "duration": 21,
    "start_time": "2022-11-25T21:53:06.672Z"
   },
   {
    "duration": 21,
    "start_time": "2022-11-25T21:53:15.726Z"
   },
   {
    "duration": 172,
    "start_time": "2022-11-25T21:53:23.037Z"
   },
   {
    "duration": 411,
    "start_time": "2022-11-25T22:02:19.199Z"
   },
   {
    "duration": 1364,
    "start_time": "2022-11-25T22:03:08.011Z"
   },
   {
    "duration": 442,
    "start_time": "2022-11-25T22:03:25.701Z"
   },
   {
    "duration": 9,
    "start_time": "2022-11-25T22:04:33.094Z"
   },
   {
    "duration": 4,
    "start_time": "2022-11-25T22:04:49.582Z"
   },
   {
    "duration": 599,
    "start_time": "2022-11-25T22:04:50.056Z"
   },
   {
    "duration": 6,
    "start_time": "2022-11-25T22:06:36.326Z"
   },
   {
    "duration": 490,
    "start_time": "2022-11-25T22:06:38.325Z"
   },
   {
    "duration": 87,
    "start_time": "2022-11-25T22:10:21.647Z"
   },
   {
    "duration": 17,
    "start_time": "2022-11-25T22:10:22.582Z"
   },
   {
    "duration": 1916,
    "start_time": "2022-11-25T22:10:23.294Z"
   },
   {
    "duration": 10,
    "start_time": "2022-11-25T22:10:25.981Z"
   },
   {
    "duration": 1355,
    "start_time": "2022-11-25T22:10:26.328Z"
   },
   {
    "duration": 18,
    "start_time": "2022-11-25T22:10:28.565Z"
   },
   {
    "duration": 7,
    "start_time": "2022-11-25T22:10:30.023Z"
   },
   {
    "duration": 5,
    "start_time": "2022-11-25T22:10:31.130Z"
   },
   {
    "duration": 15,
    "start_time": "2022-11-25T22:10:31.493Z"
   },
   {
    "duration": 7,
    "start_time": "2022-11-25T22:10:31.852Z"
   },
   {
    "duration": 4,
    "start_time": "2022-11-25T22:10:33.400Z"
   },
   {
    "duration": 9,
    "start_time": "2022-11-25T22:10:33.716Z"
   },
   {
    "duration": 7,
    "start_time": "2022-11-25T22:10:34.100Z"
   },
   {
    "duration": 7,
    "start_time": "2022-11-25T22:10:34.493Z"
   },
   {
    "duration": 6,
    "start_time": "2022-11-25T22:10:34.873Z"
   },
   {
    "duration": 3,
    "start_time": "2022-11-25T22:10:35.179Z"
   },
   {
    "duration": 391,
    "start_time": "2022-11-25T22:10:35.715Z"
   },
   {
    "duration": 6,
    "start_time": "2022-11-25T22:10:59.955Z"
   },
   {
    "duration": 8,
    "start_time": "2022-11-25T22:11:04.526Z"
   },
   {
    "duration": 4,
    "start_time": "2022-11-25T22:11:04.994Z"
   },
   {
    "duration": 265,
    "start_time": "2022-11-25T22:11:05.327Z"
   },
   {
    "duration": 6,
    "start_time": "2022-11-25T22:11:05.659Z"
   },
   {
    "duration": 7,
    "start_time": "2022-11-25T22:11:06.055Z"
   },
   {
    "duration": 4,
    "start_time": "2022-11-25T22:11:06.373Z"
   },
   {
    "duration": 310,
    "start_time": "2022-11-25T22:11:07.779Z"
   },
   {
    "duration": 261,
    "start_time": "2022-11-25T22:11:08.460Z"
   },
   {
    "duration": 263,
    "start_time": "2022-11-25T22:11:09.133Z"
   },
   {
    "duration": 362,
    "start_time": "2022-11-25T22:11:09.837Z"
   },
   {
    "duration": 137,
    "start_time": "2022-11-25T22:11:10.902Z"
   },
   {
    "duration": 154,
    "start_time": "2022-11-25T22:11:11.566Z"
   },
   {
    "duration": 182,
    "start_time": "2022-11-25T22:11:12.216Z"
   },
   {
    "duration": 5,
    "start_time": "2022-11-25T22:11:12.935Z"
   },
   {
    "duration": 142,
    "start_time": "2022-11-25T22:11:13.282Z"
   },
   {
    "duration": 166,
    "start_time": "2022-11-25T22:11:14.021Z"
   },
   {
    "duration": 195,
    "start_time": "2022-11-25T22:11:14.409Z"
   },
   {
    "duration": 237,
    "start_time": "2022-11-25T22:11:14.755Z"
   },
   {
    "duration": 174,
    "start_time": "2022-11-25T22:11:15.130Z"
   },
   {
    "duration": 177,
    "start_time": "2022-11-25T22:11:15.441Z"
   },
   {
    "duration": 172,
    "start_time": "2022-11-25T22:11:15.803Z"
   },
   {
    "duration": 533,
    "start_time": "2022-11-25T22:11:16.855Z"
   },
   {
    "duration": 5,
    "start_time": "2022-11-25T22:11:17.391Z"
   },
   {
    "duration": 176,
    "start_time": "2022-11-25T22:11:18.994Z"
   },
   {
    "duration": 475,
    "start_time": "2022-11-25T22:11:19.417Z"
   },
   {
    "duration": 0,
    "start_time": "2022-11-25T22:11:19.894Z"
   },
   {
    "duration": 159,
    "start_time": "2022-11-25T22:11:20.093Z"
   },
   {
    "duration": 374,
    "start_time": "2022-11-25T22:11:20.478Z"
   },
   {
    "duration": 36,
    "start_time": "2022-11-25T22:11:21.926Z"
   },
   {
    "duration": 9,
    "start_time": "2022-11-25T22:11:23.065Z"
   },
   {
    "duration": 6,
    "start_time": "2022-11-25T22:11:23.570Z"
   },
   {
    "duration": 444,
    "start_time": "2022-11-25T22:11:24.161Z"
   },
   {
    "duration": 167,
    "start_time": "2022-11-25T22:11:24.750Z"
   },
   {
    "duration": 28,
    "start_time": "2022-11-25T22:11:57.435Z"
   },
   {
    "duration": 92,
    "start_time": "2022-11-25T22:12:06.795Z"
   },
   {
    "duration": 15,
    "start_time": "2022-11-25T22:12:07.681Z"
   },
   {
    "duration": 2184,
    "start_time": "2022-11-25T22:12:08.499Z"
   },
   {
    "duration": 10,
    "start_time": "2022-11-25T22:12:11.693Z"
   },
   {
    "duration": 30,
    "start_time": "2022-11-25T22:12:12.103Z"
   },
   {
    "duration": 15,
    "start_time": "2022-11-25T22:12:15.698Z"
   },
   {
    "duration": 7,
    "start_time": "2022-11-25T22:12:17.601Z"
   },
   {
    "duration": 5,
    "start_time": "2022-11-25T22:12:18.927Z"
   },
   {
    "duration": 10,
    "start_time": "2022-11-25T22:12:19.355Z"
   },
   {
    "duration": 6,
    "start_time": "2022-11-25T22:12:19.810Z"
   },
   {
    "duration": 5,
    "start_time": "2022-11-25T22:12:21.587Z"
   },
   {
    "duration": 7,
    "start_time": "2022-11-25T22:12:22.017Z"
   },
   {
    "duration": 6,
    "start_time": "2022-11-25T22:12:22.495Z"
   },
   {
    "duration": 6,
    "start_time": "2022-11-25T22:12:22.923Z"
   },
   {
    "duration": 6,
    "start_time": "2022-11-25T22:12:23.379Z"
   },
   {
    "duration": 9,
    "start_time": "2022-11-25T22:12:23.808Z"
   },
   {
    "duration": 257,
    "start_time": "2022-11-25T22:12:24.254Z"
   },
   {
    "duration": 5,
    "start_time": "2022-11-25T22:12:24.704Z"
   },
   {
    "duration": 5,
    "start_time": "2022-11-25T22:12:25.169Z"
   },
   {
    "duration": 4,
    "start_time": "2022-11-25T22:12:25.600Z"
   },
   {
    "duration": 381,
    "start_time": "2022-11-25T22:12:27.398Z"
   },
   {
    "duration": 258,
    "start_time": "2022-11-25T22:12:28.125Z"
   },
   {
    "duration": 266,
    "start_time": "2022-11-25T22:12:28.852Z"
   },
   {
    "duration": 287,
    "start_time": "2022-11-25T22:12:29.500Z"
   },
   {
    "duration": 174,
    "start_time": "2022-11-25T22:12:30.594Z"
   },
   {
    "duration": 146,
    "start_time": "2022-11-25T22:12:31.354Z"
   },
   {
    "duration": 174,
    "start_time": "2022-11-25T22:12:32.080Z"
   },
   {
    "duration": 6,
    "start_time": "2022-11-25T22:12:32.811Z"
   },
   {
    "duration": 158,
    "start_time": "2022-11-25T22:12:34.107Z"
   },
   {
    "duration": 161,
    "start_time": "2022-11-25T22:12:35.251Z"
   },
   {
    "duration": 273,
    "start_time": "2022-11-25T22:12:35.748Z"
   },
   {
    "duration": 228,
    "start_time": "2022-11-25T22:12:36.255Z"
   },
   {
    "duration": 161,
    "start_time": "2022-11-25T22:12:36.751Z"
   },
   {
    "duration": 175,
    "start_time": "2022-11-25T22:12:37.314Z"
   },
   {
    "duration": 176,
    "start_time": "2022-11-25T22:12:37.893Z"
   },
   {
    "duration": 458,
    "start_time": "2022-11-25T22:12:39.499Z"
   },
   {
    "duration": 5,
    "start_time": "2022-11-25T22:12:40.029Z"
   },
   {
    "duration": 136,
    "start_time": "2022-11-25T22:12:42.918Z"
   },
   {
    "duration": 437,
    "start_time": "2022-11-25T22:12:43.431Z"
   },
   {
    "duration": 383,
    "start_time": "2022-11-25T22:12:44.017Z"
   },
   {
    "duration": 238,
    "start_time": "2022-11-25T22:12:45.230Z"
   },
   {
    "duration": 447,
    "start_time": "2022-11-25T22:12:46.730Z"
   },
   {
    "duration": 396,
    "start_time": "2022-11-25T22:13:20.263Z"
   },
   {
    "duration": 27,
    "start_time": "2022-11-25T22:13:22.255Z"
   },
   {
    "duration": 14,
    "start_time": "2022-11-25T22:13:23.735Z"
   },
   {
    "duration": 5,
    "start_time": "2022-11-25T22:13:24.227Z"
   },
   {
    "duration": 417,
    "start_time": "2022-11-25T22:13:24.779Z"
   },
   {
    "duration": 147,
    "start_time": "2022-11-25T22:13:25.307Z"
   },
   {
    "duration": 411,
    "start_time": "2022-11-25T22:14:02.297Z"
   },
   {
    "duration": 148,
    "start_time": "2022-11-25T22:14:03.491Z"
   },
   {
    "duration": 396,
    "start_time": "2022-11-25T22:14:34.693Z"
   },
   {
    "duration": 29,
    "start_time": "2022-11-25T22:15:28.947Z"
   },
   {
    "duration": 10,
    "start_time": "2022-11-25T22:20:13.178Z"
   },
   {
    "duration": 455,
    "start_time": "2022-11-25T22:20:14.103Z"
   },
   {
    "duration": 153,
    "start_time": "2022-11-25T22:21:39.811Z"
   },
   {
    "duration": 145,
    "start_time": "2022-11-25T22:22:17.161Z"
   },
   {
    "duration": 231,
    "start_time": "2022-11-25T22:22:26.811Z"
   },
   {
    "duration": 194,
    "start_time": "2022-11-25T22:23:17.053Z"
   },
   {
    "duration": 433,
    "start_time": "2022-11-25T22:23:35.583Z"
   },
   {
    "duration": 592,
    "start_time": "2022-11-26T22:34:12.718Z"
   },
   {
    "duration": 18,
    "start_time": "2022-11-26T22:34:13.569Z"
   },
   {
    "duration": 2567,
    "start_time": "2022-11-26T22:34:14.382Z"
   },
   {
    "duration": 17,
    "start_time": "2022-11-26T22:34:20.233Z"
   },
   {
    "duration": 36,
    "start_time": "2022-11-26T22:34:20.704Z"
   },
   {
    "duration": 16,
    "start_time": "2022-11-26T22:34:23.501Z"
   },
   {
    "duration": 6,
    "start_time": "2022-11-26T22:34:38.956Z"
   },
   {
    "duration": 7,
    "start_time": "2022-11-26T22:35:26.629Z"
   },
   {
    "duration": 6,
    "start_time": "2022-11-26T22:35:53.731Z"
   },
   {
    "duration": 8,
    "start_time": "2022-11-26T22:36:00.205Z"
   },
   {
    "duration": 7,
    "start_time": "2022-11-26T22:36:46.252Z"
   },
   {
    "duration": 8,
    "start_time": "2022-11-26T22:36:52.655Z"
   },
   {
    "duration": 11,
    "start_time": "2022-11-26T22:36:53.401Z"
   },
   {
    "duration": 6,
    "start_time": "2022-11-26T22:37:52.954Z"
   },
   {
    "duration": 6,
    "start_time": "2022-11-26T22:37:58.079Z"
   },
   {
    "duration": 8,
    "start_time": "2022-11-26T22:39:12.153Z"
   },
   {
    "duration": 5,
    "start_time": "2022-11-26T22:39:44.885Z"
   },
   {
    "duration": 8,
    "start_time": "2022-11-26T22:40:09.589Z"
   },
   {
    "duration": 6,
    "start_time": "2022-11-26T22:43:07.411Z"
   },
   {
    "duration": 5,
    "start_time": "2022-11-26T22:43:27.021Z"
   },
   {
    "duration": 6,
    "start_time": "2022-11-26T22:43:36.381Z"
   },
   {
    "duration": 73,
    "start_time": "2022-11-26T22:44:13.382Z"
   },
   {
    "duration": 10,
    "start_time": "2022-11-26T22:44:31.631Z"
   },
   {
    "duration": 5,
    "start_time": "2022-11-26T22:44:34.323Z"
   },
   {
    "duration": 6,
    "start_time": "2022-11-26T22:44:51.347Z"
   },
   {
    "duration": 7,
    "start_time": "2022-11-26T22:45:06.601Z"
   },
   {
    "duration": 7,
    "start_time": "2022-11-26T22:45:57.223Z"
   },
   {
    "duration": 6,
    "start_time": "2022-11-26T22:46:07.257Z"
   },
   {
    "duration": 4,
    "start_time": "2022-11-26T22:50:12.776Z"
   },
   {
    "duration": 6,
    "start_time": "2022-11-26T22:51:36.274Z"
   },
   {
    "duration": 3,
    "start_time": "2022-11-26T22:56:35.127Z"
   },
   {
    "duration": 4,
    "start_time": "2022-11-26T22:56:57.184Z"
   },
   {
    "duration": 17,
    "start_time": "2022-11-26T22:59:28.177Z"
   },
   {
    "duration": 17,
    "start_time": "2022-11-26T22:59:49.007Z"
   },
   {
    "duration": 10,
    "start_time": "2022-11-26T23:09:28.225Z"
   },
   {
    "duration": 73,
    "start_time": "2022-11-26T23:10:36.507Z"
   },
   {
    "duration": 11,
    "start_time": "2022-11-26T23:10:47.339Z"
   },
   {
    "duration": 16,
    "start_time": "2022-11-26T23:13:54.296Z"
   },
   {
    "duration": 71,
    "start_time": "2022-11-26T23:15:17.198Z"
   },
   {
    "duration": 11,
    "start_time": "2022-11-26T23:15:38.872Z"
   },
   {
    "duration": 19,
    "start_time": "2022-11-26T23:16:00.588Z"
   },
   {
    "duration": 12,
    "start_time": "2022-11-26T23:40:42.367Z"
   },
   {
    "duration": 13,
    "start_time": "2022-11-26T23:40:56.873Z"
   },
   {
    "duration": 10,
    "start_time": "2022-11-26T23:41:00.948Z"
   },
   {
    "duration": 113,
    "start_time": "2022-11-26T23:41:30.563Z"
   },
   {
    "duration": 16,
    "start_time": "2022-11-26T23:41:31.552Z"
   },
   {
    "duration": 2038,
    "start_time": "2022-11-26T23:41:32.526Z"
   },
   {
    "duration": 11,
    "start_time": "2022-11-26T23:41:35.952Z"
   },
   {
    "duration": 29,
    "start_time": "2022-11-26T23:41:36.454Z"
   },
   {
    "duration": 16,
    "start_time": "2022-11-26T23:41:39.446Z"
   },
   {
    "duration": 9,
    "start_time": "2022-11-26T23:41:42.284Z"
   },
   {
    "duration": 9,
    "start_time": "2022-11-26T23:42:03.955Z"
   },
   {
    "duration": 18,
    "start_time": "2022-11-26T23:42:32.176Z"
   },
   {
    "duration": 47,
    "start_time": "2022-11-28T06:26:05.954Z"
   },
   {
    "duration": 499,
    "start_time": "2022-11-28T06:26:18.281Z"
   },
   {
    "duration": 16,
    "start_time": "2022-11-28T06:26:19.196Z"
   },
   {
    "duration": 2236,
    "start_time": "2022-11-28T06:26:19.967Z"
   },
   {
    "duration": 14,
    "start_time": "2022-11-28T06:26:22.538Z"
   },
   {
    "duration": 31,
    "start_time": "2022-11-28T06:26:22.937Z"
   },
   {
    "duration": 15,
    "start_time": "2022-11-28T06:26:25.137Z"
   },
   {
    "duration": 37,
    "start_time": "2022-11-28T06:26:26.736Z"
   },
   {
    "duration": 3,
    "start_time": "2022-11-28T06:38:03.791Z"
   },
   {
    "duration": 8,
    "start_time": "2022-11-28T06:40:18.853Z"
   },
   {
    "duration": 13,
    "start_time": "2022-11-28T06:41:25.745Z"
   },
   {
    "duration": 22,
    "start_time": "2022-11-28T06:41:33.698Z"
   },
   {
    "duration": 79,
    "start_time": "2022-11-28T06:42:40.080Z"
   },
   {
    "duration": 13,
    "start_time": "2022-11-28T06:43:00.736Z"
   },
   {
    "duration": 16,
    "start_time": "2022-11-28T06:43:34.305Z"
   },
   {
    "duration": 20,
    "start_time": "2022-11-28T06:44:03.779Z"
   },
   {
    "duration": 46,
    "start_time": "2022-11-28T06:45:10.483Z"
   },
   {
    "duration": 64,
    "start_time": "2022-11-28T06:50:45.901Z"
   },
   {
    "duration": 89,
    "start_time": "2022-11-28T06:51:20.755Z"
   },
   {
    "duration": 14,
    "start_time": "2022-11-28T06:51:21.551Z"
   },
   {
    "duration": 1951,
    "start_time": "2022-11-28T06:51:22.337Z"
   },
   {
    "duration": 9,
    "start_time": "2022-11-28T06:51:25.084Z"
   },
   {
    "duration": 28,
    "start_time": "2022-11-28T06:51:25.472Z"
   },
   {
    "duration": 16,
    "start_time": "2022-11-28T06:51:27.799Z"
   },
   {
    "duration": 54,
    "start_time": "2022-11-28T06:51:29.375Z"
   },
   {
    "duration": 59,
    "start_time": "2022-11-28T06:51:46.187Z"
   },
   {
    "duration": 5,
    "start_time": "2022-11-28T06:52:07.608Z"
   },
   {
    "duration": 5,
    "start_time": "2022-11-28T06:52:34.934Z"
   },
   {
    "duration": 7,
    "start_time": "2022-11-28T06:53:04.634Z"
   },
   {
    "duration": 58,
    "start_time": "2022-11-28T06:57:10.701Z"
   },
   {
    "duration": 6,
    "start_time": "2022-11-28T06:57:11.473Z"
   },
   {
    "duration": 73,
    "start_time": "2022-11-28T06:59:36.142Z"
   },
   {
    "duration": 7,
    "start_time": "2022-11-28T06:59:36.671Z"
   },
   {
    "duration": 78,
    "start_time": "2022-11-28T07:07:06.266Z"
   },
   {
    "duration": 7,
    "start_time": "2022-11-28T07:07:07.171Z"
   },
   {
    "duration": 78,
    "start_time": "2022-11-28T07:08:06.946Z"
   },
   {
    "duration": 85,
    "start_time": "2022-11-28T07:08:44.354Z"
   },
   {
    "duration": 7,
    "start_time": "2022-11-28T07:08:47.923Z"
   },
   {
    "duration": 114,
    "start_time": "2022-11-28T07:09:47.423Z"
   },
   {
    "duration": 6,
    "start_time": "2022-11-28T07:09:48.069Z"
   },
   {
    "duration": 72,
    "start_time": "2022-11-28T07:11:20.604Z"
   },
   {
    "duration": 6,
    "start_time": "2022-11-28T07:11:21.129Z"
   },
   {
    "duration": 114,
    "start_time": "2022-11-28T07:12:48.984Z"
   },
   {
    "duration": 7,
    "start_time": "2022-11-28T07:12:49.896Z"
   },
   {
    "duration": 113,
    "start_time": "2022-11-28T07:13:35.932Z"
   },
   {
    "duration": 6,
    "start_time": "2022-11-28T07:13:36.526Z"
   },
   {
    "duration": 116,
    "start_time": "2022-11-28T07:14:37.791Z"
   },
   {
    "duration": 6,
    "start_time": "2022-11-28T07:14:38.474Z"
   },
   {
    "duration": 169,
    "start_time": "2022-11-28T07:16:15.426Z"
   },
   {
    "duration": 6,
    "start_time": "2022-11-28T07:17:10.644Z"
   },
   {
    "duration": 14,
    "start_time": "2022-11-28T07:17:22.469Z"
   },
   {
    "duration": 117,
    "start_time": "2022-11-28T07:18:43.264Z"
   },
   {
    "duration": 4,
    "start_time": "2022-11-28T07:18:45.630Z"
   },
   {
    "duration": 13,
    "start_time": "2022-11-28T07:18:46.209Z"
   },
   {
    "duration": 5,
    "start_time": "2022-11-28T07:18:46.766Z"
   },
   {
    "duration": 6,
    "start_time": "2022-11-28T07:18:49.493Z"
   },
   {
    "duration": 11,
    "start_time": "2022-11-28T07:18:49.997Z"
   },
   {
    "duration": 7,
    "start_time": "2022-11-28T07:18:50.496Z"
   },
   {
    "duration": 7,
    "start_time": "2022-11-28T07:18:51.018Z"
   },
   {
    "duration": 6,
    "start_time": "2022-11-28T07:18:51.580Z"
   },
   {
    "duration": 3,
    "start_time": "2022-11-28T07:18:52.671Z"
   },
   {
    "duration": 245,
    "start_time": "2022-11-28T07:18:53.118Z"
   },
   {
    "duration": 4,
    "start_time": "2022-11-28T07:18:53.638Z"
   },
   {
    "duration": 6,
    "start_time": "2022-11-28T07:18:54.218Z"
   },
   {
    "duration": 4,
    "start_time": "2022-11-28T07:18:54.955Z"
   },
   {
    "duration": 274,
    "start_time": "2022-11-28T07:18:58.999Z"
   },
   {
    "duration": 266,
    "start_time": "2022-11-28T07:19:00.429Z"
   },
   {
    "duration": 291,
    "start_time": "2022-11-28T07:19:01.590Z"
   },
   {
    "duration": 267,
    "start_time": "2022-11-28T07:19:02.686Z"
   },
   {
    "duration": 135,
    "start_time": "2022-11-28T07:19:04.404Z"
   },
   {
    "duration": 145,
    "start_time": "2022-11-28T07:19:05.491Z"
   },
   {
    "duration": 155,
    "start_time": "2022-11-28T07:19:06.595Z"
   },
   {
    "duration": 4,
    "start_time": "2022-11-28T07:19:07.661Z"
   },
   {
    "duration": 129,
    "start_time": "2022-11-28T07:19:08.186Z"
   },
   {
    "duration": 149,
    "start_time": "2022-11-28T07:19:09.556Z"
   },
   {
    "duration": 173,
    "start_time": "2022-11-28T07:19:10.173Z"
   },
   {
    "duration": 219,
    "start_time": "2022-11-28T07:19:10.908Z"
   },
   {
    "duration": 160,
    "start_time": "2022-11-28T07:19:11.453Z"
   },
   {
    "duration": 238,
    "start_time": "2022-11-28T07:19:12.002Z"
   },
   {
    "duration": 165,
    "start_time": "2022-11-28T07:19:12.567Z"
   },
   {
    "duration": 416,
    "start_time": "2022-11-28T07:19:15.099Z"
   },
   {
    "duration": 5,
    "start_time": "2022-11-28T07:19:15.763Z"
   },
   {
    "duration": 148,
    "start_time": "2022-11-28T07:19:19.258Z"
   },
   {
    "duration": 407,
    "start_time": "2022-11-28T07:19:20.500Z"
   },
   {
    "duration": 356,
    "start_time": "2022-11-28T07:19:23.111Z"
   },
   {
    "duration": 162,
    "start_time": "2022-11-28T07:19:26.764Z"
   },
   {
    "duration": 381,
    "start_time": "2022-11-28T07:19:27.485Z"
   },
   {
    "duration": 26,
    "start_time": "2022-11-28T07:19:33.196Z"
   },
   {
    "duration": 9,
    "start_time": "2022-11-28T07:19:47.280Z"
   },
   {
    "duration": 518,
    "start_time": "2022-11-28T07:19:47.900Z"
   },
   {
    "duration": 232,
    "start_time": "2022-11-28T07:19:48.552Z"
   },
   {
    "duration": 118,
    "start_time": "2022-11-28T07:31:15.618Z"
   },
   {
    "duration": 68,
    "start_time": "2022-11-28T07:41:38.587Z"
   },
   {
    "duration": 92,
    "start_time": "2022-11-28T07:43:12.087Z"
   },
   {
    "duration": 77,
    "start_time": "2022-11-28T07:46:11.424Z"
   },
   {
    "duration": 106,
    "start_time": "2022-11-28T07:47:50.002Z"
   },
   {
    "duration": 142,
    "start_time": "2022-11-28T07:52:51.113Z"
   },
   {
    "duration": 21,
    "start_time": "2022-11-28T07:55:50.161Z"
   },
   {
    "duration": 24,
    "start_time": "2022-11-28T07:56:15.509Z"
   },
   {
    "duration": 4,
    "start_time": "2022-11-28T08:10:17.321Z"
   },
   {
    "duration": 8,
    "start_time": "2022-11-28T08:14:56.641Z"
   },
   {
    "duration": 5,
    "start_time": "2022-11-28T08:15:13.920Z"
   },
   {
    "duration": 72,
    "start_time": "2022-11-28T08:22:59.060Z"
   },
   {
    "duration": 10,
    "start_time": "2022-11-28T08:23:19.849Z"
   },
   {
    "duration": 20,
    "start_time": "2022-11-28T08:23:42.674Z"
   },
   {
    "duration": 7,
    "start_time": "2022-11-28T08:24:15.408Z"
   },
   {
    "duration": 23,
    "start_time": "2022-11-28T08:26:44.897Z"
   },
   {
    "duration": 10,
    "start_time": "2022-11-28T08:26:49.540Z"
   },
   {
    "duration": 18,
    "start_time": "2022-11-28T08:29:35.999Z"
   },
   {
    "duration": 9,
    "start_time": "2022-11-28T08:29:37.414Z"
   },
   {
    "duration": 23,
    "start_time": "2022-11-28T08:32:19.585Z"
   },
   {
    "duration": 6,
    "start_time": "2022-11-28T08:32:20.095Z"
   },
   {
    "duration": 16,
    "start_time": "2022-11-28T08:32:31.346Z"
   },
   {
    "duration": 10,
    "start_time": "2022-11-28T08:32:32.833Z"
   },
   {
    "duration": 438,
    "start_time": "2022-11-28T08:32:55.896Z"
   },
   {
    "duration": 9,
    "start_time": "2022-11-28T08:37:48.997Z"
   },
   {
    "duration": 24,
    "start_time": "2022-11-28T08:37:53.870Z"
   },
   {
    "duration": 137,
    "start_time": "2022-11-28T08:38:19.693Z"
   },
   {
    "duration": 15,
    "start_time": "2022-11-28T08:39:05.643Z"
   },
   {
    "duration": 7,
    "start_time": "2022-11-28T08:39:06.907Z"
   },
   {
    "duration": 52,
    "start_time": "2022-11-28T12:50:35.648Z"
   },
   {
    "duration": 555,
    "start_time": "2022-11-28T12:50:47.551Z"
   },
   {
    "duration": 15,
    "start_time": "2022-11-28T12:50:48.581Z"
   },
   {
    "duration": 2335,
    "start_time": "2022-11-28T12:50:49.639Z"
   },
   {
    "duration": 10,
    "start_time": "2022-11-28T12:50:53.412Z"
   },
   {
    "duration": 29,
    "start_time": "2022-11-28T12:50:54.617Z"
   },
   {
    "duration": 15,
    "start_time": "2022-11-28T12:50:58.915Z"
   },
   {
    "duration": 131,
    "start_time": "2022-11-28T12:51:02.294Z"
   },
   {
    "duration": 4,
    "start_time": "2022-11-28T12:51:03.843Z"
   },
   {
    "duration": 12,
    "start_time": "2022-11-28T12:51:04.328Z"
   },
   {
    "duration": 6,
    "start_time": "2022-11-28T12:51:04.755Z"
   },
   {
    "duration": 5,
    "start_time": "2022-11-28T12:51:11.070Z"
   },
   {
    "duration": 8,
    "start_time": "2022-11-28T12:51:12.211Z"
   },
   {
    "duration": 8,
    "start_time": "2022-11-28T12:51:12.768Z"
   },
   {
    "duration": 5,
    "start_time": "2022-11-28T12:51:13.257Z"
   },
   {
    "duration": 5,
    "start_time": "2022-11-28T12:51:22.532Z"
   },
   {
    "duration": 3,
    "start_time": "2022-11-28T12:51:23.176Z"
   },
   {
    "duration": 293,
    "start_time": "2022-11-28T12:51:23.765Z"
   },
   {
    "duration": 4,
    "start_time": "2022-11-28T12:51:24.275Z"
   },
   {
    "duration": 5,
    "start_time": "2022-11-28T12:51:24.736Z"
   },
   {
    "duration": 5,
    "start_time": "2022-11-28T12:51:25.242Z"
   },
   {
    "duration": 283,
    "start_time": "2022-11-28T12:51:27.107Z"
   },
   {
    "duration": 320,
    "start_time": "2022-11-28T12:51:28.092Z"
   },
   {
    "duration": 195,
    "start_time": "2022-11-28T12:51:29.060Z"
   },
   {
    "duration": 282,
    "start_time": "2022-11-28T12:51:29.948Z"
   },
   {
    "duration": 133,
    "start_time": "2022-11-28T12:51:31.264Z"
   },
   {
    "duration": 134,
    "start_time": "2022-11-28T12:51:32.208Z"
   },
   {
    "duration": 166,
    "start_time": "2022-11-28T12:51:33.785Z"
   },
   {
    "duration": 72,
    "start_time": "2022-11-28T12:51:34.792Z"
   },
   {
    "duration": 4,
    "start_time": "2022-11-28T12:51:35.274Z"
   },
   {
    "duration": 131,
    "start_time": "2022-11-28T12:51:35.709Z"
   },
   {
    "duration": 142,
    "start_time": "2022-11-28T12:51:36.681Z"
   },
   {
    "duration": 163,
    "start_time": "2022-11-28T12:51:37.168Z"
   },
   {
    "duration": 284,
    "start_time": "2022-11-28T12:51:37.643Z"
   },
   {
    "duration": 144,
    "start_time": "2022-11-28T12:51:38.139Z"
   },
   {
    "duration": 154,
    "start_time": "2022-11-28T12:51:38.612Z"
   },
   {
    "duration": 146,
    "start_time": "2022-11-28T12:51:39.134Z"
   },
   {
    "duration": 409,
    "start_time": "2022-11-28T12:51:40.555Z"
   },
   {
    "duration": 6,
    "start_time": "2022-11-28T12:51:41.001Z"
   },
   {
    "duration": 140,
    "start_time": "2022-11-28T12:51:43.367Z"
   },
   {
    "duration": 403,
    "start_time": "2022-11-28T12:51:43.848Z"
   },
   {
    "duration": 407,
    "start_time": "2022-11-28T12:51:44.375Z"
   },
   {
    "duration": 145,
    "start_time": "2022-11-28T12:51:45.426Z"
   },
   {
    "duration": 424,
    "start_time": "2022-11-28T12:51:45.902Z"
   },
   {
    "duration": 26,
    "start_time": "2022-11-28T12:51:51.938Z"
   },
   {
    "duration": 8,
    "start_time": "2022-11-28T12:51:54.748Z"
   },
   {
    "duration": 391,
    "start_time": "2022-11-28T12:51:55.358Z"
   },
   {
    "duration": 15,
    "start_time": "2022-11-28T12:51:56.540Z"
   },
   {
    "duration": 6,
    "start_time": "2022-11-28T12:51:57.222Z"
   },
   {
    "duration": 12,
    "start_time": "2022-11-28T12:52:18.696Z"
   },
   {
    "duration": 9,
    "start_time": "2022-11-28T12:52:41.179Z"
   },
   {
    "duration": 403,
    "start_time": "2022-11-28T12:52:42.047Z"
   },
   {
    "duration": 18,
    "start_time": "2022-11-28T12:52:43.119Z"
   },
   {
    "duration": 10,
    "start_time": "2022-11-28T12:52:43.999Z"
   },
   {
    "duration": 83,
    "start_time": "2022-11-28T12:53:27.018Z"
   },
   {
    "duration": 14,
    "start_time": "2022-11-28T12:53:28.846Z"
   },
   {
    "duration": 1810,
    "start_time": "2022-11-28T12:53:30.487Z"
   },
   {
    "duration": 9,
    "start_time": "2022-11-28T12:53:36.595Z"
   },
   {
    "duration": 31,
    "start_time": "2022-11-28T12:53:37.283Z"
   },
   {
    "duration": 13,
    "start_time": "2022-11-28T12:53:41.593Z"
   },
   {
    "duration": 113,
    "start_time": "2022-11-28T12:53:44.381Z"
   },
   {
    "duration": 4,
    "start_time": "2022-11-28T12:53:46.333Z"
   },
   {
    "duration": 11,
    "start_time": "2022-11-28T12:53:47.015Z"
   },
   {
    "duration": 5,
    "start_time": "2022-11-28T12:53:47.669Z"
   },
   {
    "duration": 4,
    "start_time": "2022-11-28T12:53:50.377Z"
   },
   {
    "duration": 9,
    "start_time": "2022-11-28T12:53:51.001Z"
   },
   {
    "duration": 6,
    "start_time": "2022-11-28T12:53:51.625Z"
   },
   {
    "duration": 5,
    "start_time": "2022-11-28T12:53:52.276Z"
   },
   {
    "duration": 6,
    "start_time": "2022-11-28T12:53:52.864Z"
   },
   {
    "duration": 3,
    "start_time": "2022-11-28T12:53:53.486Z"
   },
   {
    "duration": 259,
    "start_time": "2022-11-28T12:53:54.104Z"
   },
   {
    "duration": 3,
    "start_time": "2022-11-28T12:53:54.788Z"
   },
   {
    "duration": 5,
    "start_time": "2022-11-28T12:53:55.418Z"
   },
   {
    "duration": 4,
    "start_time": "2022-11-28T12:53:56.093Z"
   },
   {
    "duration": 250,
    "start_time": "2022-11-28T12:53:58.670Z"
   },
   {
    "duration": 252,
    "start_time": "2022-11-28T12:53:59.939Z"
   },
   {
    "duration": 191,
    "start_time": "2022-11-28T12:54:01.421Z"
   },
   {
    "duration": 279,
    "start_time": "2022-11-28T12:54:02.688Z"
   },
   {
    "duration": 222,
    "start_time": "2022-11-28T12:54:04.761Z"
   },
   {
    "duration": 144,
    "start_time": "2022-11-28T12:54:06.051Z"
   },
   {
    "duration": 156,
    "start_time": "2022-11-28T12:54:07.382Z"
   },
   {
    "duration": 77,
    "start_time": "2022-11-28T12:54:08.669Z"
   },
   {
    "duration": 4,
    "start_time": "2022-11-28T12:54:09.284Z"
   },
   {
    "duration": 129,
    "start_time": "2022-11-28T12:54:09.974Z"
   },
   {
    "duration": 138,
    "start_time": "2022-11-28T12:54:11.342Z"
   },
   {
    "duration": 156,
    "start_time": "2022-11-28T12:54:12.026Z"
   },
   {
    "duration": 223,
    "start_time": "2022-11-28T12:54:12.724Z"
   },
   {
    "duration": 148,
    "start_time": "2022-11-28T12:54:13.411Z"
   },
   {
    "duration": 183,
    "start_time": "2022-11-28T12:54:14.093Z"
   },
   {
    "duration": 147,
    "start_time": "2022-11-28T12:54:14.773Z"
   },
   {
    "duration": 464,
    "start_time": "2022-11-28T12:54:16.873Z"
   },
   {
    "duration": 5,
    "start_time": "2022-11-28T12:54:17.828Z"
   },
   {
    "duration": 123,
    "start_time": "2022-11-28T12:54:21.662Z"
   },
   {
    "duration": 394,
    "start_time": "2022-11-28T12:54:22.691Z"
   },
   {
    "duration": 399,
    "start_time": "2022-11-28T12:54:23.829Z"
   },
   {
    "duration": 143,
    "start_time": "2022-11-28T12:54:25.104Z"
   },
   {
    "duration": 335,
    "start_time": "2022-11-28T12:54:26.056Z"
   },
   {
    "duration": 23,
    "start_time": "2022-11-28T12:54:30.397Z"
   },
   {
    "duration": 13,
    "start_time": "2022-11-28T12:54:34.117Z"
   },
   {
    "duration": 430,
    "start_time": "2022-11-28T12:54:34.885Z"
   },
   {
    "duration": 17,
    "start_time": "2022-11-28T12:54:36.168Z"
   },
   {
    "duration": 9,
    "start_time": "2022-11-28T12:54:37.042Z"
   },
   {
    "duration": 69,
    "start_time": "2022-11-28T12:59:28.354Z"
   },
   {
    "duration": 105,
    "start_time": "2022-11-28T13:00:57.710Z"
   },
   {
    "duration": 5,
    "start_time": "2022-11-28T13:00:58.133Z"
   },
   {
    "duration": 104,
    "start_time": "2022-11-28T13:06:06.670Z"
   },
   {
    "duration": 63,
    "start_time": "2022-11-28T13:06:12.108Z"
   },
   {
    "duration": 72,
    "start_time": "2022-11-28T13:06:28.870Z"
   },
   {
    "duration": 76,
    "start_time": "2022-11-28T13:06:50.925Z"
   },
   {
    "duration": 82,
    "start_time": "2022-11-28T13:07:13.325Z"
   },
   {
    "duration": 87,
    "start_time": "2022-11-28T13:07:14.515Z"
   },
   {
    "duration": 82,
    "start_time": "2022-11-28T13:07:32.969Z"
   },
   {
    "duration": 522,
    "start_time": "2022-11-28T20:05:44.208Z"
   },
   {
    "duration": 18,
    "start_time": "2022-11-28T20:05:45.155Z"
   },
   {
    "duration": 2348,
    "start_time": "2022-11-28T20:05:46.010Z"
   },
   {
    "duration": 10,
    "start_time": "2022-11-28T20:05:50.865Z"
   },
   {
    "duration": 32,
    "start_time": "2022-11-28T20:05:51.310Z"
   },
   {
    "duration": 17,
    "start_time": "2022-11-28T20:05:53.859Z"
   },
   {
    "duration": 132,
    "start_time": "2022-11-28T20:05:55.562Z"
   },
   {
    "duration": 4,
    "start_time": "2022-11-28T20:05:56.841Z"
   },
   {
    "duration": 15,
    "start_time": "2022-11-28T20:05:57.258Z"
   },
   {
    "duration": 6,
    "start_time": "2022-11-28T20:05:57.737Z"
   },
   {
    "duration": 4,
    "start_time": "2022-11-28T20:05:59.485Z"
   },
   {
    "duration": 8,
    "start_time": "2022-11-28T20:05:59.930Z"
   },
   {
    "duration": 6,
    "start_time": "2022-11-28T20:06:00.363Z"
   },
   {
    "duration": 6,
    "start_time": "2022-11-28T20:06:00.814Z"
   },
   {
    "duration": 5,
    "start_time": "2022-11-28T20:06:01.242Z"
   },
   {
    "duration": 3,
    "start_time": "2022-11-28T20:06:01.708Z"
   },
   {
    "duration": 274,
    "start_time": "2022-11-28T20:06:02.158Z"
   },
   {
    "duration": 4,
    "start_time": "2022-11-28T20:06:02.623Z"
   },
   {
    "duration": 5,
    "start_time": "2022-11-28T20:06:03.076Z"
   },
   {
    "duration": 5,
    "start_time": "2022-11-28T20:06:03.514Z"
   },
   {
    "duration": 356,
    "start_time": "2022-11-28T20:06:05.698Z"
   },
   {
    "duration": 393,
    "start_time": "2022-11-28T20:06:06.621Z"
   },
   {
    "duration": 213,
    "start_time": "2022-11-28T20:06:08.535Z"
   },
   {
    "duration": 256,
    "start_time": "2022-11-28T20:06:09.498Z"
   },
   {
    "duration": 139,
    "start_time": "2022-11-28T20:06:11.009Z"
   },
   {
    "duration": 142,
    "start_time": "2022-11-28T20:06:11.961Z"
   },
   {
    "duration": 171,
    "start_time": "2022-11-28T20:06:12.899Z"
   },
   {
    "duration": 95,
    "start_time": "2022-11-28T20:06:13.848Z"
   },
   {
    "duration": 72,
    "start_time": "2022-11-28T20:06:14.343Z"
   },
   {
    "duration": 4,
    "start_time": "2022-11-28T20:06:14.811Z"
   },
   {
    "duration": 135,
    "start_time": "2022-11-28T20:06:16.108Z"
   },
   {
    "duration": 141,
    "start_time": "2022-11-28T20:06:18.027Z"
   },
   {
    "duration": 167,
    "start_time": "2022-11-28T20:06:18.842Z"
   },
   {
    "duration": 285,
    "start_time": "2022-11-28T20:06:19.641Z"
   },
   {
    "duration": 168,
    "start_time": "2022-11-28T20:06:20.363Z"
   },
   {
    "duration": 159,
    "start_time": "2022-11-28T20:06:21.037Z"
   },
   {
    "duration": 143,
    "start_time": "2022-11-28T20:06:21.727Z"
   },
   {
    "duration": 531,
    "start_time": "2022-11-28T20:06:23.851Z"
   },
   {
    "duration": 5,
    "start_time": "2022-11-28T20:06:24.534Z"
   },
   {
    "duration": 133,
    "start_time": "2022-11-28T20:06:27.937Z"
   },
   {
    "duration": 473,
    "start_time": "2022-11-28T20:06:28.699Z"
   },
   {
    "duration": 419,
    "start_time": "2022-11-28T20:06:29.439Z"
   },
   {
    "duration": 139,
    "start_time": "2022-11-28T20:06:30.761Z"
   },
   {
    "duration": 455,
    "start_time": "2022-11-28T20:06:31.605Z"
   },
   {
    "duration": 25,
    "start_time": "2022-11-28T20:06:35.940Z"
   },
   {
    "duration": 9,
    "start_time": "2022-11-28T20:06:38.752Z"
   },
   {
    "duration": 409,
    "start_time": "2022-11-28T20:06:39.537Z"
   },
   {
    "duration": 16,
    "start_time": "2022-11-28T20:06:40.441Z"
   },
   {
    "duration": 9,
    "start_time": "2022-11-28T20:06:41.810Z"
   },
   {
    "duration": 25,
    "start_time": "2022-11-28T20:09:45.034Z"
   },
   {
    "duration": 15,
    "start_time": "2022-11-28T20:09:47.964Z"
   },
   {
    "duration": 124,
    "start_time": "2022-11-28T20:09:49.282Z"
   },
   {
    "duration": 4,
    "start_time": "2022-11-28T20:09:50.282Z"
   },
   {
    "duration": 12,
    "start_time": "2022-11-28T20:09:50.612Z"
   },
   {
    "duration": 6,
    "start_time": "2022-11-28T20:09:50.971Z"
   },
   {
    "duration": 4,
    "start_time": "2022-11-28T20:09:52.456Z"
   },
   {
    "duration": 10,
    "start_time": "2022-11-28T20:09:52.826Z"
   },
   {
    "duration": 6,
    "start_time": "2022-11-28T20:09:53.221Z"
   },
   {
    "duration": 6,
    "start_time": "2022-11-28T20:09:53.561Z"
   },
   {
    "duration": 6,
    "start_time": "2022-11-28T20:09:53.926Z"
   },
   {
    "duration": 3,
    "start_time": "2022-11-28T20:09:54.276Z"
   },
   {
    "duration": 237,
    "start_time": "2022-11-28T20:09:54.652Z"
   },
   {
    "duration": 4,
    "start_time": "2022-11-28T20:09:54.993Z"
   },
   {
    "duration": 5,
    "start_time": "2022-11-28T20:09:55.385Z"
   },
   {
    "duration": 4,
    "start_time": "2022-11-28T20:09:55.724Z"
   },
   {
    "duration": 263,
    "start_time": "2022-11-28T20:09:57.351Z"
   },
   {
    "duration": 285,
    "start_time": "2022-11-28T20:09:58.277Z"
   },
   {
    "duration": 204,
    "start_time": "2022-11-28T20:09:59.076Z"
   },
   {
    "duration": 333,
    "start_time": "2022-11-28T20:09:59.893Z"
   },
   {
    "duration": 129,
    "start_time": "2022-11-28T20:10:01.610Z"
   },
   {
    "duration": 168,
    "start_time": "2022-11-28T20:10:02.455Z"
   },
   {
    "duration": 184,
    "start_time": "2022-11-28T20:10:03.240Z"
   },
   {
    "duration": 74,
    "start_time": "2022-11-28T20:10:04.038Z"
   },
   {
    "duration": 68,
    "start_time": "2022-11-28T20:10:04.444Z"
   },
   {
    "duration": 5,
    "start_time": "2022-11-28T20:10:04.937Z"
   },
   {
    "duration": 141,
    "start_time": "2022-11-28T20:10:05.347Z"
   },
   {
    "duration": 181,
    "start_time": "2022-11-28T20:10:06.279Z"
   },
   {
    "duration": 193,
    "start_time": "2022-11-28T20:10:06.700Z"
   },
   {
    "duration": 215,
    "start_time": "2022-11-28T20:10:07.081Z"
   },
   {
    "duration": 161,
    "start_time": "2022-11-28T20:10:07.506Z"
   },
   {
    "duration": 153,
    "start_time": "2022-11-28T20:10:07.925Z"
   },
   {
    "duration": 227,
    "start_time": "2022-11-28T20:10:08.320Z"
   },
   {
    "duration": 415,
    "start_time": "2022-11-28T20:10:09.546Z"
   },
   {
    "duration": 5,
    "start_time": "2022-11-28T20:10:09.963Z"
   },
   {
    "duration": 129,
    "start_time": "2022-11-28T20:10:12.043Z"
   },
   {
    "duration": 362,
    "start_time": "2022-11-28T20:10:12.848Z"
   },
   {
    "duration": 383,
    "start_time": "2022-11-28T20:10:13.675Z"
   },
   {
    "duration": 149,
    "start_time": "2022-11-28T20:10:14.833Z"
   },
   {
    "duration": 391,
    "start_time": "2022-11-28T20:10:15.911Z"
   },
   {
    "duration": 6,
    "start_time": "2022-11-28T20:18:01.262Z"
   },
   {
    "duration": 5,
    "start_time": "2022-11-28T20:18:44.285Z"
   },
   {
    "duration": 4,
    "start_time": "2022-11-28T20:18:49.957Z"
   },
   {
    "duration": 284,
    "start_time": "2022-11-28T20:18:52.260Z"
   },
   {
    "duration": 347,
    "start_time": "2022-11-28T20:18:53.071Z"
   },
   {
    "duration": 263,
    "start_time": "2022-11-28T20:18:53.900Z"
   },
   {
    "duration": 269,
    "start_time": "2022-11-28T20:18:54.706Z"
   },
   {
    "duration": 140,
    "start_time": "2022-11-28T20:18:55.941Z"
   },
   {
    "duration": 138,
    "start_time": "2022-11-28T20:18:56.707Z"
   },
   {
    "duration": 175,
    "start_time": "2022-11-28T20:18:57.479Z"
   },
   {
    "duration": 67,
    "start_time": "2022-11-28T20:18:58.250Z"
   },
   {
    "duration": 68,
    "start_time": "2022-11-28T20:18:58.643Z"
   },
   {
    "duration": 4,
    "start_time": "2022-11-28T20:18:59.102Z"
   },
   {
    "duration": 131,
    "start_time": "2022-11-28T20:18:59.559Z"
   },
   {
    "duration": 165,
    "start_time": "2022-11-28T20:19:00.407Z"
   },
   {
    "duration": 196,
    "start_time": "2022-11-28T20:19:00.803Z"
   },
   {
    "duration": 294,
    "start_time": "2022-11-28T20:19:01.230Z"
   },
   {
    "duration": 168,
    "start_time": "2022-11-28T20:19:01.649Z"
   },
   {
    "duration": 176,
    "start_time": "2022-11-28T20:19:02.097Z"
   },
   {
    "duration": 174,
    "start_time": "2022-11-28T20:19:02.515Z"
   },
   {
    "duration": 547,
    "start_time": "2022-11-28T20:19:03.747Z"
   },
   {
    "duration": 6,
    "start_time": "2022-11-28T20:19:04.296Z"
   },
   {
    "duration": 168,
    "start_time": "2022-11-28T20:19:06.114Z"
   },
   {
    "duration": 388,
    "start_time": "2022-11-28T20:19:06.516Z"
   },
   {
    "duration": 360,
    "start_time": "2022-11-28T20:19:06.977Z"
   },
   {
    "duration": 141,
    "start_time": "2022-11-28T20:19:07.569Z"
   },
   {
    "duration": 479,
    "start_time": "2022-11-28T20:19:08.154Z"
   },
   {
    "duration": 417,
    "start_time": "2022-11-28T20:19:21.369Z"
   },
   {
    "duration": 398,
    "start_time": "2022-11-28T20:19:58.360Z"
   },
   {
    "duration": 15,
    "start_time": "2022-11-28T20:19:59.524Z"
   },
   {
    "duration": 11,
    "start_time": "2022-11-28T20:20:00.274Z"
   },
   {
    "duration": 4,
    "start_time": "2022-11-28T20:21:57.750Z"
   },
   {
    "duration": 4,
    "start_time": "2022-11-28T20:22:20.117Z"
   },
   {
    "duration": 3,
    "start_time": "2022-11-28T20:22:34.573Z"
   },
   {
    "duration": 4,
    "start_time": "2022-11-28T20:22:35.389Z"
   },
   {
    "duration": 246,
    "start_time": "2022-11-28T20:22:39.917Z"
   },
   {
    "duration": 3,
    "start_time": "2022-11-28T20:22:40.578Z"
   },
   {
    "duration": 5,
    "start_time": "2022-11-28T20:22:41.280Z"
   },
   {
    "duration": 4,
    "start_time": "2022-11-28T20:22:50.441Z"
   },
   {
    "duration": 4,
    "start_time": "2022-11-28T20:22:59.200Z"
   },
   {
    "duration": 10,
    "start_time": "2022-11-28T20:22:59.651Z"
   },
   {
    "duration": 5,
    "start_time": "2022-11-28T20:23:00.224Z"
   },
   {
    "duration": 6,
    "start_time": "2022-11-28T20:23:00.633Z"
   },
   {
    "duration": 5,
    "start_time": "2022-11-28T20:23:01.248Z"
   },
   {
    "duration": 3,
    "start_time": "2022-11-28T20:23:01.664Z"
   },
   {
    "duration": 279,
    "start_time": "2022-11-28T20:23:02.272Z"
   },
   {
    "duration": 4,
    "start_time": "2022-11-28T20:23:02.886Z"
   },
   {
    "duration": 6,
    "start_time": "2022-11-28T20:23:03.983Z"
   },
   {
    "duration": 3,
    "start_time": "2022-11-28T20:23:19.268Z"
   },
   {
    "duration": 4,
    "start_time": "2022-11-28T20:23:19.985Z"
   },
   {
    "duration": 4,
    "start_time": "2022-11-28T20:23:29.895Z"
   },
   {
    "duration": 347,
    "start_time": "2022-11-28T20:23:44.044Z"
   },
   {
    "duration": 248,
    "start_time": "2022-11-28T20:23:45.766Z"
   },
   {
    "duration": 196,
    "start_time": "2022-11-28T20:23:47.245Z"
   },
   {
    "duration": 268,
    "start_time": "2022-11-28T20:23:48.526Z"
   },
   {
    "duration": 148,
    "start_time": "2022-11-28T20:23:50.554Z"
   },
   {
    "duration": 147,
    "start_time": "2022-11-28T20:23:51.723Z"
   },
   {
    "duration": 173,
    "start_time": "2022-11-28T20:23:52.867Z"
   },
   {
    "duration": 95,
    "start_time": "2022-11-28T20:23:53.963Z"
   },
   {
    "duration": 96,
    "start_time": "2022-11-28T20:23:54.536Z"
   },
   {
    "duration": 4,
    "start_time": "2022-11-28T20:24:18.238Z"
   },
   {
    "duration": 137,
    "start_time": "2022-11-28T20:24:18.853Z"
   },
   {
    "duration": 152,
    "start_time": "2022-11-28T20:24:20.184Z"
   },
   {
    "duration": 262,
    "start_time": "2022-11-28T20:24:20.878Z"
   },
   {
    "duration": 212,
    "start_time": "2022-11-28T20:24:21.450Z"
   },
   {
    "duration": 183,
    "start_time": "2022-11-28T20:24:22.072Z"
   },
   {
    "duration": 177,
    "start_time": "2022-11-28T20:24:22.726Z"
   },
   {
    "duration": 173,
    "start_time": "2022-11-28T20:24:23.360Z"
   },
   {
    "duration": 457,
    "start_time": "2022-11-28T20:24:25.167Z"
   },
   {
    "duration": 5,
    "start_time": "2022-11-28T20:24:25.785Z"
   },
   {
    "duration": 150,
    "start_time": "2022-11-28T20:24:28.842Z"
   },
   {
    "duration": 384,
    "start_time": "2022-11-28T20:24:30.214Z"
   },
   {
    "duration": 386,
    "start_time": "2022-11-28T20:24:31.789Z"
   },
   {
    "duration": 245,
    "start_time": "2022-11-28T20:24:32.851Z"
   },
   {
    "duration": 362,
    "start_time": "2022-11-28T20:24:33.952Z"
   },
   {
    "duration": 26,
    "start_time": "2022-11-28T20:24:37.196Z"
   },
   {
    "duration": 8,
    "start_time": "2022-11-28T20:24:40.229Z"
   },
   {
    "duration": 392,
    "start_time": "2022-11-28T20:24:40.905Z"
   },
   {
    "duration": 14,
    "start_time": "2022-11-28T20:24:41.543Z"
   },
   {
    "duration": 9,
    "start_time": "2022-11-28T20:24:42.346Z"
   },
   {
    "duration": 6,
    "start_time": "2022-11-28T20:27:06.393Z"
   },
   {
    "duration": 5,
    "start_time": "2022-11-28T20:27:12.908Z"
   },
   {
    "duration": 284,
    "start_time": "2022-11-28T20:27:15.696Z"
   },
   {
    "duration": 260,
    "start_time": "2022-11-28T20:27:16.993Z"
   },
   {
    "duration": 199,
    "start_time": "2022-11-28T20:27:18.137Z"
   },
   {
    "duration": 260,
    "start_time": "2022-11-28T20:27:19.350Z"
   },
   {
    "duration": 128,
    "start_time": "2022-11-28T20:27:21.050Z"
   },
   {
    "duration": 240,
    "start_time": "2022-11-28T20:27:22.133Z"
   },
   {
    "duration": 196,
    "start_time": "2022-11-28T20:27:23.204Z"
   },
   {
    "duration": 74,
    "start_time": "2022-11-28T20:27:24.277Z"
   },
   {
    "duration": 72,
    "start_time": "2022-11-28T20:27:24.827Z"
   },
   {
    "duration": 5,
    "start_time": "2022-11-28T20:27:25.725Z"
   },
   {
    "duration": 139,
    "start_time": "2022-11-28T20:27:26.258Z"
   },
   {
    "duration": 164,
    "start_time": "2022-11-28T20:27:27.441Z"
   },
   {
    "duration": 160,
    "start_time": "2022-11-28T20:27:28.120Z"
   },
   {
    "duration": 204,
    "start_time": "2022-11-28T20:27:28.624Z"
   },
   {
    "duration": 156,
    "start_time": "2022-11-28T20:27:29.145Z"
   },
   {
    "duration": 154,
    "start_time": "2022-11-28T20:27:29.639Z"
   },
   {
    "duration": 166,
    "start_time": "2022-11-28T20:27:30.170Z"
   },
   {
    "duration": 476,
    "start_time": "2022-11-28T20:27:31.727Z"
   },
   {
    "duration": 4,
    "start_time": "2022-11-28T20:27:32.245Z"
   },
   {
    "duration": 148,
    "start_time": "2022-11-28T20:27:34.704Z"
   },
   {
    "duration": 381,
    "start_time": "2022-11-28T20:27:35.399Z"
   },
   {
    "duration": 350,
    "start_time": "2022-11-28T20:27:36.093Z"
   },
   {
    "duration": 152,
    "start_time": "2022-11-28T20:27:38.080Z"
   },
   {
    "duration": 363,
    "start_time": "2022-11-28T20:27:38.848Z"
   },
   {
    "duration": 28,
    "start_time": "2022-11-28T20:27:41.702Z"
   },
   {
    "duration": 8,
    "start_time": "2022-11-28T20:27:44.526Z"
   },
   {
    "duration": 456,
    "start_time": "2022-11-28T20:27:45.248Z"
   },
   {
    "duration": 20,
    "start_time": "2022-11-28T20:27:46.083Z"
   },
   {
    "duration": 10,
    "start_time": "2022-11-28T20:27:46.982Z"
   },
   {
    "duration": 33,
    "start_time": "2022-11-28T20:28:17.575Z"
   },
   {
    "duration": 9,
    "start_time": "2022-11-28T20:28:18.304Z"
   },
   {
    "duration": 23,
    "start_time": "2022-11-28T20:28:43.243Z"
   },
   {
    "duration": 9,
    "start_time": "2022-11-28T20:28:44.595Z"
   },
   {
    "duration": 14,
    "start_time": "2022-11-28T20:29:09.701Z"
   },
   {
    "duration": 11,
    "start_time": "2022-11-28T20:29:11.083Z"
   },
   {
    "duration": 142,
    "start_time": "2022-11-28T20:36:42.017Z"
   },
   {
    "duration": 181,
    "start_time": "2022-11-28T20:37:00.253Z"
   },
   {
    "duration": 179,
    "start_time": "2022-11-28T20:38:48.865Z"
   },
   {
    "duration": 4,
    "start_time": "2022-11-28T20:39:30.973Z"
   },
   {
    "duration": 204,
    "start_time": "2022-11-28T20:39:40.833Z"
   },
   {
    "duration": 22,
    "start_time": "2022-11-28T20:40:32.774Z"
   },
   {
    "duration": 270,
    "start_time": "2022-11-28T20:40:52.491Z"
   },
   {
    "duration": 196,
    "start_time": "2022-11-28T20:50:52.164Z"
   },
   {
    "duration": 233,
    "start_time": "2022-11-28T20:51:23.571Z"
   },
   {
    "duration": 10,
    "start_time": "2022-11-28T20:51:58.001Z"
   },
   {
    "duration": 181,
    "start_time": "2022-11-28T20:52:10.585Z"
   },
   {
    "duration": 17,
    "start_time": "2022-11-28T20:52:38.590Z"
   },
   {
    "duration": 1107,
    "start_time": "2022-11-28T20:52:52.113Z"
   },
   {
    "duration": 75,
    "start_time": "2022-11-28T20:53:45.674Z"
   },
   {
    "duration": 1273,
    "start_time": "2022-11-28T20:53:59.761Z"
   },
   {
    "duration": 28,
    "start_time": "2022-11-28T20:54:45.240Z"
   },
   {
    "duration": 318,
    "start_time": "2022-11-28T20:55:59.688Z"
   },
   {
    "duration": 22,
    "start_time": "2022-11-28T20:56:30.692Z"
   },
   {
    "duration": 23,
    "start_time": "2022-11-28T20:56:57.615Z"
   },
   {
    "duration": 159,
    "start_time": "2022-11-28T20:56:59.702Z"
   },
   {
    "duration": 184,
    "start_time": "2022-11-28T20:57:00.540Z"
   },
   {
    "duration": 251,
    "start_time": "2022-11-28T20:57:01.193Z"
   },
   {
    "duration": 234,
    "start_time": "2022-11-28T20:57:01.830Z"
   },
   {
    "duration": 198,
    "start_time": "2022-11-28T20:57:02.494Z"
   },
   {
    "duration": 182,
    "start_time": "2022-11-28T20:57:03.096Z"
   },
   {
    "duration": 671,
    "start_time": "2022-11-28T20:57:04.772Z"
   },
   {
    "duration": 5,
    "start_time": "2022-11-28T20:57:05.445Z"
   },
   {
    "duration": 146,
    "start_time": "2022-11-28T20:57:08.126Z"
   },
   {
    "duration": 382,
    "start_time": "2022-11-28T20:57:09.294Z"
   },
   {
    "duration": 372,
    "start_time": "2022-11-28T20:57:10.585Z"
   },
   {
    "duration": 161,
    "start_time": "2022-11-28T20:57:11.572Z"
   },
   {
    "duration": 417,
    "start_time": "2022-11-28T20:57:12.325Z"
   },
   {
    "duration": 26,
    "start_time": "2022-11-28T20:57:15.560Z"
   },
   {
    "duration": 10,
    "start_time": "2022-11-28T20:57:18.320Z"
   },
   {
    "duration": 473,
    "start_time": "2022-11-28T20:57:18.978Z"
   },
   {
    "duration": 20,
    "start_time": "2022-11-28T20:57:20.002Z"
   },
   {
    "duration": 10,
    "start_time": "2022-11-28T20:57:20.808Z"
   },
   {
    "duration": 22,
    "start_time": "2022-11-28T20:57:57.389Z"
   },
   {
    "duration": 9,
    "start_time": "2022-11-28T20:57:58.453Z"
   },
   {
    "duration": 19,
    "start_time": "2022-11-28T20:58:15.407Z"
   },
   {
    "duration": 8,
    "start_time": "2022-11-28T20:58:16.346Z"
   },
   {
    "duration": 182,
    "start_time": "2022-11-28T20:59:15.317Z"
   },
   {
    "duration": 6,
    "start_time": "2022-11-28T20:59:30.929Z"
   },
   {
    "duration": 7,
    "start_time": "2022-11-28T21:00:00.252Z"
   },
   {
    "duration": 5,
    "start_time": "2022-11-28T21:01:29.210Z"
   },
   {
    "duration": 29,
    "start_time": "2022-11-28T21:01:33.697Z"
   },
   {
    "duration": 6,
    "start_time": "2022-11-28T21:01:34.287Z"
   },
   {
    "duration": 14,
    "start_time": "2022-11-28T21:01:44.205Z"
   },
   {
    "duration": 128,
    "start_time": "2022-11-28T21:01:45.999Z"
   },
   {
    "duration": 6,
    "start_time": "2022-11-28T21:01:47.406Z"
   },
   {
    "duration": 14,
    "start_time": "2022-11-28T21:01:47.847Z"
   },
   {
    "duration": 6,
    "start_time": "2022-11-28T21:01:48.258Z"
   },
   {
    "duration": 5,
    "start_time": "2022-11-28T21:01:50.086Z"
   },
   {
    "duration": 11,
    "start_time": "2022-11-28T21:01:50.517Z"
   },
   {
    "duration": 6,
    "start_time": "2022-11-28T21:01:50.949Z"
   },
   {
    "duration": 5,
    "start_time": "2022-11-28T21:01:51.365Z"
   },
   {
    "duration": 6,
    "start_time": "2022-11-28T21:01:51.772Z"
   },
   {
    "duration": 4,
    "start_time": "2022-11-28T21:01:52.196Z"
   },
   {
    "duration": 341,
    "start_time": "2022-11-28T21:01:52.640Z"
   },
   {
    "duration": 3,
    "start_time": "2022-11-28T21:01:53.096Z"
   },
   {
    "duration": 4,
    "start_time": "2022-11-28T21:01:53.542Z"
   },
   {
    "duration": 5,
    "start_time": "2022-11-28T21:01:54.057Z"
   },
   {
    "duration": 3,
    "start_time": "2022-11-28T21:02:07.588Z"
   },
   {
    "duration": 5,
    "start_time": "2022-11-28T21:02:08.278Z"
   },
   {
    "duration": 3,
    "start_time": "2022-11-28T21:02:14.712Z"
   },
   {
    "duration": 4,
    "start_time": "2022-11-28T21:02:15.366Z"
   },
   {
    "duration": 4,
    "start_time": "2022-11-28T21:02:28.522Z"
   },
   {
    "duration": 5,
    "start_time": "2022-11-28T21:02:29.312Z"
   },
   {
    "duration": 22,
    "start_time": "2022-11-28T21:03:13.025Z"
   },
   {
    "duration": 4,
    "start_time": "2022-11-28T21:03:13.667Z"
   },
   {
    "duration": 22,
    "start_time": "2022-11-28T21:03:25.766Z"
   },
   {
    "duration": 145,
    "start_time": "2022-11-28T21:03:27.557Z"
   },
   {
    "duration": 6,
    "start_time": "2022-11-28T21:03:30.016Z"
   },
   {
    "duration": 11,
    "start_time": "2022-11-28T21:03:30.524Z"
   },
   {
    "duration": 5,
    "start_time": "2022-11-28T21:03:31.016Z"
   },
   {
    "duration": 5,
    "start_time": "2022-11-28T21:03:33.900Z"
   },
   {
    "duration": 10,
    "start_time": "2022-11-28T21:03:34.305Z"
   },
   {
    "duration": 6,
    "start_time": "2022-11-28T21:03:34.767Z"
   },
   {
    "duration": 5,
    "start_time": "2022-11-28T21:03:35.185Z"
   },
   {
    "duration": 7,
    "start_time": "2022-11-28T21:03:35.547Z"
   },
   {
    "duration": 4,
    "start_time": "2022-11-28T21:03:36.093Z"
   },
   {
    "duration": 239,
    "start_time": "2022-11-28T21:03:36.490Z"
   },
   {
    "duration": 5,
    "start_time": "2022-11-28T21:03:36.957Z"
   },
   {
    "duration": 5,
    "start_time": "2022-11-28T21:03:37.938Z"
   },
   {
    "duration": 5,
    "start_time": "2022-11-28T21:03:44.168Z"
   },
   {
    "duration": 6,
    "start_time": "2022-11-28T21:03:44.924Z"
   },
   {
    "duration": 28,
    "start_time": "2022-11-28T21:03:57.228Z"
   },
   {
    "duration": 4,
    "start_time": "2022-11-28T21:03:57.978Z"
   },
   {
    "duration": 103,
    "start_time": "2022-11-28T21:04:06.533Z"
   },
   {
    "duration": 14,
    "start_time": "2022-11-28T21:04:08.056Z"
   },
   {
    "duration": 1910,
    "start_time": "2022-11-28T21:04:09.192Z"
   },
   {
    "duration": 8,
    "start_time": "2022-11-28T21:04:13.146Z"
   },
   {
    "duration": 27,
    "start_time": "2022-11-28T21:04:13.798Z"
   },
   {
    "duration": 6,
    "start_time": "2022-11-28T21:04:14.261Z"
   },
   {
    "duration": 17,
    "start_time": "2022-11-28T21:04:44.244Z"
   },
   {
    "duration": 124,
    "start_time": "2022-11-28T21:04:47.738Z"
   },
   {
    "duration": 5,
    "start_time": "2022-11-28T21:04:49.854Z"
   },
   {
    "duration": 12,
    "start_time": "2022-11-28T21:04:50.291Z"
   },
   {
    "duration": 5,
    "start_time": "2022-11-28T21:04:50.744Z"
   },
   {
    "duration": 4,
    "start_time": "2022-11-28T21:04:53.179Z"
   },
   {
    "duration": 7,
    "start_time": "2022-11-28T21:04:53.585Z"
   },
   {
    "duration": 7,
    "start_time": "2022-11-28T21:04:53.956Z"
   },
   {
    "duration": 7,
    "start_time": "2022-11-28T21:04:54.390Z"
   },
   {
    "duration": 8,
    "start_time": "2022-11-28T21:04:54.823Z"
   },
   {
    "duration": 4,
    "start_time": "2022-11-28T21:04:55.616Z"
   },
   {
    "duration": 281,
    "start_time": "2022-11-28T21:04:57.161Z"
   },
   {
    "duration": 4,
    "start_time": "2022-11-28T21:04:58.635Z"
   },
   {
    "duration": 5,
    "start_time": "2022-11-28T21:04:59.879Z"
   },
   {
    "duration": 6,
    "start_time": "2022-11-28T21:05:24.189Z"
   },
   {
    "duration": 5,
    "start_time": "2022-11-28T21:05:24.934Z"
   },
   {
    "duration": 15,
    "start_time": "2022-11-28T21:05:57.137Z"
   },
   {
    "duration": 9,
    "start_time": "2022-11-28T21:06:06.309Z"
   },
   {
    "duration": 12,
    "start_time": "2022-11-28T21:06:20.893Z"
   },
   {
    "duration": 4,
    "start_time": "2022-11-28T21:06:55.671Z"
   },
   {
    "duration": 7,
    "start_time": "2022-11-28T21:07:02.631Z"
   },
   {
    "duration": 4,
    "start_time": "2022-11-28T21:07:09.078Z"
   },
   {
    "duration": 6,
    "start_time": "2022-11-28T21:07:09.727Z"
   },
   {
    "duration": 4,
    "start_time": "2022-11-28T21:07:12.800Z"
   },
   {
    "duration": 5,
    "start_time": "2022-11-28T21:07:13.324Z"
   },
   {
    "duration": 273,
    "start_time": "2022-11-28T21:07:16.262Z"
   },
   {
    "duration": 4,
    "start_time": "2022-11-28T21:07:16.709Z"
   },
   {
    "duration": 4,
    "start_time": "2022-11-28T21:07:17.111Z"
   },
   {
    "duration": 91,
    "start_time": "2022-11-28T21:07:40.567Z"
   },
   {
    "duration": 5,
    "start_time": "2022-11-28T21:07:48.128Z"
   },
   {
    "duration": 6,
    "start_time": "2022-11-28T21:07:49.001Z"
   },
   {
    "duration": 98,
    "start_time": "2022-11-28T21:08:28.069Z"
   },
   {
    "duration": 19,
    "start_time": "2022-11-28T21:08:29.064Z"
   },
   {
    "duration": 2138,
    "start_time": "2022-11-28T21:08:30.148Z"
   },
   {
    "duration": 17,
    "start_time": "2022-11-28T21:08:33.883Z"
   },
   {
    "duration": 31,
    "start_time": "2022-11-28T21:08:34.384Z"
   },
   {
    "duration": 5,
    "start_time": "2022-11-28T21:08:34.884Z"
   },
   {
    "duration": 16,
    "start_time": "2022-11-28T21:08:37.413Z"
   },
   {
    "duration": 122,
    "start_time": "2022-11-28T21:08:39.422Z"
   },
   {
    "duration": 5,
    "start_time": "2022-11-28T21:08:40.994Z"
   },
   {
    "duration": 11,
    "start_time": "2022-11-28T21:08:41.440Z"
   },
   {
    "duration": 5,
    "start_time": "2022-11-28T21:08:41.896Z"
   },
   {
    "duration": 5,
    "start_time": "2022-11-28T21:08:43.695Z"
   },
   {
    "duration": 11,
    "start_time": "2022-11-28T21:08:44.142Z"
   },
   {
    "duration": 6,
    "start_time": "2022-11-28T21:08:44.560Z"
   },
   {
    "duration": 6,
    "start_time": "2022-11-28T21:08:45.035Z"
   },
   {
    "duration": 6,
    "start_time": "2022-11-28T21:08:45.504Z"
   },
   {
    "duration": 5,
    "start_time": "2022-11-28T21:08:45.964Z"
   },
   {
    "duration": 400,
    "start_time": "2022-11-28T21:08:46.483Z"
   },
   {
    "duration": 4,
    "start_time": "2022-11-28T21:08:46.997Z"
   },
   {
    "duration": 5,
    "start_time": "2022-11-28T21:08:47.862Z"
   },
   {
    "duration": 4,
    "start_time": "2022-11-28T21:08:49.665Z"
   },
   {
    "duration": 10,
    "start_time": "2022-11-28T21:09:04.301Z"
   },
   {
    "duration": 4,
    "start_time": "2022-11-28T21:09:10.515Z"
   },
   {
    "duration": 4,
    "start_time": "2022-11-28T21:09:11.471Z"
   },
   {
    "duration": 5,
    "start_time": "2022-11-28T21:09:23.298Z"
   },
   {
    "duration": 7,
    "start_time": "2022-11-28T21:09:23.927Z"
   },
   {
    "duration": 246,
    "start_time": "2022-11-28T21:09:27.596Z"
   },
   {
    "duration": 5,
    "start_time": "2022-11-28T21:09:28.028Z"
   },
   {
    "duration": 5,
    "start_time": "2022-11-28T21:09:28.428Z"
   },
   {
    "duration": 5,
    "start_time": "2022-11-28T21:09:52.091Z"
   },
   {
    "duration": 4,
    "start_time": "2022-11-28T21:09:52.560Z"
   },
   {
    "duration": 263,
    "start_time": "2022-11-28T21:09:56.482Z"
   },
   {
    "duration": 4,
    "start_time": "2022-11-28T21:09:56.968Z"
   },
   {
    "duration": 5,
    "start_time": "2022-11-28T21:09:57.633Z"
   },
   {
    "duration": 96,
    "start_time": "2022-11-28T21:10:10.296Z"
   },
   {
    "duration": 14,
    "start_time": "2022-11-28T21:10:11.046Z"
   },
   {
    "duration": 1888,
    "start_time": "2022-11-28T21:10:11.932Z"
   },
   {
    "duration": 10,
    "start_time": "2022-11-28T21:10:18.536Z"
   },
   {
    "duration": 28,
    "start_time": "2022-11-28T21:10:18.887Z"
   },
   {
    "duration": 6,
    "start_time": "2022-11-28T21:10:19.359Z"
   },
   {
    "duration": 14,
    "start_time": "2022-11-28T21:10:21.767Z"
   },
   {
    "duration": 138,
    "start_time": "2022-11-28T21:10:23.595Z"
   },
   {
    "duration": 5,
    "start_time": "2022-11-28T21:10:25.122Z"
   },
   {
    "duration": 11,
    "start_time": "2022-11-28T21:10:25.579Z"
   },
   {
    "duration": 6,
    "start_time": "2022-11-28T21:10:26.038Z"
   },
   {
    "duration": 4,
    "start_time": "2022-11-28T21:10:27.965Z"
   },
   {
    "duration": 8,
    "start_time": "2022-11-28T21:10:28.282Z"
   },
   {
    "duration": 6,
    "start_time": "2022-11-28T21:10:28.671Z"
   },
   {
    "duration": 6,
    "start_time": "2022-11-28T21:10:29.075Z"
   },
   {
    "duration": 6,
    "start_time": "2022-11-28T21:10:29.486Z"
   },
   {
    "duration": 3,
    "start_time": "2022-11-28T21:10:29.923Z"
   },
   {
    "duration": 251,
    "start_time": "2022-11-28T21:10:30.351Z"
   },
   {
    "duration": 4,
    "start_time": "2022-11-28T21:10:30.797Z"
   },
   {
    "duration": 5,
    "start_time": "2022-11-28T21:10:31.229Z"
   },
   {
    "duration": 88,
    "start_time": "2022-11-28T21:12:34.229Z"
   },
   {
    "duration": 13,
    "start_time": "2022-11-28T21:12:35.329Z"
   },
   {
    "duration": 2026,
    "start_time": "2022-11-28T21:12:36.402Z"
   },
   {
    "duration": 10,
    "start_time": "2022-11-28T21:12:40.081Z"
   },
   {
    "duration": 31,
    "start_time": "2022-11-28T21:12:40.654Z"
   },
   {
    "duration": 4,
    "start_time": "2022-11-28T21:12:41.125Z"
   },
   {
    "duration": 19,
    "start_time": "2022-11-28T21:12:43.423Z"
   },
   {
    "duration": 130,
    "start_time": "2022-11-28T21:12:45.335Z"
   },
   {
    "duration": 11,
    "start_time": "2022-11-28T21:12:46.691Z"
   },
   {
    "duration": 17,
    "start_time": "2022-11-28T21:12:47.091Z"
   },
   {
    "duration": 5,
    "start_time": "2022-11-28T21:12:47.574Z"
   },
   {
    "duration": 4,
    "start_time": "2022-11-28T21:12:49.395Z"
   },
   {
    "duration": 8,
    "start_time": "2022-11-28T21:12:49.891Z"
   },
   {
    "duration": 6,
    "start_time": "2022-11-28T21:12:50.454Z"
   },
   {
    "duration": 6,
    "start_time": "2022-11-28T21:12:50.972Z"
   },
   {
    "duration": 6,
    "start_time": "2022-11-28T21:12:51.424Z"
   },
   {
    "duration": 4,
    "start_time": "2022-11-28T21:12:52.006Z"
   },
   {
    "duration": 270,
    "start_time": "2022-11-28T21:12:52.496Z"
   },
   {
    "duration": 5,
    "start_time": "2022-11-28T21:12:53.170Z"
   },
   {
    "duration": 5,
    "start_time": "2022-11-28T21:12:53.839Z"
   },
   {
    "duration": 4,
    "start_time": "2022-11-28T21:12:55.125Z"
   },
   {
    "duration": 4,
    "start_time": "2022-11-28T21:13:11.608Z"
   },
   {
    "duration": 4,
    "start_time": "2022-11-28T21:13:12.210Z"
   },
   {
    "duration": 4,
    "start_time": "2022-11-28T21:13:29.444Z"
   },
   {
    "duration": 5,
    "start_time": "2022-11-28T21:13:30.195Z"
   },
   {
    "duration": 5,
    "start_time": "2022-11-28T21:13:40.669Z"
   },
   {
    "duration": 4,
    "start_time": "2022-11-28T21:13:48.032Z"
   },
   {
    "duration": 3,
    "start_time": "2022-11-28T21:14:24.887Z"
   },
   {
    "duration": 4,
    "start_time": "2022-11-28T21:14:25.572Z"
   },
   {
    "duration": 362,
    "start_time": "2022-11-28T21:14:28.543Z"
   },
   {
    "duration": 3,
    "start_time": "2022-11-28T21:14:29.035Z"
   },
   {
    "duration": 5,
    "start_time": "2022-11-28T21:14:29.607Z"
   },
   {
    "duration": 90,
    "start_time": "2022-11-28T21:14:39.384Z"
   },
   {
    "duration": 14,
    "start_time": "2022-11-28T21:14:40.334Z"
   },
   {
    "duration": 1857,
    "start_time": "2022-11-28T21:14:41.272Z"
   },
   {
    "duration": 12,
    "start_time": "2022-11-28T21:14:44.386Z"
   },
   {
    "duration": 29,
    "start_time": "2022-11-28T21:14:44.832Z"
   },
   {
    "duration": 5,
    "start_time": "2022-11-28T21:14:45.290Z"
   },
   {
    "duration": 15,
    "start_time": "2022-11-28T21:14:47.536Z"
   },
   {
    "duration": 123,
    "start_time": "2022-11-28T21:14:49.276Z"
   },
   {
    "duration": 6,
    "start_time": "2022-11-28T21:14:50.540Z"
   },
   {
    "duration": 11,
    "start_time": "2022-11-28T21:14:51.003Z"
   },
   {
    "duration": 6,
    "start_time": "2022-11-28T21:14:51.451Z"
   },
   {
    "duration": 5,
    "start_time": "2022-11-28T21:14:53.454Z"
   },
   {
    "duration": 8,
    "start_time": "2022-11-28T21:14:53.858Z"
   },
   {
    "duration": 7,
    "start_time": "2022-11-28T21:14:54.408Z"
   },
   {
    "duration": 6,
    "start_time": "2022-11-28T21:14:54.904Z"
   },
   {
    "duration": 6,
    "start_time": "2022-11-28T21:14:55.391Z"
   },
   {
    "duration": 4,
    "start_time": "2022-11-28T21:14:56.183Z"
   },
   {
    "duration": 360,
    "start_time": "2022-11-28T21:14:56.697Z"
   },
   {
    "duration": 2,
    "start_time": "2022-11-28T21:14:57.250Z"
   },
   {
    "duration": 5,
    "start_time": "2022-11-28T21:14:57.869Z"
   },
   {
    "duration": 4,
    "start_time": "2022-11-28T21:15:12.160Z"
   },
   {
    "duration": 4,
    "start_time": "2022-11-28T21:15:12.889Z"
   },
   {
    "duration": 5,
    "start_time": "2022-11-28T21:15:19.888Z"
   },
   {
    "duration": 4,
    "start_time": "2022-11-28T21:15:31.665Z"
   },
   {
    "duration": 263,
    "start_time": "2022-11-28T21:15:34.124Z"
   },
   {
    "duration": 251,
    "start_time": "2022-11-28T21:15:35.173Z"
   },
   {
    "duration": 201,
    "start_time": "2022-11-28T21:15:39.693Z"
   },
   {
    "duration": 276,
    "start_time": "2022-11-28T21:15:40.793Z"
   },
   {
    "duration": 125,
    "start_time": "2022-11-28T21:15:42.226Z"
   },
   {
    "duration": 159,
    "start_time": "2022-11-28T21:15:43.336Z"
   },
   {
    "duration": 261,
    "start_time": "2022-11-28T21:15:44.170Z"
   },
   {
    "duration": 21,
    "start_time": "2022-11-28T21:15:45.162Z"
   },
   {
    "duration": 145,
    "start_time": "2022-11-28T21:15:47.348Z"
   },
   {
    "duration": 5,
    "start_time": "2022-11-28T21:15:48.005Z"
   },
   {
    "duration": 176,
    "start_time": "2022-11-28T21:15:48.593Z"
   },
   {
    "duration": 219,
    "start_time": "2022-11-28T21:15:49.302Z"
   },
   {
    "duration": 173,
    "start_time": "2022-11-28T21:15:50.175Z"
   },
   {
    "duration": 167,
    "start_time": "2022-11-28T21:15:50.960Z"
   },
   {
    "duration": 156,
    "start_time": "2022-11-28T21:15:51.790Z"
   },
   {
    "duration": 471,
    "start_time": "2022-11-28T21:15:53.962Z"
   },
   {
    "duration": 5,
    "start_time": "2022-11-28T21:15:54.650Z"
   },
   {
    "duration": 161,
    "start_time": "2022-11-28T21:15:57.939Z"
   },
   {
    "duration": 516,
    "start_time": "2022-11-28T21:15:58.881Z"
   },
   {
    "duration": 366,
    "start_time": "2022-11-28T21:15:59.701Z"
   },
   {
    "duration": 159,
    "start_time": "2022-11-28T21:16:00.830Z"
   },
   {
    "duration": 358,
    "start_time": "2022-11-28T21:16:01.453Z"
   },
   {
    "duration": 31,
    "start_time": "2022-11-28T21:16:04.306Z"
   },
   {
    "duration": 11,
    "start_time": "2022-11-28T21:16:06.624Z"
   },
   {
    "duration": 477,
    "start_time": "2022-11-28T21:16:07.308Z"
   },
   {
    "duration": 17,
    "start_time": "2022-11-28T21:16:07.991Z"
   },
   {
    "duration": 10,
    "start_time": "2022-11-28T21:16:08.779Z"
   },
   {
    "duration": 5,
    "start_time": "2022-11-28T21:17:38.980Z"
   },
   {
    "duration": 10,
    "start_time": "2022-11-28T21:22:18.309Z"
   },
   {
    "duration": 5,
    "start_time": "2022-11-28T21:22:25.480Z"
   },
   {
    "duration": 17,
    "start_time": "2022-11-28T21:22:49.955Z"
   },
   {
    "duration": 8,
    "start_time": "2022-11-28T21:22:50.429Z"
   },
   {
    "duration": 4,
    "start_time": "2022-11-28T21:23:02.572Z"
   },
   {
    "duration": 6,
    "start_time": "2022-11-28T21:23:03.160Z"
   },
   {
    "duration": 300,
    "start_time": "2022-11-28T21:23:04.388Z"
   },
   {
    "duration": 291,
    "start_time": "2022-11-28T21:23:04.973Z"
   },
   {
    "duration": 244,
    "start_time": "2022-11-28T21:23:05.645Z"
   },
   {
    "duration": 398,
    "start_time": "2022-11-28T21:23:06.288Z"
   },
   {
    "duration": 119,
    "start_time": "2022-11-28T21:23:07.248Z"
   },
   {
    "duration": 137,
    "start_time": "2022-11-28T21:23:07.945Z"
   },
   {
    "duration": 160,
    "start_time": "2022-11-28T21:23:08.593Z"
   },
   {
    "duration": 21,
    "start_time": "2022-11-28T21:23:09.251Z"
   },
   {
    "duration": 147,
    "start_time": "2022-11-28T21:23:09.930Z"
   },
   {
    "duration": 5,
    "start_time": "2022-11-28T21:23:10.247Z"
   },
   {
    "duration": 166,
    "start_time": "2022-11-28T21:23:10.637Z"
   },
   {
    "duration": 207,
    "start_time": "2022-11-28T21:23:11.013Z"
   },
   {
    "duration": 163,
    "start_time": "2022-11-28T21:23:11.366Z"
   },
   {
    "duration": 154,
    "start_time": "2022-11-28T21:23:11.706Z"
   },
   {
    "duration": 141,
    "start_time": "2022-11-28T21:23:12.009Z"
   },
   {
    "duration": 497,
    "start_time": "2022-11-28T21:23:12.988Z"
   },
   {
    "duration": 6,
    "start_time": "2022-11-28T21:23:13.487Z"
   },
   {
    "duration": 126,
    "start_time": "2022-11-28T21:23:15.050Z"
   },
   {
    "duration": 384,
    "start_time": "2022-11-28T21:23:15.396Z"
   },
   {
    "duration": 0,
    "start_time": "2022-11-28T21:23:15.781Z"
   },
   {
    "duration": 131,
    "start_time": "2022-11-28T21:23:16.128Z"
   },
   {
    "duration": 389,
    "start_time": "2022-11-28T21:23:16.530Z"
   },
   {
    "duration": 27,
    "start_time": "2022-11-28T21:23:17.970Z"
   },
   {
    "duration": 8,
    "start_time": "2022-11-28T21:23:19.412Z"
   },
   {
    "duration": 415,
    "start_time": "2022-11-28T21:23:19.791Z"
   },
   {
    "duration": 0,
    "start_time": "2022-11-28T21:23:20.208Z"
   },
   {
    "duration": 10,
    "start_time": "2022-11-28T21:23:20.479Z"
   },
   {
    "duration": 17,
    "start_time": "2022-11-28T21:23:34.850Z"
   },
   {
    "duration": 10,
    "start_time": "2022-11-28T21:23:35.333Z"
   },
   {
    "duration": 16,
    "start_time": "2022-11-28T21:23:39.430Z"
   },
   {
    "duration": 9,
    "start_time": "2022-11-28T21:23:39.950Z"
   },
   {
    "duration": 15,
    "start_time": "2022-11-28T21:23:45.289Z"
   },
   {
    "duration": 9,
    "start_time": "2022-11-28T21:24:01.002Z"
   },
   {
    "duration": 10,
    "start_time": "2022-11-28T21:24:06.483Z"
   },
   {
    "duration": 24,
    "start_time": "2022-11-28T21:26:45.379Z"
   },
   {
    "duration": 11,
    "start_time": "2022-11-28T21:26:46.208Z"
   },
   {
    "duration": 15,
    "start_time": "2022-11-28T21:27:37.751Z"
   },
   {
    "duration": 9,
    "start_time": "2022-11-28T21:27:38.299Z"
   },
   {
    "duration": 16,
    "start_time": "2022-11-28T21:28:17.727Z"
   },
   {
    "duration": 8,
    "start_time": "2022-11-28T21:28:18.479Z"
   },
   {
    "duration": 22,
    "start_time": "2022-11-28T21:28:24.926Z"
   },
   {
    "duration": 10,
    "start_time": "2022-11-28T21:28:25.428Z"
   },
   {
    "duration": 11,
    "start_time": "2022-11-28T21:31:48.981Z"
   },
   {
    "duration": 148,
    "start_time": "2022-11-28T21:32:13.767Z"
   },
   {
    "duration": 134,
    "start_time": "2022-11-28T21:33:11.565Z"
   },
   {
    "duration": 365,
    "start_time": "2022-11-28T21:33:32.526Z"
   },
   {
    "duration": 377,
    "start_time": "2022-11-28T21:34:51.172Z"
   },
   {
    "duration": 440,
    "start_time": "2022-11-28T21:37:14.054Z"
   },
   {
    "duration": 139,
    "start_time": "2022-11-28T21:37:38.306Z"
   },
   {
    "duration": 388,
    "start_time": "2022-11-28T21:37:44.831Z"
   },
   {
    "duration": 28,
    "start_time": "2022-11-28T21:39:56.934Z"
   },
   {
    "duration": 5,
    "start_time": "2022-11-28T21:39:58.127Z"
   },
   {
    "duration": 15,
    "start_time": "2022-11-28T21:40:04.208Z"
   },
   {
    "duration": 134,
    "start_time": "2022-11-28T21:40:06.662Z"
   },
   {
    "duration": 6,
    "start_time": "2022-11-28T21:40:08.481Z"
   },
   {
    "duration": 10,
    "start_time": "2022-11-28T21:40:09.043Z"
   },
   {
    "duration": 6,
    "start_time": "2022-11-28T21:40:09.627Z"
   },
   {
    "duration": 4,
    "start_time": "2022-11-28T21:40:11.843Z"
   },
   {
    "duration": 10,
    "start_time": "2022-11-28T21:40:12.373Z"
   },
   {
    "duration": 5,
    "start_time": "2022-11-28T21:40:12.889Z"
   },
   {
    "duration": 5,
    "start_time": "2022-11-28T21:40:13.416Z"
   },
   {
    "duration": 6,
    "start_time": "2022-11-28T21:40:13.937Z"
   },
   {
    "duration": 3,
    "start_time": "2022-11-28T21:40:14.567Z"
   },
   {
    "duration": 234,
    "start_time": "2022-11-28T21:40:15.162Z"
   },
   {
    "duration": 5,
    "start_time": "2022-11-28T21:40:15.699Z"
   },
   {
    "duration": 4,
    "start_time": "2022-11-28T21:40:16.264Z"
   },
   {
    "duration": 4,
    "start_time": "2022-11-28T21:40:17.040Z"
   },
   {
    "duration": 285,
    "start_time": "2022-11-28T21:40:20.311Z"
   },
   {
    "duration": 247,
    "start_time": "2022-11-28T21:40:21.692Z"
   },
   {
    "duration": 293,
    "start_time": "2022-11-28T21:40:22.946Z"
   },
   {
    "duration": 302,
    "start_time": "2022-11-28T21:40:24.231Z"
   },
   {
    "duration": 131,
    "start_time": "2022-11-28T21:40:26.028Z"
   },
   {
    "duration": 156,
    "start_time": "2022-11-28T21:40:27.174Z"
   },
   {
    "duration": 159,
    "start_time": "2022-11-28T21:40:28.414Z"
   },
   {
    "duration": 21,
    "start_time": "2022-11-28T21:40:29.596Z"
   },
   {
    "duration": 155,
    "start_time": "2022-11-28T21:40:30.934Z"
   },
   {
    "duration": 5,
    "start_time": "2022-11-28T21:40:31.552Z"
   },
   {
    "duration": 168,
    "start_time": "2022-11-28T21:40:32.164Z"
   },
   {
    "duration": 192,
    "start_time": "2022-11-28T21:40:32.734Z"
   },
   {
    "duration": 173,
    "start_time": "2022-11-28T21:40:33.349Z"
   },
   {
    "duration": 196,
    "start_time": "2022-11-28T21:40:33.936Z"
   },
   {
    "duration": 225,
    "start_time": "2022-11-28T21:40:34.497Z"
   },
   {
    "duration": 405,
    "start_time": "2022-11-28T21:40:36.158Z"
   },
   {
    "duration": 5,
    "start_time": "2022-11-28T21:40:36.707Z"
   },
   {
    "duration": 399,
    "start_time": "2022-11-28T21:40:39.601Z"
   },
   {
    "duration": 127,
    "start_time": "2022-11-28T21:41:11.145Z"
   },
   {
    "duration": 388,
    "start_time": "2022-11-28T21:41:17.104Z"
   },
   {
    "duration": 367,
    "start_time": "2022-11-28T21:41:18.559Z"
   },
   {
    "duration": 397,
    "start_time": "2022-11-28T21:41:30.966Z"
   },
   {
    "duration": 361,
    "start_time": "2022-11-28T21:41:37.893Z"
   },
   {
    "duration": 15,
    "start_time": "2022-11-28T21:41:38.459Z"
   },
   {
    "duration": 7,
    "start_time": "2022-11-28T21:41:39.411Z"
   },
   {
    "duration": 10,
    "start_time": "2022-11-28T21:42:06.349Z"
   },
   {
    "duration": 17,
    "start_time": "2022-11-28T21:59:32.700Z"
   },
   {
    "duration": 5,
    "start_time": "2022-11-28T21:59:33.350Z"
   },
   {
    "duration": 15,
    "start_time": "2022-11-28T21:59:36.547Z"
   },
   {
    "duration": 110,
    "start_time": "2022-11-28T21:59:38.434Z"
   },
   {
    "duration": 5,
    "start_time": "2022-11-28T21:59:39.887Z"
   },
   {
    "duration": 11,
    "start_time": "2022-11-28T21:59:40.332Z"
   },
   {
    "duration": 6,
    "start_time": "2022-11-28T21:59:40.836Z"
   },
   {
    "duration": 4,
    "start_time": "2022-11-28T21:59:42.761Z"
   },
   {
    "duration": 106,
    "start_time": "2022-11-28T21:59:43.523Z"
   },
   {
    "duration": 6,
    "start_time": "2022-11-28T21:59:43.728Z"
   },
   {
    "duration": 6,
    "start_time": "2022-11-28T21:59:44.199Z"
   },
   {
    "duration": 7,
    "start_time": "2022-11-28T21:59:44.668Z"
   },
   {
    "duration": 3,
    "start_time": "2022-11-28T21:59:45.145Z"
   },
   {
    "duration": 246,
    "start_time": "2022-11-28T21:59:45.653Z"
   },
   {
    "duration": 4,
    "start_time": "2022-11-28T21:59:46.155Z"
   },
   {
    "duration": 5,
    "start_time": "2022-11-28T21:59:46.673Z"
   },
   {
    "duration": 4,
    "start_time": "2022-11-28T21:59:47.285Z"
   },
   {
    "duration": 271,
    "start_time": "2022-11-28T21:59:49.289Z"
   },
   {
    "duration": 250,
    "start_time": "2022-11-28T21:59:50.366Z"
   },
   {
    "duration": 193,
    "start_time": "2022-11-28T21:59:51.276Z"
   },
   {
    "duration": 242,
    "start_time": "2022-11-28T21:59:52.151Z"
   },
   {
    "duration": 143,
    "start_time": "2022-11-28T21:59:53.537Z"
   },
   {
    "duration": 258,
    "start_time": "2022-11-28T21:59:54.507Z"
   },
   {
    "duration": 176,
    "start_time": "2022-11-28T21:59:55.439Z"
   },
   {
    "duration": 23,
    "start_time": "2022-11-28T21:59:56.404Z"
   },
   {
    "duration": 164,
    "start_time": "2022-11-28T21:59:57.574Z"
   },
   {
    "duration": 5,
    "start_time": "2022-11-28T21:59:58.028Z"
   },
   {
    "duration": 162,
    "start_time": "2022-11-28T21:59:58.432Z"
   },
   {
    "duration": 209,
    "start_time": "2022-11-28T21:59:58.928Z"
   },
   {
    "duration": 169,
    "start_time": "2022-11-28T21:59:59.565Z"
   },
   {
    "duration": 157,
    "start_time": "2022-11-28T22:00:00.168Z"
   },
   {
    "duration": 160,
    "start_time": "2022-11-28T22:00:00.809Z"
   },
   {
    "duration": 485,
    "start_time": "2022-11-28T22:00:02.477Z"
   },
   {
    "duration": 4,
    "start_time": "2022-11-28T22:00:03.116Z"
   },
   {
    "duration": 500,
    "start_time": "2022-11-28T22:00:08.494Z"
   },
   {
    "duration": 137,
    "start_time": "2022-11-28T22:00:09.664Z"
   },
   {
    "duration": 391,
    "start_time": "2022-11-28T22:00:10.259Z"
   },
   {
    "duration": 355,
    "start_time": "2022-11-28T22:00:10.833Z"
   },
   {
    "duration": 141,
    "start_time": "2022-11-28T22:00:11.667Z"
   },
   {
    "duration": 25,
    "start_time": "2022-11-28T22:00:15.971Z"
   },
   {
    "duration": 10,
    "start_time": "2022-11-28T22:00:18.274Z"
   },
   {
    "duration": 411,
    "start_time": "2022-11-28T22:00:18.842Z"
   },
   {
    "duration": 16,
    "start_time": "2022-11-28T22:00:19.829Z"
   },
   {
    "duration": 7,
    "start_time": "2022-11-28T22:00:20.544Z"
   },
   {
    "duration": 23,
    "start_time": "2022-11-28T22:02:06.233Z"
   },
   {
    "duration": 5,
    "start_time": "2022-11-28T22:02:06.802Z"
   },
   {
    "duration": 89,
    "start_time": "2022-11-28T22:02:16.066Z"
   },
   {
    "duration": 13,
    "start_time": "2022-11-28T22:02:17.062Z"
   },
   {
    "duration": 1878,
    "start_time": "2022-11-28T22:02:18.145Z"
   },
   {
    "duration": 8,
    "start_time": "2022-11-28T22:02:22.366Z"
   },
   {
    "duration": 23,
    "start_time": "2022-11-28T22:02:22.909Z"
   },
   {
    "duration": 5,
    "start_time": "2022-11-28T22:02:23.382Z"
   },
   {
    "duration": 20,
    "start_time": "2022-11-28T22:03:22.085Z"
   },
   {
    "duration": 5,
    "start_time": "2022-11-28T22:03:48.742Z"
   },
   {
    "duration": 94,
    "start_time": "2022-11-28T22:04:23.592Z"
   },
   {
    "duration": 15,
    "start_time": "2022-11-28T22:04:24.556Z"
   },
   {
    "duration": 2010,
    "start_time": "2022-11-28T22:04:25.500Z"
   },
   {
    "duration": 9,
    "start_time": "2022-11-28T22:04:29.435Z"
   },
   {
    "duration": 21,
    "start_time": "2022-11-28T22:04:30.040Z"
   },
   {
    "duration": 5,
    "start_time": "2022-11-28T22:04:30.797Z"
   },
   {
    "duration": 14,
    "start_time": "2022-11-28T22:06:24.345Z"
   },
   {
    "duration": 91,
    "start_time": "2022-11-28T22:07:02.536Z"
   },
   {
    "duration": 15,
    "start_time": "2022-11-28T22:07:03.471Z"
   },
   {
    "duration": 2202,
    "start_time": "2022-11-28T22:07:04.352Z"
   },
   {
    "duration": 9,
    "start_time": "2022-11-28T22:07:07.347Z"
   },
   {
    "duration": 183,
    "start_time": "2022-11-28T22:07:07.781Z"
   },
   {
    "duration": 6,
    "start_time": "2022-11-28T22:07:08.277Z"
   },
   {
    "duration": 7,
    "start_time": "2022-11-28T22:08:10.868Z"
   },
   {
    "duration": 6,
    "start_time": "2022-11-28T22:08:18.675Z"
   },
   {
    "duration": 5,
    "start_time": "2022-11-28T22:08:19.248Z"
   },
   {
    "duration": 8,
    "start_time": "2022-11-28T22:08:25.829Z"
   },
   {
    "duration": 9,
    "start_time": "2022-11-28T22:08:31.770Z"
   },
   {
    "duration": 12,
    "start_time": "2022-11-28T22:08:35.769Z"
   },
   {
    "duration": 12,
    "start_time": "2022-11-28T22:08:40.628Z"
   },
   {
    "duration": 16,
    "start_time": "2022-11-28T22:08:44.057Z"
   },
   {
    "duration": 19,
    "start_time": "2022-11-28T22:08:50.429Z"
   },
   {
    "duration": 88,
    "start_time": "2022-11-28T22:08:56.054Z"
   },
   {
    "duration": 13,
    "start_time": "2022-11-28T22:08:56.879Z"
   },
   {
    "duration": 1759,
    "start_time": "2022-11-28T22:08:57.731Z"
   },
   {
    "duration": 9,
    "start_time": "2022-11-28T22:09:00.768Z"
   },
   {
    "duration": 18,
    "start_time": "2022-11-28T22:09:01.168Z"
   },
   {
    "duration": 4,
    "start_time": "2022-11-28T22:09:01.587Z"
   },
   {
    "duration": 16,
    "start_time": "2022-11-28T22:09:09.107Z"
   },
   {
    "duration": 21,
    "start_time": "2022-11-28T22:09:12.936Z"
   },
   {
    "duration": 19,
    "start_time": "2022-11-28T22:09:16.055Z"
   },
   {
    "duration": 19,
    "start_time": "2022-11-28T22:09:19.771Z"
   },
   {
    "duration": 20,
    "start_time": "2022-11-28T22:09:22.982Z"
   },
   {
    "duration": 22,
    "start_time": "2022-11-28T22:09:26.632Z"
   },
   {
    "duration": 20,
    "start_time": "2022-11-28T22:09:33.064Z"
   },
   {
    "duration": 19,
    "start_time": "2022-11-28T22:10:32.689Z"
   },
   {
    "duration": 20,
    "start_time": "2022-11-28T22:10:56.828Z"
   },
   {
    "duration": 5,
    "start_time": "2022-11-28T22:10:57.785Z"
   },
   {
    "duration": 16,
    "start_time": "2022-11-28T22:11:00.376Z"
   },
   {
    "duration": 125,
    "start_time": "2022-11-28T22:11:02.079Z"
   },
   {
    "duration": 5,
    "start_time": "2022-11-28T22:11:03.530Z"
   },
   {
    "duration": 12,
    "start_time": "2022-11-28T22:11:03.947Z"
   },
   {
    "duration": 7,
    "start_time": "2022-11-28T22:11:04.305Z"
   },
   {
    "duration": 4,
    "start_time": "2022-11-28T22:11:06.558Z"
   },
   {
    "duration": 9,
    "start_time": "2022-11-28T22:11:07.033Z"
   },
   {
    "duration": 8,
    "start_time": "2022-11-28T22:11:07.628Z"
   },
   {
    "duration": 7,
    "start_time": "2022-11-28T22:11:08.177Z"
   },
   {
    "duration": 7,
    "start_time": "2022-11-28T22:11:08.638Z"
   },
   {
    "duration": 3,
    "start_time": "2022-11-28T22:11:09.095Z"
   },
   {
    "duration": 338,
    "start_time": "2022-11-28T22:11:09.564Z"
   },
   {
    "duration": 4,
    "start_time": "2022-11-28T22:11:10.047Z"
   },
   {
    "duration": 4,
    "start_time": "2022-11-28T22:11:10.507Z"
   },
   {
    "duration": 3,
    "start_time": "2022-11-28T22:11:10.963Z"
   },
   {
    "duration": 269,
    "start_time": "2022-11-28T22:11:12.842Z"
   },
   {
    "duration": 287,
    "start_time": "2022-11-28T22:11:13.729Z"
   },
   {
    "duration": 186,
    "start_time": "2022-11-28T22:11:14.589Z"
   },
   {
    "duration": 251,
    "start_time": "2022-11-28T22:11:15.428Z"
   },
   {
    "duration": 131,
    "start_time": "2022-11-28T22:11:16.749Z"
   },
   {
    "duration": 138,
    "start_time": "2022-11-28T22:11:17.627Z"
   },
   {
    "duration": 170,
    "start_time": "2022-11-28T22:11:18.504Z"
   },
   {
    "duration": 22,
    "start_time": "2022-11-28T22:11:19.384Z"
   },
   {
    "duration": 268,
    "start_time": "2022-11-28T22:11:20.344Z"
   },
   {
    "duration": 5,
    "start_time": "2022-11-28T22:11:20.829Z"
   },
   {
    "duration": 165,
    "start_time": "2022-11-28T22:11:21.307Z"
   },
   {
    "duration": 199,
    "start_time": "2022-11-28T22:11:21.771Z"
   },
   {
    "duration": 160,
    "start_time": "2022-11-28T22:11:22.242Z"
   },
   {
    "duration": 150,
    "start_time": "2022-11-28T22:11:22.711Z"
   },
   {
    "duration": 196,
    "start_time": "2022-11-28T22:11:23.164Z"
   },
   {
    "duration": 436,
    "start_time": "2022-11-28T22:11:24.542Z"
   },
   {
    "duration": 5,
    "start_time": "2022-11-28T22:11:25.032Z"
   },
   {
    "duration": 363,
    "start_time": "2022-11-28T22:11:27.364Z"
   },
   {
    "duration": 126,
    "start_time": "2022-11-28T22:11:27.873Z"
   },
   {
    "duration": 444,
    "start_time": "2022-11-28T22:11:28.433Z"
   },
   {
    "duration": 377,
    "start_time": "2022-11-28T22:11:28.952Z"
   },
   {
    "duration": 136,
    "start_time": "2022-11-28T22:11:29.499Z"
   },
   {
    "duration": 23,
    "start_time": "2022-11-28T22:11:31.490Z"
   },
   {
    "duration": 9,
    "start_time": "2022-11-28T22:11:33.435Z"
   },
   {
    "duration": 441,
    "start_time": "2022-11-28T22:11:34.256Z"
   },
   {
    "duration": 18,
    "start_time": "2022-11-28T22:11:42.750Z"
   },
   {
    "duration": 10,
    "start_time": "2022-11-28T22:11:43.550Z"
   },
   {
    "duration": 142,
    "start_time": "2022-11-28T22:12:40.813Z"
   },
   {
    "duration": 127,
    "start_time": "2022-11-28T22:12:51.731Z"
   },
   {
    "duration": 131,
    "start_time": "2022-11-28T22:12:59.229Z"
   },
   {
    "duration": 20,
    "start_time": "2022-11-28T22:15:15.842Z"
   },
   {
    "duration": 21,
    "start_time": "2022-11-28T22:16:09.532Z"
   },
   {
    "duration": 5,
    "start_time": "2022-11-28T22:16:11.532Z"
   },
   {
    "duration": 32,
    "start_time": "2022-11-28T22:16:22.561Z"
   },
   {
    "duration": 140,
    "start_time": "2022-11-28T22:16:25.779Z"
   },
   {
    "duration": 7,
    "start_time": "2022-11-28T22:16:28.138Z"
   },
   {
    "duration": 14,
    "start_time": "2022-11-28T22:16:40.528Z"
   },
   {
    "duration": 12,
    "start_time": "2022-11-28T22:16:41.028Z"
   },
   {
    "duration": 3,
    "start_time": "2022-11-28T22:16:55.855Z"
   },
   {
    "duration": 10,
    "start_time": "2022-11-28T22:16:56.372Z"
   },
   {
    "duration": 6,
    "start_time": "2022-11-28T22:16:56.830Z"
   },
   {
    "duration": 6,
    "start_time": "2022-11-28T22:16:57.305Z"
   },
   {
    "duration": 5,
    "start_time": "2022-11-28T22:16:57.759Z"
   },
   {
    "duration": 4,
    "start_time": "2022-11-28T22:16:58.273Z"
   },
   {
    "duration": 330,
    "start_time": "2022-11-28T22:16:58.867Z"
   },
   {
    "duration": 4,
    "start_time": "2022-11-28T22:16:59.537Z"
   },
   {
    "duration": 6,
    "start_time": "2022-11-28T22:17:00.105Z"
   },
   {
    "duration": 3,
    "start_time": "2022-11-28T22:17:15.946Z"
   },
   {
    "duration": 5,
    "start_time": "2022-11-28T22:17:16.450Z"
   },
   {
    "duration": 3,
    "start_time": "2022-11-28T22:17:41.232Z"
   },
   {
    "duration": 4,
    "start_time": "2022-11-28T22:17:41.971Z"
   },
   {
    "duration": 4,
    "start_time": "2022-11-28T22:17:48.131Z"
   },
   {
    "duration": 5,
    "start_time": "2022-11-28T22:17:48.667Z"
   },
   {
    "duration": 4,
    "start_time": "2022-11-28T22:17:50.382Z"
   },
   {
    "duration": 269,
    "start_time": "2022-11-28T22:17:53.059Z"
   },
   {
    "duration": 273,
    "start_time": "2022-11-28T22:17:54.674Z"
   },
   {
    "duration": 235,
    "start_time": "2022-11-28T22:17:56.013Z"
   },
   {
    "duration": 273,
    "start_time": "2022-11-28T22:17:57.284Z"
   },
   {
    "duration": 128,
    "start_time": "2022-11-28T22:17:59.400Z"
   },
   {
    "duration": 164,
    "start_time": "2022-11-28T22:18:00.659Z"
   },
   {
    "duration": 165,
    "start_time": "2022-11-28T22:18:01.951Z"
   },
   {
    "duration": 22,
    "start_time": "2022-11-28T22:18:03.265Z"
   },
   {
    "duration": 189,
    "start_time": "2022-11-28T22:18:04.443Z"
   },
   {
    "duration": 6,
    "start_time": "2022-11-28T22:18:05.107Z"
   },
   {
    "duration": 321,
    "start_time": "2022-11-28T22:18:05.688Z"
   },
   {
    "duration": 276,
    "start_time": "2022-11-28T22:18:06.254Z"
   },
   {
    "duration": 182,
    "start_time": "2022-11-28T22:18:06.908Z"
   },
   {
    "duration": 184,
    "start_time": "2022-11-28T22:18:07.474Z"
   },
   {
    "duration": 150,
    "start_time": "2022-11-28T22:18:08.083Z"
   },
   {
    "duration": 400,
    "start_time": "2022-11-28T22:18:09.848Z"
   },
   {
    "duration": 5,
    "start_time": "2022-11-28T22:18:10.440Z"
   },
   {
    "duration": 782,
    "start_time": "2022-11-28T22:18:13.635Z"
   },
   {
    "duration": 149,
    "start_time": "2022-11-28T22:18:15.431Z"
   },
   {
    "duration": 413,
    "start_time": "2022-11-28T22:18:16.032Z"
   },
   {
    "duration": 464,
    "start_time": "2022-11-28T22:18:16.671Z"
   },
   {
    "duration": 138,
    "start_time": "2022-11-28T22:18:17.814Z"
   },
   {
    "duration": 26,
    "start_time": "2022-11-28T22:18:31.107Z"
   },
   {
    "duration": 9,
    "start_time": "2022-11-28T22:18:36.243Z"
   },
   {
    "duration": 437,
    "start_time": "2022-11-28T22:18:36.938Z"
   },
   {
    "duration": 15,
    "start_time": "2022-11-28T22:18:37.969Z"
   },
   {
    "duration": 10,
    "start_time": "2022-11-28T22:18:38.761Z"
   },
   {
    "duration": 33,
    "start_time": "2022-11-28T22:18:57.391Z"
   },
   {
    "duration": 11,
    "start_time": "2022-11-28T22:18:58.154Z"
   },
   {
    "duration": 20,
    "start_time": "2022-11-28T22:20:15.411Z"
   },
   {
    "duration": 5,
    "start_time": "2022-11-28T22:20:16.100Z"
   },
   {
    "duration": 14,
    "start_time": "2022-11-28T22:20:19.715Z"
   },
   {
    "duration": 122,
    "start_time": "2022-11-28T22:20:21.297Z"
   },
   {
    "duration": 10,
    "start_time": "2022-11-28T22:20:22.477Z"
   },
   {
    "duration": 12,
    "start_time": "2022-11-28T22:20:22.893Z"
   },
   {
    "duration": 14,
    "start_time": "2022-11-28T22:20:23.276Z"
   },
   {
    "duration": 4,
    "start_time": "2022-11-28T22:20:24.889Z"
   },
   {
    "duration": 14,
    "start_time": "2022-11-28T22:20:25.276Z"
   },
   {
    "duration": 7,
    "start_time": "2022-11-28T22:20:25.653Z"
   },
   {
    "duration": 5,
    "start_time": "2022-11-28T22:20:26.025Z"
   },
   {
    "duration": 6,
    "start_time": "2022-11-28T22:20:26.469Z"
   },
   {
    "duration": 3,
    "start_time": "2022-11-28T22:20:26.896Z"
   },
   {
    "duration": 270,
    "start_time": "2022-11-28T22:20:27.330Z"
   },
   {
    "duration": 4,
    "start_time": "2022-11-28T22:20:27.755Z"
   },
   {
    "duration": 5,
    "start_time": "2022-11-28T22:20:28.205Z"
   },
   {
    "duration": 5,
    "start_time": "2022-11-28T22:20:28.647Z"
   },
   {
    "duration": 288,
    "start_time": "2022-11-28T22:20:30.205Z"
   },
   {
    "duration": 268,
    "start_time": "2022-11-28T22:20:31.130Z"
   },
   {
    "duration": 278,
    "start_time": "2022-11-28T22:20:31.893Z"
   },
   {
    "duration": 258,
    "start_time": "2022-11-28T22:20:32.689Z"
   },
   {
    "duration": 193,
    "start_time": "2022-11-28T22:20:33.905Z"
   },
   {
    "duration": 147,
    "start_time": "2022-11-28T22:20:34.711Z"
   },
   {
    "duration": 164,
    "start_time": "2022-11-28T22:20:35.493Z"
   },
   {
    "duration": 24,
    "start_time": "2022-11-28T22:20:36.326Z"
   },
   {
    "duration": 183,
    "start_time": "2022-11-28T22:20:37.161Z"
   },
   {
    "duration": 5,
    "start_time": "2022-11-28T22:20:37.627Z"
   },
   {
    "duration": 175,
    "start_time": "2022-11-28T22:20:38.066Z"
   },
   {
    "duration": 211,
    "start_time": "2022-11-28T22:20:38.500Z"
   },
   {
    "duration": 160,
    "start_time": "2022-11-28T22:20:38.942Z"
   },
   {
    "duration": 168,
    "start_time": "2022-11-28T22:20:39.358Z"
   },
   {
    "duration": 246,
    "start_time": "2022-11-28T22:20:39.798Z"
   },
   {
    "duration": 434,
    "start_time": "2022-11-28T22:20:41.049Z"
   },
   {
    "duration": 5,
    "start_time": "2022-11-28T22:20:41.989Z"
   },
   {
    "duration": 454,
    "start_time": "2022-11-28T22:20:44.502Z"
   },
   {
    "duration": 142,
    "start_time": "2022-11-28T22:20:45.014Z"
   },
   {
    "duration": 404,
    "start_time": "2022-11-28T22:20:45.558Z"
   },
   {
    "duration": 409,
    "start_time": "2022-11-28T22:20:46.232Z"
   },
   {
    "duration": 172,
    "start_time": "2022-11-28T22:20:46.870Z"
   },
   {
    "duration": 37,
    "start_time": "2022-11-28T22:20:49.134Z"
   },
   {
    "duration": 15,
    "start_time": "2022-11-28T22:20:52.395Z"
   },
   {
    "duration": 432,
    "start_time": "2022-11-28T22:20:52.838Z"
   },
   {
    "duration": 33,
    "start_time": "2022-11-28T22:20:53.275Z"
   },
   {
    "duration": 9,
    "start_time": "2022-11-28T22:20:53.753Z"
   },
   {
    "duration": 10,
    "start_time": "2022-11-28T22:22:10.055Z"
   },
   {
    "duration": 14,
    "start_time": "2022-11-28T22:22:14.710Z"
   },
   {
    "duration": 4,
    "start_time": "2022-11-28T22:24:37.091Z"
   },
   {
    "duration": 14,
    "start_time": "2022-11-28T22:24:40.601Z"
   },
   {
    "duration": 23,
    "start_time": "2022-11-28T22:28:05.480Z"
   },
   {
    "duration": 6,
    "start_time": "2022-11-28T22:28:07.085Z"
   },
   {
    "duration": 4,
    "start_time": "2022-11-28T22:28:19.793Z"
   },
   {
    "duration": 85,
    "start_time": "2022-11-28T22:28:30.022Z"
   },
   {
    "duration": 14,
    "start_time": "2022-11-28T22:28:30.957Z"
   },
   {
    "duration": 1824,
    "start_time": "2022-11-28T22:28:31.878Z"
   },
   {
    "duration": 8,
    "start_time": "2022-11-28T22:28:35.175Z"
   },
   {
    "duration": 14,
    "start_time": "2022-11-28T22:28:36.027Z"
   },
   {
    "duration": 5,
    "start_time": "2022-11-28T22:28:37.144Z"
   },
   {
    "duration": 13,
    "start_time": "2022-11-28T22:28:45.831Z"
   },
   {
    "duration": 111,
    "start_time": "2022-11-28T22:28:47.809Z"
   },
   {
    "duration": 6,
    "start_time": "2022-11-28T22:28:51.735Z"
   },
   {
    "duration": 12,
    "start_time": "2022-11-28T22:28:52.722Z"
   },
   {
    "duration": 6,
    "start_time": "2022-11-28T22:28:53.755Z"
   },
   {
    "duration": 4,
    "start_time": "2022-11-28T22:28:56.106Z"
   },
   {
    "duration": 7,
    "start_time": "2022-11-28T22:28:56.686Z"
   },
   {
    "duration": 6,
    "start_time": "2022-11-28T22:28:57.273Z"
   },
   {
    "duration": 6,
    "start_time": "2022-11-28T22:28:57.859Z"
   },
   {
    "duration": 5,
    "start_time": "2022-11-28T22:28:58.496Z"
   },
   {
    "duration": 4,
    "start_time": "2022-11-28T22:28:59.047Z"
   },
   {
    "duration": 254,
    "start_time": "2022-11-28T22:28:59.596Z"
   },
   {
    "duration": 3,
    "start_time": "2022-11-28T22:29:00.123Z"
   },
   {
    "duration": 5,
    "start_time": "2022-11-28T22:29:00.723Z"
   },
   {
    "duration": 4,
    "start_time": "2022-11-28T22:29:01.355Z"
   },
   {
    "duration": 441,
    "start_time": "2022-11-28T22:29:05.151Z"
   },
   {
    "duration": 240,
    "start_time": "2022-11-28T22:29:07.002Z"
   },
   {
    "duration": 179,
    "start_time": "2022-11-28T22:29:08.210Z"
   },
   {
    "duration": 241,
    "start_time": "2022-11-28T22:29:09.395Z"
   },
   {
    "duration": 128,
    "start_time": "2022-11-28T22:29:11.123Z"
   },
   {
    "duration": 137,
    "start_time": "2022-11-28T22:29:12.155Z"
   },
   {
    "duration": 154,
    "start_time": "2022-11-28T22:29:13.163Z"
   },
   {
    "duration": 23,
    "start_time": "2022-11-28T22:29:14.226Z"
   },
   {
    "duration": 145,
    "start_time": "2022-11-28T22:29:15.891Z"
   },
   {
    "duration": 5,
    "start_time": "2022-11-28T22:29:16.641Z"
   },
   {
    "duration": 254,
    "start_time": "2022-11-28T22:29:17.376Z"
   },
   {
    "duration": 187,
    "start_time": "2022-11-28T22:29:18.459Z"
   },
   {
    "duration": 145,
    "start_time": "2022-11-28T22:29:19.283Z"
   },
   {
    "duration": 149,
    "start_time": "2022-11-28T22:29:20.253Z"
   },
   {
    "duration": 146,
    "start_time": "2022-11-28T22:29:21.185Z"
   },
   {
    "duration": 410,
    "start_time": "2022-11-28T22:29:23.022Z"
   },
   {
    "duration": 6,
    "start_time": "2022-11-28T22:29:23.700Z"
   },
   {
    "duration": 154,
    "start_time": "2022-11-28T22:29:26.658Z"
   },
   {
    "duration": 131,
    "start_time": "2022-11-28T22:29:27.634Z"
   },
   {
    "duration": 140,
    "start_time": "2022-11-28T22:29:28.289Z"
   },
   {
    "duration": 220,
    "start_time": "2022-11-28T22:29:29.123Z"
   },
   {
    "duration": 147,
    "start_time": "2022-11-28T22:29:30.060Z"
   },
   {
    "duration": 22,
    "start_time": "2022-11-28T22:29:32.425Z"
   },
   {
    "duration": 7,
    "start_time": "2022-11-28T22:29:34.680Z"
   },
   {
    "duration": 161,
    "start_time": "2022-11-28T22:29:35.223Z"
   },
   {
    "duration": 29,
    "start_time": "2022-11-28T22:29:35.862Z"
   },
   {
    "duration": 9,
    "start_time": "2022-11-28T22:29:36.475Z"
   },
   {
    "duration": 14,
    "start_time": "2022-11-28T22:31:01.721Z"
   },
   {
    "duration": 12,
    "start_time": "2022-11-28T22:31:05.782Z"
   },
   {
    "duration": 16,
    "start_time": "2022-11-28T22:32:24.900Z"
   },
   {
    "duration": 9,
    "start_time": "2022-11-28T22:32:25.685Z"
   },
   {
    "duration": 161,
    "start_time": "2022-11-28T22:33:38.097Z"
   },
   {
    "duration": 12,
    "start_time": "2022-11-28T22:33:44.432Z"
   },
   {
    "duration": 15,
    "start_time": "2022-11-28T22:33:46.553Z"
   },
   {
    "duration": 10,
    "start_time": "2022-11-28T22:33:47.425Z"
   },
   {
    "duration": 7,
    "start_time": "2022-11-28T22:34:12.161Z"
   },
   {
    "duration": 15,
    "start_time": "2022-11-28T22:34:15.309Z"
   },
   {
    "duration": 7,
    "start_time": "2022-11-28T22:34:16.432Z"
   },
   {
    "duration": 31,
    "start_time": "2022-11-28T22:34:26.905Z"
   },
   {
    "duration": 7,
    "start_time": "2022-11-28T22:34:27.698Z"
   },
   {
    "duration": 7,
    "start_time": "2022-11-28T22:34:53.394Z"
   },
   {
    "duration": 7,
    "start_time": "2022-11-28T22:35:00.642Z"
   },
   {
    "duration": 6,
    "start_time": "2022-11-28T22:35:04.805Z"
   },
   {
    "duration": 14,
    "start_time": "2022-11-28T22:35:54.753Z"
   },
   {
    "duration": 7,
    "start_time": "2022-11-28T22:35:56.245Z"
   },
   {
    "duration": 5,
    "start_time": "2022-11-28T22:36:00.690Z"
   },
   {
    "duration": 14,
    "start_time": "2022-11-28T22:36:01.253Z"
   },
   {
    "duration": 7,
    "start_time": "2022-11-28T22:36:01.770Z"
   },
   {
    "duration": 5,
    "start_time": "2022-11-28T22:37:27.357Z"
   },
   {
    "duration": 5,
    "start_time": "2022-11-28T22:37:27.891Z"
   },
   {
    "duration": 15,
    "start_time": "2022-11-28T22:37:32.807Z"
   },
   {
    "duration": 112,
    "start_time": "2022-11-28T22:37:34.787Z"
   },
   {
    "duration": 6,
    "start_time": "2022-11-28T22:37:36.253Z"
   },
   {
    "duration": 9,
    "start_time": "2022-11-28T22:37:36.901Z"
   },
   {
    "duration": 8,
    "start_time": "2022-11-28T22:37:37.459Z"
   },
   {
    "duration": 4,
    "start_time": "2022-11-28T22:37:39.496Z"
   },
   {
    "duration": 10,
    "start_time": "2022-11-28T22:37:39.992Z"
   },
   {
    "duration": 5,
    "start_time": "2022-11-28T22:37:40.509Z"
   },
   {
    "duration": 5,
    "start_time": "2022-11-28T22:37:41.077Z"
   },
   {
    "duration": 5,
    "start_time": "2022-11-28T22:37:41.592Z"
   },
   {
    "duration": 4,
    "start_time": "2022-11-28T22:37:42.158Z"
   },
   {
    "duration": 275,
    "start_time": "2022-11-28T22:37:42.595Z"
   },
   {
    "duration": 4,
    "start_time": "2022-11-28T22:37:43.215Z"
   },
   {
    "duration": 5,
    "start_time": "2022-11-28T22:37:43.604Z"
   },
   {
    "duration": 4,
    "start_time": "2022-11-28T22:37:44.156Z"
   },
   {
    "duration": 254,
    "start_time": "2022-11-28T22:37:50.928Z"
   },
   {
    "duration": 303,
    "start_time": "2022-11-28T22:37:51.996Z"
   },
   {
    "duration": 178,
    "start_time": "2022-11-28T22:37:52.757Z"
   },
   {
    "duration": 257,
    "start_time": "2022-11-28T22:37:53.553Z"
   },
   {
    "duration": 120,
    "start_time": "2022-11-28T22:37:54.820Z"
   },
   {
    "duration": 165,
    "start_time": "2022-11-28T22:37:55.648Z"
   },
   {
    "duration": 151,
    "start_time": "2022-11-28T22:37:56.506Z"
   },
   {
    "duration": 20,
    "start_time": "2022-11-28T22:37:57.325Z"
   },
   {
    "duration": 147,
    "start_time": "2022-11-28T22:37:58.224Z"
   },
   {
    "duration": 5,
    "start_time": "2022-11-28T22:37:58.641Z"
   },
   {
    "duration": 155,
    "start_time": "2022-11-28T22:37:59.052Z"
   },
   {
    "duration": 223,
    "start_time": "2022-11-28T22:37:59.468Z"
   },
   {
    "duration": 155,
    "start_time": "2022-11-28T22:37:59.920Z"
   },
   {
    "duration": 270,
    "start_time": "2022-11-28T22:38:00.368Z"
   },
   {
    "duration": 164,
    "start_time": "2022-11-28T22:38:00.806Z"
   },
   {
    "duration": 417,
    "start_time": "2022-11-28T22:38:02.141Z"
   },
   {
    "duration": 6,
    "start_time": "2022-11-28T22:38:02.591Z"
   },
   {
    "duration": 176,
    "start_time": "2022-11-28T22:38:04.859Z"
   },
   {
    "duration": 157,
    "start_time": "2022-11-28T22:38:05.370Z"
   },
   {
    "duration": 181,
    "start_time": "2022-11-28T22:38:05.828Z"
   },
   {
    "duration": 158,
    "start_time": "2022-11-28T22:38:06.305Z"
   },
   {
    "duration": 173,
    "start_time": "2022-11-28T22:38:06.741Z"
   },
   {
    "duration": 24,
    "start_time": "2022-11-28T22:38:09.033Z"
   },
   {
    "duration": 8,
    "start_time": "2022-11-28T22:38:10.904Z"
   },
   {
    "duration": 419,
    "start_time": "2022-11-28T22:38:11.429Z"
   },
   {
    "duration": 13,
    "start_time": "2022-11-28T22:38:12.440Z"
   },
   {
    "duration": 7,
    "start_time": "2022-11-28T22:38:12.899Z"
   },
   {
    "duration": 5,
    "start_time": "2022-11-28T22:38:24.610Z"
   },
   {
    "duration": 16,
    "start_time": "2022-11-28T22:38:25.108Z"
   },
   {
    "duration": 7,
    "start_time": "2022-11-28T22:38:25.662Z"
   },
   {
    "duration": 4,
    "start_time": "2022-11-28T22:38:48.162Z"
   },
   {
    "duration": 91,
    "start_time": "2022-11-28T22:38:56.301Z"
   },
   {
    "duration": 16,
    "start_time": "2022-11-28T22:38:57.090Z"
   },
   {
    "duration": 1818,
    "start_time": "2022-11-28T22:38:57.924Z"
   },
   {
    "duration": 9,
    "start_time": "2022-11-28T22:39:00.767Z"
   },
   {
    "duration": 13,
    "start_time": "2022-11-28T22:39:01.139Z"
   },
   {
    "duration": 5,
    "start_time": "2022-11-28T22:39:01.954Z"
   },
   {
    "duration": 18,
    "start_time": "2022-11-28T22:39:04.008Z"
   },
   {
    "duration": 147,
    "start_time": "2022-11-28T22:39:05.680Z"
   },
   {
    "duration": 6,
    "start_time": "2022-11-28T22:39:07.045Z"
   },
   {
    "duration": 9,
    "start_time": "2022-11-28T22:39:07.477Z"
   },
   {
    "duration": 7,
    "start_time": "2022-11-28T22:39:07.953Z"
   },
   {
    "duration": 4,
    "start_time": "2022-11-28T22:39:09.734Z"
   },
   {
    "duration": 7,
    "start_time": "2022-11-28T22:39:10.134Z"
   },
   {
    "duration": 6,
    "start_time": "2022-11-28T22:39:10.541Z"
   },
   {
    "duration": 5,
    "start_time": "2022-11-28T22:39:10.960Z"
   },
   {
    "duration": 6,
    "start_time": "2022-11-28T22:39:11.391Z"
   },
   {
    "duration": 4,
    "start_time": "2022-11-28T22:39:11.821Z"
   },
   {
    "duration": 342,
    "start_time": "2022-11-28T22:39:12.261Z"
   },
   {
    "duration": 4,
    "start_time": "2022-11-28T22:39:12.680Z"
   },
   {
    "duration": 5,
    "start_time": "2022-11-28T22:39:13.127Z"
   },
   {
    "duration": 3,
    "start_time": "2022-11-28T22:39:13.547Z"
   },
   {
    "duration": 255,
    "start_time": "2022-11-28T22:39:15.320Z"
   },
   {
    "duration": 232,
    "start_time": "2022-11-28T22:39:16.202Z"
   },
   {
    "duration": 194,
    "start_time": "2022-11-28T22:39:17.056Z"
   },
   {
    "duration": 247,
    "start_time": "2022-11-28T22:39:17.891Z"
   },
   {
    "duration": 121,
    "start_time": "2022-11-28T22:39:19.287Z"
   },
   {
    "duration": 140,
    "start_time": "2022-11-28T22:39:20.181Z"
   },
   {
    "duration": 160,
    "start_time": "2022-11-28T22:39:21.068Z"
   },
   {
    "duration": 22,
    "start_time": "2022-11-28T22:39:21.921Z"
   },
   {
    "duration": 260,
    "start_time": "2022-11-28T22:39:23.059Z"
   },
   {
    "duration": 5,
    "start_time": "2022-11-28T22:39:23.520Z"
   },
   {
    "duration": 170,
    "start_time": "2022-11-28T22:39:24.126Z"
   },
   {
    "duration": 241,
    "start_time": "2022-11-28T22:39:24.664Z"
   },
   {
    "duration": 168,
    "start_time": "2022-11-28T22:39:25.110Z"
   },
   {
    "duration": 202,
    "start_time": "2022-11-28T22:39:25.598Z"
   },
   {
    "duration": 151,
    "start_time": "2022-11-28T22:39:26.036Z"
   },
   {
    "duration": 364,
    "start_time": "2022-11-28T22:39:27.424Z"
   },
   {
    "duration": 4,
    "start_time": "2022-11-28T22:39:27.875Z"
   },
   {
    "duration": 170,
    "start_time": "2022-11-28T22:39:30.244Z"
   },
   {
    "duration": 134,
    "start_time": "2022-11-28T22:39:30.702Z"
   },
   {
    "duration": 252,
    "start_time": "2022-11-28T22:39:31.203Z"
   },
   {
    "duration": 142,
    "start_time": "2022-11-28T22:39:31.678Z"
   },
   {
    "duration": 135,
    "start_time": "2022-11-28T22:39:32.155Z"
   },
   {
    "duration": 23,
    "start_time": "2022-11-28T22:39:34.051Z"
   },
   {
    "duration": 8,
    "start_time": "2022-11-28T22:39:36.221Z"
   },
   {
    "duration": 165,
    "start_time": "2022-11-28T22:39:36.658Z"
   },
   {
    "duration": 6,
    "start_time": "2022-11-28T22:39:37.209Z"
   },
   {
    "duration": 15,
    "start_time": "2022-11-28T22:39:37.744Z"
   },
   {
    "duration": 7,
    "start_time": "2022-11-28T22:39:38.262Z"
   },
   {
    "duration": 7,
    "start_time": "2022-11-28T22:44:04.700Z"
   },
   {
    "duration": 7,
    "start_time": "2022-11-28T22:45:47.301Z"
   },
   {
    "duration": 4,
    "start_time": "2022-11-28T22:45:48.043Z"
   },
   {
    "duration": 8,
    "start_time": "2022-11-28T22:48:31.379Z"
   },
   {
    "duration": 5,
    "start_time": "2022-11-28T22:48:32.008Z"
   },
   {
    "duration": 18,
    "start_time": "2022-11-28T22:48:35.667Z"
   },
   {
    "duration": 117,
    "start_time": "2022-11-28T22:48:37.670Z"
   },
   {
    "duration": 9,
    "start_time": "2022-11-28T22:48:39.172Z"
   },
   {
    "duration": 12,
    "start_time": "2022-11-28T22:48:46.632Z"
   },
   {
    "duration": 9,
    "start_time": "2022-11-28T22:48:47.352Z"
   },
   {
    "duration": 7,
    "start_time": "2022-11-28T22:49:48.919Z"
   },
   {
    "duration": 8,
    "start_time": "2022-11-28T22:49:56.839Z"
   },
   {
    "duration": 9,
    "start_time": "2022-11-28T22:51:23.522Z"
   },
   {
    "duration": 76,
    "start_time": "2022-11-28T22:52:46.579Z"
   },
   {
    "duration": 92,
    "start_time": "2022-11-28T22:52:53.878Z"
   },
   {
    "duration": 90,
    "start_time": "2022-11-28T22:52:59.960Z"
   },
   {
    "duration": 66,
    "start_time": "2022-11-28T22:53:13.571Z"
   },
   {
    "duration": 10,
    "start_time": "2022-11-28T22:56:37.184Z"
   },
   {
    "duration": 8,
    "start_time": "2022-11-28T22:56:37.977Z"
   },
   {
    "duration": 2,
    "start_time": "2022-11-28T22:56:51.782Z"
   },
   {
    "duration": 7,
    "start_time": "2022-11-28T22:56:52.519Z"
   },
   {
    "duration": 11,
    "start_time": "2022-11-28T22:57:00.735Z"
   },
   {
    "duration": 8,
    "start_time": "2022-11-28T22:57:01.947Z"
   },
   {
    "duration": 11,
    "start_time": "2022-11-28T22:57:10.042Z"
   },
   {
    "duration": 10,
    "start_time": "2022-11-28T22:57:10.722Z"
   },
   {
    "duration": 9,
    "start_time": "2022-11-28T22:57:19.135Z"
   },
   {
    "duration": 8,
    "start_time": "2022-11-28T22:57:19.618Z"
   },
   {
    "duration": 3,
    "start_time": "2022-11-28T22:57:21.588Z"
   },
   {
    "duration": 10,
    "start_time": "2022-11-28T22:57:21.992Z"
   },
   {
    "duration": 6,
    "start_time": "2022-11-28T22:57:22.450Z"
   },
   {
    "duration": 5,
    "start_time": "2022-11-28T22:57:22.970Z"
   },
   {
    "duration": 6,
    "start_time": "2022-11-28T22:57:23.419Z"
   },
   {
    "duration": 4,
    "start_time": "2022-11-28T22:57:23.927Z"
   },
   {
    "duration": 268,
    "start_time": "2022-11-28T22:57:24.404Z"
   },
   {
    "duration": 5,
    "start_time": "2022-11-28T22:57:24.919Z"
   },
   {
    "duration": 5,
    "start_time": "2022-11-28T22:57:25.365Z"
   },
   {
    "duration": 4,
    "start_time": "2022-11-28T22:57:25.931Z"
   },
   {
    "duration": 272,
    "start_time": "2022-11-28T22:57:28.325Z"
   },
   {
    "duration": 307,
    "start_time": "2022-11-28T22:57:29.102Z"
   },
   {
    "duration": 198,
    "start_time": "2022-11-28T22:57:29.919Z"
   },
   {
    "duration": 260,
    "start_time": "2022-11-28T22:57:30.741Z"
   },
   {
    "duration": 128,
    "start_time": "2022-11-28T22:57:31.918Z"
   },
   {
    "duration": 154,
    "start_time": "2022-11-28T22:57:32.777Z"
   },
   {
    "duration": 155,
    "start_time": "2022-11-28T22:57:33.568Z"
   },
   {
    "duration": 21,
    "start_time": "2022-11-28T22:57:34.407Z"
   },
   {
    "duration": 150,
    "start_time": "2022-11-28T22:57:36.319Z"
   },
   {
    "duration": 6,
    "start_time": "2022-11-28T22:57:36.863Z"
   },
   {
    "duration": 181,
    "start_time": "2022-11-28T22:57:37.319Z"
   },
   {
    "duration": 183,
    "start_time": "2022-11-28T22:57:37.789Z"
   },
   {
    "duration": 150,
    "start_time": "2022-11-28T22:57:38.319Z"
   },
   {
    "duration": 267,
    "start_time": "2022-11-28T22:57:38.830Z"
   },
   {
    "duration": 144,
    "start_time": "2022-11-28T22:57:39.405Z"
   },
   {
    "duration": 394,
    "start_time": "2022-11-28T22:57:40.834Z"
   },
   {
    "duration": 5,
    "start_time": "2022-11-28T22:57:41.297Z"
   },
   {
    "duration": 149,
    "start_time": "2022-11-28T22:57:43.746Z"
   },
   {
    "duration": 151,
    "start_time": "2022-11-28T22:57:44.287Z"
   },
   {
    "duration": 124,
    "start_time": "2022-11-28T22:57:44.799Z"
   },
   {
    "duration": 136,
    "start_time": "2022-11-28T22:57:45.307Z"
   },
   {
    "duration": 23,
    "start_time": "2022-11-28T22:57:47.380Z"
   },
   {
    "duration": 7,
    "start_time": "2022-11-28T22:57:49.338Z"
   },
   {
    "duration": 385,
    "start_time": "2022-11-28T22:57:49.819Z"
   },
   {
    "duration": 4,
    "start_time": "2022-11-28T22:57:50.319Z"
   },
   {
    "duration": 16,
    "start_time": "2022-11-28T22:57:50.874Z"
   },
   {
    "duration": 7,
    "start_time": "2022-11-28T22:57:51.738Z"
   },
   {
    "duration": 83,
    "start_time": "2022-11-28T22:59:13.562Z"
   },
   {
    "duration": 13,
    "start_time": "2022-11-28T22:59:14.555Z"
   },
   {
    "duration": 1885,
    "start_time": "2022-11-28T22:59:15.518Z"
   },
   {
    "duration": 12,
    "start_time": "2022-11-28T22:59:18.534Z"
   },
   {
    "duration": 15,
    "start_time": "2022-11-28T22:59:18.928Z"
   },
   {
    "duration": 12,
    "start_time": "2022-11-28T22:59:19.330Z"
   },
   {
    "duration": 5,
    "start_time": "2022-11-28T22:59:19.735Z"
   },
   {
    "duration": 14,
    "start_time": "2022-11-28T22:59:21.818Z"
   },
   {
    "duration": 125,
    "start_time": "2022-11-28T22:59:23.445Z"
   },
   {
    "duration": 8,
    "start_time": "2022-11-28T22:59:24.867Z"
   },
   {
    "duration": 10,
    "start_time": "2022-11-28T22:59:25.318Z"
   },
   {
    "duration": 8,
    "start_time": "2022-11-28T22:59:25.801Z"
   },
   {
    "duration": 4,
    "start_time": "2022-11-28T22:59:27.749Z"
   },
   {
    "duration": 11,
    "start_time": "2022-11-28T22:59:28.187Z"
   },
   {
    "duration": 5,
    "start_time": "2022-11-28T22:59:28.608Z"
   },
   {
    "duration": 6,
    "start_time": "2022-11-28T22:59:29.006Z"
   },
   {
    "duration": 6,
    "start_time": "2022-11-28T22:59:29.479Z"
   },
   {
    "duration": 4,
    "start_time": "2022-11-28T22:59:29.919Z"
   },
   {
    "duration": 263,
    "start_time": "2022-11-28T22:59:30.360Z"
   },
   {
    "duration": 4,
    "start_time": "2022-11-28T22:59:30.828Z"
   },
   {
    "duration": 4,
    "start_time": "2022-11-28T22:59:31.318Z"
   },
   {
    "duration": 3,
    "start_time": "2022-11-28T22:59:31.800Z"
   },
   {
    "duration": 358,
    "start_time": "2022-11-28T22:59:34.623Z"
   },
   {
    "duration": 252,
    "start_time": "2022-11-28T22:59:35.546Z"
   },
   {
    "duration": 192,
    "start_time": "2022-11-28T22:59:36.458Z"
   },
   {
    "duration": 290,
    "start_time": "2022-11-28T22:59:37.381Z"
   },
   {
    "duration": 125,
    "start_time": "2022-11-28T22:59:38.729Z"
   },
   {
    "duration": 141,
    "start_time": "2022-11-28T22:59:39.620Z"
   },
   {
    "duration": 157,
    "start_time": "2022-11-28T22:59:40.481Z"
   },
   {
    "duration": 21,
    "start_time": "2022-11-28T22:59:41.336Z"
   },
   {
    "duration": 136,
    "start_time": "2022-11-28T22:59:42.287Z"
   },
   {
    "duration": 4,
    "start_time": "2022-11-28T22:59:42.797Z"
   },
   {
    "duration": 289,
    "start_time": "2022-11-28T22:59:43.453Z"
   },
   {
    "duration": 257,
    "start_time": "2022-11-28T22:59:43.775Z"
   },
   {
    "duration": 150,
    "start_time": "2022-11-28T22:59:44.283Z"
   },
   {
    "duration": 153,
    "start_time": "2022-11-28T22:59:44.747Z"
   },
   {
    "duration": 159,
    "start_time": "2022-11-28T22:59:45.203Z"
   },
   {
    "duration": 410,
    "start_time": "2022-11-28T22:59:46.643Z"
   },
   {
    "duration": 5,
    "start_time": "2022-11-28T22:59:47.092Z"
   },
   {
    "duration": 122,
    "start_time": "2022-11-28T22:59:49.467Z"
   },
   {
    "duration": 156,
    "start_time": "2022-11-28T22:59:49.874Z"
   },
   {
    "duration": 138,
    "start_time": "2022-11-28T22:59:50.342Z"
   },
   {
    "duration": 244,
    "start_time": "2022-11-28T22:59:50.835Z"
   },
   {
    "duration": 24,
    "start_time": "2022-11-28T22:59:52.943Z"
   },
   {
    "duration": 8,
    "start_time": "2022-11-28T22:59:55.233Z"
   },
   {
    "duration": 170,
    "start_time": "2022-11-28T22:59:55.773Z"
   },
   {
    "duration": 6,
    "start_time": "2022-11-28T22:59:56.434Z"
   },
   {
    "duration": 16,
    "start_time": "2022-11-28T22:59:57.035Z"
   },
   {
    "duration": 6,
    "start_time": "2022-11-28T22:59:57.545Z"
   },
   {
    "duration": 77,
    "start_time": "2022-11-28T23:04:41.328Z"
   },
   {
    "duration": 66,
    "start_time": "2022-11-28T23:06:50.604Z"
   },
   {
    "duration": 154,
    "start_time": "2022-11-28T23:09:07.748Z"
   },
   {
    "duration": 167,
    "start_time": "2022-11-28T23:11:12.523Z"
   },
   {
    "duration": 196,
    "start_time": "2022-11-28T23:14:14.996Z"
   },
   {
    "duration": 163,
    "start_time": "2022-11-28T23:16:37.283Z"
   },
   {
    "duration": 154,
    "start_time": "2022-11-28T23:16:50.689Z"
   },
   {
    "duration": 153,
    "start_time": "2022-11-28T23:20:41.271Z"
   },
   {
    "duration": 152,
    "start_time": "2022-11-28T23:22:16.483Z"
   },
   {
    "duration": 73,
    "start_time": "2022-11-28T23:23:43.602Z"
   },
   {
    "duration": 141,
    "start_time": "2022-11-28T23:27:11.499Z"
   },
   {
    "duration": 75,
    "start_time": "2022-11-28T23:28:02.935Z"
   },
   {
    "duration": 124,
    "start_time": "2022-11-28T23:28:59.395Z"
   },
   {
    "duration": 209,
    "start_time": "2022-11-28T23:32:34.119Z"
   },
   {
    "duration": 144,
    "start_time": "2022-11-28T23:33:09.251Z"
   },
   {
    "duration": 143,
    "start_time": "2022-11-28T23:35:07.877Z"
   },
   {
    "duration": 25,
    "start_time": "2022-11-28T23:41:04.070Z"
   },
   {
    "duration": 114,
    "start_time": "2022-11-28T23:42:14.491Z"
   },
   {
    "duration": 10,
    "start_time": "2022-11-28T23:50:33.061Z"
   },
   {
    "duration": 11,
    "start_time": "2022-11-28T23:50:51.504Z"
   },
   {
    "duration": 12,
    "start_time": "2022-11-28T23:51:18.510Z"
   },
   {
    "duration": 12,
    "start_time": "2022-11-28T23:52:31.097Z"
   },
   {
    "duration": 12,
    "start_time": "2022-11-28T23:53:19.483Z"
   },
   {
    "duration": 13,
    "start_time": "2022-11-28T23:54:37.557Z"
   },
   {
    "duration": 12,
    "start_time": "2022-11-28T23:55:00.601Z"
   },
   {
    "duration": 460,
    "start_time": "2022-11-29T06:04:42.461Z"
   },
   {
    "duration": 15,
    "start_time": "2022-11-29T06:04:42.923Z"
   },
   {
    "duration": 2104,
    "start_time": "2022-11-29T06:04:42.940Z"
   },
   {
    "duration": 12,
    "start_time": "2022-11-29T06:04:45.046Z"
   },
   {
    "duration": 21,
    "start_time": "2022-11-29T06:04:45.060Z"
   },
   {
    "duration": 11,
    "start_time": "2022-11-29T06:04:45.082Z"
   },
   {
    "duration": 13,
    "start_time": "2022-11-29T06:04:45.095Z"
   },
   {
    "duration": 148,
    "start_time": "2022-11-29T06:04:45.109Z"
   },
   {
    "duration": 11,
    "start_time": "2022-11-29T06:04:45.258Z"
   },
   {
    "duration": 8,
    "start_time": "2022-11-29T06:04:45.272Z"
   },
   {
    "duration": 10,
    "start_time": "2022-11-29T06:04:45.282Z"
   },
   {
    "duration": 10,
    "start_time": "2022-11-29T06:04:45.293Z"
   },
   {
    "duration": 11,
    "start_time": "2022-11-29T06:04:45.304Z"
   },
   {
    "duration": 36,
    "start_time": "2022-11-29T06:04:45.316Z"
   },
   {
    "duration": 8,
    "start_time": "2022-11-29T06:04:45.354Z"
   },
   {
    "duration": 10,
    "start_time": "2022-11-29T06:04:45.363Z"
   },
   {
    "duration": 6,
    "start_time": "2022-11-29T06:04:45.375Z"
   },
   {
    "duration": 9,
    "start_time": "2022-11-29T06:04:45.383Z"
   },
   {
    "duration": 8,
    "start_time": "2022-11-29T06:04:45.394Z"
   },
   {
    "duration": 281,
    "start_time": "2022-11-29T06:04:45.404Z"
   },
   {
    "duration": 3,
    "start_time": "2022-11-29T06:04:45.687Z"
   },
   {
    "duration": 8,
    "start_time": "2022-11-29T06:04:45.692Z"
   },
   {
    "duration": 5,
    "start_time": "2022-11-29T06:04:45.702Z"
   },
   {
    "duration": 305,
    "start_time": "2022-11-29T06:04:45.708Z"
   },
   {
    "duration": 357,
    "start_time": "2022-11-29T06:04:46.016Z"
   },
   {
    "duration": 215,
    "start_time": "2022-11-29T06:04:46.375Z"
   },
   {
    "duration": 303,
    "start_time": "2022-11-29T06:04:46.592Z"
   },
   {
    "duration": 156,
    "start_time": "2022-11-29T06:04:46.898Z"
   },
   {
    "duration": 164,
    "start_time": "2022-11-29T06:04:47.056Z"
   },
   {
    "duration": 190,
    "start_time": "2022-11-29T06:04:47.221Z"
   },
   {
    "duration": 21,
    "start_time": "2022-11-29T06:04:47.413Z"
   },
   {
    "duration": 175,
    "start_time": "2022-11-29T06:04:47.436Z"
   },
   {
    "duration": 177,
    "start_time": "2022-11-29T06:04:47.612Z"
   },
   {
    "duration": 229,
    "start_time": "2022-11-29T06:04:47.791Z"
   },
   {
    "duration": 186,
    "start_time": "2022-11-29T06:04:48.022Z"
   },
   {
    "duration": 256,
    "start_time": "2022-11-29T06:04:48.210Z"
   },
   {
    "duration": 185,
    "start_time": "2022-11-29T06:04:48.467Z"
   },
   {
    "duration": 450,
    "start_time": "2022-11-29T06:04:48.654Z"
   },
   {
    "duration": 5,
    "start_time": "2022-11-29T06:04:49.106Z"
   },
   {
    "duration": 172,
    "start_time": "2022-11-29T06:04:49.112Z"
   },
   {
    "duration": 151,
    "start_time": "2022-11-29T06:04:49.286Z"
   },
   {
    "duration": 157,
    "start_time": "2022-11-29T06:04:49.439Z"
   },
   {
    "duration": 155,
    "start_time": "2022-11-29T06:04:49.597Z"
   },
   {
    "duration": 22,
    "start_time": "2022-11-29T06:04:49.754Z"
   },
   {
    "duration": 7,
    "start_time": "2022-11-29T06:04:49.778Z"
   },
   {
    "duration": 198,
    "start_time": "2022-11-29T06:04:49.787Z"
   },
   {
    "duration": 5,
    "start_time": "2022-11-29T06:04:49.987Z"
   },
   {
    "duration": 16,
    "start_time": "2022-11-29T06:04:49.993Z"
   },
   {
    "duration": 8,
    "start_time": "2022-11-29T06:04:50.011Z"
   },
   {
    "duration": 14,
    "start_time": "2022-11-29T06:06:24.333Z"
   },
   {
    "duration": 94,
    "start_time": "2022-11-29T06:06:28.667Z"
   },
   {
    "duration": 45,
    "start_time": "2022-11-29T19:45:33.225Z"
   },
   {
    "duration": 711,
    "start_time": "2022-11-29T19:45:43.625Z"
   },
   {
    "duration": 15,
    "start_time": "2022-11-29T19:45:44.554Z"
   },
   {
    "duration": 2267,
    "start_time": "2022-11-29T19:45:45.449Z"
   },
   {
    "duration": 10,
    "start_time": "2022-11-29T19:45:49.056Z"
   },
   {
    "duration": 14,
    "start_time": "2022-11-29T19:45:49.547Z"
   },
   {
    "duration": 58,
    "start_time": "2022-11-29T19:45:50.056Z"
   },
   {
    "duration": 14,
    "start_time": "2022-11-29T19:45:55.172Z"
   },
   {
    "duration": 13,
    "start_time": "2022-11-29T19:46:43.960Z"
   },
   {
    "duration": 12,
    "start_time": "2022-11-29T19:46:48.489Z"
   },
   {
    "duration": 13,
    "start_time": "2022-11-29T19:46:58.196Z"
   },
   {
    "duration": 14,
    "start_time": "2022-11-29T19:47:05.307Z"
   },
   {
    "duration": 13,
    "start_time": "2022-11-29T19:47:09.489Z"
   },
   {
    "duration": 15,
    "start_time": "2022-11-29T19:47:10.213Z"
   },
   {
    "duration": 97,
    "start_time": "2022-11-29T19:47:20.214Z"
   },
   {
    "duration": 14,
    "start_time": "2022-11-29T19:47:21.303Z"
   },
   {
    "duration": 1837,
    "start_time": "2022-11-29T19:47:22.342Z"
   },
   {
    "duration": 10,
    "start_time": "2022-11-29T19:47:26.229Z"
   },
   {
    "duration": 14,
    "start_time": "2022-11-29T19:47:26.821Z"
   },
   {
    "duration": 14,
    "start_time": "2022-11-29T19:47:27.384Z"
   },
   {
    "duration": 15,
    "start_time": "2022-11-29T19:55:53.271Z"
   },
   {
    "duration": 4,
    "start_time": "2022-11-29T19:57:15.742Z"
   },
   {
    "duration": 44,
    "start_time": "2022-11-29T19:57:56.409Z"
   },
   {
    "duration": 7,
    "start_time": "2022-11-29T19:58:09.910Z"
   },
   {
    "duration": 4,
    "start_time": "2022-11-29T19:58:15.437Z"
   },
   {
    "duration": 3,
    "start_time": "2022-11-29T19:58:15.952Z"
   },
   {
    "duration": 10,
    "start_time": "2022-11-29T19:58:46.853Z"
   },
   {
    "duration": 7,
    "start_time": "2022-11-29T19:59:07.400Z"
   },
   {
    "duration": 8,
    "start_time": "2022-11-29T20:03:53.620Z"
   },
   {
    "duration": 261,
    "start_time": "2022-11-29T20:04:03.447Z"
   },
   {
    "duration": 40,
    "start_time": "2022-11-29T20:05:28.983Z"
   },
   {
    "duration": 263,
    "start_time": "2022-11-29T20:05:42.443Z"
   },
   {
    "duration": 280,
    "start_time": "2022-11-29T20:06:09.883Z"
   },
   {
    "duration": 180,
    "start_time": "2022-11-29T20:06:14.448Z"
   },
   {
    "duration": 370,
    "start_time": "2022-11-29T20:06:18.494Z"
   },
   {
    "duration": 88,
    "start_time": "2022-11-29T20:06:27.427Z"
   },
   {
    "duration": 14,
    "start_time": "2022-11-29T20:06:28.503Z"
   },
   {
    "duration": 1718,
    "start_time": "2022-11-29T20:06:29.015Z"
   },
   {
    "duration": 8,
    "start_time": "2022-11-29T20:06:31.743Z"
   },
   {
    "duration": 15,
    "start_time": "2022-11-29T20:06:32.120Z"
   },
   {
    "duration": 10,
    "start_time": "2022-11-29T20:06:32.525Z"
   },
   {
    "duration": 14,
    "start_time": "2022-11-29T20:06:35.765Z"
   },
   {
    "duration": 188,
    "start_time": "2022-11-29T20:06:37.390Z"
   },
   {
    "duration": 8,
    "start_time": "2022-11-29T20:06:39.506Z"
   },
   {
    "duration": 8,
    "start_time": "2022-11-29T20:06:39.970Z"
   },
   {
    "duration": 11,
    "start_time": "2022-11-29T20:06:40.846Z"
   },
   {
    "duration": 10,
    "start_time": "2022-11-29T20:06:41.263Z"
   },
   {
    "duration": 11,
    "start_time": "2022-11-29T20:06:41.692Z"
   },
   {
    "duration": 5,
    "start_time": "2022-11-29T20:06:43.866Z"
   },
   {
    "duration": 7,
    "start_time": "2022-11-29T20:06:44.276Z"
   },
   {
    "duration": 6,
    "start_time": "2022-11-29T20:06:44.722Z"
   },
   {
    "duration": 6,
    "start_time": "2022-11-29T20:06:45.127Z"
   },
   {
    "duration": 6,
    "start_time": "2022-11-29T20:06:45.578Z"
   },
   {
    "duration": 3,
    "start_time": "2022-11-29T20:06:45.949Z"
   },
   {
    "duration": 283,
    "start_time": "2022-11-29T20:06:46.388Z"
   },
   {
    "duration": 3,
    "start_time": "2022-11-29T20:06:46.855Z"
   },
   {
    "duration": 4,
    "start_time": "2022-11-29T20:06:47.276Z"
   },
   {
    "duration": 4,
    "start_time": "2022-11-29T20:06:47.823Z"
   },
   {
    "duration": 258,
    "start_time": "2022-11-29T20:06:50.052Z"
   },
   {
    "duration": 234,
    "start_time": "2022-11-29T20:06:51.269Z"
   },
   {
    "duration": 185,
    "start_time": "2022-11-29T20:06:52.258Z"
   },
   {
    "duration": 247,
    "start_time": "2022-11-29T20:06:53.333Z"
   },
   {
    "duration": 5,
    "start_time": "2022-11-29T20:08:06.067Z"
   },
   {
    "duration": 38,
    "start_time": "2022-11-29T20:08:22.700Z"
   },
   {
    "duration": 8,
    "start_time": "2022-11-29T20:10:53.272Z"
   },
   {
    "duration": 8,
    "start_time": "2022-11-29T20:12:10.112Z"
   },
   {
    "duration": 6,
    "start_time": "2022-11-29T20:12:47.849Z"
   },
   {
    "duration": 6,
    "start_time": "2022-11-29T20:12:53.290Z"
   },
   {
    "duration": 315,
    "start_time": "2022-11-29T20:12:54.394Z"
   },
   {
    "duration": 5,
    "start_time": "2022-11-29T20:13:10.194Z"
   },
   {
    "duration": 257,
    "start_time": "2022-11-29T20:13:14.948Z"
   },
   {
    "duration": 5,
    "start_time": "2022-11-29T20:13:31.481Z"
   },
   {
    "duration": 253,
    "start_time": "2022-11-29T20:13:32.979Z"
   },
   {
    "duration": 6,
    "start_time": "2022-11-29T20:13:35.818Z"
   },
   {
    "duration": 253,
    "start_time": "2022-11-29T20:13:36.771Z"
   },
   {
    "duration": 257,
    "start_time": "2022-11-29T20:13:58.293Z"
   },
   {
    "duration": 263,
    "start_time": "2022-11-29T20:14:07.550Z"
   },
   {
    "duration": 6,
    "start_time": "2022-11-29T20:14:34.932Z"
   },
   {
    "duration": 324,
    "start_time": "2022-11-29T20:14:38.501Z"
   },
   {
    "duration": 5,
    "start_time": "2022-11-29T20:14:50.327Z"
   },
   {
    "duration": 4,
    "start_time": "2022-11-29T20:14:56.284Z"
   },
   {
    "duration": 6,
    "start_time": "2022-11-29T20:15:00.915Z"
   },
   {
    "duration": 84,
    "start_time": "2022-11-29T20:15:27.899Z"
   },
   {
    "duration": 13,
    "start_time": "2022-11-29T20:15:28.847Z"
   },
   {
    "duration": 1727,
    "start_time": "2022-11-29T20:15:29.750Z"
   },
   {
    "duration": 10,
    "start_time": "2022-11-29T20:15:32.763Z"
   },
   {
    "duration": 15,
    "start_time": "2022-11-29T20:15:33.172Z"
   },
   {
    "duration": 11,
    "start_time": "2022-11-29T20:15:33.626Z"
   },
   {
    "duration": 15,
    "start_time": "2022-11-29T20:15:37.117Z"
   },
   {
    "duration": 184,
    "start_time": "2022-11-29T20:15:38.904Z"
   },
   {
    "duration": 9,
    "start_time": "2022-11-29T20:15:41.185Z"
   },
   {
    "duration": 8,
    "start_time": "2022-11-29T20:15:41.628Z"
   },
   {
    "duration": 11,
    "start_time": "2022-11-29T20:15:42.464Z"
   },
   {
    "duration": 10,
    "start_time": "2022-11-29T20:15:42.895Z"
   },
   {
    "duration": 10,
    "start_time": "2022-11-29T20:15:43.329Z"
   },
   {
    "duration": 4,
    "start_time": "2022-11-29T20:15:45.535Z"
   },
   {
    "duration": 9,
    "start_time": "2022-11-29T20:15:45.965Z"
   },
   {
    "duration": 6,
    "start_time": "2022-11-29T20:15:46.360Z"
   },
   {
    "duration": 5,
    "start_time": "2022-11-29T20:15:46.779Z"
   },
   {
    "duration": 6,
    "start_time": "2022-11-29T20:15:47.236Z"
   },
   {
    "duration": 4,
    "start_time": "2022-11-29T20:15:47.698Z"
   },
   {
    "duration": 234,
    "start_time": "2022-11-29T20:15:48.157Z"
   },
   {
    "duration": 7,
    "start_time": "2022-11-29T20:15:48.595Z"
   },
   {
    "duration": 5,
    "start_time": "2022-11-29T20:15:49.011Z"
   },
   {
    "duration": 4,
    "start_time": "2022-11-29T20:15:49.476Z"
   },
   {
    "duration": 263,
    "start_time": "2022-11-29T20:15:54.118Z"
   },
   {
    "duration": 239,
    "start_time": "2022-11-29T20:15:55.908Z"
   },
   {
    "duration": 181,
    "start_time": "2022-11-29T20:15:57.559Z"
   },
   {
    "duration": 4,
    "start_time": "2022-11-29T20:16:00.599Z"
   },
   {
    "duration": 51,
    "start_time": "2022-11-29T20:17:39.386Z"
   },
   {
    "duration": 50,
    "start_time": "2022-11-29T20:18:47.801Z"
   },
   {
    "duration": 48,
    "start_time": "2022-11-29T20:18:54.113Z"
   },
   {
    "duration": 50,
    "start_time": "2022-11-29T20:19:01.982Z"
   },
   {
    "duration": 49,
    "start_time": "2022-11-29T20:19:06.584Z"
   },
   {
    "duration": 56,
    "start_time": "2022-11-29T20:19:14.449Z"
   },
   {
    "duration": 8,
    "start_time": "2022-11-29T20:19:21.747Z"
   },
   {
    "duration": 10,
    "start_time": "2022-11-29T20:22:05.989Z"
   },
   {
    "duration": 9,
    "start_time": "2022-11-29T20:22:12.043Z"
   },
   {
    "duration": 854,
    "start_time": "2022-11-29T20:22:18.221Z"
   },
   {
    "duration": 9,
    "start_time": "2022-11-29T20:22:25.789Z"
   },
   {
    "duration": 8,
    "start_time": "2022-11-29T20:24:43.545Z"
   },
   {
    "duration": 264,
    "start_time": "2022-11-29T20:25:48.029Z"
   },
   {
    "duration": 7,
    "start_time": "2022-11-29T20:35:18.362Z"
   },
   {
    "duration": 10,
    "start_time": "2022-11-29T20:35:50.175Z"
   },
   {
    "duration": 120,
    "start_time": "2022-11-29T20:38:42.471Z"
   },
   {
    "duration": 43,
    "start_time": "2022-11-29T20:38:51.160Z"
   },
   {
    "duration": 45,
    "start_time": "2022-11-29T20:39:12.299Z"
   },
   {
    "duration": 81,
    "start_time": "2022-11-29T20:39:22.991Z"
   },
   {
    "duration": 7,
    "start_time": "2022-11-29T20:39:33.694Z"
   },
   {
    "duration": 845,
    "start_time": "2022-11-29T20:39:54.400Z"
   },
   {
    "duration": 41,
    "start_time": "2022-11-29T20:39:59.726Z"
   },
   {
    "duration": 721,
    "start_time": "2022-11-29T20:40:29.930Z"
   },
   {
    "duration": 46,
    "start_time": "2022-11-29T20:40:56.704Z"
   },
   {
    "duration": 45,
    "start_time": "2022-11-29T20:43:55.468Z"
   },
   {
    "duration": 45,
    "start_time": "2022-11-29T20:44:23.028Z"
   },
   {
    "duration": 48,
    "start_time": "2022-11-29T20:44:38.352Z"
   },
   {
    "duration": 47,
    "start_time": "2022-11-29T20:44:43.273Z"
   },
   {
    "duration": 88,
    "start_time": "2022-11-29T20:44:49.034Z"
   },
   {
    "duration": 46,
    "start_time": "2022-11-29T20:44:58.255Z"
   },
   {
    "duration": 63,
    "start_time": "2022-11-29T20:45:04.114Z"
   },
   {
    "duration": 5,
    "start_time": "2022-11-29T20:51:41.084Z"
   },
   {
    "duration": 63,
    "start_time": "2022-11-29T20:52:25.139Z"
   },
   {
    "duration": 6,
    "start_time": "2022-11-29T20:52:44.401Z"
   },
   {
    "duration": 6,
    "start_time": "2022-11-29T20:52:51.223Z"
   },
   {
    "duration": 5,
    "start_time": "2022-11-29T20:52:55.068Z"
   },
   {
    "duration": 5,
    "start_time": "2022-11-29T20:53:05.406Z"
   },
   {
    "duration": 6,
    "start_time": "2022-11-29T20:53:09.728Z"
   },
   {
    "duration": 6,
    "start_time": "2022-11-29T20:53:18.073Z"
   },
   {
    "duration": 238,
    "start_time": "2022-11-29T20:53:22.045Z"
   },
   {
    "duration": 7,
    "start_time": "2022-11-29T20:53:26.415Z"
   },
   {
    "duration": 82,
    "start_time": "2022-11-29T20:53:43.305Z"
   },
   {
    "duration": 14,
    "start_time": "2022-11-29T20:53:44.236Z"
   },
   {
    "duration": 1886,
    "start_time": "2022-11-29T20:53:45.073Z"
   },
   {
    "duration": 10,
    "start_time": "2022-11-29T20:53:48.088Z"
   },
   {
    "duration": 13,
    "start_time": "2022-11-29T20:53:48.532Z"
   },
   {
    "duration": 11,
    "start_time": "2022-11-29T20:53:48.983Z"
   },
   {
    "duration": 15,
    "start_time": "2022-11-29T20:53:52.484Z"
   },
   {
    "duration": 119,
    "start_time": "2022-11-29T20:53:54.323Z"
   },
   {
    "duration": 8,
    "start_time": "2022-11-29T20:53:56.508Z"
   },
   {
    "duration": 8,
    "start_time": "2022-11-29T20:53:56.951Z"
   },
   {
    "duration": 10,
    "start_time": "2022-11-29T20:53:57.820Z"
   },
   {
    "duration": 11,
    "start_time": "2022-11-29T20:53:58.271Z"
   },
   {
    "duration": 11,
    "start_time": "2022-11-29T20:53:58.651Z"
   },
   {
    "duration": 4,
    "start_time": "2022-11-29T20:54:00.916Z"
   },
   {
    "duration": 8,
    "start_time": "2022-11-29T20:54:01.340Z"
   },
   {
    "duration": 6,
    "start_time": "2022-11-29T20:54:01.785Z"
   },
   {
    "duration": 6,
    "start_time": "2022-11-29T20:54:02.245Z"
   },
   {
    "duration": 5,
    "start_time": "2022-11-29T20:54:02.705Z"
   },
   {
    "duration": 4,
    "start_time": "2022-11-29T20:54:03.132Z"
   },
   {
    "duration": 257,
    "start_time": "2022-11-29T20:54:03.590Z"
   },
   {
    "duration": 4,
    "start_time": "2022-11-29T20:54:04.001Z"
   },
   {
    "duration": 5,
    "start_time": "2022-11-29T20:54:04.452Z"
   },
   {
    "duration": 4,
    "start_time": "2022-11-29T20:54:04.914Z"
   },
   {
    "duration": 320,
    "start_time": "2022-11-29T20:54:07.929Z"
   },
   {
    "duration": 226,
    "start_time": "2022-11-29T20:54:08.932Z"
   },
   {
    "duration": 183,
    "start_time": "2022-11-29T20:54:09.882Z"
   },
   {
    "duration": 6,
    "start_time": "2022-11-29T20:54:10.884Z"
   },
   {
    "duration": 234,
    "start_time": "2022-11-29T20:54:11.406Z"
   },
   {
    "duration": 264,
    "start_time": "2022-11-29T20:54:32.446Z"
   },
   {
    "duration": 273,
    "start_time": "2022-11-29T20:54:44.410Z"
   },
   {
    "duration": 363,
    "start_time": "2022-11-29T20:54:51.785Z"
   },
   {
    "duration": 263,
    "start_time": "2022-11-29T20:54:58.604Z"
   },
   {
    "duration": 272,
    "start_time": "2022-11-29T20:55:05.429Z"
   },
   {
    "duration": 269,
    "start_time": "2022-11-29T20:55:22.473Z"
   },
   {
    "duration": 312,
    "start_time": "2022-11-29T20:55:37.578Z"
   },
   {
    "duration": 325,
    "start_time": "2022-11-29T20:55:44.454Z"
   },
   {
    "duration": 255,
    "start_time": "2022-11-29T20:55:49.466Z"
   },
   {
    "duration": 248,
    "start_time": "2022-11-29T20:55:55.639Z"
   },
   {
    "duration": 775,
    "start_time": "2022-11-29T20:58:57.010Z"
   },
   {
    "duration": 866,
    "start_time": "2022-11-29T20:59:57.150Z"
   },
   {
    "duration": 3,
    "start_time": "2022-11-29T21:01:28.084Z"
   },
   {
    "duration": 15,
    "start_time": "2022-11-29T21:01:49.447Z"
   },
   {
    "duration": 50,
    "start_time": "2022-11-29T21:02:33.903Z"
   },
   {
    "duration": 15,
    "start_time": "2022-11-29T21:02:39.157Z"
   },
   {
    "duration": 230,
    "start_time": "2022-11-29T21:13:55.163Z"
   },
   {
    "duration": 7,
    "start_time": "2022-11-29T21:15:07.897Z"
   },
   {
    "duration": 68,
    "start_time": "2022-11-29T21:16:17.086Z"
   },
   {
    "duration": 415,
    "start_time": "2022-11-29T21:16:53.092Z"
   },
   {
    "duration": 69,
    "start_time": "2022-11-29T21:17:05.977Z"
   },
   {
    "duration": 68,
    "start_time": "2022-11-29T21:17:15.001Z"
   },
   {
    "duration": 66,
    "start_time": "2022-11-29T21:19:09.726Z"
   },
   {
    "duration": 125,
    "start_time": "2022-11-29T21:19:41.860Z"
   },
   {
    "duration": 221,
    "start_time": "2022-11-29T21:20:06.735Z"
   },
   {
    "duration": 151,
    "start_time": "2022-11-29T21:27:26.788Z"
   },
   {
    "duration": 17,
    "start_time": "2022-11-29T21:45:20.421Z"
   },
   {
    "duration": 17,
    "start_time": "2022-11-29T21:45:40.749Z"
   },
   {
    "duration": 17,
    "start_time": "2022-11-29T21:45:53.777Z"
   },
   {
    "duration": 49,
    "start_time": "2022-11-29T21:45:59.061Z"
   },
   {
    "duration": 23,
    "start_time": "2022-11-29T21:46:10.841Z"
   },
   {
    "duration": 15,
    "start_time": "2022-11-29T21:53:11.453Z"
   },
   {
    "duration": 15,
    "start_time": "2022-11-29T22:06:17.283Z"
   },
   {
    "duration": 16,
    "start_time": "2022-11-29T22:16:02.935Z"
   },
   {
    "duration": 8,
    "start_time": "2022-11-29T22:16:28.233Z"
   },
   {
    "duration": 15,
    "start_time": "2022-11-29T22:17:53.576Z"
   },
   {
    "duration": 207,
    "start_time": "2022-11-29T22:23:53.644Z"
   },
   {
    "duration": 206,
    "start_time": "2022-11-29T22:24:05.552Z"
   },
   {
    "duration": 105,
    "start_time": "2022-11-29T22:24:38.610Z"
   },
   {
    "duration": 199,
    "start_time": "2022-11-29T22:24:47.166Z"
   },
   {
    "duration": 83,
    "start_time": "2022-11-29T22:26:44.636Z"
   },
   {
    "duration": 63,
    "start_time": "2022-11-29T22:27:21.336Z"
   },
   {
    "duration": 82,
    "start_time": "2022-11-29T22:27:33.469Z"
   },
   {
    "duration": 80,
    "start_time": "2022-11-29T22:27:46.212Z"
   },
   {
    "duration": 141,
    "start_time": "2022-11-29T22:33:48.549Z"
   },
   {
    "duration": 47,
    "start_time": "2022-11-29T22:42:13.667Z"
   },
   {
    "duration": 55,
    "start_time": "2022-11-29T22:49:02.761Z"
   },
   {
    "duration": 121,
    "start_time": "2022-11-29T22:56:39.653Z"
   },
   {
    "duration": 23,
    "start_time": "2022-11-29T22:57:32.715Z"
   },
   {
    "duration": 22,
    "start_time": "2022-11-29T22:58:54.079Z"
   },
   {
    "duration": 22,
    "start_time": "2022-11-29T22:58:57.336Z"
   },
   {
    "duration": 5,
    "start_time": "2022-11-29T23:12:25.486Z"
   },
   {
    "duration": 395,
    "start_time": "2022-11-29T23:13:09.869Z"
   },
   {
    "duration": 449,
    "start_time": "2022-11-29T23:13:18.456Z"
   },
   {
    "duration": 146,
    "start_time": "2022-11-29T23:13:30.347Z"
   },
   {
    "duration": 149,
    "start_time": "2022-11-29T23:14:01.517Z"
   },
   {
    "duration": 142,
    "start_time": "2022-11-29T23:14:19.373Z"
   },
   {
    "duration": 154,
    "start_time": "2022-11-29T23:14:36.306Z"
   },
   {
    "duration": 150,
    "start_time": "2022-11-29T23:15:11.231Z"
   },
   {
    "duration": 165,
    "start_time": "2022-11-29T23:16:13.416Z"
   },
   {
    "duration": 153,
    "start_time": "2022-11-29T23:16:18.395Z"
   },
   {
    "duration": 151,
    "start_time": "2022-11-29T23:17:39.406Z"
   },
   {
    "duration": 468,
    "start_time": "2022-11-30T07:00:19.829Z"
   },
   {
    "duration": 15,
    "start_time": "2022-11-30T07:00:20.299Z"
   },
   {
    "duration": 1980,
    "start_time": "2022-11-30T07:00:20.316Z"
   },
   {
    "duration": 13,
    "start_time": "2022-11-30T07:00:22.298Z"
   },
   {
    "duration": 14,
    "start_time": "2022-11-30T07:00:22.313Z"
   },
   {
    "duration": 11,
    "start_time": "2022-11-30T07:00:22.328Z"
   },
   {
    "duration": 14,
    "start_time": "2022-11-30T07:00:22.340Z"
   },
   {
    "duration": 142,
    "start_time": "2022-11-30T07:00:22.355Z"
   },
   {
    "duration": 10,
    "start_time": "2022-11-30T07:00:22.503Z"
   },
   {
    "duration": 8,
    "start_time": "2022-11-30T07:00:22.515Z"
   },
   {
    "duration": 12,
    "start_time": "2022-11-30T07:00:22.524Z"
   },
   {
    "duration": 9,
    "start_time": "2022-11-30T07:00:22.537Z"
   },
   {
    "duration": 9,
    "start_time": "2022-11-30T07:00:22.548Z"
   },
   {
    "duration": 3,
    "start_time": "2022-11-30T07:00:22.559Z"
   },
   {
    "duration": 44,
    "start_time": "2022-11-30T07:00:22.564Z"
   },
   {
    "duration": 9,
    "start_time": "2022-11-30T07:00:22.610Z"
   },
   {
    "duration": 7,
    "start_time": "2022-11-30T07:00:22.620Z"
   },
   {
    "duration": 5,
    "start_time": "2022-11-30T07:00:22.628Z"
   },
   {
    "duration": 7,
    "start_time": "2022-11-30T07:00:22.634Z"
   },
   {
    "duration": 246,
    "start_time": "2022-11-30T07:00:22.642Z"
   },
   {
    "duration": 227,
    "start_time": "2022-11-30T07:00:22.890Z"
   },
   {
    "duration": 3,
    "start_time": "2022-11-30T07:00:23.119Z"
   },
   {
    "duration": 7,
    "start_time": "2022-11-30T07:00:23.124Z"
   },
   {
    "duration": 6,
    "start_time": "2022-11-30T07:00:23.133Z"
   },
   {
    "duration": 355,
    "start_time": "2022-11-30T07:00:23.140Z"
   },
   {
    "duration": 226,
    "start_time": "2022-11-30T07:00:23.497Z"
   },
   {
    "duration": 187,
    "start_time": "2022-11-30T07:00:23.725Z"
   },
   {
    "duration": 4,
    "start_time": "2022-11-30T07:00:23.915Z"
   },
   {
    "duration": 263,
    "start_time": "2022-11-30T07:00:23.921Z"
   },
   {
    "duration": 135,
    "start_time": "2022-11-30T07:00:24.185Z"
   },
   {
    "duration": 157,
    "start_time": "2022-11-30T07:00:24.321Z"
   },
   {
    "duration": 175,
    "start_time": "2022-11-30T07:00:24.480Z"
   },
   {
    "duration": 98,
    "start_time": "2022-11-30T07:00:24.657Z"
   },
   {
    "duration": 165,
    "start_time": "2022-11-30T07:00:24.757Z"
   },
   {
    "duration": 241,
    "start_time": "2022-11-30T07:00:24.924Z"
   },
   {
    "duration": 207,
    "start_time": "2022-11-30T07:00:25.167Z"
   },
   {
    "duration": 161,
    "start_time": "2022-11-30T07:00:25.376Z"
   },
   {
    "duration": 159,
    "start_time": "2022-11-30T07:00:25.539Z"
   },
   {
    "duration": 168,
    "start_time": "2022-11-30T07:00:25.704Z"
   },
   {
    "duration": 164,
    "start_time": "2022-11-30T07:00:25.874Z"
   },
   {
    "duration": 449,
    "start_time": "2022-11-30T07:00:26.040Z"
   },
   {
    "duration": 4,
    "start_time": "2022-11-30T07:00:26.491Z"
   },
   {
    "duration": 172,
    "start_time": "2022-11-30T07:00:26.496Z"
   },
   {
    "duration": 128,
    "start_time": "2022-11-30T07:00:26.669Z"
   },
   {
    "duration": 212,
    "start_time": "2022-11-30T07:00:26.798Z"
   },
   {
    "duration": 135,
    "start_time": "2022-11-30T07:00:27.012Z"
   },
   {
    "duration": 21,
    "start_time": "2022-11-30T07:00:27.149Z"
   },
   {
    "duration": 7,
    "start_time": "2022-11-30T07:00:27.171Z"
   },
   {
    "duration": 194,
    "start_time": "2022-11-30T07:00:27.179Z"
   },
   {
    "duration": 5,
    "start_time": "2022-11-30T07:00:27.376Z"
   },
   {
    "duration": 33,
    "start_time": "2022-11-30T07:00:27.383Z"
   },
   {
    "duration": 12,
    "start_time": "2022-11-30T07:00:27.418Z"
   },
   {
    "duration": 6,
    "start_time": "2022-11-30T07:04:53.982Z"
   },
   {
    "duration": 44,
    "start_time": "2022-11-30T07:27:37.329Z"
   },
   {
    "duration": 552,
    "start_time": "2022-11-30T07:28:29.960Z"
   },
   {
    "duration": 84,
    "start_time": "2022-11-30T07:28:41.835Z"
   },
   {
    "duration": 15,
    "start_time": "2022-11-30T07:28:44.154Z"
   },
   {
    "duration": 2549,
    "start_time": "2022-11-30T07:28:45.254Z"
   },
   {
    "duration": 88,
    "start_time": "2022-11-30T07:28:58.735Z"
   },
   {
    "duration": 13,
    "start_time": "2022-11-30T07:28:59.770Z"
   },
   {
    "duration": 1925,
    "start_time": "2022-11-30T07:29:00.769Z"
   },
   {
    "duration": 10,
    "start_time": "2022-11-30T07:29:06.386Z"
   },
   {
    "duration": 14,
    "start_time": "2022-11-30T07:29:06.750Z"
   },
   {
    "duration": 10,
    "start_time": "2022-11-30T07:29:07.117Z"
   },
   {
    "duration": 14,
    "start_time": "2022-11-30T07:29:10.084Z"
   },
   {
    "duration": 112,
    "start_time": "2022-11-30T07:29:11.441Z"
   },
   {
    "duration": 9,
    "start_time": "2022-11-30T07:29:13.193Z"
   },
   {
    "duration": 8,
    "start_time": "2022-11-30T07:29:13.528Z"
   },
   {
    "duration": 14,
    "start_time": "2022-11-30T07:29:14.232Z"
   },
   {
    "duration": 11,
    "start_time": "2022-11-30T07:29:14.555Z"
   },
   {
    "duration": 11,
    "start_time": "2022-11-30T07:29:14.923Z"
   },
   {
    "duration": 4,
    "start_time": "2022-11-30T07:29:16.605Z"
   },
   {
    "duration": 7,
    "start_time": "2022-11-30T07:29:16.922Z"
   },
   {
    "duration": 6,
    "start_time": "2022-11-30T07:29:17.295Z"
   },
   {
    "duration": 5,
    "start_time": "2022-11-30T07:29:17.633Z"
   },
   {
    "duration": 5,
    "start_time": "2022-11-30T07:29:17.968Z"
   },
   {
    "duration": 3,
    "start_time": "2022-11-30T07:29:18.284Z"
   },
   {
    "duration": 224,
    "start_time": "2022-11-30T07:29:18.614Z"
   },
   {
    "duration": 263,
    "start_time": "2022-11-30T07:29:18.951Z"
   },
   {
    "duration": 4,
    "start_time": "2022-11-30T07:29:19.274Z"
   },
   {
    "duration": 5,
    "start_time": "2022-11-30T07:29:19.577Z"
   },
   {
    "duration": 3,
    "start_time": "2022-11-30T07:29:19.910Z"
   },
   {
    "duration": 257,
    "start_time": "2022-11-30T07:29:21.235Z"
   },
   {
    "duration": 328,
    "start_time": "2022-11-30T07:29:21.908Z"
   },
   {
    "duration": 185,
    "start_time": "2022-11-30T07:29:22.585Z"
   },
   {
    "duration": 7,
    "start_time": "2022-11-30T07:29:23.254Z"
   },
   {
    "duration": 251,
    "start_time": "2022-11-30T07:29:23.584Z"
   },
   {
    "duration": 126,
    "start_time": "2022-11-30T07:29:25.899Z"
   },
   {
    "duration": 143,
    "start_time": "2022-11-30T07:29:26.623Z"
   },
   {
    "duration": 158,
    "start_time": "2022-11-30T07:29:27.331Z"
   },
   {
    "duration": 91,
    "start_time": "2022-11-30T07:29:27.964Z"
   },
   {
    "duration": 153,
    "start_time": "2022-11-30T07:29:30.016Z"
   },
   {
    "duration": 159,
    "start_time": "2022-11-30T07:29:30.712Z"
   },
   {
    "duration": 327,
    "start_time": "2022-11-30T07:29:32.425Z"
   },
   {
    "duration": 165,
    "start_time": "2022-11-30T07:29:34.204Z"
   },
   {
    "duration": 157,
    "start_time": "2022-11-30T07:29:34.876Z"
   },
   {
    "duration": 166,
    "start_time": "2022-11-30T07:29:35.596Z"
   },
   {
    "duration": 153,
    "start_time": "2022-11-30T07:29:36.288Z"
   },
   {
    "duration": 460,
    "start_time": "2022-11-30T07:29:42.208Z"
   },
   {
    "duration": 4,
    "start_time": "2022-11-30T07:29:44.648Z"
   },
   {
    "duration": 133,
    "start_time": "2022-11-30T07:29:52.661Z"
   },
   {
    "duration": 132,
    "start_time": "2022-11-30T07:29:56.322Z"
   },
   {
    "duration": 142,
    "start_time": "2022-11-30T07:29:57.470Z"
   },
   {
    "duration": 220,
    "start_time": "2022-11-30T07:29:58.360Z"
   },
   {
    "duration": 34,
    "start_time": "2022-11-30T07:31:33.448Z"
   },
   {
    "duration": 12,
    "start_time": "2022-11-30T07:32:02.496Z"
   },
   {
    "duration": 85,
    "start_time": "2022-11-30T07:33:51.140Z"
   },
   {
    "duration": 13,
    "start_time": "2022-11-30T07:33:52.235Z"
   },
   {
    "duration": 1862,
    "start_time": "2022-11-30T07:33:52.713Z"
   },
   {
    "duration": 9,
    "start_time": "2022-11-30T07:33:55.222Z"
   },
   {
    "duration": 14,
    "start_time": "2022-11-30T07:33:55.475Z"
   },
   {
    "duration": 11,
    "start_time": "2022-11-30T07:33:55.741Z"
   },
   {
    "duration": 13,
    "start_time": "2022-11-30T07:33:58.111Z"
   },
   {
    "duration": 119,
    "start_time": "2022-11-30T07:33:59.179Z"
   },
   {
    "duration": 9,
    "start_time": "2022-11-30T07:34:00.548Z"
   },
   {
    "duration": 8,
    "start_time": "2022-11-30T07:34:00.792Z"
   },
   {
    "duration": 10,
    "start_time": "2022-11-30T07:34:01.289Z"
   },
   {
    "duration": 10,
    "start_time": "2022-11-30T07:34:01.561Z"
   },
   {
    "duration": 10,
    "start_time": "2022-11-30T07:34:01.830Z"
   },
   {
    "duration": 4,
    "start_time": "2022-11-30T07:34:03.194Z"
   },
   {
    "duration": 8,
    "start_time": "2022-11-30T07:34:03.469Z"
   },
   {
    "duration": 6,
    "start_time": "2022-11-30T07:34:03.736Z"
   },
   {
    "duration": 5,
    "start_time": "2022-11-30T07:34:04.011Z"
   },
   {
    "duration": 6,
    "start_time": "2022-11-30T07:34:04.288Z"
   },
   {
    "duration": 4,
    "start_time": "2022-11-30T07:34:04.564Z"
   },
   {
    "duration": 313,
    "start_time": "2022-11-30T07:34:04.835Z"
   },
   {
    "duration": 226,
    "start_time": "2022-11-30T07:34:05.348Z"
   },
   {
    "duration": 4,
    "start_time": "2022-11-30T07:34:05.608Z"
   },
   {
    "duration": 4,
    "start_time": "2022-11-30T07:34:07.043Z"
   },
   {
    "duration": 4,
    "start_time": "2022-11-30T07:34:07.311Z"
   },
   {
    "duration": 260,
    "start_time": "2022-11-30T07:34:09.829Z"
   },
   {
    "duration": 243,
    "start_time": "2022-11-30T07:34:10.880Z"
   },
   {
    "duration": 187,
    "start_time": "2022-11-30T07:34:11.439Z"
   },
   {
    "duration": 5,
    "start_time": "2022-11-30T07:34:12.345Z"
   },
   {
    "duration": 244,
    "start_time": "2022-11-30T07:34:12.690Z"
   },
   {
    "duration": 194,
    "start_time": "2022-11-30T07:34:15.448Z"
   },
   {
    "duration": 154,
    "start_time": "2022-11-30T07:34:16.058Z"
   },
   {
    "duration": 153,
    "start_time": "2022-11-30T07:34:17.892Z"
   },
   {
    "duration": 79,
    "start_time": "2022-11-30T07:34:18.779Z"
   },
   {
    "duration": 146,
    "start_time": "2022-11-30T07:34:21.067Z"
   },
   {
    "duration": 148,
    "start_time": "2022-11-30T07:34:21.824Z"
   },
   {
    "duration": 196,
    "start_time": "2022-11-30T07:34:23.732Z"
   },
   {
    "duration": 164,
    "start_time": "2022-11-30T07:34:25.703Z"
   },
   {
    "duration": 158,
    "start_time": "2022-11-30T07:34:26.458Z"
   },
   {
    "duration": 168,
    "start_time": "2022-11-30T07:34:27.198Z"
   },
   {
    "duration": 157,
    "start_time": "2022-11-30T07:34:28.017Z"
   },
   {
    "duration": 488,
    "start_time": "2022-11-30T07:34:29.973Z"
   },
   {
    "duration": 4,
    "start_time": "2022-11-30T07:34:30.464Z"
   },
   {
    "duration": 132,
    "start_time": "2022-11-30T07:34:34.362Z"
   },
   {
    "duration": 134,
    "start_time": "2022-11-30T07:34:35.148Z"
   },
   {
    "duration": 128,
    "start_time": "2022-11-30T07:34:36.310Z"
   },
   {
    "duration": 130,
    "start_time": "2022-11-30T07:34:37.130Z"
   },
   {
    "duration": 8,
    "start_time": "2022-11-30T07:34:37.581Z"
   },
   {
    "duration": 156,
    "start_time": "2022-11-30T07:35:00.859Z"
   },
   {
    "duration": 165,
    "start_time": "2022-11-30T07:36:18.299Z"
   },
   {
    "duration": 139,
    "start_time": "2022-11-30T07:36:38.945Z"
   },
   {
    "duration": 140,
    "start_time": "2022-11-30T07:36:47.224Z"
   },
   {
    "duration": 222,
    "start_time": "2022-11-30T07:36:51.789Z"
   },
   {
    "duration": 139,
    "start_time": "2022-11-30T07:37:23.038Z"
   },
   {
    "duration": 140,
    "start_time": "2022-11-30T07:37:38.546Z"
   },
   {
    "duration": 134,
    "start_time": "2022-11-30T07:38:53.276Z"
   },
   {
    "duration": 135,
    "start_time": "2022-11-30T07:39:09.363Z"
   },
   {
    "duration": 130,
    "start_time": "2022-11-30T07:39:49.759Z"
   },
   {
    "duration": 133,
    "start_time": "2022-11-30T07:40:08.543Z"
   },
   {
    "duration": 139,
    "start_time": "2022-11-30T07:40:27.620Z"
   },
   {
    "duration": 1314,
    "start_time": "2022-11-30T07:40:40.367Z"
   },
   {
    "duration": 132,
    "start_time": "2022-11-30T07:41:13.371Z"
   },
   {
    "duration": 131,
    "start_time": "2022-11-30T07:41:28.133Z"
   },
   {
    "duration": 217,
    "start_time": "2022-11-30T07:41:35.042Z"
   },
   {
    "duration": 135,
    "start_time": "2022-11-30T07:41:42.835Z"
   },
   {
    "duration": 71,
    "start_time": "2022-11-30T07:42:00.203Z"
   },
   {
    "duration": 1243,
    "start_time": "2022-11-30T07:42:13.595Z"
   },
   {
    "duration": 127,
    "start_time": "2022-11-30T07:42:20.090Z"
   },
   {
    "duration": 142,
    "start_time": "2022-11-30T07:42:28.144Z"
   },
   {
    "duration": 113,
    "start_time": "2022-11-30T07:43:51.634Z"
   },
   {
    "duration": 8,
    "start_time": "2022-11-30T07:51:52.301Z"
   },
   {
    "duration": 17,
    "start_time": "2022-11-30T07:52:00.259Z"
   },
   {
    "duration": 8,
    "start_time": "2022-11-30T08:34:05.096Z"
   },
   {
    "duration": 150,
    "start_time": "2022-11-30T08:34:29.602Z"
   },
   {
    "duration": 74,
    "start_time": "2022-11-30T08:39:29.065Z"
   },
   {
    "duration": 747,
    "start_time": "2022-11-30T18:26:17.273Z"
   },
   {
    "duration": 17,
    "start_time": "2022-11-30T18:26:18.022Z"
   },
   {
    "duration": 2216,
    "start_time": "2022-11-30T18:26:18.041Z"
   },
   {
    "duration": 9,
    "start_time": "2022-11-30T18:26:20.261Z"
   },
   {
    "duration": 16,
    "start_time": "2022-11-30T18:26:20.272Z"
   },
   {
    "duration": 13,
    "start_time": "2022-11-30T18:26:20.290Z"
   },
   {
    "duration": 41,
    "start_time": "2022-11-30T18:26:20.305Z"
   },
   {
    "duration": 145,
    "start_time": "2022-11-30T18:26:20.349Z"
   },
   {
    "duration": 12,
    "start_time": "2022-11-30T18:26:20.496Z"
   },
   {
    "duration": 10,
    "start_time": "2022-11-30T18:26:20.511Z"
   },
   {
    "duration": 13,
    "start_time": "2022-11-30T18:26:20.538Z"
   },
   {
    "duration": 17,
    "start_time": "2022-11-30T18:26:20.553Z"
   },
   {
    "duration": 10,
    "start_time": "2022-11-30T18:26:20.572Z"
   },
   {
    "duration": 7,
    "start_time": "2022-11-30T18:26:20.585Z"
   },
   {
    "duration": 14,
    "start_time": "2022-11-30T18:26:20.594Z"
   },
   {
    "duration": 36,
    "start_time": "2022-11-30T18:26:20.609Z"
   },
   {
    "duration": 6,
    "start_time": "2022-11-30T18:26:20.646Z"
   },
   {
    "duration": 5,
    "start_time": "2022-11-30T18:26:20.654Z"
   },
   {
    "duration": 4,
    "start_time": "2022-11-30T18:26:20.661Z"
   },
   {
    "duration": 279,
    "start_time": "2022-11-30T18:26:20.667Z"
   },
   {
    "duration": 280,
    "start_time": "2022-11-30T18:26:20.948Z"
   },
   {
    "duration": 10,
    "start_time": "2022-11-30T18:26:21.229Z"
   },
   {
    "duration": 8,
    "start_time": "2022-11-30T18:26:21.241Z"
   },
   {
    "duration": 7,
    "start_time": "2022-11-30T18:26:21.250Z"
   },
   {
    "duration": 414,
    "start_time": "2022-11-30T18:26:21.258Z"
   },
   {
    "duration": 283,
    "start_time": "2022-11-30T18:26:21.674Z"
   },
   {
    "duration": 213,
    "start_time": "2022-11-30T18:26:21.959Z"
   },
   {
    "duration": 6,
    "start_time": "2022-11-30T18:26:22.178Z"
   },
   {
    "duration": 309,
    "start_time": "2022-11-30T18:26:22.185Z"
   },
   {
    "duration": 152,
    "start_time": "2022-11-30T18:26:22.496Z"
   },
   {
    "duration": 179,
    "start_time": "2022-11-30T18:26:22.650Z"
   },
   {
    "duration": 186,
    "start_time": "2022-11-30T18:26:22.830Z"
   },
   {
    "duration": 102,
    "start_time": "2022-11-30T18:26:23.018Z"
   },
   {
    "duration": 169,
    "start_time": "2022-11-30T18:26:23.122Z"
   },
   {
    "duration": 260,
    "start_time": "2022-11-30T18:26:23.293Z"
   },
   {
    "duration": 226,
    "start_time": "2022-11-30T18:26:23.555Z"
   },
   {
    "duration": 193,
    "start_time": "2022-11-30T18:26:23.783Z"
   },
   {
    "duration": 187,
    "start_time": "2022-11-30T18:26:23.978Z"
   },
   {
    "duration": 189,
    "start_time": "2022-11-30T18:26:24.168Z"
   },
   {
    "duration": 180,
    "start_time": "2022-11-30T18:26:24.359Z"
   },
   {
    "duration": 429,
    "start_time": "2022-11-30T18:26:24.541Z"
   },
   {
    "duration": 4,
    "start_time": "2022-11-30T18:26:24.971Z"
   },
   {
    "duration": 164,
    "start_time": "2022-11-30T18:26:24.977Z"
   },
   {
    "duration": 153,
    "start_time": "2022-11-30T18:26:25.142Z"
   },
   {
    "duration": 239,
    "start_time": "2022-11-30T18:26:25.297Z"
   },
   {
    "duration": 138,
    "start_time": "2022-11-30T18:26:25.538Z"
   },
   {
    "duration": 152,
    "start_time": "2022-11-30T18:26:25.678Z"
   },
   {
    "duration": 158,
    "start_time": "2022-11-30T18:26:25.833Z"
   },
   {
    "duration": 149,
    "start_time": "2022-11-30T18:26:25.993Z"
   },
   {
    "duration": 165,
    "start_time": "2022-11-30T18:26:26.144Z"
   },
   {
    "duration": 33,
    "start_time": "2022-11-30T18:26:26.311Z"
   },
   {
    "duration": 8,
    "start_time": "2022-11-30T18:26:26.346Z"
   },
   {
    "duration": 193,
    "start_time": "2022-11-30T18:26:26.356Z"
   },
   {
    "duration": 6,
    "start_time": "2022-11-30T18:26:26.551Z"
   },
   {
    "duration": 19,
    "start_time": "2022-11-30T18:26:26.559Z"
   },
   {
    "duration": 7,
    "start_time": "2022-11-30T18:26:26.579Z"
   },
   {
    "duration": 45,
    "start_time": "2022-11-30T20:30:14.976Z"
   },
   {
    "duration": 916,
    "start_time": "2022-11-30T20:30:25.583Z"
   },
   {
    "duration": 18,
    "start_time": "2022-11-30T20:30:26.591Z"
   },
   {
    "duration": 2171,
    "start_time": "2022-11-30T20:30:27.577Z"
   },
   {
    "duration": 11,
    "start_time": "2022-11-30T20:30:30.889Z"
   },
   {
    "duration": 15,
    "start_time": "2022-11-30T20:30:31.364Z"
   },
   {
    "duration": 12,
    "start_time": "2022-11-30T20:30:31.909Z"
   },
   {
    "duration": 13,
    "start_time": "2022-11-30T20:30:36.590Z"
   },
   {
    "duration": 115,
    "start_time": "2022-11-30T20:30:41.277Z"
   },
   {
    "duration": 9,
    "start_time": "2022-11-30T20:30:43.643Z"
   },
   {
    "duration": 7,
    "start_time": "2022-11-30T20:30:44.120Z"
   },
   {
    "duration": 11,
    "start_time": "2022-11-30T20:30:45.073Z"
   },
   {
    "duration": 10,
    "start_time": "2022-11-30T20:30:45.558Z"
   },
   {
    "duration": 10,
    "start_time": "2022-11-30T20:30:46.028Z"
   },
   {
    "duration": 4,
    "start_time": "2022-11-30T20:30:48.361Z"
   },
   {
    "duration": 7,
    "start_time": "2022-11-30T20:30:48.816Z"
   },
   {
    "duration": 6,
    "start_time": "2022-11-30T20:30:49.310Z"
   },
   {
    "duration": 6,
    "start_time": "2022-11-30T20:30:49.733Z"
   },
   {
    "duration": 5,
    "start_time": "2022-11-30T20:30:50.196Z"
   },
   {
    "duration": 3,
    "start_time": "2022-11-30T20:30:50.638Z"
   },
   {
    "duration": 235,
    "start_time": "2022-11-30T20:30:51.101Z"
   },
   {
    "duration": 233,
    "start_time": "2022-11-30T20:30:51.534Z"
   },
   {
    "duration": 4,
    "start_time": "2022-11-30T20:30:52.055Z"
   },
   {
    "duration": 5,
    "start_time": "2022-11-30T20:30:52.530Z"
   },
   {
    "duration": 4,
    "start_time": "2022-11-30T20:30:53.028Z"
   },
   {
    "duration": 368,
    "start_time": "2022-11-30T20:30:55.778Z"
   },
   {
    "duration": 251,
    "start_time": "2022-11-30T20:30:56.866Z"
   },
   {
    "duration": 190,
    "start_time": "2022-11-30T20:30:58.021Z"
   },
   {
    "duration": 5,
    "start_time": "2022-11-30T20:30:59.099Z"
   },
   {
    "duration": 269,
    "start_time": "2022-11-30T20:30:59.661Z"
   },
   {
    "duration": 145,
    "start_time": "2022-11-30T20:31:03.176Z"
   },
   {
    "duration": 150,
    "start_time": "2022-11-30T20:31:04.169Z"
   },
   {
    "duration": 164,
    "start_time": "2022-11-30T20:31:05.199Z"
   },
   {
    "duration": 95,
    "start_time": "2022-11-30T20:31:06.126Z"
   },
   {
    "duration": 168,
    "start_time": "2022-11-30T20:31:09.213Z"
   },
   {
    "duration": 240,
    "start_time": "2022-11-30T20:31:10.269Z"
   },
   {
    "duration": 209,
    "start_time": "2022-11-30T20:31:13.425Z"
   },
   {
    "duration": 160,
    "start_time": "2022-11-30T20:31:15.530Z"
   },
   {
    "duration": 149,
    "start_time": "2022-11-30T20:31:16.587Z"
   },
   {
    "duration": 173,
    "start_time": "2022-11-30T20:31:17.738Z"
   },
   {
    "duration": 156,
    "start_time": "2022-11-30T20:31:18.797Z"
   },
   {
    "duration": 394,
    "start_time": "2022-11-30T20:31:21.779Z"
   },
   {
    "duration": 5,
    "start_time": "2022-11-30T20:31:22.468Z"
   },
   {
    "duration": 148,
    "start_time": "2022-11-30T20:31:28.955Z"
   },
   {
    "duration": 132,
    "start_time": "2022-11-30T20:31:30.032Z"
   },
   {
    "duration": 213,
    "start_time": "2022-11-30T20:31:31.700Z"
   },
   {
    "duration": 128,
    "start_time": "2022-11-30T20:31:32.923Z"
   },
   {
    "duration": 149,
    "start_time": "2022-11-30T20:31:34.997Z"
   },
   {
    "duration": 149,
    "start_time": "2022-11-30T20:32:38.695Z"
   },
   {
    "duration": 153,
    "start_time": "2022-11-30T20:34:33.489Z"
   },
   {
    "duration": 751,
    "start_time": "2022-12-01T05:11:40.315Z"
   },
   {
    "duration": 17,
    "start_time": "2022-12-01T05:11:41.068Z"
   },
   {
    "duration": 2115,
    "start_time": "2022-12-01T05:11:41.087Z"
   },
   {
    "duration": 14,
    "start_time": "2022-12-01T05:11:43.205Z"
   },
   {
    "duration": 21,
    "start_time": "2022-12-01T05:11:43.235Z"
   },
   {
    "duration": 12,
    "start_time": "2022-12-01T05:11:43.259Z"
   },
   {
    "duration": 41,
    "start_time": "2022-12-01T05:11:43.273Z"
   },
   {
    "duration": 141,
    "start_time": "2022-12-01T05:11:43.316Z"
   },
   {
    "duration": 11,
    "start_time": "2022-12-01T05:11:43.458Z"
   },
   {
    "duration": 11,
    "start_time": "2022-12-01T05:11:43.472Z"
   },
   {
    "duration": 29,
    "start_time": "2022-12-01T05:11:43.485Z"
   },
   {
    "duration": 33,
    "start_time": "2022-12-01T05:11:43.515Z"
   },
   {
    "duration": 30,
    "start_time": "2022-12-01T05:11:43.550Z"
   },
   {
    "duration": 8,
    "start_time": "2022-12-01T05:11:43.582Z"
   },
   {
    "duration": 15,
    "start_time": "2022-12-01T05:11:43.591Z"
   },
   {
    "duration": 15,
    "start_time": "2022-12-01T05:11:43.607Z"
   },
   {
    "duration": 14,
    "start_time": "2022-12-01T05:11:43.624Z"
   },
   {
    "duration": 9,
    "start_time": "2022-12-01T05:11:43.640Z"
   },
   {
    "duration": 11,
    "start_time": "2022-12-01T05:11:43.651Z"
   },
   {
    "duration": 252,
    "start_time": "2022-12-01T05:11:43.664Z"
   },
   {
    "duration": 242,
    "start_time": "2022-12-01T05:11:43.918Z"
   },
   {
    "duration": 4,
    "start_time": "2022-12-01T05:11:44.161Z"
   },
   {
    "duration": 10,
    "start_time": "2022-12-01T05:11:44.167Z"
   },
   {
    "duration": 4,
    "start_time": "2022-12-01T05:11:44.180Z"
   },
   {
    "duration": 372,
    "start_time": "2022-12-01T05:11:44.186Z"
   },
   {
    "duration": 257,
    "start_time": "2022-12-01T05:11:44.560Z"
   },
   {
    "duration": 208,
    "start_time": "2022-12-01T05:11:44.819Z"
   },
   {
    "duration": 6,
    "start_time": "2022-12-01T05:11:45.036Z"
   },
   {
    "duration": 308,
    "start_time": "2022-12-01T05:11:45.043Z"
   },
   {
    "duration": 159,
    "start_time": "2022-12-01T05:11:45.353Z"
   },
   {
    "duration": 169,
    "start_time": "2022-12-01T05:11:45.514Z"
   },
   {
    "duration": 195,
    "start_time": "2022-12-01T05:11:45.685Z"
   },
   {
    "duration": 99,
    "start_time": "2022-12-01T05:11:45.882Z"
   },
   {
    "duration": 190,
    "start_time": "2022-12-01T05:11:45.983Z"
   },
   {
    "duration": 253,
    "start_time": "2022-12-01T05:11:46.175Z"
   },
   {
    "duration": 237,
    "start_time": "2022-12-01T05:11:46.430Z"
   },
   {
    "duration": 198,
    "start_time": "2022-12-01T05:11:46.669Z"
   },
   {
    "duration": 187,
    "start_time": "2022-12-01T05:11:46.869Z"
   },
   {
    "duration": 188,
    "start_time": "2022-12-01T05:11:47.057Z"
   },
   {
    "duration": 169,
    "start_time": "2022-12-01T05:11:47.247Z"
   },
   {
    "duration": 419,
    "start_time": "2022-12-01T05:11:47.418Z"
   },
   {
    "duration": 4,
    "start_time": "2022-12-01T05:11:47.839Z"
   },
   {
    "duration": 160,
    "start_time": "2022-12-01T05:11:47.845Z"
   },
   {
    "duration": 150,
    "start_time": "2022-12-01T05:11:48.007Z"
   },
   {
    "duration": 239,
    "start_time": "2022-12-01T05:11:48.158Z"
   },
   {
    "duration": 154,
    "start_time": "2022-12-01T05:11:48.399Z"
   },
   {
    "duration": 172,
    "start_time": "2022-12-01T05:11:48.555Z"
   },
   {
    "duration": 178,
    "start_time": "2022-12-01T05:11:48.730Z"
   },
   {
    "duration": 160,
    "start_time": "2022-12-01T05:11:48.910Z"
   },
   {
    "duration": 186,
    "start_time": "2022-12-01T05:11:49.072Z"
   },
   {
    "duration": 27,
    "start_time": "2022-12-01T05:11:49.260Z"
   },
   {
    "duration": 10,
    "start_time": "2022-12-01T05:11:49.289Z"
   },
   {
    "duration": 205,
    "start_time": "2022-12-01T05:11:49.301Z"
   },
   {
    "duration": 6,
    "start_time": "2022-12-01T05:11:49.509Z"
   },
   {
    "duration": 29,
    "start_time": "2022-12-01T05:11:49.516Z"
   },
   {
    "duration": 7,
    "start_time": "2022-12-01T05:11:49.546Z"
   }
  ],
  "kernelspec": {
   "display_name": "Python 3 (ipykernel)",
   "language": "python",
   "name": "python3"
  },
  "language_info": {
   "codemirror_mode": {
    "name": "ipython",
    "version": 3
   },
   "file_extension": ".py",
   "mimetype": "text/x-python",
   "name": "python",
   "nbconvert_exporter": "python",
   "pygments_lexer": "ipython3",
   "version": "3.9.5"
  },
  "toc": {
   "base_numbering": 1,
   "nav_menu": {},
   "number_sections": true,
   "sideBar": true,
   "skip_h1_title": true,
   "title_cell": "Table of Contents",
   "title_sidebar": "Contents",
   "toc_cell": false,
   "toc_position": {},
   "toc_section_display": true,
   "toc_window_display": false
  }
 },
 "nbformat": 4,
 "nbformat_minor": 2
}
